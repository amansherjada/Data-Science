{
 "cells": [
  {
   "cell_type": "code",
   "execution_count": 1,
   "id": "9786c400-2b7a-4f83-8285-e067676ce84f",
   "metadata": {},
   "outputs": [],
   "source": [
    "from scipy import stats\n",
    "import numpy as np"
   ]
  },
  {
   "cell_type": "code",
   "execution_count": 2,
   "id": "9199fb9f-c088-4eb7-a1bb-a5b65cba9503",
   "metadata": {},
   "outputs": [
    {
     "data": {
      "text/plain": [
       "1.959963984540054"
      ]
     },
     "execution_count": 2,
     "metadata": {},
     "output_type": "execute_result"
    }
   ],
   "source": [
    "# To calculate z value in z-distribution Interval Estimate at 95% confidence level (0.975)\n",
    "stats.norm.ppf(0.975)"
   ]
  },
  {
   "cell_type": "code",
   "execution_count": 3,
   "id": "1d51c8f4-5c08-43cd-b0f7-97ca5e8dd901",
   "metadata": {},
   "outputs": [
    {
     "data": {
      "text/plain": [
       "1.977177724476122"
      ]
     },
     "execution_count": 3,
     "metadata": {},
     "output_type": "execute_result"
    }
   ],
   "source": [
    "# To calculate t value in t-distribution Interval Estimate at 95% confidence level (0.975)\n",
    "stats.t.ppf(0.975, df = 139)\n",
    "#df stands for Degree of Freedom"
   ]
  },
  {
   "cell_type": "markdown",
   "id": "2fd6b969-41c9-480f-94d8-5277513f28ca",
   "metadata": {},
   "source": [
    "![confidence interval formula](confidenceintervalformula.png) "
   ]
  },
  {
   "cell_type": "code",
   "execution_count": 11,
   "id": "fe25d978-5bda-4573-a025-80d0cff9298c",
   "metadata": {},
   "outputs": [
    {
     "data": {
      "text/plain": [
       "(1575.8820248378292, 2404.1179751621708)"
      ]
     },
     "execution_count": 11,
     "metadata": {},
     "output_type": "execute_result"
    }
   ],
   "source": [
    "# Z method\n",
    "stats.norm.interval(0.95, loc= 1990, scale= 2500/np.sqrt(140))\n",
    "# confidence level = 95% \n",
    "# sample mean = 1990\n",
    "# population standard deviation = 2500\n",
    "# Square root of Sample Size = np.sqrt(140)"
   ]
  },
  {
   "cell_type": "code",
   "execution_count": 9,
   "id": "4f3beb87-e1ad-461e-9353-63be96591f0f",
   "metadata": {},
   "outputs": [],
   "source": [
    "# t method\n",
    "# confidence level = 95% \n",
    "# sample mean = 1990 (loc)\n",
    "# sample standard deviation = 2833\n",
    "# degree of freedom = 139 (scale)\n",
    "# Square root of Sample Size = np.sqrt(140) (scale)"
   ]
  },
  {
   "cell_type": "code",
   "execution_count": 10,
   "id": "af71ef76-9902-4c53-b348-acef2771ba5e",
   "metadata": {},
   "outputs": [
    {
     "data": {
      "text/plain": [
       "(1516.5999869168315, 2463.4000130831682)"
      ]
     },
     "execution_count": 10,
     "metadata": {},
     "output_type": "execute_result"
    }
   ],
   "source": [
    "stats.t.interval(0.95, df= 139, loc = 1990, scale = 2833/np.sqrt(140))"
   ]
  },
  {
   "cell_type": "markdown",
   "id": "cbd30ae0-0c71-4adb-a335-1e7a3db99789",
   "metadata": {},
   "source": [
    "#### Question ![Question](cilquestion.jpg)"
   ]
  },
  {
   "cell_type": "code",
   "execution_count": 16,
   "id": "756b5f5b-ac8f-4291-bb95-978423c84352",
   "metadata": {},
   "outputs": [],
   "source": [
    "# mean = 1000\n",
    "# sample size = 60\n",
    "# population sd = 200\n",
    "# 95% Confidence Interval"
   ]
  },
  {
   "cell_type": "code",
   "execution_count": 15,
   "id": "534803bc-2139-442c-977c-7d3d0eddd3aa",
   "metadata": {},
   "outputs": [
    {
     "data": {
      "text/plain": [
       "(949.3939475247336, 1050.6060524752663)"
      ]
     },
     "execution_count": 15,
     "metadata": {},
     "output_type": "execute_result"
    }
   ],
   "source": [
    "# Z method the above question is solved in Z method\n",
    "stats.norm.interval(0.95, loc = 1000, scale= 200/np.sqrt(60))"
   ]
  },
  {
   "cell_type": "code",
   "execution_count": null,
   "id": "3c46a13b-eded-455c-9e1b-38c90a8b77e7",
   "metadata": {},
   "outputs": [],
   "source": [
    " "
   ]
  }
 ],
 "metadata": {
  "kernelspec": {
   "display_name": "Python 3 (ipykernel)",
   "language": "python",
   "name": "python3"
  },
  "language_info": {
   "codemirror_mode": {
    "name": "ipython",
    "version": 3
   },
   "file_extension": ".py",
   "mimetype": "text/x-python",
   "name": "python",
   "nbconvert_exporter": "python",
   "pygments_lexer": "ipython3",
   "version": "3.11.5"
  }
 },
 "nbformat": 4,
 "nbformat_minor": 5
}
