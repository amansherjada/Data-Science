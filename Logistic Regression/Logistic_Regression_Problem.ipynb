{
 "cells": [
  {
   "cell_type": "markdown",
   "id": "e3e2fa49-0317-46be-9497-52791d2b66dc",
   "metadata": {},
   "source": [
    "![](logesticproblem.jpg)"
   ]
  },
  {
   "cell_type": "code",
   "execution_count": 1,
   "id": "b3a860ee-a344-419b-9720-50f7d61eecab",
   "metadata": {},
   "outputs": [],
   "source": [
    "# Recall (FN is more harmful for the Insurance company)\n",
    "# Actual Value is Positive and Pridicted value is Negative is False Negative\n",
    "# Client will hire a Attorney and Our model will pridict Client will not hire a Attorney\n",
    "# We will try to Create a Model whose Recall Value would be MAXIMUM"
   ]
  },
  {
   "cell_type": "markdown",
   "id": "f0b1d6d5-b984-401f-b269-0211244fabd8",
   "metadata": {},
   "source": [
    "![](problemdata.jpg)"
   ]
  },
  {
   "cell_type": "markdown",
   "id": "9e65ee7f-83b5-403d-a7d7-dff2eeddb500",
   "metadata": {},
   "source": [
    "- Goal is to create a Classification Model which can predict all possible classes correctly. (Recall should be High)"
   ]
  },
  {
   "cell_type": "markdown",
   "id": "72f564e5-725d-4ce0-9a53-5bfc0343214b",
   "metadata": {},
   "source": [
    "### Import"
   ]
  },
  {
   "cell_type": "code",
   "execution_count": 2,
   "id": "09d63136-b0e3-4904-978d-7f0ade47f8f9",
   "metadata": {},
   "outputs": [],
   "source": [
    "import pandas as pd\n",
    "import numpy as np\n",
    "import matplotlib.pyplot as plt\n",
    "%matplotlib inline\n",
    "plt.rcParams['figure.figsize'] = (10,5)\n",
    "plt.rcParams['figure.dpi'] = 250\n",
    "import seaborn as sns\n",
    "import warnings\n",
    "warnings.filterwarnings('ignore')"
   ]
  },
  {
   "cell_type": "code",
   "execution_count": 3,
   "id": "971001be-4351-4ca4-86e9-5ae9d517704e",
   "metadata": {},
   "outputs": [
    {
     "data": {
      "text/html": [
       "<div>\n",
       "<style scoped>\n",
       "    .dataframe tbody tr th:only-of-type {\n",
       "        vertical-align: middle;\n",
       "    }\n",
       "\n",
       "    .dataframe tbody tr th {\n",
       "        vertical-align: top;\n",
       "    }\n",
       "\n",
       "    .dataframe thead th {\n",
       "        text-align: right;\n",
       "    }\n",
       "</style>\n",
       "<table border=\"1\" class=\"dataframe\">\n",
       "  <thead>\n",
       "    <tr style=\"text-align: right;\">\n",
       "      <th></th>\n",
       "      <th>CASENUM</th>\n",
       "      <th>ATTORNEY</th>\n",
       "      <th>CLMSEX</th>\n",
       "      <th>CLMINSUR</th>\n",
       "      <th>SEATBELT</th>\n",
       "      <th>CLMAGE</th>\n",
       "      <th>LOSS</th>\n",
       "    </tr>\n",
       "  </thead>\n",
       "  <tbody>\n",
       "    <tr>\n",
       "      <th>0</th>\n",
       "      <td>5</td>\n",
       "      <td>1</td>\n",
       "      <td>0.0</td>\n",
       "      <td>1.0</td>\n",
       "      <td>0.0</td>\n",
       "      <td>50.0</td>\n",
       "      <td>34.940</td>\n",
       "    </tr>\n",
       "    <tr>\n",
       "      <th>1</th>\n",
       "      <td>3</td>\n",
       "      <td>0</td>\n",
       "      <td>1.0</td>\n",
       "      <td>0.0</td>\n",
       "      <td>0.0</td>\n",
       "      <td>18.0</td>\n",
       "      <td>0.891</td>\n",
       "    </tr>\n",
       "    <tr>\n",
       "      <th>2</th>\n",
       "      <td>66</td>\n",
       "      <td>0</td>\n",
       "      <td>0.0</td>\n",
       "      <td>1.0</td>\n",
       "      <td>0.0</td>\n",
       "      <td>5.0</td>\n",
       "      <td>0.330</td>\n",
       "    </tr>\n",
       "    <tr>\n",
       "      <th>3</th>\n",
       "      <td>70</td>\n",
       "      <td>1</td>\n",
       "      <td>0.0</td>\n",
       "      <td>1.0</td>\n",
       "      <td>1.0</td>\n",
       "      <td>31.0</td>\n",
       "      <td>0.037</td>\n",
       "    </tr>\n",
       "    <tr>\n",
       "      <th>4</th>\n",
       "      <td>96</td>\n",
       "      <td>0</td>\n",
       "      <td>0.0</td>\n",
       "      <td>1.0</td>\n",
       "      <td>0.0</td>\n",
       "      <td>30.0</td>\n",
       "      <td>0.038</td>\n",
       "    </tr>\n",
       "  </tbody>\n",
       "</table>\n",
       "</div>"
      ],
      "text/plain": [
       "   CASENUM  ATTORNEY  CLMSEX  CLMINSUR  SEATBELT  CLMAGE    LOSS\n",
       "0        5         1     0.0       1.0       0.0    50.0  34.940\n",
       "1        3         0     1.0       0.0       0.0    18.0   0.891\n",
       "2       66         0     0.0       1.0       0.0     5.0   0.330\n",
       "3       70         1     0.0       1.0       1.0    31.0   0.037\n",
       "4       96         0     0.0       1.0       0.0    30.0   0.038"
      ]
     },
     "execution_count": 3,
     "metadata": {},
     "output_type": "execute_result"
    }
   ],
   "source": [
    "df = pd.read_csv('https://raw.githubusercontent.com/aishwaryamate/Machine-Learning/main/Logistic%20Regression/Client.csv', index_col=0)\n",
    "df.head()"
   ]
  },
  {
   "cell_type": "markdown",
   "id": "93d0af3c-37fd-4abb-a392-aae66828ace9",
   "metadata": {},
   "source": [
    "### EDA"
   ]
  },
  {
   "cell_type": "code",
   "execution_count": 4,
   "id": "6e6cf809-00a6-4472-8cdd-51460f517f2f",
   "metadata": {},
   "outputs": [],
   "source": [
    "df.drop(columns='CASENUM', inplace=True)"
   ]
  },
  {
   "cell_type": "code",
   "execution_count": 5,
   "id": "8cc92920-4b47-46ca-9f1e-493a89cc6029",
   "metadata": {},
   "outputs": [
    {
     "data": {
      "text/html": [
       "<div>\n",
       "<style scoped>\n",
       "    .dataframe tbody tr th:only-of-type {\n",
       "        vertical-align: middle;\n",
       "    }\n",
       "\n",
       "    .dataframe tbody tr th {\n",
       "        vertical-align: top;\n",
       "    }\n",
       "\n",
       "    .dataframe thead th {\n",
       "        text-align: right;\n",
       "    }\n",
       "</style>\n",
       "<table border=\"1\" class=\"dataframe\">\n",
       "  <thead>\n",
       "    <tr style=\"text-align: right;\">\n",
       "      <th></th>\n",
       "      <th>ATTORNEY</th>\n",
       "      <th>CLMSEX</th>\n",
       "      <th>CLMINSUR</th>\n",
       "      <th>SEATBELT</th>\n",
       "      <th>CLMAGE</th>\n",
       "      <th>LOSS</th>\n",
       "    </tr>\n",
       "  </thead>\n",
       "  <tbody>\n",
       "    <tr>\n",
       "      <th>0</th>\n",
       "      <td>1</td>\n",
       "      <td>0.0</td>\n",
       "      <td>1.0</td>\n",
       "      <td>0.0</td>\n",
       "      <td>50.0</td>\n",
       "      <td>34.940</td>\n",
       "    </tr>\n",
       "    <tr>\n",
       "      <th>1</th>\n",
       "      <td>0</td>\n",
       "      <td>1.0</td>\n",
       "      <td>0.0</td>\n",
       "      <td>0.0</td>\n",
       "      <td>18.0</td>\n",
       "      <td>0.891</td>\n",
       "    </tr>\n",
       "    <tr>\n",
       "      <th>2</th>\n",
       "      <td>0</td>\n",
       "      <td>0.0</td>\n",
       "      <td>1.0</td>\n",
       "      <td>0.0</td>\n",
       "      <td>5.0</td>\n",
       "      <td>0.330</td>\n",
       "    </tr>\n",
       "    <tr>\n",
       "      <th>3</th>\n",
       "      <td>1</td>\n",
       "      <td>0.0</td>\n",
       "      <td>1.0</td>\n",
       "      <td>1.0</td>\n",
       "      <td>31.0</td>\n",
       "      <td>0.037</td>\n",
       "    </tr>\n",
       "    <tr>\n",
       "      <th>4</th>\n",
       "      <td>0</td>\n",
       "      <td>0.0</td>\n",
       "      <td>1.0</td>\n",
       "      <td>0.0</td>\n",
       "      <td>30.0</td>\n",
       "      <td>0.038</td>\n",
       "    </tr>\n",
       "    <tr>\n",
       "      <th>...</th>\n",
       "      <td>...</td>\n",
       "      <td>...</td>\n",
       "      <td>...</td>\n",
       "      <td>...</td>\n",
       "      <td>...</td>\n",
       "      <td>...</td>\n",
       "    </tr>\n",
       "    <tr>\n",
       "      <th>1335</th>\n",
       "      <td>0</td>\n",
       "      <td>0.0</td>\n",
       "      <td>1.0</td>\n",
       "      <td>0.0</td>\n",
       "      <td>NaN</td>\n",
       "      <td>0.576</td>\n",
       "    </tr>\n",
       "    <tr>\n",
       "      <th>1336</th>\n",
       "      <td>1</td>\n",
       "      <td>1.0</td>\n",
       "      <td>1.0</td>\n",
       "      <td>0.0</td>\n",
       "      <td>46.0</td>\n",
       "      <td>3.705</td>\n",
       "    </tr>\n",
       "    <tr>\n",
       "      <th>1337</th>\n",
       "      <td>0</td>\n",
       "      <td>1.0</td>\n",
       "      <td>1.0</td>\n",
       "      <td>0.0</td>\n",
       "      <td>39.0</td>\n",
       "      <td>0.099</td>\n",
       "    </tr>\n",
       "    <tr>\n",
       "      <th>1338</th>\n",
       "      <td>1</td>\n",
       "      <td>1.0</td>\n",
       "      <td>0.0</td>\n",
       "      <td>0.0</td>\n",
       "      <td>8.0</td>\n",
       "      <td>3.177</td>\n",
       "    </tr>\n",
       "    <tr>\n",
       "      <th>1339</th>\n",
       "      <td>0</td>\n",
       "      <td>1.0</td>\n",
       "      <td>1.0</td>\n",
       "      <td>0.0</td>\n",
       "      <td>30.0</td>\n",
       "      <td>0.688</td>\n",
       "    </tr>\n",
       "  </tbody>\n",
       "</table>\n",
       "<p>1340 rows × 6 columns</p>\n",
       "</div>"
      ],
      "text/plain": [
       "      ATTORNEY  CLMSEX  CLMINSUR  SEATBELT  CLMAGE    LOSS\n",
       "0            1     0.0       1.0       0.0    50.0  34.940\n",
       "1            0     1.0       0.0       0.0    18.0   0.891\n",
       "2            0     0.0       1.0       0.0     5.0   0.330\n",
       "3            1     0.0       1.0       1.0    31.0   0.037\n",
       "4            0     0.0       1.0       0.0    30.0   0.038\n",
       "...        ...     ...       ...       ...     ...     ...\n",
       "1335         0     0.0       1.0       0.0     NaN   0.576\n",
       "1336         1     1.0       1.0       0.0    46.0   3.705\n",
       "1337         0     1.0       1.0       0.0    39.0   0.099\n",
       "1338         1     1.0       0.0       0.0     8.0   3.177\n",
       "1339         0     1.0       1.0       0.0    30.0   0.688\n",
       "\n",
       "[1340 rows x 6 columns]"
      ]
     },
     "execution_count": 5,
     "metadata": {},
     "output_type": "execute_result"
    }
   ],
   "source": [
    "df"
   ]
  },
  {
   "cell_type": "code",
   "execution_count": 6,
   "id": "94f57d39-ed93-4838-b2fb-fa72987a97f3",
   "metadata": {},
   "outputs": [
    {
     "data": {
      "text/html": [
       "<div>\n",
       "<style scoped>\n",
       "    .dataframe tbody tr th:only-of-type {\n",
       "        vertical-align: middle;\n",
       "    }\n",
       "\n",
       "    .dataframe tbody tr th {\n",
       "        vertical-align: top;\n",
       "    }\n",
       "\n",
       "    .dataframe thead th {\n",
       "        text-align: right;\n",
       "    }\n",
       "</style>\n",
       "<table border=\"1\" class=\"dataframe\">\n",
       "  <thead>\n",
       "    <tr style=\"text-align: right;\">\n",
       "      <th></th>\n",
       "      <th>ATTORNEY</th>\n",
       "      <th>CLMSEX</th>\n",
       "      <th>CLMINSUR</th>\n",
       "      <th>SEATBELT</th>\n",
       "      <th>CLMAGE</th>\n",
       "      <th>LOSS</th>\n",
       "    </tr>\n",
       "  </thead>\n",
       "  <tbody>\n",
       "    <tr>\n",
       "      <th>count</th>\n",
       "      <td>1340.000000</td>\n",
       "      <td>1328.000000</td>\n",
       "      <td>1299.000000</td>\n",
       "      <td>1292.000000</td>\n",
       "      <td>1151.000000</td>\n",
       "      <td>1340.000000</td>\n",
       "    </tr>\n",
       "    <tr>\n",
       "      <th>mean</th>\n",
       "      <td>0.511194</td>\n",
       "      <td>0.558735</td>\n",
       "      <td>0.907621</td>\n",
       "      <td>0.017028</td>\n",
       "      <td>28.414422</td>\n",
       "      <td>3.806307</td>\n",
       "    </tr>\n",
       "    <tr>\n",
       "      <th>std</th>\n",
       "      <td>0.500061</td>\n",
       "      <td>0.496725</td>\n",
       "      <td>0.289671</td>\n",
       "      <td>0.129425</td>\n",
       "      <td>20.304451</td>\n",
       "      <td>10.636903</td>\n",
       "    </tr>\n",
       "    <tr>\n",
       "      <th>min</th>\n",
       "      <td>0.000000</td>\n",
       "      <td>0.000000</td>\n",
       "      <td>0.000000</td>\n",
       "      <td>0.000000</td>\n",
       "      <td>0.000000</td>\n",
       "      <td>0.000000</td>\n",
       "    </tr>\n",
       "    <tr>\n",
       "      <th>25%</th>\n",
       "      <td>0.000000</td>\n",
       "      <td>0.000000</td>\n",
       "      <td>1.000000</td>\n",
       "      <td>0.000000</td>\n",
       "      <td>9.000000</td>\n",
       "      <td>0.400000</td>\n",
       "    </tr>\n",
       "    <tr>\n",
       "      <th>50%</th>\n",
       "      <td>1.000000</td>\n",
       "      <td>1.000000</td>\n",
       "      <td>1.000000</td>\n",
       "      <td>0.000000</td>\n",
       "      <td>30.000000</td>\n",
       "      <td>1.069500</td>\n",
       "    </tr>\n",
       "    <tr>\n",
       "      <th>75%</th>\n",
       "      <td>1.000000</td>\n",
       "      <td>1.000000</td>\n",
       "      <td>1.000000</td>\n",
       "      <td>0.000000</td>\n",
       "      <td>43.000000</td>\n",
       "      <td>3.781500</td>\n",
       "    </tr>\n",
       "    <tr>\n",
       "      <th>max</th>\n",
       "      <td>1.000000</td>\n",
       "      <td>1.000000</td>\n",
       "      <td>1.000000</td>\n",
       "      <td>1.000000</td>\n",
       "      <td>95.000000</td>\n",
       "      <td>173.604000</td>\n",
       "    </tr>\n",
       "  </tbody>\n",
       "</table>\n",
       "</div>"
      ],
      "text/plain": [
       "          ATTORNEY       CLMSEX     CLMINSUR     SEATBELT       CLMAGE  \\\n",
       "count  1340.000000  1328.000000  1299.000000  1292.000000  1151.000000   \n",
       "mean      0.511194     0.558735     0.907621     0.017028    28.414422   \n",
       "std       0.500061     0.496725     0.289671     0.129425    20.304451   \n",
       "min       0.000000     0.000000     0.000000     0.000000     0.000000   \n",
       "25%       0.000000     0.000000     1.000000     0.000000     9.000000   \n",
       "50%       1.000000     1.000000     1.000000     0.000000    30.000000   \n",
       "75%       1.000000     1.000000     1.000000     0.000000    43.000000   \n",
       "max       1.000000     1.000000     1.000000     1.000000    95.000000   \n",
       "\n",
       "              LOSS  \n",
       "count  1340.000000  \n",
       "mean      3.806307  \n",
       "std      10.636903  \n",
       "min       0.000000  \n",
       "25%       0.400000  \n",
       "50%       1.069500  \n",
       "75%       3.781500  \n",
       "max     173.604000  "
      ]
     },
     "execution_count": 6,
     "metadata": {},
     "output_type": "execute_result"
    }
   ],
   "source": [
    "df.describe()"
   ]
  },
  {
   "cell_type": "code",
   "execution_count": 7,
   "id": "650170ef-8dcc-44f4-a3d3-f64e40e21b22",
   "metadata": {},
   "outputs": [],
   "source": [
    "#Check Missing Value"
   ]
  },
  {
   "cell_type": "code",
   "execution_count": 8,
   "id": "98ddf664-3839-4b43-9a92-2d5349d5cbf5",
   "metadata": {},
   "outputs": [
    {
     "data": {
      "text/html": [
       "<div>\n",
       "<style scoped>\n",
       "    .dataframe tbody tr th:only-of-type {\n",
       "        vertical-align: middle;\n",
       "    }\n",
       "\n",
       "    .dataframe tbody tr th {\n",
       "        vertical-align: top;\n",
       "    }\n",
       "\n",
       "    .dataframe thead th {\n",
       "        text-align: right;\n",
       "    }\n",
       "</style>\n",
       "<table border=\"1\" class=\"dataframe\">\n",
       "  <thead>\n",
       "    <tr style=\"text-align: right;\">\n",
       "      <th></th>\n",
       "      <th>ATTORNEY</th>\n",
       "      <th>CLMSEX</th>\n",
       "      <th>CLMINSUR</th>\n",
       "      <th>SEATBELT</th>\n",
       "      <th>CLMAGE</th>\n",
       "      <th>LOSS</th>\n",
       "    </tr>\n",
       "  </thead>\n",
       "  <tbody>\n",
       "    <tr>\n",
       "      <th>0</th>\n",
       "      <td>False</td>\n",
       "      <td>False</td>\n",
       "      <td>False</td>\n",
       "      <td>False</td>\n",
       "      <td>False</td>\n",
       "      <td>False</td>\n",
       "    </tr>\n",
       "    <tr>\n",
       "      <th>1</th>\n",
       "      <td>False</td>\n",
       "      <td>False</td>\n",
       "      <td>False</td>\n",
       "      <td>False</td>\n",
       "      <td>False</td>\n",
       "      <td>False</td>\n",
       "    </tr>\n",
       "    <tr>\n",
       "      <th>2</th>\n",
       "      <td>False</td>\n",
       "      <td>False</td>\n",
       "      <td>False</td>\n",
       "      <td>False</td>\n",
       "      <td>False</td>\n",
       "      <td>False</td>\n",
       "    </tr>\n",
       "    <tr>\n",
       "      <th>3</th>\n",
       "      <td>False</td>\n",
       "      <td>False</td>\n",
       "      <td>False</td>\n",
       "      <td>False</td>\n",
       "      <td>False</td>\n",
       "      <td>False</td>\n",
       "    </tr>\n",
       "    <tr>\n",
       "      <th>4</th>\n",
       "      <td>False</td>\n",
       "      <td>False</td>\n",
       "      <td>False</td>\n",
       "      <td>False</td>\n",
       "      <td>False</td>\n",
       "      <td>False</td>\n",
       "    </tr>\n",
       "    <tr>\n",
       "      <th>...</th>\n",
       "      <td>...</td>\n",
       "      <td>...</td>\n",
       "      <td>...</td>\n",
       "      <td>...</td>\n",
       "      <td>...</td>\n",
       "      <td>...</td>\n",
       "    </tr>\n",
       "    <tr>\n",
       "      <th>1335</th>\n",
       "      <td>False</td>\n",
       "      <td>False</td>\n",
       "      <td>False</td>\n",
       "      <td>False</td>\n",
       "      <td>True</td>\n",
       "      <td>False</td>\n",
       "    </tr>\n",
       "    <tr>\n",
       "      <th>1336</th>\n",
       "      <td>False</td>\n",
       "      <td>False</td>\n",
       "      <td>False</td>\n",
       "      <td>False</td>\n",
       "      <td>False</td>\n",
       "      <td>False</td>\n",
       "    </tr>\n",
       "    <tr>\n",
       "      <th>1337</th>\n",
       "      <td>False</td>\n",
       "      <td>False</td>\n",
       "      <td>False</td>\n",
       "      <td>False</td>\n",
       "      <td>False</td>\n",
       "      <td>False</td>\n",
       "    </tr>\n",
       "    <tr>\n",
       "      <th>1338</th>\n",
       "      <td>False</td>\n",
       "      <td>False</td>\n",
       "      <td>False</td>\n",
       "      <td>False</td>\n",
       "      <td>False</td>\n",
       "      <td>False</td>\n",
       "    </tr>\n",
       "    <tr>\n",
       "      <th>1339</th>\n",
       "      <td>False</td>\n",
       "      <td>False</td>\n",
       "      <td>False</td>\n",
       "      <td>False</td>\n",
       "      <td>False</td>\n",
       "      <td>False</td>\n",
       "    </tr>\n",
       "  </tbody>\n",
       "</table>\n",
       "<p>1340 rows × 6 columns</p>\n",
       "</div>"
      ],
      "text/plain": [
       "      ATTORNEY  CLMSEX  CLMINSUR  SEATBELT  CLMAGE   LOSS\n",
       "0        False   False     False     False   False  False\n",
       "1        False   False     False     False   False  False\n",
       "2        False   False     False     False   False  False\n",
       "3        False   False     False     False   False  False\n",
       "4        False   False     False     False   False  False\n",
       "...        ...     ...       ...       ...     ...    ...\n",
       "1335     False   False     False     False    True  False\n",
       "1336     False   False     False     False   False  False\n",
       "1337     False   False     False     False   False  False\n",
       "1338     False   False     False     False   False  False\n",
       "1339     False   False     False     False   False  False\n",
       "\n",
       "[1340 rows x 6 columns]"
      ]
     },
     "execution_count": 8,
     "metadata": {},
     "output_type": "execute_result"
    }
   ],
   "source": [
    "df.isna()"
   ]
  },
  {
   "cell_type": "code",
   "execution_count": 9,
   "id": "69704cdf-32a6-48e7-b3db-ce46debe173d",
   "metadata": {},
   "outputs": [
    {
     "data": {
      "text/plain": [
       "ATTORNEY      0\n",
       "CLMSEX       12\n",
       "CLMINSUR     41\n",
       "SEATBELT     48\n",
       "CLMAGE      189\n",
       "LOSS          0\n",
       "dtype: int64"
      ]
     },
     "execution_count": 9,
     "metadata": {},
     "output_type": "execute_result"
    }
   ],
   "source": [
    "df.isna().sum()\n",
    "#.sum() give us the count"
   ]
  },
  {
   "cell_type": "code",
   "execution_count": 10,
   "id": "37e68bb9-1a8e-4dd5-8bea-6164787bf26d",
   "metadata": {},
   "outputs": [],
   "source": [
    "# Missing value imputation"
   ]
  },
  {
   "cell_type": "code",
   "execution_count": 11,
   "id": "9d2bb227-ae78-4055-a701-23291e6d3fa6",
   "metadata": {},
   "outputs": [],
   "source": [
    "# CLMSEX, CLMINSUR and SEATBELT are the Categorical Columns (Yes/No) so we use MODE value\n",
    "# CLMAGE is a Continuous Numercial Value we will choose between MEAN and MEDIAN if outliers are present we will choose MEDIAN or Visa Versa"
   ]
  },
  {
   "cell_type": "code",
   "execution_count": 12,
   "id": "31ec6c0f-a12e-4b1d-a818-44ab7a355f65",
   "metadata": {},
   "outputs": [],
   "source": [
    "# df['CLMINSUR'].fillna(df['CLMINSUR'].mode()[0])\n",
    "# We have write the above code for every one column so the better way to this is"
   ]
  },
  {
   "cell_type": "code",
   "execution_count": 13,
   "id": "480b8128-8678-4ab5-bbb4-6421729e2af6",
   "metadata": {},
   "outputs": [],
   "source": [
    "# Missing value imputation\n",
    "from sklearn.impute import SimpleImputer"
   ]
  },
  {
   "cell_type": "code",
   "execution_count": 14,
   "id": "60f40a04-1649-40c7-a664-215834943b40",
   "metadata": {},
   "outputs": [],
   "source": [
    "si = SimpleImputer(strategy='most_frequent')"
   ]
  },
  {
   "cell_type": "code",
   "execution_count": 15,
   "id": "0e7d750a-ade0-4ac3-9fb8-82fd2f76f6f6",
   "metadata": {},
   "outputs": [
    {
     "data": {
      "text/html": [
       "<div>\n",
       "<style scoped>\n",
       "    .dataframe tbody tr th:only-of-type {\n",
       "        vertical-align: middle;\n",
       "    }\n",
       "\n",
       "    .dataframe tbody tr th {\n",
       "        vertical-align: top;\n",
       "    }\n",
       "\n",
       "    .dataframe thead th {\n",
       "        text-align: right;\n",
       "    }\n",
       "</style>\n",
       "<table border=\"1\" class=\"dataframe\">\n",
       "  <thead>\n",
       "    <tr style=\"text-align: right;\">\n",
       "      <th></th>\n",
       "      <th>ATTORNEY</th>\n",
       "      <th>CLMSEX</th>\n",
       "      <th>CLMINSUR</th>\n",
       "      <th>SEATBELT</th>\n",
       "      <th>CLMAGE</th>\n",
       "      <th>LOSS</th>\n",
       "    </tr>\n",
       "  </thead>\n",
       "  <tbody>\n",
       "    <tr>\n",
       "      <th>0</th>\n",
       "      <td>1</td>\n",
       "      <td>0.0</td>\n",
       "      <td>1.0</td>\n",
       "      <td>0.0</td>\n",
       "      <td>50.0</td>\n",
       "      <td>34.940</td>\n",
       "    </tr>\n",
       "    <tr>\n",
       "      <th>1</th>\n",
       "      <td>0</td>\n",
       "      <td>1.0</td>\n",
       "      <td>0.0</td>\n",
       "      <td>0.0</td>\n",
       "      <td>18.0</td>\n",
       "      <td>0.891</td>\n",
       "    </tr>\n",
       "    <tr>\n",
       "      <th>2</th>\n",
       "      <td>0</td>\n",
       "      <td>0.0</td>\n",
       "      <td>1.0</td>\n",
       "      <td>0.0</td>\n",
       "      <td>5.0</td>\n",
       "      <td>0.330</td>\n",
       "    </tr>\n",
       "    <tr>\n",
       "      <th>3</th>\n",
       "      <td>1</td>\n",
       "      <td>0.0</td>\n",
       "      <td>1.0</td>\n",
       "      <td>1.0</td>\n",
       "      <td>31.0</td>\n",
       "      <td>0.037</td>\n",
       "    </tr>\n",
       "    <tr>\n",
       "      <th>4</th>\n",
       "      <td>0</td>\n",
       "      <td>0.0</td>\n",
       "      <td>1.0</td>\n",
       "      <td>0.0</td>\n",
       "      <td>30.0</td>\n",
       "      <td>0.038</td>\n",
       "    </tr>\n",
       "  </tbody>\n",
       "</table>\n",
       "</div>"
      ],
      "text/plain": [
       "   ATTORNEY  CLMSEX  CLMINSUR  SEATBELT  CLMAGE    LOSS\n",
       "0         1     0.0       1.0       0.0    50.0  34.940\n",
       "1         0     1.0       0.0       0.0    18.0   0.891\n",
       "2         0     0.0       1.0       0.0     5.0   0.330\n",
       "3         1     0.0       1.0       1.0    31.0   0.037\n",
       "4         0     0.0       1.0       0.0    30.0   0.038"
      ]
     },
     "execution_count": 15,
     "metadata": {},
     "output_type": "execute_result"
    }
   ],
   "source": [
    "df.head()"
   ]
  },
  {
   "cell_type": "code",
   "execution_count": 16,
   "id": "071f9313-c1f6-4f97-b552-284f34e5eb4d",
   "metadata": {},
   "outputs": [
    {
     "data": {
      "text/html": [
       "<div>\n",
       "<style scoped>\n",
       "    .dataframe tbody tr th:only-of-type {\n",
       "        vertical-align: middle;\n",
       "    }\n",
       "\n",
       "    .dataframe tbody tr th {\n",
       "        vertical-align: top;\n",
       "    }\n",
       "\n",
       "    .dataframe thead th {\n",
       "        text-align: right;\n",
       "    }\n",
       "</style>\n",
       "<table border=\"1\" class=\"dataframe\">\n",
       "  <thead>\n",
       "    <tr style=\"text-align: right;\">\n",
       "      <th></th>\n",
       "      <th>CLMSEX</th>\n",
       "      <th>CLMINSUR</th>\n",
       "      <th>SEATBELT</th>\n",
       "    </tr>\n",
       "  </thead>\n",
       "  <tbody>\n",
       "    <tr>\n",
       "      <th>0</th>\n",
       "      <td>0.0</td>\n",
       "      <td>1.0</td>\n",
       "      <td>0.0</td>\n",
       "    </tr>\n",
       "    <tr>\n",
       "      <th>1</th>\n",
       "      <td>1.0</td>\n",
       "      <td>0.0</td>\n",
       "      <td>0.0</td>\n",
       "    </tr>\n",
       "    <tr>\n",
       "      <th>2</th>\n",
       "      <td>0.0</td>\n",
       "      <td>1.0</td>\n",
       "      <td>0.0</td>\n",
       "    </tr>\n",
       "    <tr>\n",
       "      <th>3</th>\n",
       "      <td>0.0</td>\n",
       "      <td>1.0</td>\n",
       "      <td>1.0</td>\n",
       "    </tr>\n",
       "    <tr>\n",
       "      <th>4</th>\n",
       "      <td>0.0</td>\n",
       "      <td>1.0</td>\n",
       "      <td>0.0</td>\n",
       "    </tr>\n",
       "    <tr>\n",
       "      <th>...</th>\n",
       "      <td>...</td>\n",
       "      <td>...</td>\n",
       "      <td>...</td>\n",
       "    </tr>\n",
       "    <tr>\n",
       "      <th>1335</th>\n",
       "      <td>0.0</td>\n",
       "      <td>1.0</td>\n",
       "      <td>0.0</td>\n",
       "    </tr>\n",
       "    <tr>\n",
       "      <th>1336</th>\n",
       "      <td>1.0</td>\n",
       "      <td>1.0</td>\n",
       "      <td>0.0</td>\n",
       "    </tr>\n",
       "    <tr>\n",
       "      <th>1337</th>\n",
       "      <td>1.0</td>\n",
       "      <td>1.0</td>\n",
       "      <td>0.0</td>\n",
       "    </tr>\n",
       "    <tr>\n",
       "      <th>1338</th>\n",
       "      <td>1.0</td>\n",
       "      <td>0.0</td>\n",
       "      <td>0.0</td>\n",
       "    </tr>\n",
       "    <tr>\n",
       "      <th>1339</th>\n",
       "      <td>1.0</td>\n",
       "      <td>1.0</td>\n",
       "      <td>0.0</td>\n",
       "    </tr>\n",
       "  </tbody>\n",
       "</table>\n",
       "<p>1340 rows × 3 columns</p>\n",
       "</div>"
      ],
      "text/plain": [
       "      CLMSEX  CLMINSUR  SEATBELT\n",
       "0        0.0       1.0       0.0\n",
       "1        1.0       0.0       0.0\n",
       "2        0.0       1.0       0.0\n",
       "3        0.0       1.0       1.0\n",
       "4        0.0       1.0       0.0\n",
       "...      ...       ...       ...\n",
       "1335     0.0       1.0       0.0\n",
       "1336     1.0       1.0       0.0\n",
       "1337     1.0       1.0       0.0\n",
       "1338     1.0       0.0       0.0\n",
       "1339     1.0       1.0       0.0\n",
       "\n",
       "[1340 rows x 3 columns]"
      ]
     },
     "execution_count": 16,
     "metadata": {},
     "output_type": "execute_result"
    }
   ],
   "source": [
    "df.iloc[:,1:4]"
   ]
  },
  {
   "cell_type": "code",
   "execution_count": 17,
   "id": "98015996-dd62-4238-a332-50ecdba062aa",
   "metadata": {},
   "outputs": [],
   "source": [
    "df.iloc[:,1:4]= si.fit_transform(df.iloc[:,1:4])"
   ]
  },
  {
   "cell_type": "code",
   "execution_count": 18,
   "id": "a3e7450b-1ced-4add-934d-6c7b18aca3f2",
   "metadata": {},
   "outputs": [
    {
     "data": {
      "text/plain": [
       "ATTORNEY      0\n",
       "CLMSEX        0\n",
       "CLMINSUR      0\n",
       "SEATBELT      0\n",
       "CLMAGE      189\n",
       "LOSS          0\n",
       "dtype: int64"
      ]
     },
     "execution_count": 18,
     "metadata": {},
     "output_type": "execute_result"
    }
   ],
   "source": [
    "df.isna().sum()"
   ]
  },
  {
   "cell_type": "code",
   "execution_count": 19,
   "id": "396059d4-5034-4cdd-8273-32ad7f6f3375",
   "metadata": {},
   "outputs": [],
   "source": [
    "df['CLMAGE'].fillna(df['CLMAGE'].median(), inplace=True)"
   ]
  },
  {
   "cell_type": "code",
   "execution_count": 20,
   "id": "3566757d-33d9-45da-a66e-591a50779c8d",
   "metadata": {},
   "outputs": [
    {
     "data": {
      "text/plain": [
       "ATTORNEY    0\n",
       "CLMSEX      0\n",
       "CLMINSUR    0\n",
       "SEATBELT    0\n",
       "CLMAGE      0\n",
       "LOSS        0\n",
       "dtype: int64"
      ]
     },
     "execution_count": 20,
     "metadata": {},
     "output_type": "execute_result"
    }
   ],
   "source": [
    "df.isna().sum()"
   ]
  },
  {
   "cell_type": "code",
   "execution_count": 21,
   "id": "dfcf9351-7013-45f5-8e59-3e48914bd822",
   "metadata": {},
   "outputs": [],
   "source": [
    "# Data is Ready\n",
    "# Step to Create a Supervised Regression Model\n",
    "# 1. Define x (independent)and y(target)\n",
    "# 2. Split the data (Training and Testing data)\n",
    "# 3. Create a Model using a Training data\n",
    "# 4. Get Pridiction using Test Data\n",
    "# 5. Evalution "
   ]
  },
  {
   "cell_type": "markdown",
   "id": "69c2a129-93d2-4d9f-8bae-30f510770c73",
   "metadata": {},
   "source": [
    "### Model Buliding"
   ]
  },
  {
   "cell_type": "code",
   "execution_count": 22,
   "id": "3ba3be0f-c90c-4860-b315-7d962264b862",
   "metadata": {},
   "outputs": [],
   "source": [
    "# 1. Define x (independent)and y(target)\n",
    "x = df.iloc[:, 1:]\n",
    "y = df['ATTORNEY']"
   ]
  },
  {
   "cell_type": "code",
   "execution_count": 23,
   "id": "b203c3ff-25ce-457a-bd5e-9f26d3f3fe69",
   "metadata": {},
   "outputs": [
    {
     "data": {
      "text/html": [
       "<div>\n",
       "<style scoped>\n",
       "    .dataframe tbody tr th:only-of-type {\n",
       "        vertical-align: middle;\n",
       "    }\n",
       "\n",
       "    .dataframe tbody tr th {\n",
       "        vertical-align: top;\n",
       "    }\n",
       "\n",
       "    .dataframe thead th {\n",
       "        text-align: right;\n",
       "    }\n",
       "</style>\n",
       "<table border=\"1\" class=\"dataframe\">\n",
       "  <thead>\n",
       "    <tr style=\"text-align: right;\">\n",
       "      <th></th>\n",
       "      <th>CLMSEX</th>\n",
       "      <th>CLMINSUR</th>\n",
       "      <th>SEATBELT</th>\n",
       "      <th>CLMAGE</th>\n",
       "      <th>LOSS</th>\n",
       "    </tr>\n",
       "  </thead>\n",
       "  <tbody>\n",
       "    <tr>\n",
       "      <th>0</th>\n",
       "      <td>0.0</td>\n",
       "      <td>1.0</td>\n",
       "      <td>0.0</td>\n",
       "      <td>50.0</td>\n",
       "      <td>34.940</td>\n",
       "    </tr>\n",
       "    <tr>\n",
       "      <th>1</th>\n",
       "      <td>1.0</td>\n",
       "      <td>0.0</td>\n",
       "      <td>0.0</td>\n",
       "      <td>18.0</td>\n",
       "      <td>0.891</td>\n",
       "    </tr>\n",
       "    <tr>\n",
       "      <th>2</th>\n",
       "      <td>0.0</td>\n",
       "      <td>1.0</td>\n",
       "      <td>0.0</td>\n",
       "      <td>5.0</td>\n",
       "      <td>0.330</td>\n",
       "    </tr>\n",
       "    <tr>\n",
       "      <th>3</th>\n",
       "      <td>0.0</td>\n",
       "      <td>1.0</td>\n",
       "      <td>1.0</td>\n",
       "      <td>31.0</td>\n",
       "      <td>0.037</td>\n",
       "    </tr>\n",
       "    <tr>\n",
       "      <th>4</th>\n",
       "      <td>0.0</td>\n",
       "      <td>1.0</td>\n",
       "      <td>0.0</td>\n",
       "      <td>30.0</td>\n",
       "      <td>0.038</td>\n",
       "    </tr>\n",
       "    <tr>\n",
       "      <th>...</th>\n",
       "      <td>...</td>\n",
       "      <td>...</td>\n",
       "      <td>...</td>\n",
       "      <td>...</td>\n",
       "      <td>...</td>\n",
       "    </tr>\n",
       "    <tr>\n",
       "      <th>1335</th>\n",
       "      <td>0.0</td>\n",
       "      <td>1.0</td>\n",
       "      <td>0.0</td>\n",
       "      <td>30.0</td>\n",
       "      <td>0.576</td>\n",
       "    </tr>\n",
       "    <tr>\n",
       "      <th>1336</th>\n",
       "      <td>1.0</td>\n",
       "      <td>1.0</td>\n",
       "      <td>0.0</td>\n",
       "      <td>46.0</td>\n",
       "      <td>3.705</td>\n",
       "    </tr>\n",
       "    <tr>\n",
       "      <th>1337</th>\n",
       "      <td>1.0</td>\n",
       "      <td>1.0</td>\n",
       "      <td>0.0</td>\n",
       "      <td>39.0</td>\n",
       "      <td>0.099</td>\n",
       "    </tr>\n",
       "    <tr>\n",
       "      <th>1338</th>\n",
       "      <td>1.0</td>\n",
       "      <td>0.0</td>\n",
       "      <td>0.0</td>\n",
       "      <td>8.0</td>\n",
       "      <td>3.177</td>\n",
       "    </tr>\n",
       "    <tr>\n",
       "      <th>1339</th>\n",
       "      <td>1.0</td>\n",
       "      <td>1.0</td>\n",
       "      <td>0.0</td>\n",
       "      <td>30.0</td>\n",
       "      <td>0.688</td>\n",
       "    </tr>\n",
       "  </tbody>\n",
       "</table>\n",
       "<p>1340 rows × 5 columns</p>\n",
       "</div>"
      ],
      "text/plain": [
       "      CLMSEX  CLMINSUR  SEATBELT  CLMAGE    LOSS\n",
       "0        0.0       1.0       0.0    50.0  34.940\n",
       "1        1.0       0.0       0.0    18.0   0.891\n",
       "2        0.0       1.0       0.0     5.0   0.330\n",
       "3        0.0       1.0       1.0    31.0   0.037\n",
       "4        0.0       1.0       0.0    30.0   0.038\n",
       "...      ...       ...       ...     ...     ...\n",
       "1335     0.0       1.0       0.0    30.0   0.576\n",
       "1336     1.0       1.0       0.0    46.0   3.705\n",
       "1337     1.0       1.0       0.0    39.0   0.099\n",
       "1338     1.0       0.0       0.0     8.0   3.177\n",
       "1339     1.0       1.0       0.0    30.0   0.688\n",
       "\n",
       "[1340 rows x 5 columns]"
      ]
     },
     "execution_count": 23,
     "metadata": {},
     "output_type": "execute_result"
    }
   ],
   "source": [
    "x"
   ]
  },
  {
   "cell_type": "code",
   "execution_count": 24,
   "id": "4f94faba-3a25-48c1-a099-d9e27c557449",
   "metadata": {},
   "outputs": [
    {
     "data": {
      "text/plain": [
       "0       1\n",
       "1       0\n",
       "2       0\n",
       "3       1\n",
       "4       0\n",
       "       ..\n",
       "1335    0\n",
       "1336    1\n",
       "1337    0\n",
       "1338    1\n",
       "1339    0\n",
       "Name: ATTORNEY, Length: 1340, dtype: int64"
      ]
     },
     "execution_count": 24,
     "metadata": {},
     "output_type": "execute_result"
    }
   ],
   "source": [
    "y"
   ]
  },
  {
   "cell_type": "code",
   "execution_count": 25,
   "id": "6b803dc1-5bd4-40f8-8b62-b25add4a2a7f",
   "metadata": {},
   "outputs": [],
   "source": [
    "# 2. Split the data (Training and Testing data)"
   ]
  },
  {
   "cell_type": "code",
   "execution_count": 26,
   "id": "c95e0c0f-83a2-4e34-a0be-fb87d2585afe",
   "metadata": {},
   "outputs": [
    {
     "data": {
      "text/html": [
       "<div>\n",
       "<style scoped>\n",
       "    .dataframe tbody tr th:only-of-type {\n",
       "        vertical-align: middle;\n",
       "    }\n",
       "\n",
       "    .dataframe tbody tr th {\n",
       "        vertical-align: top;\n",
       "    }\n",
       "\n",
       "    .dataframe thead th {\n",
       "        text-align: right;\n",
       "    }\n",
       "</style>\n",
       "<table border=\"1\" class=\"dataframe\">\n",
       "  <thead>\n",
       "    <tr style=\"text-align: right;\">\n",
       "      <th></th>\n",
       "      <th>ATTORNEY</th>\n",
       "      <th>CLMSEX</th>\n",
       "      <th>CLMINSUR</th>\n",
       "      <th>SEATBELT</th>\n",
       "      <th>CLMAGE</th>\n",
       "      <th>LOSS</th>\n",
       "    </tr>\n",
       "  </thead>\n",
       "  <tbody>\n",
       "    <tr>\n",
       "      <th>0</th>\n",
       "      <td>1</td>\n",
       "      <td>0.0</td>\n",
       "      <td>1.0</td>\n",
       "      <td>0.0</td>\n",
       "      <td>50.0</td>\n",
       "      <td>34.940</td>\n",
       "    </tr>\n",
       "    <tr>\n",
       "      <th>1</th>\n",
       "      <td>0</td>\n",
       "      <td>1.0</td>\n",
       "      <td>0.0</td>\n",
       "      <td>0.0</td>\n",
       "      <td>18.0</td>\n",
       "      <td>0.891</td>\n",
       "    </tr>\n",
       "    <tr>\n",
       "      <th>2</th>\n",
       "      <td>0</td>\n",
       "      <td>0.0</td>\n",
       "      <td>1.0</td>\n",
       "      <td>0.0</td>\n",
       "      <td>5.0</td>\n",
       "      <td>0.330</td>\n",
       "    </tr>\n",
       "    <tr>\n",
       "      <th>3</th>\n",
       "      <td>1</td>\n",
       "      <td>0.0</td>\n",
       "      <td>1.0</td>\n",
       "      <td>1.0</td>\n",
       "      <td>31.0</td>\n",
       "      <td>0.037</td>\n",
       "    </tr>\n",
       "    <tr>\n",
       "      <th>4</th>\n",
       "      <td>0</td>\n",
       "      <td>0.0</td>\n",
       "      <td>1.0</td>\n",
       "      <td>0.0</td>\n",
       "      <td>30.0</td>\n",
       "      <td>0.038</td>\n",
       "    </tr>\n",
       "    <tr>\n",
       "      <th>5</th>\n",
       "      <td>1</td>\n",
       "      <td>1.0</td>\n",
       "      <td>1.0</td>\n",
       "      <td>0.0</td>\n",
       "      <td>35.0</td>\n",
       "      <td>0.309</td>\n",
       "    </tr>\n",
       "    <tr>\n",
       "      <th>6</th>\n",
       "      <td>1</td>\n",
       "      <td>0.0</td>\n",
       "      <td>1.0</td>\n",
       "      <td>0.0</td>\n",
       "      <td>9.0</td>\n",
       "      <td>3.538</td>\n",
       "    </tr>\n",
       "    <tr>\n",
       "      <th>7</th>\n",
       "      <td>1</td>\n",
       "      <td>1.0</td>\n",
       "      <td>1.0</td>\n",
       "      <td>0.0</td>\n",
       "      <td>34.0</td>\n",
       "      <td>4.881</td>\n",
       "    </tr>\n",
       "    <tr>\n",
       "      <th>8</th>\n",
       "      <td>0</td>\n",
       "      <td>1.0</td>\n",
       "      <td>1.0</td>\n",
       "      <td>0.0</td>\n",
       "      <td>60.0</td>\n",
       "      <td>0.874</td>\n",
       "    </tr>\n",
       "    <tr>\n",
       "      <th>9</th>\n",
       "      <td>0</td>\n",
       "      <td>0.0</td>\n",
       "      <td>1.0</td>\n",
       "      <td>0.0</td>\n",
       "      <td>30.0</td>\n",
       "      <td>0.350</td>\n",
       "    </tr>\n",
       "  </tbody>\n",
       "</table>\n",
       "</div>"
      ],
      "text/plain": [
       "   ATTORNEY  CLMSEX  CLMINSUR  SEATBELT  CLMAGE    LOSS\n",
       "0         1     0.0       1.0       0.0    50.0  34.940\n",
       "1         0     1.0       0.0       0.0    18.0   0.891\n",
       "2         0     0.0       1.0       0.0     5.0   0.330\n",
       "3         1     0.0       1.0       1.0    31.0   0.037\n",
       "4         0     0.0       1.0       0.0    30.0   0.038\n",
       "5         1     1.0       1.0       0.0    35.0   0.309\n",
       "6         1     0.0       1.0       0.0     9.0   3.538\n",
       "7         1     1.0       1.0       0.0    34.0   4.881\n",
       "8         0     1.0       1.0       0.0    60.0   0.874\n",
       "9         0     0.0       1.0       0.0    30.0   0.350"
      ]
     },
     "execution_count": 26,
     "metadata": {},
     "output_type": "execute_result"
    }
   ],
   "source": [
    "df.head(10)"
   ]
  },
  {
   "cell_type": "code",
   "execution_count": 27,
   "id": "3018e1b5-badf-439e-8356-b67e5ae88691",
   "metadata": {},
   "outputs": [],
   "source": [
    "from sklearn.model_selection import train_test_split"
   ]
  },
  {
   "cell_type": "code",
   "execution_count": 28,
   "id": "f64ba87d-1382-4eea-8b39-257251a4f619",
   "metadata": {},
   "outputs": [],
   "source": [
    "# (x) is where the Independent columns are stored\n",
    "# (y) is where the Dependent (Target) column are stored\n",
    "xtrain,xtest,ytrain,ytest= train_test_split(x,y,test_size=0.2,random_state=42)"
   ]
  },
  {
   "cell_type": "markdown",
   "id": "d21a7c12-592e-46ec-aa65-9902eb414319",
   "metadata": {},
   "source": [
    "When you set random_state to a specific number (e.g., random_state=42), it ensures that the random splitting of the data will be reproducible. In other words, if you use the same random_state value in different runs of your code, the splitting will yield the same results. This is helpful for reproducibility purposes and for ensuring consistent results, especially when you're sharing code or conducting experiments where you want others to obtain the same split as you did.\r\n",
    "\r\n",
    "The actual value, in this case, '42', doesn't hold any specific significance. It's just an arbitrary number chosen for the random seed. The crucial point is that using the same random_state value allows you to obtain the same train-test split every time you run the code, ensuring consistency in the splits between your training and testing datasets."
   ]
  },
  {
   "cell_type": "code",
   "execution_count": 29,
   "id": "a7c3a7d8-83d8-44a1-aea6-358b651a5084",
   "metadata": {},
   "outputs": [
    {
     "data": {
      "text/plain": [
       "(      CLMSEX  CLMINSUR  SEATBELT  CLMAGE     LOSS\n",
       " 1148     1.0       1.0       0.0     7.0    3.734\n",
       " 807      0.0       1.0       0.0    16.0  111.405\n",
       " 1287     0.0       0.0       0.0    10.0    0.040\n",
       " 590      1.0       1.0       0.0     6.0    0.100\n",
       " 1188     1.0       1.0       0.0    44.0   13.000\n",
       " ...      ...       ...       ...     ...      ...\n",
       " 1095     0.0       1.0       0.0    47.0    0.080\n",
       " 1130     1.0       1.0       0.0    30.0    5.595\n",
       " 1294     1.0       1.0       0.0    30.0    1.041\n",
       " 860      1.0       0.0       0.0    55.0    1.769\n",
       " 1126     1.0       1.0       0.0    30.0    0.080\n",
       " \n",
       " [1072 rows x 5 columns],\n",
       "       CLMSEX  CLMINSUR  SEATBELT  CLMAGE    LOSS\n",
       " 394      1.0       1.0       0.0     5.0   5.163\n",
       " 881      0.0       0.0       0.0    30.0   5.570\n",
       " 358      1.0       1.0       0.0    41.0   0.671\n",
       " 367      0.0       1.0       0.0    34.0   0.567\n",
       " 259      0.0       1.0       1.0    66.0   4.530\n",
       " ...      ...       ...       ...     ...     ...\n",
       " 109      0.0       1.0       0.0    30.0   0.755\n",
       " 818      1.0       1.0       0.0     7.0   6.000\n",
       " 538      1.0       1.0       0.0    30.0   3.510\n",
       " 1286     1.0       1.0       1.0    44.0  55.709\n",
       " 714      1.0       1.0       0.0    58.0   0.354\n",
       " \n",
       " [268 rows x 5 columns],\n",
       " 1148    0\n",
       " 807     1\n",
       " 1287    0\n",
       " 590     0\n",
       " 1188    1\n",
       "        ..\n",
       " 1095    1\n",
       " 1130    1\n",
       " 1294    1\n",
       " 860     1\n",
       " 1126    0\n",
       " Name: ATTORNEY, Length: 1072, dtype: int64,\n",
       " 394     1\n",
       " 881     1\n",
       " 358     0\n",
       " 367     1\n",
       " 259     1\n",
       "        ..\n",
       " 109     1\n",
       " 818     1\n",
       " 538     0\n",
       " 1286    1\n",
       " 714     0\n",
       " Name: ATTORNEY, Length: 268, dtype: int64)"
      ]
     },
     "execution_count": 29,
     "metadata": {},
     "output_type": "execute_result"
    }
   ],
   "source": [
    "xtrain,xtest,ytrain,ytest"
   ]
  },
  {
   "cell_type": "code",
   "execution_count": 30,
   "id": "9686476c-450b-47c7-acee-0ab795f414de",
   "metadata": {},
   "outputs": [],
   "source": [
    "# 3. Create a Model using a Training data\n",
    "from sklearn.linear_model import LogisticRegression"
   ]
  },
  {
   "cell_type": "code",
   "execution_count": 31,
   "id": "0f8043f2-4357-4da3-997e-a3549fe82d07",
   "metadata": {},
   "outputs": [
    {
     "data": {
      "text/plain": [
       "array([[-0.36427295, -0.33524203,  0.70473018, -0.00883013,  0.41189508]])"
      ]
     },
     "execution_count": 31,
     "metadata": {},
     "output_type": "execute_result"
    }
   ],
   "source": [
    "# Create an object/variable for LogisticRegression\n",
    "lg = LogisticRegression()\n",
    "# For train a model we to pass both Independent and Dependent Features\n",
    "lg.fit(xtrain,ytrain)\n",
    "# This will give the slope (m) value \n",
    "lg.coef_"
   ]
  },
  {
   "cell_type": "code",
   "execution_count": 32,
   "id": "811ea311-aff9-477c-ae60-25378d42b1ad",
   "metadata": {},
   "outputs": [],
   "source": [
    "# 4. Get Pridiction using Test Data\n",
    "ypred = lg.predict(xtest)"
   ]
  },
  {
   "cell_type": "code",
   "execution_count": 33,
   "id": "03f74daa-00f8-4a2c-a519-c1cdfbf1e817",
   "metadata": {},
   "outputs": [
    {
     "data": {
      "text/plain": [
       "268"
      ]
     },
     "execution_count": 33,
     "metadata": {},
     "output_type": "execute_result"
    }
   ],
   "source": [
    "len(xtest)"
   ]
  },
  {
   "cell_type": "code",
   "execution_count": 34,
   "id": "7be28f03-94de-4ebc-9048-b71f8d9dd3b6",
   "metadata": {},
   "outputs": [
    {
     "data": {
      "text/plain": [
       "268"
      ]
     },
     "execution_count": 34,
     "metadata": {},
     "output_type": "execute_result"
    }
   ],
   "source": [
    "len(ypred)"
   ]
  },
  {
   "cell_type": "code",
   "execution_count": 35,
   "id": "d3465efe-ed80-4ebe-b2bf-1d0d751fda45",
   "metadata": {},
   "outputs": [
    {
     "name": "stdout",
     "output_type": "stream",
     "text": [
      "Actual Y:  [1 1 0 1 1 1 0 1 1 1 0 1 0 1 0 1 0 0 0 0 1 0 1 1 0]\n",
      "Predict Y: [1 1 0 0 1 1 0 0 0 1 0 0 0 0 0 1 0 0 0 1 1 1 1 1 1]\n"
     ]
    }
   ],
   "source": [
    "# 5. Evalution \n",
    "print('Actual Y: ', ytest[:25].values)\n",
    "print('Predict Y:', ypred[:25])"
   ]
  },
  {
   "cell_type": "code",
   "execution_count": 36,
   "id": "19ab22b6-afe5-482b-ad0b-ccb48e87e26b",
   "metadata": {},
   "outputs": [],
   "source": [
    "from sklearn.metrics import classification_report,confusion_matrix"
   ]
  },
  {
   "cell_type": "code",
   "execution_count": 37,
   "id": "8ba4c386-16c7-47ac-b007-688ec8fada01",
   "metadata": {},
   "outputs": [
    {
     "name": "stdout",
     "output_type": "stream",
     "text": [
      "              precision    recall  f1-score   support\n",
      "\n",
      "           0       0.72      0.81      0.76       140\n",
      "           1       0.76      0.66      0.71       128\n",
      "\n",
      "    accuracy                           0.74       268\n",
      "   macro avg       0.74      0.74      0.74       268\n",
      "weighted avg       0.74      0.74      0.74       268\n",
      "\n"
     ]
    }
   ],
   "source": [
    "print(classification_report(ytest,ypred))"
   ]
  },
  {
   "cell_type": "code",
   "execution_count": 38,
   "id": "a87ceab5-0ad5-46bd-827d-c890cace340b",
   "metadata": {},
   "outputs": [
    {
     "data": {
      "text/plain": [
       "array([[113,  27],\n",
       "       [ 43,  85]], dtype=int64)"
      ]
     },
     "execution_count": 38,
     "metadata": {},
     "output_type": "execute_result"
    }
   ],
   "source": [
    "confusion_matrix(ytest,ypred)"
   ]
  },
  {
   "cell_type": "code",
   "execution_count": 39,
   "id": "93d29ea0-4bfe-4c21-90d7-b6ce7453ba26",
   "metadata": {},
   "outputs": [
    {
     "data": {
      "text/plain": [
       "Text(240.30555555555557, 0.5, 'Predicted Values')"
      ]
     },
     "execution_count": 39,
     "metadata": {},
     "output_type": "execute_result"
    },
    {
     "data": {
      "image/png": "[encoded data removed]",
      "text/plain": [
       "<Figure size 2500x1250 with 2 Axes>"
      ]
     },
     "metadata": {},
     "output_type": "display_data"
    }
   ],
   "source": [
    "sns.heatmap(confusion_matrix(ytest,ypred), annot=True)\n",
    "plt.xlabel('Actual Values')\n",
    "plt.ylabel('Predicted Values')"
   ]
  },
  {
   "cell_type": "code",
   "execution_count": 40,
   "id": "04e7b853-6661-4a99-b959-889bbf797740",
   "metadata": {},
   "outputs": [
    {
     "data": {
      "text/plain": [
       "Text(240.30555555555557, 0.5, 'Predicted Values')"
      ]
     },
     "execution_count": 40,
     "metadata": {},
     "output_type": "execute_result"
    },
    {
     "data": {
      "image/png": "[encoded data removed]",
      "text/plain": [
       "<Figure size 2500x1250 with 2 Axes>"
      ]
     },
     "metadata": {},
     "output_type": "display_data"
    }
   ],
   "source": [
    "sns.heatmap(confusion_matrix(ytest,ypred), annot=True, fmt='g')\n",
    "plt.xlabel('Actual Values')\n",
    "plt.ylabel('Predicted Values')"
   ]
  },
  {
   "cell_type": "markdown",
   "id": "5616d0bf-990e-4987-9469-a34b9998f9eb",
   "metadata": {},
   "source": [
    "### Threshold selection"
   ]
  },
  {
   "cell_type": "markdown",
   "id": "f0135075-282b-4d32-ab70-50773e463dce",
   "metadata": {},
   "source": [
    "![](sigmoid.png)\n",
    "\n",
    "- If we want to Decrease my False Negative Value we have to Reduce our Threshold Value and \n",
    "- If we want to Decrease my False Positive Value we have to Increase our Threshold Value\n",
    "- When dealing with classification models or any scenario where you're using a threshold to make a decision (such as in binary classification), adjusting the threshold can affect the trade-off between false positives and false negatives.\n",
    "- Precision is a metric that focuses on minimizing false positives\n",
    "- Recall is a metric that focuses on minimizing false negatives\n",
    "- Precision increases Recall Decreases and vice versa\n",
    "- In Order to find Optimal Threshold Value we will use ROC (Receiver Operator Characteristics)& AUC (Area under Curve)\n",
    "\n",
    "![](tprfpr.png)\n",
    "\n",
    "![](fprtprdia.png)\n",
    "\n",
    "- We will select a Threshold where TPR is High and FPR is Low (Here Threshold 0.4 will be selected) because we want High Recall\n",
    "- If we want High Precision we will select TPR is Low and FPR is High (Here Threshold 0.8 will be selected) because we want High Precision\n",
    "- Selecting between Recall and Precision purely depend upon Problem Statement\n",
    "\n",
    "![](auc.png)\n",
    "\n",
    "- Area Under Curve is High then model performance is Good\n",
    "- Area Under curve is Low then model performance is Not Good"
   ]
  },
  {
   "cell_type": "code",
   "execution_count": 41,
   "id": "614d24f1-5729-40d4-8f77-3b7f302f2a8f",
   "metadata": {},
   "outputs": [
    {
     "data": {
      "text/html": [
       "<div>\n",
       "<style scoped>\n",
       "    .dataframe tbody tr th:only-of-type {\n",
       "        vertical-align: middle;\n",
       "    }\n",
       "\n",
       "    .dataframe tbody tr th {\n",
       "        vertical-align: top;\n",
       "    }\n",
       "\n",
       "    .dataframe thead th {\n",
       "        text-align: right;\n",
       "    }\n",
       "</style>\n",
       "<table border=\"1\" class=\"dataframe\">\n",
       "  <thead>\n",
       "    <tr style=\"text-align: right;\">\n",
       "      <th></th>\n",
       "      <th>CLMSEX</th>\n",
       "      <th>CLMINSUR</th>\n",
       "      <th>SEATBELT</th>\n",
       "      <th>CLMAGE</th>\n",
       "      <th>LOSS</th>\n",
       "    </tr>\n",
       "  </thead>\n",
       "  <tbody>\n",
       "    <tr>\n",
       "      <th>394</th>\n",
       "      <td>1.0</td>\n",
       "      <td>1.0</td>\n",
       "      <td>0.0</td>\n",
       "      <td>5.0</td>\n",
       "      <td>5.163</td>\n",
       "    </tr>\n",
       "    <tr>\n",
       "      <th>881</th>\n",
       "      <td>0.0</td>\n",
       "      <td>0.0</td>\n",
       "      <td>0.0</td>\n",
       "      <td>30.0</td>\n",
       "      <td>5.570</td>\n",
       "    </tr>\n",
       "    <tr>\n",
       "      <th>358</th>\n",
       "      <td>1.0</td>\n",
       "      <td>1.0</td>\n",
       "      <td>0.0</td>\n",
       "      <td>41.0</td>\n",
       "      <td>0.671</td>\n",
       "    </tr>\n",
       "    <tr>\n",
       "      <th>367</th>\n",
       "      <td>0.0</td>\n",
       "      <td>1.0</td>\n",
       "      <td>0.0</td>\n",
       "      <td>34.0</td>\n",
       "      <td>0.567</td>\n",
       "    </tr>\n",
       "    <tr>\n",
       "      <th>259</th>\n",
       "      <td>0.0</td>\n",
       "      <td>1.0</td>\n",
       "      <td>1.0</td>\n",
       "      <td>66.0</td>\n",
       "      <td>4.530</td>\n",
       "    </tr>\n",
       "  </tbody>\n",
       "</table>\n",
       "</div>"
      ],
      "text/plain": [
       "     CLMSEX  CLMINSUR  SEATBELT  CLMAGE   LOSS\n",
       "394     1.0       1.0       0.0     5.0  5.163\n",
       "881     0.0       0.0       0.0    30.0  5.570\n",
       "358     1.0       1.0       0.0    41.0  0.671\n",
       "367     0.0       1.0       0.0    34.0  0.567\n",
       "259     0.0       1.0       1.0    66.0  4.530"
      ]
     },
     "execution_count": 41,
     "metadata": {},
     "output_type": "execute_result"
    }
   ],
   "source": [
    "xtest.head()"
   ]
  },
  {
   "cell_type": "code",
   "execution_count": 42,
   "id": "ba997357-8cd0-4c08-8277-1fb87f046eae",
   "metadata": {},
   "outputs": [
    {
     "data": {
      "text/plain": [
       "array([1, 1, 0, 0, 1], dtype=int64)"
      ]
     },
     "execution_count": 42,
     "metadata": {},
     "output_type": "execute_result"
    }
   ],
   "source": [
    "ypred[:5]"
   ]
  },
  {
   "cell_type": "code",
   "execution_count": 43,
   "id": "8b3b5223-1b6d-4052-9753-84ee336e346f",
   "metadata": {},
   "outputs": [
    {
     "data": {
      "text/plain": [
       "array([0.78821071, 0.87659534, 0.2986062 , 0.38445127, 0.8297433 ,\n",
       "       0.64092364, 0.39890108, 0.45463549, 0.44292098, 0.87909809,\n",
       "       0.33962635, 0.31872301, 0.4097136 , 0.44537759, 0.32277285,\n",
       "       0.73744764, 0.33360801, 0.27281284, 0.34512747, 0.91339469,\n",
       "       1.        , 0.70245786, 0.75938053, 0.50377016, 0.80171381,\n",
       "       0.33265341, 0.25357962, 0.30549397, 0.36060377, 0.31719918,\n",
       "       1.        , 0.42673106, 0.24019873, 0.34948609, 0.34705529,\n",
       "       0.28707648, 0.41151982, 0.68809903, 0.26934924, 0.62706648,\n",
       "       0.4414904 , 0.36694333, 0.46889672, 0.36624336, 0.26647148,\n",
       "       0.56246823, 0.38243007, 0.66517171, 0.64894073, 0.4412    ,\n",
       "       0.80178382, 0.39372775, 0.3015972 , 0.41417889, 0.20719538,\n",
       "       1.        , 0.28340744, 0.29302456, 0.35271261, 0.3147238 ,\n",
       "       0.99559029, 0.62348266, 0.29446574, 0.59144794, 0.56377085,\n",
       "       0.30771535, 0.34000242, 0.84447142, 0.26647148, 0.31050882,\n",
       "       0.43568429, 0.68593993, 0.32285261, 0.38573817, 0.30645611,\n",
       "       0.55869187, 0.96209555, 0.2217013 , 0.28827912, 0.26628966,\n",
       "       0.46438451, 0.43562243, 0.68070347, 0.39355557, 0.39556658,\n",
       "       0.64649711, 0.85299596, 0.50216158, 0.32654878, 0.31684335,\n",
       "       0.73305518, 0.28030647, 0.23603725, 0.76086392, 0.30422761,\n",
       "       0.35938143, 0.31429132, 0.53729489, 0.38787108, 0.53072904,\n",
       "       0.30557999, 0.26945006, 0.46372046, 0.38715357, 0.42097172,\n",
       "       0.58450621, 0.90384582, 0.63341967, 0.98109511, 0.24982189,\n",
       "       0.83760951, 0.38969119, 0.34243872, 0.39697701, 1.        ,\n",
       "       0.27877739, 0.64370417, 0.52890252, 0.98435566, 1.        ,\n",
       "       0.79761455, 0.30952869, 1.        , 0.34883741, 0.26633007,\n",
       "       0.31623507, 0.63646197, 0.38780674, 0.62789614, 0.5433201 ,\n",
       "       0.45064387, 0.40229581, 0.93382055, 0.36258306, 0.69964694,\n",
       "       0.55296542, 0.70274817, 0.38628067, 0.65338508, 0.41151982,\n",
       "       0.92746387, 0.32194069, 0.83582584, 0.31475652, 0.30549397,\n",
       "       0.44496115, 0.67155463, 0.55305609, 0.85310899, 0.90052447,\n",
       "       0.7740849 , 0.40749912, 0.53976025, 0.31239145, 0.40084209,\n",
       "       0.54012268, 0.41976144, 0.81599758, 0.69429674, 0.63969605,\n",
       "       0.28749817, 0.31818799, 0.222908  , 0.65065165, 0.25208148,\n",
       "       0.24737435, 0.78746673, 0.69532357, 0.49739259, 0.61237994,\n",
       "       0.37656285, 0.83061403, 0.76216798, 0.36662639, 0.51821078,\n",
       "       0.34243872, 0.28213361, 0.292172  , 0.36050832, 0.8668176 ,\n",
       "       0.31567439, 0.5508431 , 0.24138478, 0.56942905, 0.3889385 ,\n",
       "       0.57609824, 0.39264673, 0.31228625, 0.94073091, 0.64891176,\n",
       "       0.34761601, 0.3264155 , 0.30680551, 0.39559741, 0.34755291,\n",
       "       0.68321641, 0.68033016, 0.49853804, 0.37049067, 0.34128007,\n",
       "       0.34240969, 0.95343001, 0.84259219, 0.36969288, 0.34970926,\n",
       "       0.99999997, 0.39609681, 0.37961974, 0.33286452, 0.71234596,\n",
       "       0.4718103 , 0.75960099, 0.50396842, 0.40458821, 0.67605322,\n",
       "       0.29464843, 0.30737543, 0.42067055, 0.43639883, 0.33873848,\n",
       "       0.29258706, 0.80056461, 0.43609493, 0.28528355, 0.80316271,\n",
       "       0.29601995, 0.3696924 , 0.33373926, 0.30167791, 0.59449858,\n",
       "       0.23989292, 0.33714247, 0.72798551, 0.68982187, 0.58442411,\n",
       "       0.74129738, 0.75323367, 0.6088348 , 0.48871241, 0.30365964,\n",
       "       0.44961778, 0.46799867, 0.35959518, 0.32042612, 1.        ,\n",
       "       0.20631718, 0.39622523, 0.40811379, 0.3077263 , 0.72914171,\n",
       "       0.42818046, 0.63092941, 0.67126479, 0.3833554 , 0.7707437 ,\n",
       "       0.2691311 , 0.99904874, 0.26762023, 0.92060623, 0.79187796,\n",
       "       0.35191207, 0.61387561, 0.72620696, 0.41145826, 0.83770761,\n",
       "       0.60170102, 1.        , 0.24330825])"
      ]
     },
     "execution_count": 43,
     "metadata": {},
     "output_type": "execute_result"
    }
   ],
   "source": [
    "# Logistic regression works on Probability. Means what is the Probability of getting 0 or 1\n",
    "lg.predict_proba(xtest)[:,1]\n",
    "# Probability of getting 0 = 2.11789289e-01 (21%), Probability of getting 1 = 7.88210711e-01 (79%)\n",
    "# Below is done by considering Threshold 0.5\n",
    "# If you are trying to Increase the Recall select the Positive/Upper column array[:,1] Probability associated with 1 class\n",
    "# If you are trying to Increase the Precision select the Positive/Lower column array[:,0] Probability associated with 0 class"
   ]
  },
  {
   "cell_type": "code",
   "execution_count": 44,
   "id": "bb8cc69a-de0d-4496-9ba4-d0447f8cdd07",
   "metadata": {},
   "outputs": [],
   "source": [
    "proba = lg.predict_proba(xtest)[:,1]"
   ]
  },
  {
   "cell_type": "code",
   "execution_count": 45,
   "id": "e5fec291-5cd7-457e-9135-8f5390c719d4",
   "metadata": {},
   "outputs": [],
   "source": [
    "from sklearn.metrics import roc_auc_score,roc_curve,accuracy_score"
   ]
  },
  {
   "cell_type": "code",
   "execution_count": 46,
   "id": "878fe95c-87ce-471c-bd5f-fb4fadc4ccf5",
   "metadata": {},
   "outputs": [
    {
     "data": {
      "text/plain": [
       "0.7648158482142858"
      ]
     },
     "execution_count": 46,
     "metadata": {},
     "output_type": "execute_result"
    }
   ],
   "source": [
    "auc = roc_auc_score(ytest,proba)\n",
    "auc"
   ]
  },
  {
   "cell_type": "code",
   "execution_count": 47,
   "id": "87127711-b002-4256-bb0a-d2d4951e5661",
   "metadata": {},
   "outputs": [],
   "source": [
    "fpr, tpr, threshold = roc_curve(ytest, proba)"
   ]
  },
  {
   "cell_type": "code",
   "execution_count": 48,
   "id": "31e87fff-eb28-42b9-8d3a-e5b008412210",
   "metadata": {},
   "outputs": [
    {
     "data": {
      "text/plain": [
       "array([0.        , 0.        , 0.00714286, 0.00714286, 0.01428571,\n",
       "       0.01428571, 0.02857143, 0.02857143, 0.03571429, 0.03571429,\n",
       "       0.05      , 0.05      , 0.05714286, 0.05714286, 0.06428571,\n",
       "       0.06428571, 0.07142857, 0.07142857, 0.07857143, 0.07857143,\n",
       "       0.08571429, 0.08571429, 0.09285714, 0.09285714, 0.1       ,\n",
       "       0.1       , 0.11428571, 0.11428571, 0.12142857, 0.12142857,\n",
       "       0.12857143, 0.12857143, 0.13571429, 0.13571429, 0.15      ,\n",
       "       0.15      , 0.15714286, 0.15714286, 0.16428571, 0.16428571,\n",
       "       0.17142857, 0.17142857, 0.18571429, 0.18571429, 0.19285714,\n",
       "       0.19285714, 0.2       , 0.2       , 0.22142857, 0.22142857,\n",
       "       0.22857143, 0.22857143, 0.23571429, 0.23571429, 0.25      ,\n",
       "       0.25      , 0.26428571, 0.26428571, 0.28571429, 0.3       ,\n",
       "       0.3       , 0.35      , 0.35      , 0.35714286, 0.35714286,\n",
       "       0.37857143, 0.37857143, 0.42142857, 0.42142857, 0.43571429,\n",
       "       0.43571429, 0.47142857, 0.47142857, 0.5       , 0.5       ,\n",
       "       0.50714286, 0.50714286, 0.51428571, 0.51428571, 0.55      ,\n",
       "       0.56428571, 0.6       , 0.6       , 0.64285714, 0.64285714,\n",
       "       0.66428571, 0.66428571, 0.67857143, 0.67857143, 0.7       ,\n",
       "       0.7       , 0.70714286, 0.70714286, 0.72857143, 0.72857143,\n",
       "       0.75      , 0.75714286, 0.8       , 0.8       , 0.84285714,\n",
       "       0.84285714, 0.89285714, 0.89285714, 0.9       , 0.91428571,\n",
       "       0.91428571, 0.97142857, 0.97142857, 1.        , 1.        ])"
      ]
     },
     "execution_count": 48,
     "metadata": {},
     "output_type": "execute_result"
    }
   ],
   "source": [
    "fpr"
   ]
  },
  {
   "cell_type": "code",
   "execution_count": 49,
   "id": "c66acf62-eca1-48aa-8cf4-2fc9b68d901c",
   "metadata": {},
   "outputs": [
    {
     "data": {
      "text/plain": [
       "array([0.       , 0.0234375, 0.0234375, 0.078125 , 0.078125 , 0.0859375,\n",
       "       0.0859375, 0.1015625, 0.1015625, 0.109375 , 0.109375 , 0.140625 ,\n",
       "       0.140625 , 0.2109375, 0.2109375, 0.21875  , 0.21875  , 0.234375 ,\n",
       "       0.234375 , 0.2421875, 0.2421875, 0.265625 , 0.265625 , 0.3125   ,\n",
       "       0.3125   , 0.3359375, 0.3359375, 0.3515625, 0.3515625, 0.421875 ,\n",
       "       0.421875 , 0.4296875, 0.4296875, 0.46875  , 0.46875  , 0.53125  ,\n",
       "       0.53125  , 0.5546875, 0.5546875, 0.5625   , 0.5625   , 0.5859375,\n",
       "       0.5859375, 0.625    , 0.625    , 0.6796875, 0.6796875, 0.6953125,\n",
       "       0.6953125, 0.703125 , 0.703125 , 0.734375 , 0.734375 , 0.75     ,\n",
       "       0.75     , 0.7578125, 0.7578125, 0.765625 , 0.765625 , 0.765625 ,\n",
       "       0.7734375, 0.7734375, 0.7890625, 0.7890625, 0.796875 , 0.796875 ,\n",
       "       0.8125   , 0.8125   , 0.8203125, 0.8203125, 0.828125 , 0.828125 ,\n",
       "       0.84375  , 0.84375  , 0.8515625, 0.8515625, 0.859375 , 0.859375 ,\n",
       "       0.8671875, 0.8671875, 0.8671875, 0.8671875, 0.875    , 0.875    ,\n",
       "       0.8828125, 0.8828125, 0.890625 , 0.890625 , 0.90625  , 0.90625  ,\n",
       "       0.921875 , 0.921875 , 0.9296875, 0.9296875, 0.9375   , 0.9375   ,\n",
       "       0.9453125, 0.9453125, 0.953125 , 0.953125 , 0.96875  , 0.96875  ,\n",
       "       0.9765625, 0.9765625, 0.9765625, 0.984375 , 0.984375 , 0.9921875,\n",
       "       0.9921875, 1.       ])"
      ]
     },
     "execution_count": 49,
     "metadata": {},
     "output_type": "execute_result"
    }
   ],
   "source": [
    "tpr"
   ]
  },
  {
   "cell_type": "code",
   "execution_count": 50,
   "id": "43cb94c0-339d-45ac-982a-f623dd295634",
   "metadata": {},
   "outputs": [
    {
     "data": {
      "text/plain": [
       "array([       inf, 1.        , 1.        , 0.99559029, 0.98435566,\n",
       "       0.98109511, 0.95343001, 0.93382055, 0.92746387, 0.92060623,\n",
       "       0.90384582, 0.8668176 , 0.85310899, 0.81599758, 0.80316271,\n",
       "       0.80178382, 0.80171381, 0.79761455, 0.79187796, 0.78821071,\n",
       "       0.78746673, 0.76216798, 0.76086392, 0.73305518, 0.72914171,\n",
       "       0.71234596, 0.70245786, 0.69532357, 0.69429674, 0.67126479,\n",
       "       0.66517171, 0.65338508, 0.65065165, 0.64092364, 0.63646197,\n",
       "       0.6088348 , 0.60170102, 0.58450621, 0.58442411, 0.57609824,\n",
       "       0.56942905, 0.55869187, 0.55296542, 0.53729489, 0.53072904,\n",
       "       0.49739259, 0.48871241, 0.46889672, 0.46372046, 0.45463549,\n",
       "       0.45064387, 0.44292098, 0.4414904 , 0.43639883, 0.43568429,\n",
       "       0.43562243, 0.42673106, 0.42097172, 0.41417889, 0.41151982,\n",
       "       0.41145826, 0.39890108, 0.39622523, 0.39609681, 0.39559741,\n",
       "       0.39355557, 0.38969119, 0.38573817, 0.38445127, 0.38243007,\n",
       "       0.37961974, 0.36694333, 0.36624336, 0.35959518, 0.35938143,\n",
       "       0.35271261, 0.35191207, 0.34970926, 0.34948609, 0.34512747,\n",
       "       0.34243872, 0.33873848, 0.33714247, 0.3264155 , 0.32285261,\n",
       "       0.32042612, 0.31872301, 0.31719918, 0.31623507, 0.3147238 ,\n",
       "       0.31239145, 0.31228625, 0.31050882, 0.30771535, 0.30737543,\n",
       "       0.30557999, 0.30549397, 0.29601995, 0.29464843, 0.28749817,\n",
       "       0.28528355, 0.26934924, 0.2691311 , 0.26762023, 0.26647148,\n",
       "       0.26633007, 0.24019873, 0.23989292, 0.20719538, 0.20631718])"
      ]
     },
     "execution_count": 50,
     "metadata": {},
     "output_type": "execute_result"
    }
   ],
   "source": [
    "threshold"
   ]
  },
  {
   "cell_type": "code",
   "execution_count": 51,
   "id": "53b47d98-524b-4d3f-a2d3-7ee9eb3a13e7",
   "metadata": {},
   "outputs": [
    {
     "data": {
      "text/plain": [
       "110"
      ]
     },
     "execution_count": 51,
     "metadata": {},
     "output_type": "execute_result"
    }
   ],
   "source": [
    "len(threshold)"
   ]
  },
  {
   "cell_type": "code",
   "execution_count": 52,
   "id": "f712ba2e-d2f3-4eca-8b13-6787056e3d89",
   "metadata": {},
   "outputs": [
    {
     "data": {
      "text/plain": [
       "<matplotlib.legend.Legend at 0x2930f734390>"
      ]
     },
     "execution_count": 52,
     "metadata": {},
     "output_type": "execute_result"
    },
    {
     "data": {
      "image/png": "[encoded data removed]",
      "text/plain": [
       "<Figure size 2500x1250 with 1 Axes>"
      ]
     },
     "metadata": {},
     "output_type": "display_data"
    }
   ],
   "source": [
    "plt.plot(fpr,tpr, label = auc)\n",
    "plt.xlabel(\"FPR\")\n",
    "plt.ylabel(\"TPR\")\n",
    "plt.legend()"
   ]
  },
  {
   "cell_type": "code",
   "execution_count": 53,
   "id": "43eeb1d2-f344-4071-abf5-b5b75d5098ea",
   "metadata": {},
   "outputs": [],
   "source": [
    "accuracy = []\n",
    "for i in threshold:\n",
    "    ypred = np.where(proba>i,1,0)\n",
    "    accuracy.append(accuracy_score(ytest,ypred))"
   ]
  },
  {
   "cell_type": "code",
   "execution_count": 54,
   "id": "3746b597-01d1-49bf-a4f3-ddc4dbc5e94c",
   "metadata": {},
   "outputs": [
    {
     "data": {
      "text/plain": [
       "[0.5223880597014925,\n",
       " 0.5223880597014925,\n",
       " 0.5335820895522388,\n",
       " 0.5522388059701493,\n",
       " 0.5559701492537313,\n",
       " 0.5522388059701493,\n",
       " 0.5522388059701493,\n",
       " 0.5522388059701493,\n",
       " 0.5559701492537313,\n",
       " 0.5522388059701493,\n",
       " 0.5522388059701493,\n",
       " 0.5597014925373134,\n",
       " 0.5634328358208955,\n",
       " 0.5895522388059702,\n",
       " 0.5932835820895522,\n",
       " 0.5895522388059702,\n",
       " 0.5932835820895522,\n",
       " 0.5932835820895522,\n",
       " 0.5970149253731343,\n",
       " 0.5932835820895522,\n",
       " 0.5970149253731343,\n",
       " 0.6007462686567164,\n",
       " 0.6044776119402985,\n",
       " 0.6194029850746269,\n",
       " 0.6231343283582089,\n",
       " 0.6268656716417911,\n",
       " 0.6268656716417911,\n",
       " 0.6268656716417911,\n",
       " 0.6305970149253731,\n",
       " 0.6567164179104478,\n",
       " 0.6604477611940298,\n",
       " 0.6567164179104478,\n",
       " 0.6604477611940298,\n",
       " 0.6716417910447762,\n",
       " 0.6716417910447762,\n",
       " 0.6940298507462687,\n",
       " 0.6977611940298507,\n",
       " 0.7014925373134329,\n",
       " 0.7052238805970149,\n",
       " 0.7014925373134329,\n",
       " 0.7052238805970149,\n",
       " 0.7089552238805971,\n",
       " 0.7089552238805971,\n",
       " 0.7201492537313433,\n",
       " 0.7238805970149254,\n",
       " 0.7425373134328358,\n",
       " 0.746268656716418,\n",
       " 0.746268656716418,\n",
       " 0.7425373134328358,\n",
       " 0.7388059701492538,\n",
       " 0.7425373134328358,\n",
       " 0.75,\n",
       " 0.753731343283582,\n",
       " 0.753731343283582,\n",
       " 0.753731343283582,\n",
       " 0.75,\n",
       " 0.75,\n",
       " 0.746268656716418,\n",
       " 0.7425373134328358,\n",
       " 0.7388059701492538,\n",
       " 0.7313432835820896,\n",
       " 0.7126865671641791,\n",
       " 0.7126865671641791,\n",
       " 0.7164179104477612,\n",
       " 0.7126865671641791,\n",
       " 0.7089552238805971,\n",
       " 0.7089552238805971,\n",
       " 0.6940298507462687,\n",
       " 0.6902985074626866,\n",
       " 0.6902985074626866,\n",
       " 0.6865671641791045,\n",
       " 0.6753731343283582,\n",
       " 0.6753731343283582,\n",
       " 0.667910447761194,\n",
       " 0.664179104477612,\n",
       " 0.667910447761194,\n",
       " 0.664179104477612,\n",
       " 0.667910447761194,\n",
       " 0.664179104477612,\n",
       " 0.6529850746268657,\n",
       " 0.6492537313432836,\n",
       " 0.6268656716417911,\n",
       " 0.6231343283582089,\n",
       " 0.6082089552238806,\n",
       " 0.6044776119402985,\n",
       " 0.6007462686567164,\n",
       " 0.5970149253731343,\n",
       " 0.5970149253731343,\n",
       " 0.5970149253731343,\n",
       " 0.5932835820895522,\n",
       " 0.5932835820895522,\n",
       " 0.5970149253731343,\n",
       " 0.5932835820895522,\n",
       " 0.5895522388059702,\n",
       " 0.585820895522388,\n",
       " 0.582089552238806,\n",
       " 0.5783582089552238,\n",
       " 0.5597014925373134,\n",
       " 0.5559701492537313,\n",
       " 0.5410447761194029,\n",
       " 0.5410447761194029,\n",
       " 0.5223880597014925,\n",
       " 0.5186567164179104,\n",
       " 0.5223880597014925,\n",
       " 0.5186567164179104,\n",
       " 0.5111940298507462,\n",
       " 0.48880597014925375,\n",
       " 0.48507462686567165,\n",
       " 0.47761194029850745,\n",
       " 0.47388059701492535]"
      ]
     },
     "execution_count": 54,
     "metadata": {},
     "output_type": "execute_result"
    }
   ],
   "source": [
    "accuracy"
   ]
  },
  {
   "cell_type": "code",
   "execution_count": 55,
   "id": "b7284276-278b-45ab-9c1b-a8bde4928a8d",
   "metadata": {},
   "outputs": [],
   "source": [
    "thres_sele= pd.DataFrame({\n",
    "    'Threshold' : threshold,\n",
    "    'Accuracy' : accuracy\n",
    "})"
   ]
  },
  {
   "cell_type": "code",
   "execution_count": 56,
   "id": "e37dfdd0-2323-45ad-807a-5967fceda9cd",
   "metadata": {},
   "outputs": [
    {
     "data": {
      "text/html": [
       "<div>\n",
       "<style scoped>\n",
       "    .dataframe tbody tr th:only-of-type {\n",
       "        vertical-align: middle;\n",
       "    }\n",
       "\n",
       "    .dataframe tbody tr th {\n",
       "        vertical-align: top;\n",
       "    }\n",
       "\n",
       "    .dataframe thead th {\n",
       "        text-align: right;\n",
       "    }\n",
       "</style>\n",
       "<table border=\"1\" class=\"dataframe\">\n",
       "  <thead>\n",
       "    <tr style=\"text-align: right;\">\n",
       "      <th></th>\n",
       "      <th>Threshold</th>\n",
       "      <th>Accuracy</th>\n",
       "    </tr>\n",
       "  </thead>\n",
       "  <tbody>\n",
       "    <tr>\n",
       "      <th>0</th>\n",
       "      <td>inf</td>\n",
       "      <td>0.522388</td>\n",
       "    </tr>\n",
       "    <tr>\n",
       "      <th>1</th>\n",
       "      <td>1.000000</td>\n",
       "      <td>0.522388</td>\n",
       "    </tr>\n",
       "    <tr>\n",
       "      <th>2</th>\n",
       "      <td>1.000000</td>\n",
       "      <td>0.533582</td>\n",
       "    </tr>\n",
       "    <tr>\n",
       "      <th>3</th>\n",
       "      <td>0.995590</td>\n",
       "      <td>0.552239</td>\n",
       "    </tr>\n",
       "    <tr>\n",
       "      <th>4</th>\n",
       "      <td>0.984356</td>\n",
       "      <td>0.555970</td>\n",
       "    </tr>\n",
       "    <tr>\n",
       "      <th>...</th>\n",
       "      <td>...</td>\n",
       "      <td>...</td>\n",
       "    </tr>\n",
       "    <tr>\n",
       "      <th>105</th>\n",
       "      <td>0.266330</td>\n",
       "      <td>0.511194</td>\n",
       "    </tr>\n",
       "    <tr>\n",
       "      <th>106</th>\n",
       "      <td>0.240199</td>\n",
       "      <td>0.488806</td>\n",
       "    </tr>\n",
       "    <tr>\n",
       "      <th>107</th>\n",
       "      <td>0.239893</td>\n",
       "      <td>0.485075</td>\n",
       "    </tr>\n",
       "    <tr>\n",
       "      <th>108</th>\n",
       "      <td>0.207195</td>\n",
       "      <td>0.477612</td>\n",
       "    </tr>\n",
       "    <tr>\n",
       "      <th>109</th>\n",
       "      <td>0.206317</td>\n",
       "      <td>0.473881</td>\n",
       "    </tr>\n",
       "  </tbody>\n",
       "</table>\n",
       "<p>110 rows × 2 columns</p>\n",
       "</div>"
      ],
      "text/plain": [
       "     Threshold  Accuracy\n",
       "0          inf  0.522388\n",
       "1     1.000000  0.522388\n",
       "2     1.000000  0.533582\n",
       "3     0.995590  0.552239\n",
       "4     0.984356  0.555970\n",
       "..         ...       ...\n",
       "105   0.266330  0.511194\n",
       "106   0.240199  0.488806\n",
       "107   0.239893  0.485075\n",
       "108   0.207195  0.477612\n",
       "109   0.206317  0.473881\n",
       "\n",
       "[110 rows x 2 columns]"
      ]
     },
     "execution_count": 56,
     "metadata": {},
     "output_type": "execute_result"
    }
   ],
   "source": [
    "thres_sele"
   ]
  },
  {
   "cell_type": "code",
   "execution_count": 57,
   "id": "8ee2a7c7-0e67-4597-ba5b-9e87780d9063",
   "metadata": {},
   "outputs": [
    {
     "data": {
      "text/html": [
       "<div>\n",
       "<style scoped>\n",
       "    .dataframe tbody tr th:only-of-type {\n",
       "        vertical-align: middle;\n",
       "    }\n",
       "\n",
       "    .dataframe tbody tr th {\n",
       "        vertical-align: top;\n",
       "    }\n",
       "\n",
       "    .dataframe thead th {\n",
       "        text-align: right;\n",
       "    }\n",
       "</style>\n",
       "<table border=\"1\" class=\"dataframe\">\n",
       "  <thead>\n",
       "    <tr style=\"text-align: right;\">\n",
       "      <th></th>\n",
       "      <th>Threshold</th>\n",
       "      <th>Accuracy</th>\n",
       "    </tr>\n",
       "  </thead>\n",
       "  <tbody>\n",
       "    <tr>\n",
       "      <th>54</th>\n",
       "      <td>0.435684</td>\n",
       "      <td>0.753731</td>\n",
       "    </tr>\n",
       "    <tr>\n",
       "      <th>53</th>\n",
       "      <td>0.436399</td>\n",
       "      <td>0.753731</td>\n",
       "    </tr>\n",
       "    <tr>\n",
       "      <th>52</th>\n",
       "      <td>0.441490</td>\n",
       "      <td>0.753731</td>\n",
       "    </tr>\n",
       "    <tr>\n",
       "      <th>55</th>\n",
       "      <td>0.435622</td>\n",
       "      <td>0.750000</td>\n",
       "    </tr>\n",
       "    <tr>\n",
       "      <th>56</th>\n",
       "      <td>0.426731</td>\n",
       "      <td>0.750000</td>\n",
       "    </tr>\n",
       "    <tr>\n",
       "      <th>...</th>\n",
       "      <td>...</td>\n",
       "      <td>...</td>\n",
       "    </tr>\n",
       "    <tr>\n",
       "      <th>105</th>\n",
       "      <td>0.266330</td>\n",
       "      <td>0.511194</td>\n",
       "    </tr>\n",
       "    <tr>\n",
       "      <th>106</th>\n",
       "      <td>0.240199</td>\n",
       "      <td>0.488806</td>\n",
       "    </tr>\n",
       "    <tr>\n",
       "      <th>107</th>\n",
       "      <td>0.239893</td>\n",
       "      <td>0.485075</td>\n",
       "    </tr>\n",
       "    <tr>\n",
       "      <th>108</th>\n",
       "      <td>0.207195</td>\n",
       "      <td>0.477612</td>\n",
       "    </tr>\n",
       "    <tr>\n",
       "      <th>109</th>\n",
       "      <td>0.206317</td>\n",
       "      <td>0.473881</td>\n",
       "    </tr>\n",
       "  </tbody>\n",
       "</table>\n",
       "<p>110 rows × 2 columns</p>\n",
       "</div>"
      ],
      "text/plain": [
       "     Threshold  Accuracy\n",
       "54    0.435684  0.753731\n",
       "53    0.436399  0.753731\n",
       "52    0.441490  0.753731\n",
       "55    0.435622  0.750000\n",
       "56    0.426731  0.750000\n",
       "..         ...       ...\n",
       "105   0.266330  0.511194\n",
       "106   0.240199  0.488806\n",
       "107   0.239893  0.485075\n",
       "108   0.207195  0.477612\n",
       "109   0.206317  0.473881\n",
       "\n",
       "[110 rows x 2 columns]"
      ]
     },
     "execution_count": 57,
     "metadata": {},
     "output_type": "execute_result"
    }
   ],
   "source": [
    "thres_sele.sort_values(by=\"Accuracy\", ascending=False)"
   ]
  },
  {
   "cell_type": "code",
   "execution_count": 58,
   "id": "e7392984-a7f7-4074-8545-b4a7909ffc3f",
   "metadata": {},
   "outputs": [],
   "source": [
    "# Accuracy of the model at 0.435684 is 0.753731"
   ]
  },
  {
   "cell_type": "code",
   "execution_count": 59,
   "id": "fab95061-3dd6-442d-8e82-db936a60f9f2",
   "metadata": {},
   "outputs": [],
   "source": [
    "from sklearn.preprocessing import binarize"
   ]
  },
  {
   "cell_type": "code",
   "execution_count": 60,
   "id": "0f0ed328-86e4-4ac7-a847-8edebaa97153",
   "metadata": {},
   "outputs": [
    {
     "data": {
      "text/plain": [
       "array([1., 1., 0., 0., 1., 1., 0., 1., 1., 1., 0., 0., 0., 1., 0., 1., 0.,\n",
       "       0., 0., 1., 1., 1., 1., 1., 1., 0., 0., 0., 0., 0., 1., 0., 0., 0.,\n",
       "       0., 0., 0., 1., 0., 1., 0., 0., 1., 0., 0., 1., 0., 1., 1., 0., 1.,\n",
       "       0., 0., 0., 0., 1., 0., 0., 0., 0., 1., 1., 0., 1., 1., 0., 0., 1.,\n",
       "       0., 0., 0., 1., 0., 0., 0., 1., 1., 0., 0., 0., 1., 0., 1., 0., 0.,\n",
       "       1., 1., 1., 0., 0., 1., 0., 0., 1., 0., 0., 0., 1., 0., 1., 0., 0.,\n",
       "       1., 0., 0., 1., 1., 1., 1., 0., 1., 0., 0., 0., 1., 0., 1., 1., 1.,\n",
       "       1., 1., 0., 1., 0., 0., 0., 1., 0., 1., 1., 1., 0., 1., 0., 1., 1.,\n",
       "       1., 0., 1., 0., 1., 0., 1., 0., 0., 1., 1., 1., 1., 1., 1., 0., 1.,\n",
       "       0., 0., 1., 0., 1., 1., 1., 0., 0., 0., 1., 0., 0., 1., 1., 1., 1.,\n",
       "       0., 1., 1., 0., 1., 0., 0., 0., 0., 1., 0., 1., 0., 1., 0., 1., 0.,\n",
       "       0., 1., 1., 0., 0., 0., 0., 0., 1., 1., 1., 0., 0., 0., 1., 1., 0.,\n",
       "       0., 1., 0., 0., 0., 1., 1., 1., 1., 0., 1., 0., 0., 0., 0., 0., 0.,\n",
       "       1., 0., 0., 1., 0., 0., 0., 0., 1., 0., 0., 1., 1., 1., 1., 1., 1.,\n",
       "       1., 0., 1., 1., 0., 0., 1., 0., 0., 0., 0., 1., 0., 1., 1., 0., 1.,\n",
       "       0., 1., 0., 1., 1., 0., 1., 1., 0., 1., 1., 1., 0.])"
      ]
     },
     "execution_count": 60,
     "metadata": {},
     "output_type": "execute_result"
    }
   ],
   "source": [
    "newthres = binarize([proba], threshold=0.442068)[0]\n",
    "# [proba] we have to like this because binarize only calculate 2d array\n",
    "# [0] selecting the [0] array because ytest is 1d array \n",
    "newthres"
   ]
  },
  {
   "cell_type": "code",
   "execution_count": 61,
   "id": "82e7972c-9ca1-429f-8aea-c077a49ce615",
   "metadata": {},
   "outputs": [
    {
     "name": "stdout",
     "output_type": "stream",
     "text": [
      "              precision    recall  f1-score   support\n",
      "\n",
      "           0       0.76      0.77      0.77       140\n",
      "           1       0.75      0.73      0.74       128\n",
      "\n",
      "    accuracy                           0.75       268\n",
      "   macro avg       0.75      0.75      0.75       268\n",
      "weighted avg       0.75      0.75      0.75       268\n",
      "\n"
     ]
    }
   ],
   "source": [
    "print(classification_report(ytest,newthres))\n",
    "#here the recall value is increased from 0.66 to 0.73"
   ]
  },
  {
   "cell_type": "code",
   "execution_count": null,
   "id": "89236673-515e-4d20-b638-bf73ddaa04c7",
   "metadata": {},
   "outputs": [],
   "source": []
  }
 ],
 "metadata": {
  "kernelspec": {
   "display_name": "Python 3 (ipykernel)",
   "language": "python",
   "name": "python3"
  },
  "language_info": {
   "codemirror_mode": {
    "name": "ipython",
    "version": 3
   },
   "file_extension": ".py",
   "mimetype": "text/x-python",
   "name": "python",
   "nbconvert_exporter": "python",
   "pygments_lexer": "ipython3",
   "version": "3.11.5"
  }
 },
 "nbformat": 4,
 "nbformat_minor": 5
}
