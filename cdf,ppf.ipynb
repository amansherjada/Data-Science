{
 "cells": [
  {
   "cell_type": "code",
   "execution_count": 1,
   "id": "62a7a1c7-51fc-4970-bd2a-e17bf84cd304",
   "metadata": {},
   "outputs": [],
   "source": [
    "from scipy import stats"
   ]
  },
  {
   "cell_type": "markdown",
   "id": "279a760e-0176-4bc7-bbbc-2a36b4607c3b",
   "metadata": {},
   "source": [
    "#### CDF"
   ]
  },
  {
   "cell_type": "code",
   "execution_count": 11,
   "id": "9295955a-de70-4636-82b5-4d7f9031cfc7",
   "metadata": {},
   "outputs": [
    {
     "data": {
      "text/plain": [
       "0.9087887802741321"
      ]
     },
     "execution_count": 11,
     "metadata": {},
     "output_type": "execute_result"
    }
   ],
   "source": [
    "# Left hand probability\n",
    "stats.norm.cdf(72,68,3)"
   ]
  },
  {
   "cell_type": "code",
   "execution_count": 12,
   "id": "f176412d-1c41-4b7b-8482-28f326a24973",
   "metadata": {},
   "outputs": [
    {
     "data": {
      "text/plain": [
       "0.09121121972586788"
      ]
     },
     "execution_count": 12,
     "metadata": {},
     "output_type": "execute_result"
    }
   ],
   "source": [
    "# Right hand \n",
    "1 - stats.norm.cdf(72,68,3)"
   ]
  },
  {
   "cell_type": "code",
   "execution_count": 13,
   "id": "18956f45-b091-4e86-8a1e-517e73eeddc7",
   "metadata": {},
   "outputs": [
    {
     "data": {
      "text/plain": [
       "0.14254260383881612"
      ]
     },
     "execution_count": 13,
     "metadata": {},
     "output_type": "execute_result"
    }
   ],
   "source": [
    "stats.norm.cdf(680,711,29)"
   ]
  },
  {
   "cell_type": "code",
   "execution_count": 21,
   "id": "38db1c53-7b9d-4c8f-863f-0ca363e8c2cb",
   "metadata": {},
   "outputs": [
    {
     "data": {
      "text/plain": [
       "0.8574573961611839"
      ]
     },
     "execution_count": 21,
     "metadata": {},
     "output_type": "execute_result"
    }
   ],
   "source": [
    "1 - stats.norm.cdf(680,711,29)"
   ]
  },
  {
   "cell_type": "code",
   "execution_count": 23,
   "id": "f0872428-792b-4288-ad1b-f5c6a18b2ee3",
   "metadata": {},
   "outputs": [
    {
     "data": {
      "text/plain": [
       "0.8413447460685429"
      ]
     },
     "execution_count": 23,
     "metadata": {},
     "output_type": "execute_result"
    }
   ],
   "source": [
    "# Higher Value left hand probability\n",
    "stats.norm.cdf(740,711,29)\n"
   ]
  },
  {
   "cell_type": "code",
   "execution_count": 24,
   "id": "ec93b954-8728-4f2b-80f3-c342ff3e4615",
   "metadata": {},
   "outputs": [
    {
     "data": {
      "text/plain": [
       "0.31463356742704107"
      ]
     },
     "execution_count": 24,
     "metadata": {},
     "output_type": "execute_result"
    }
   ],
   "source": [
    "#Lower Value left hand probability\n",
    "stats.norm.cdf(697,711,29)"
   ]
  },
  {
   "cell_type": "code",
   "execution_count": 29,
   "id": "9d0764ab-9ade-475e-a182-a62932d01832",
   "metadata": {},
   "outputs": [
    {
     "data": {
      "text/plain": [
       "0.5267111786415019"
      ]
     },
     "execution_count": 29,
     "metadata": {},
     "output_type": "execute_result"
    }
   ],
   "source": [
    "# Higher Value left hand probability - Lower Value left hand probability\n",
    "stats.norm.cdf(740,711,29) - stats.norm.cdf(697,711,29)"
   ]
  },
  {
   "cell_type": "markdown",
   "id": "444d3756-7399-4b13-980b-300083ba0ac4",
   "metadata": {},
   "source": [
    "#### Point Percentage Function"
   ]
  },
  {
   "cell_type": "code",
   "execution_count": 31,
   "id": "b54402cd-f94b-4abe-9e9c-553cc1ad0931",
   "metadata": {},
   "outputs": [
    {
     "data": {
      "text/plain": [
       "725.9108347373448"
      ]
     },
     "execution_count": 31,
     "metadata": {},
     "output_type": "execute_result"
    }
   ],
   "source": [
    "# mean = 700, std = 25, Probability = 0.85\n",
    "stats.norm.ppf(0.85,700,25)\n",
    "#We will find out the (x) value on x axis"
   ]
  },
  {
   "cell_type": "code",
   "execution_count": null,
   "id": "e2867395-a88e-492d-97fb-b03370be1f8d",
   "metadata": {},
   "outputs": [],
   "source": [
    "# Questions\n",
    "#"
   ]
  },
  {
   "cell_type": "markdown",
   "id": "4f35e306-5ce8-4f0b-9ea4-3501bd9587c8",
   "metadata": {},
   "source": [
    "#### Questions\n",
    "![SNOWFALL](questionssws.jpg) \r\n"
   ]
  },
  {
   "cell_type": "code",
   "execution_count": 33,
   "id": "4a49c231-9dca-406b-8515-530fb039edad",
   "metadata": {},
   "outputs": [
    {
     "name": "stdout",
     "output_type": "stream",
     "text": [
      "Probability that the weight is less than 50:  0.0227501319481792\n"
     ]
    }
   ],
   "source": [
    "# mean = 70 std = 10\n",
    "#Weight is less than 50\n",
    "print(\"Probability that the weight is less than 50: \",stats.norm.cdf(50,70,10))"
   ]
  },
  {
   "cell_type": "code",
   "execution_count": 47,
   "id": "663b0ce3-9e5f-440b-98ca-5c6d945c12e7",
   "metadata": {},
   "outputs": [
    {
     "name": "stdout",
     "output_type": "stream",
     "text": [
      "Probability that the weight is in range 50 to 90: 0.9544997361036416\n"
     ]
    }
   ],
   "source": [
    "# Higher prob - Lower Prob\n",
    "print(\"Probability that the weight is in range 50 to 90:\", stats.norm.cdf(90,70,10) - stats.norm.cdf(50,70,10))"
   ]
  },
  {
   "cell_type": "code",
   "execution_count": 50,
   "id": "eccbb0fb-d661-4458-b208-3069a8277cf0",
   "metadata": {},
   "outputs": [
    {
     "name": "stdout",
     "output_type": "stream",
     "text": [
      "Probability that the weight is greater than 100:  0.0013498980316301035\n"
     ]
    }
   ],
   "source": [
    "# Greater than is Right hand side \n",
    "print(\"Probability that the weight is greater than 100: \", 1 - stats.norm.cdf(100, 70, 10))"
   ]
  },
  {
   "cell_type": "code",
   "execution_count": 49,
   "id": "7faabc6f-8297-4eab-a7da-8b699a220121",
   "metadata": {},
   "outputs": [
    {
     "name": "stdout",
     "output_type": "stream",
     "text": [
      "Probability that the weight is in range 55 to 70: 0.4331927987311419\n"
     ]
    }
   ],
   "source": [
    "print(\"Probability that the weight is in between 55 to 70:\", stats.norm.cdf(70,70,10) - stats.norm.cdf(55,70,10))"
   ]
  },
  {
   "cell_type": "code",
   "execution_count": 51,
   "id": "c6f8d0b6-6f25-477c-be34-bd01ba7acd43",
   "metadata": {},
   "outputs": [],
   "source": [
    "# What is the probability that the weight is equal to 75 pounds?\n",
    "# Probability to any single Random value is Zero\n",
    "# norm.pdf(x, loc=mean, scale=std_dev)"
   ]
  },
  {
   "cell_type": "code",
   "execution_count": null,
   "id": "f8d752b8-ab14-455a-849a-3d1e6d5f0742",
   "metadata": {},
   "outputs": [],
   "source": []
  }
 ],
 "metadata": {
  "kernelspec": {
   "display_name": "Python 3 (ipykernel)",
   "language": "python",
   "name": "python3"
  },
  "language_info": {
   "codemirror_mode": {
    "name": "ipython",
    "version": 3
   },
   "file_extension": ".py",
   "mimetype": "text/x-python",
   "name": "python",
   "nbconvert_exporter": "python",
   "pygments_lexer": "ipython3",
   "version": "3.11.5"
  }
 },
 "nbformat": 4,
 "nbformat_minor": 5
}
