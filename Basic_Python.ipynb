{
 "cells": [
  {
   "cell_type": "markdown",
   "id": "9b677af1-4cbb-4582-91f0-6df45a728631",
   "metadata": {
    "jp-MarkdownHeadingCollapsed": true
   },
   "source": [
    "### Variable"
   ]
  },
  {
   "cell_type": "code",
   "execution_count": 1,
   "id": "f2b2ab64-e80b-4529-9d9a-5e6389b99003",
   "metadata": {},
   "outputs": [
    {
     "data": {
      "text/plain": [
       "10"
      ]
     },
     "execution_count": 1,
     "metadata": {},
     "output_type": "execute_result"
    }
   ],
   "source": [
    "10"
   ]
  },
  {
   "cell_type": "code",
   "execution_count": 2,
   "id": "32e5c231-9410-47b7-9dae-93cef614cab2",
   "metadata": {},
   "outputs": [],
   "source": [
    "a = 10"
   ]
  },
  {
   "cell_type": "code",
   "execution_count": 3,
   "id": "f9bb86e3-7dcb-497a-9bf5-273fd28efa1d",
   "metadata": {},
   "outputs": [
    {
     "data": {
      "text/plain": [
       "140709740143688"
      ]
     },
     "execution_count": 3,
     "metadata": {},
     "output_type": "execute_result"
    }
   ],
   "source": [
    "# Memory Location of a\n",
    "id(a)"
   ]
  },
  {
   "cell_type": "code",
   "execution_count": 4,
   "id": "d9902658-f55d-40f3-9fe4-bfbe24540075",
   "metadata": {},
   "outputs": [
    {
     "data": {
      "text/plain": [
       "'python'"
      ]
     },
     "execution_count": 4,
     "metadata": {},
     "output_type": "execute_result"
    }
   ],
   "source": [
    "name2 = \"python\"\n",
    "name2"
   ]
  },
  {
   "cell_type": "code",
   "execution_count": 5,
   "id": "7b330438-4244-4750-ac46-af1918587afd",
   "metadata": {},
   "outputs": [],
   "source": [
    "#SyntaxError\n",
    "#@name = 20"
   ]
  },
  {
   "cell_type": "code",
   "execution_count": 6,
   "id": "5db200d0-5f46-4153-be97-5fbadd6f6818",
   "metadata": {},
   "outputs": [],
   "source": [
    "# Single Line Comments"
   ]
  },
  {
   "cell_type": "code",
   "execution_count": 7,
   "id": "2b9c26ff-3709-4a40-bbd7-f1439e326e61",
   "metadata": {},
   "outputs": [
    {
     "data": {
      "text/plain": [
       "'MultiLine \\ncomment'"
      ]
     },
     "execution_count": 7,
     "metadata": {},
     "output_type": "execute_result"
    }
   ],
   "source": [
    "'''MultiLine \n",
    "comment'''"
   ]
  },
  {
   "cell_type": "markdown",
   "id": "18646f27-fc8e-4324-955b-6dbfbd7aaf0b",
   "metadata": {
    "jp-MarkdownHeadingCollapsed": true
   },
   "source": [
    "### Data Types in Python"
   ]
  },
  {
   "cell_type": "code",
   "execution_count": 8,
   "id": "895cd677-1d56-4f66-8607-20f4b83caf03",
   "metadata": {},
   "outputs": [
    {
     "data": {
      "text/plain": [
       "400002"
      ]
     },
     "execution_count": 8,
     "metadata": {},
     "output_type": "execute_result"
    }
   ],
   "source": [
    "pin_code= 400002\n",
    "pin_code"
   ]
  },
  {
   "cell_type": "code",
   "execution_count": 9,
   "id": "f5034f0d-c61f-4fab-b35f-eb626a1ce6a4",
   "metadata": {},
   "outputs": [
    {
     "data": {
      "text/plain": [
       "int"
      ]
     },
     "execution_count": 9,
     "metadata": {},
     "output_type": "execute_result"
    }
   ],
   "source": [
    "#Checking the Datatype of pin_code\n",
    "type(pin_code)"
   ]
  },
  {
   "cell_type": "code",
   "execution_count": 10,
   "id": "f95c3315-f8a3-452d-9e0b-cb883d07027c",
   "metadata": {},
   "outputs": [
    {
     "data": {
      "text/plain": [
       "25.2"
      ]
     },
     "execution_count": 10,
     "metadata": {},
     "output_type": "execute_result"
    }
   ],
   "source": [
    "temp= 25.2\n",
    "temp"
   ]
  },
  {
   "cell_type": "code",
   "execution_count": 11,
   "id": "d7d0e79d-7983-406e-8450-4a6fb172f6e3",
   "metadata": {},
   "outputs": [
    {
     "data": {
      "text/plain": [
       "float"
      ]
     },
     "execution_count": 11,
     "metadata": {},
     "output_type": "execute_result"
    }
   ],
   "source": [
    "#Checking the Datatype of temp\n",
    "type(temp)"
   ]
  },
  {
   "cell_type": "code",
   "execution_count": 12,
   "id": "13c9601a-39e8-4ecb-871f-ed9b1804bb61",
   "metadata": {},
   "outputs": [
    {
     "data": {
      "text/plain": [
       "bool"
      ]
     },
     "execution_count": 12,
     "metadata": {},
     "output_type": "execute_result"
    }
   ],
   "source": [
    "#Checking the Datatype of logical\n",
    "logical = True\n",
    "type(logical)"
   ]
  },
  {
   "cell_type": "code",
   "execution_count": 13,
   "id": "d2dac6a9-b12b-4ab6-9064-ab9552dfab2c",
   "metadata": {},
   "outputs": [],
   "source": [
    "# String Creation"
   ]
  },
  {
   "cell_type": "code",
   "execution_count": 14,
   "id": "f71bcfe0-91f5-4476-8174-c90ee31849b4",
   "metadata": {},
   "outputs": [
    {
     "name": "stdout",
     "output_type": "stream",
     "text": [
      "We are learning python\n",
      "We are learning python\n",
      "We are learning python\n"
     ]
    }
   ],
   "source": [
    "s= \"We are learning python\"\n",
    "s1= 'We are learning python' \n",
    "s2= \"\"\"We are learning python\"\"\" # Always recommended for Multi-line comment\n",
    "print(s)\n",
    "print(s1)\n",
    "print(s2)"
   ]
  },
  {
   "cell_type": "code",
   "execution_count": 15,
   "id": "1ac99d26-ae2c-49d3-b2d7-d98c3680ea96",
   "metadata": {},
   "outputs": [
    {
     "data": {
      "text/plain": [
       "True"
      ]
     },
     "execution_count": 15,
     "metadata": {},
     "output_type": "execute_result"
    }
   ],
   "source": [
    "#Using Equality Operator chack s and s1 are equal or not\n",
    "s==s1"
   ]
  },
  {
   "cell_type": "code",
   "execution_count": 16,
   "id": "f2ccd2e3-33c6-448d-b072-c470db695be8",
   "metadata": {},
   "outputs": [
    {
     "data": {
      "text/plain": [
       "True"
      ]
     },
     "execution_count": 16,
     "metadata": {},
     "output_type": "execute_result"
    }
   ],
   "source": [
    "#Using Equality Operator chack s and s2 are equal or not\n",
    "s==s2"
   ]
  },
  {
   "cell_type": "code",
   "execution_count": 17,
   "id": "607677dc-c906-43eb-af4e-f9a530963cd8",
   "metadata": {},
   "outputs": [
    {
     "data": {
      "text/plain": [
       "\"It's a Laptop\""
      ]
     },
     "execution_count": 17,
     "metadata": {},
     "output_type": "execute_result"
    }
   ],
   "source": [
    "laptop= \"It's a Laptop\"\n",
    "laptop"
   ]
  },
  {
   "cell_type": "markdown",
   "id": "2d9b9061-c841-4610-9f0b-50f82e4f81f5",
   "metadata": {},
   "source": [
    "#### Markdown Shortcut\n",
    "ESC + 1 = Title/Heading\n",
    "ESC + Y = Code\n",
    "ESC + M = Markdown"
   ]
  },
  {
   "cell_type": "markdown",
   "id": "6a3939da-ec75-40f6-843d-847c5b25b322",
   "metadata": {
    "jp-MarkdownHeadingCollapsed": true
   },
   "source": [
    "### Typecasting\n",
    "- Typecasting is used to change the data types."
   ]
  },
  {
   "cell_type": "code",
   "execution_count": 18,
   "id": "945a990b-7de7-43bf-be78-f055f3e493de",
   "metadata": {},
   "outputs": [
    {
     "data": {
      "text/plain": [
       "int"
      ]
     },
     "execution_count": 18,
     "metadata": {},
     "output_type": "execute_result"
    }
   ],
   "source": [
    "age = 400\n",
    "type(age)"
   ]
  },
  {
   "cell_type": "code",
   "execution_count": 19,
   "id": "539aff60-380a-405a-9905-a5a1ac108b64",
   "metadata": {},
   "outputs": [
    {
     "data": {
      "text/plain": [
       "str"
      ]
     },
     "execution_count": 19,
     "metadata": {},
     "output_type": "execute_result"
    }
   ],
   "source": [
    "x = str(age)\n",
    "type(x)"
   ]
  },
  {
   "cell_type": "code",
   "execution_count": 20,
   "id": "72197469-d88a-4189-babc-be0a87ca6cac",
   "metadata": {},
   "outputs": [
    {
     "data": {
      "text/plain": [
       "400"
      ]
     },
     "execution_count": 20,
     "metadata": {},
     "output_type": "execute_result"
    }
   ],
   "source": [
    "int(x)"
   ]
  },
  {
   "cell_type": "code",
   "execution_count": 21,
   "id": "cef0e3da-c42f-4cd2-a3a9-2f4a6b7d6622",
   "metadata": {},
   "outputs": [
    {
     "data": {
      "text/plain": [
       "400.0"
      ]
     },
     "execution_count": 21,
     "metadata": {},
     "output_type": "execute_result"
    }
   ],
   "source": [
    "float(age)"
   ]
  },
  {
   "cell_type": "code",
   "execution_count": 22,
   "id": "47964ebd-fa67-46f5-959a-267320d47a27",
   "metadata": {},
   "outputs": [
    {
     "data": {
      "text/plain": [
       "True"
      ]
     },
     "execution_count": 22,
     "metadata": {},
     "output_type": "execute_result"
    }
   ],
   "source": [
    "bool(-5)"
   ]
  },
  {
   "cell_type": "code",
   "execution_count": 23,
   "id": "a1cf6d2d-094a-49ae-9805-bc1145f84cfe",
   "metadata": {},
   "outputs": [
    {
     "data": {
      "text/plain": [
       "False"
      ]
     },
     "execution_count": 23,
     "metadata": {},
     "output_type": "execute_result"
    }
   ],
   "source": [
    "bool(0)"
   ]
  },
  {
   "cell_type": "code",
   "execution_count": 24,
   "id": "c733a8dd-59af-4880-aa2a-cbad8f54c8dd",
   "metadata": {},
   "outputs": [
    {
     "data": {
      "text/plain": [
       "True"
      ]
     },
     "execution_count": 24,
     "metadata": {},
     "output_type": "execute_result"
    }
   ],
   "source": [
    "bool(1)"
   ]
  },
  {
   "cell_type": "code",
   "execution_count": 25,
   "id": "72a6ff7b-a8e4-45ee-a66d-6c6a78659671",
   "metadata": {},
   "outputs": [
    {
     "data": {
      "text/plain": [
       "False"
      ]
     },
     "execution_count": 25,
     "metadata": {},
     "output_type": "execute_result"
    }
   ],
   "source": [
    "zero = 0\n",
    "bool(zero)"
   ]
  },
  {
   "cell_type": "code",
   "execution_count": 26,
   "id": "0222e321-b595-407f-bc9b-7ce4e3dd0fd4",
   "metadata": {},
   "outputs": [
    {
     "data": {
      "text/plain": [
       "True"
      ]
     },
     "execution_count": 26,
     "metadata": {},
     "output_type": "execute_result"
    }
   ],
   "source": [
    "bool(age)"
   ]
  },
  {
   "cell_type": "code",
   "execution_count": 27,
   "id": "6c853eaf-ba2c-4ace-aecb-037dc38a5920",
   "metadata": {},
   "outputs": [],
   "source": [
    "# We can convert any type of value to bool type and the output for all value will be true\n",
    "# Except for 0, which is false"
   ]
  },
  {
   "cell_type": "markdown",
   "id": "792db4e4-2449-495a-9177-d3d35744ea54",
   "metadata": {
    "jp-MarkdownHeadingCollapsed": true
   },
   "source": [
    "### String Method\n",
    "- To get list of all function syntax is variable (variable. +tab)\n",
    "- To open documentation, go inside function parenthesis and press (shift + tab)"
   ]
  },
  {
   "cell_type": "code",
   "execution_count": 28,
   "id": "9e49cdb6-6b1e-4bb7-83ce-d08e6dc647dc",
   "metadata": {},
   "outputs": [
    {
     "data": {
      "text/plain": [
       "'We are learning python'"
      ]
     },
     "execution_count": 28,
     "metadata": {},
     "output_type": "execute_result"
    }
   ],
   "source": [
    "s"
   ]
  },
  {
   "cell_type": "code",
   "execution_count": 29,
   "id": "3cf034cf-ecc8-4547-9c40-f61d2e94b299",
   "metadata": {},
   "outputs": [
    {
     "data": {
      "text/plain": [
       "'We are learning python'"
      ]
     },
     "execution_count": 29,
     "metadata": {},
     "output_type": "execute_result"
    }
   ],
   "source": [
    "s.capitalize()"
   ]
  },
  {
   "cell_type": "code",
   "execution_count": 30,
   "id": "713c9211-7707-4d03-b90a-37694246eebe",
   "metadata": {},
   "outputs": [
    {
     "data": {
      "text/plain": [
       "'we are learning python'"
      ]
     },
     "execution_count": 30,
     "metadata": {},
     "output_type": "execute_result"
    }
   ],
   "source": [
    "s.casefold()"
   ]
  },
  {
   "cell_type": "code",
   "execution_count": 31,
   "id": "61c475b1-650f-48aa-a727-46be058b8624",
   "metadata": {},
   "outputs": [],
   "source": [
    "# Capitalize function"
   ]
  },
  {
   "cell_type": "code",
   "execution_count": 32,
   "id": "96b24fdc-8346-4385-b0ab-c895ada28ba9",
   "metadata": {},
   "outputs": [
    {
     "data": {
      "text/plain": [
       "'Aman khan is the best'"
      ]
     },
     "execution_count": 32,
     "metadata": {},
     "output_type": "execute_result"
    }
   ],
   "source": [
    "names= \"aman khan is the best\"\n",
    "# press shift + tab in parentheses for documentation\n",
    "names.capitalize()"
   ]
  },
  {
   "cell_type": "code",
   "execution_count": 33,
   "id": "a64280f3-baa5-4557-92b7-e004417b6e5b",
   "metadata": {},
   "outputs": [],
   "source": [
    "# Count"
   ]
  },
  {
   "cell_type": "code",
   "execution_count": 34,
   "id": "3bf27eb9-c166-4cbd-9256-9592fa39da2f",
   "metadata": {},
   "outputs": [
    {
     "data": {
      "text/plain": [
       "'We are learning python'"
      ]
     },
     "execution_count": 34,
     "metadata": {},
     "output_type": "execute_result"
    }
   ],
   "source": [
    "s"
   ]
  },
  {
   "cell_type": "code",
   "execution_count": 35,
   "id": "05d4b80f-caa1-40c2-b4f6-01ace355800f",
   "metadata": {},
   "outputs": [
    {
     "data": {
      "text/plain": [
       "2"
      ]
     },
     "execution_count": 35,
     "metadata": {},
     "output_type": "execute_result"
    }
   ],
   "source": [
    "s.count(\"a\")"
   ]
  },
  {
   "cell_type": "code",
   "execution_count": 36,
   "id": "ea9aabea-7991-43d4-ba20-92544c9af9de",
   "metadata": {},
   "outputs": [
    {
     "data": {
      "text/plain": [
       "3"
      ]
     },
     "execution_count": 36,
     "metadata": {},
     "output_type": "execute_result"
    }
   ],
   "source": [
    "s.count(\"n\")"
   ]
  },
  {
   "cell_type": "code",
   "execution_count": 37,
   "id": "cb3ad425-46be-4bd9-8467-f1dec6eed62a",
   "metadata": {},
   "outputs": [
    {
     "data": {
      "text/plain": [
       "3"
      ]
     },
     "execution_count": 37,
     "metadata": {},
     "output_type": "execute_result"
    }
   ],
   "source": [
    "s.count(\" \") # Showing the space/whitespace "
   ]
  },
  {
   "cell_type": "code",
   "execution_count": 38,
   "id": "d19b18ed-df6d-4aff-a9cd-ff9de554f6ba",
   "metadata": {},
   "outputs": [],
   "source": [
    "# startswith and endswith"
   ]
  },
  {
   "cell_type": "code",
   "execution_count": 39,
   "id": "e6ed3a57-ed56-4981-afd8-fdbcffaad542",
   "metadata": {},
   "outputs": [
    {
     "data": {
      "text/plain": [
       "'We are learning python'"
      ]
     },
     "execution_count": 39,
     "metadata": {},
     "output_type": "execute_result"
    }
   ],
   "source": [
    "s"
   ]
  },
  {
   "cell_type": "code",
   "execution_count": 40,
   "id": "d683cb15-f9c1-44aa-b3a9-9147b504b332",
   "metadata": {},
   "outputs": [
    {
     "data": {
      "text/plain": [
       "False"
      ]
     },
     "execution_count": 40,
     "metadata": {},
     "output_type": "execute_result"
    }
   ],
   "source": [
    "s.startswith(\"aman\")"
   ]
  },
  {
   "cell_type": "code",
   "execution_count": 41,
   "id": "bb856d28-a4d6-47e6-91bc-72cc9fa287bf",
   "metadata": {},
   "outputs": [
    {
     "data": {
      "text/plain": [
       "True"
      ]
     },
     "execution_count": 41,
     "metadata": {},
     "output_type": "execute_result"
    }
   ],
   "source": [
    "s.startswith(\"W\")"
   ]
  },
  {
   "cell_type": "code",
   "execution_count": 42,
   "id": "ff962de0-5138-4d63-8294-519af47eb8bd",
   "metadata": {},
   "outputs": [
    {
     "data": {
      "text/plain": [
       "True"
      ]
     },
     "execution_count": 42,
     "metadata": {},
     "output_type": "execute_result"
    }
   ],
   "source": [
    "s.endswith(\"python\")"
   ]
  },
  {
   "cell_type": "code",
   "execution_count": 43,
   "id": "86cce553-6c50-4e68-83a2-2fddd03a1937",
   "metadata": {},
   "outputs": [
    {
     "data": {
      "text/plain": [
       "False"
      ]
     },
     "execution_count": 43,
     "metadata": {},
     "output_type": "execute_result"
    }
   ],
   "source": [
    "s.endswith(\"p\")"
   ]
  },
  {
   "cell_type": "code",
   "execution_count": 44,
   "id": "bba0ee8c-81b7-46f4-b499-6326b284c3c4",
   "metadata": {},
   "outputs": [
    {
     "data": {
      "text/plain": [
       "True"
      ]
     },
     "execution_count": 44,
     "metadata": {},
     "output_type": "execute_result"
    }
   ],
   "source": [
    "s.endswith(\"n\")"
   ]
  },
  {
   "cell_type": "code",
   "execution_count": 45,
   "id": "bbe86585-a9f2-4fa6-a8ba-77abc1c8f83e",
   "metadata": {},
   "outputs": [],
   "source": [
    "# Find"
   ]
  },
  {
   "cell_type": "code",
   "execution_count": 46,
   "id": "325d0854-69ed-459e-8364-435ac57bf53b",
   "metadata": {},
   "outputs": [
    {
     "data": {
      "text/plain": [
       "'We are learning python'"
      ]
     },
     "execution_count": 46,
     "metadata": {},
     "output_type": "execute_result"
    }
   ],
   "source": [
    "s"
   ]
  },
  {
   "cell_type": "code",
   "execution_count": 47,
   "id": "55bbeeac-9d9c-4f8b-9d74-7904495375ae",
   "metadata": {},
   "outputs": [
    {
     "data": {
      "text/plain": [
       "7"
      ]
     },
     "execution_count": 47,
     "metadata": {},
     "output_type": "execute_result"
    }
   ],
   "source": [
    "s.find(\"learning\") # returns the index number of the letter "
   ]
  },
  {
   "cell_type": "code",
   "execution_count": 48,
   "id": "30be3c3b-a789-42fd-b340-c3b50e6d1ffe",
   "metadata": {},
   "outputs": [
    {
     "data": {
      "text/plain": [
       "-1"
      ]
     },
     "execution_count": 48,
     "metadata": {},
     "output_type": "execute_result"
    }
   ],
   "source": [
    "s.find(\"aman\") # return -1, if word is not present "
   ]
  },
  {
   "cell_type": "code",
   "execution_count": 49,
   "id": "94b2c9d5-8af7-4c0f-b2c9-67e2df0ed259",
   "metadata": {},
   "outputs": [],
   "source": [
    "# Replace"
   ]
  },
  {
   "cell_type": "code",
   "execution_count": 50,
   "id": "d7d1bea4-d796-4621-9d2f-dd4ece5561cc",
   "metadata": {},
   "outputs": [
    {
     "data": {
      "text/plain": [
       "'We are learning python'"
      ]
     },
     "execution_count": 50,
     "metadata": {},
     "output_type": "execute_result"
    }
   ],
   "source": [
    "s"
   ]
  },
  {
   "cell_type": "code",
   "execution_count": 51,
   "id": "b235810c-03ff-48e8-8bb9-0856a38a6056",
   "metadata": {},
   "outputs": [
    {
     "data": {
      "text/plain": [
       "'They are learning python'"
      ]
     },
     "execution_count": 51,
     "metadata": {},
     "output_type": "execute_result"
    }
   ],
   "source": [
    "s.replace(\"We\", \"They\") # temporary replace"
   ]
  },
  {
   "cell_type": "code",
   "execution_count": 52,
   "id": "fab5857d-7e3b-455a-980e-5201d9ac7cfd",
   "metadata": {},
   "outputs": [
    {
     "data": {
      "text/plain": [
       "'We are learning python'"
      ]
     },
     "execution_count": 52,
     "metadata": {},
     "output_type": "execute_result"
    }
   ],
   "source": [
    "s"
   ]
  },
  {
   "cell_type": "code",
   "execution_count": 53,
   "id": "e02905e4-03db-478a-b166-239c1d90b320",
   "metadata": {},
   "outputs": [
    {
     "data": {
      "text/plain": [
       "'They are learning python'"
      ]
     },
     "execution_count": 53,
     "metadata": {},
     "output_type": "execute_result"
    }
   ],
   "source": [
    "s= s.replace(\"We\", \"They\") # permanent rplace (method 1)\n",
    "s"
   ]
  },
  {
   "cell_type": "code",
   "execution_count": 54,
   "id": "fef4af52-3677-4f25-b143-aea0d63e9da0",
   "metadata": {},
   "outputs": [
    {
     "data": {
      "text/plain": [
       "'They a learning python'"
      ]
     },
     "execution_count": 54,
     "metadata": {},
     "output_type": "execute_result"
    }
   ],
   "source": [
    "s.replace(\"are\", \"a\") # temporary replace"
   ]
  },
  {
   "cell_type": "code",
   "execution_count": 55,
   "id": "21b7452c-f147-4624-a44c-0a3253b5bac2",
   "metadata": {},
   "outputs": [],
   "source": [
    "# basic function"
   ]
  },
  {
   "cell_type": "code",
   "execution_count": 56,
   "id": "94faf735-b3a5-4f74-9957-c777664f0854",
   "metadata": {},
   "outputs": [
    {
     "data": {
      "text/plain": [
       "'THEY ARE LEARNING PYTHON'"
      ]
     },
     "execution_count": 56,
     "metadata": {},
     "output_type": "execute_result"
    }
   ],
   "source": [
    "s.upper()"
   ]
  },
  {
   "cell_type": "code",
   "execution_count": 57,
   "id": "05e0b4c1-890a-422c-a2a9-be897a12f7d5",
   "metadata": {},
   "outputs": [
    {
     "data": {
      "text/plain": [
       "'they are learning python'"
      ]
     },
     "execution_count": 57,
     "metadata": {},
     "output_type": "execute_result"
    }
   ],
   "source": [
    "s.lower()"
   ]
  },
  {
   "cell_type": "code",
   "execution_count": 58,
   "id": "618b0693-5c88-4436-b14a-ae88734fd330",
   "metadata": {},
   "outputs": [
    {
     "data": {
      "text/plain": [
       "'They are learning python'"
      ]
     },
     "execution_count": 58,
     "metadata": {},
     "output_type": "execute_result"
    }
   ],
   "source": [
    "s"
   ]
  },
  {
   "cell_type": "markdown",
   "id": "eb2d7c87-d9ea-4bdc-9be9-26cec0cddce0",
   "metadata": {
    "jp-MarkdownHeadingCollapsed": true
   },
   "source": [
    "### Data Structure (For storing multiple values)\n",
    "- Lists (Mutable)\n",
    "- Tuple (Immutable)\n",
    "- Dictionary (Mutable)\n",
    "- Sets (Immutable)"
   ]
  },
  {
   "cell_type": "markdown",
   "id": "66f13de2-90f9-4d34-b6e7-c4ebc389aec8",
   "metadata": {},
   "source": [
    "#### List"
   ]
  },
  {
   "cell_type": "code",
   "execution_count": 59,
   "id": "2016bdae-40ca-4f49-9fc2-b1ff4bd8b466",
   "metadata": {},
   "outputs": [
    {
     "data": {
      "text/plain": [
       "list"
      ]
     },
     "execution_count": 59,
     "metadata": {},
     "output_type": "execute_result"
    }
   ],
   "source": [
    "lst= []\n",
    "type(lst)"
   ]
  },
  {
   "cell_type": "code",
   "execution_count": 60,
   "id": "f8ce47f8-ecf9-4c91-a087-cf748d56a3d3",
   "metadata": {},
   "outputs": [
    {
     "data": {
      "text/plain": [
       "[10, 10.2, True, 'python']"
      ]
     },
     "execution_count": 60,
     "metadata": {},
     "output_type": "execute_result"
    }
   ],
   "source": [
    "lst = [10,10.2,True, \"python\"]\n",
    "lst"
   ]
  },
  {
   "cell_type": "code",
   "execution_count": 61,
   "id": "63585752-ae0e-42cf-8fe5-36cb4eda6d99",
   "metadata": {},
   "outputs": [],
   "source": [
    "# append"
   ]
  },
  {
   "cell_type": "code",
   "execution_count": 62,
   "id": "e6baef5a-b04a-4b34-ba10-6a6c67a5ebf2",
   "metadata": {},
   "outputs": [
    {
     "data": {
      "text/plain": [
       "[10, 10.2, True, 'python', False]"
      ]
     },
     "execution_count": 62,
     "metadata": {},
     "output_type": "execute_result"
    }
   ],
   "source": [
    "lst.append(False) # permanent change\n",
    "lst"
   ]
  },
  {
   "cell_type": "code",
   "execution_count": 63,
   "id": "1a14e463-6686-4199-8000-a3bfe1218d10",
   "metadata": {
    "scrolled": true
   },
   "outputs": [
    {
     "data": {
      "text/plain": [
       "[10, 10.2, True, 'python', False, 'Rp Bhai']"
      ]
     },
     "execution_count": 63,
     "metadata": {},
     "output_type": "execute_result"
    }
   ],
   "source": [
    "lst.append(\"Rp Bhai\") # permanent change\n",
    "lst"
   ]
  },
  {
   "cell_type": "code",
   "execution_count": 64,
   "id": "fa25eb79-39f7-4688-8418-9e2212defd13",
   "metadata": {},
   "outputs": [],
   "source": [
    "#count"
   ]
  },
  {
   "cell_type": "code",
   "execution_count": 65,
   "id": "7b8b0c36-12e0-4fb5-a5cf-001fbc7e74d6",
   "metadata": {},
   "outputs": [
    {
     "data": {
      "text/plain": [
       "1"
      ]
     },
     "execution_count": 65,
     "metadata": {},
     "output_type": "execute_result"
    }
   ],
   "source": [
    "lst.count(\"Rp Bhai\")"
   ]
  },
  {
   "cell_type": "code",
   "execution_count": 66,
   "id": "7206239e-80a7-41aa-b347-aa3782340550",
   "metadata": {},
   "outputs": [],
   "source": [
    "#index"
   ]
  },
  {
   "cell_type": "code",
   "execution_count": 67,
   "id": "d8f0aba3-c24b-4d47-902d-ddf8cc066286",
   "metadata": {},
   "outputs": [
    {
     "data": {
      "text/plain": [
       "3"
      ]
     },
     "execution_count": 67,
     "metadata": {},
     "output_type": "execute_result"
    }
   ],
   "source": [
    "lst.index(\"python\")"
   ]
  },
  {
   "cell_type": "code",
   "execution_count": 68,
   "id": "d83b0d66-de7f-4661-8931-5acaa5b5c7fd",
   "metadata": {},
   "outputs": [
    {
     "data": {
      "text/plain": [
       "5"
      ]
     },
     "execution_count": 68,
     "metadata": {},
     "output_type": "execute_result"
    }
   ],
   "source": [
    "lst.index(\"Rp Bhai\")"
   ]
  },
  {
   "cell_type": "code",
   "execution_count": 69,
   "id": "a78bbd1e-5f96-4427-993e-6151a94c9586",
   "metadata": {},
   "outputs": [],
   "source": [
    "#Insert (does not replace anything it allow to add element without deleting the pervious value)\n",
    "#lst(index:new value)"
   ]
  },
  {
   "cell_type": "code",
   "execution_count": 70,
   "id": "203d06cd-b6d1-40e1-999c-8a6098d23f4d",
   "metadata": {},
   "outputs": [],
   "source": [
    "lst.insert(0, 1000) # permanent change"
   ]
  },
  {
   "cell_type": "code",
   "execution_count": 71,
   "id": "62ab7733-b074-4269-b3cd-70fd7116ee64",
   "metadata": {},
   "outputs": [
    {
     "data": {
      "text/plain": [
       "[1000, 10, 10.2, True, 'python', False, 'Rp Bhai']"
      ]
     },
     "execution_count": 71,
     "metadata": {},
     "output_type": "execute_result"
    }
   ],
   "source": [
    "lst"
   ]
  },
  {
   "cell_type": "code",
   "execution_count": 72,
   "id": "60d0d32d-dbbb-4aad-8e44-548dbbde835e",
   "metadata": {},
   "outputs": [
    {
     "data": {
      "text/plain": [
       "[1000, 10, 10.2, 'Analyst', True, 'python', False, 'Rp Bhai']"
      ]
     },
     "execution_count": 72,
     "metadata": {},
     "output_type": "execute_result"
    }
   ],
   "source": [
    "lst.insert(3, \"Analyst\")\n",
    "lst"
   ]
  },
  {
   "cell_type": "code",
   "execution_count": 73,
   "id": "328bf350-90c7-4b12-9c27-85e772cbd8e6",
   "metadata": {},
   "outputs": [],
   "source": [
    "#pop (deletes the last element)"
   ]
  },
  {
   "cell_type": "code",
   "execution_count": 74,
   "id": "e45b0a89-8d06-43fb-82d5-cd67b2db4b26",
   "metadata": {},
   "outputs": [
    {
     "data": {
      "text/plain": [
       "[1000, 10, 10.2, 'Analyst', True, 'python', False]"
      ]
     },
     "execution_count": 74,
     "metadata": {},
     "output_type": "execute_result"
    }
   ],
   "source": [
    "lst.pop() # permanent change\n",
    "lst"
   ]
  },
  {
   "cell_type": "code",
   "execution_count": 75,
   "id": "c65fd96a-caf1-4f33-a03d-3188f980a7df",
   "metadata": {},
   "outputs": [],
   "source": [
    "#remove()\n",
    "#lst.remove(\"The value that you want to delete\")"
   ]
  },
  {
   "cell_type": "code",
   "execution_count": 76,
   "id": "1fdb244c-44a2-49f9-abb0-60f6dc8f3610",
   "metadata": {},
   "outputs": [
    {
     "data": {
      "text/plain": [
       "[1000, 10, 'Analyst', True, 'python', False]"
      ]
     },
     "execution_count": 76,
     "metadata": {},
     "output_type": "execute_result"
    }
   ],
   "source": [
    "lst.remove(10.2)\n",
    "lst"
   ]
  },
  {
   "cell_type": "markdown",
   "id": "337db6e1-7e7f-4443-8ac2-67c260ef3a26",
   "metadata": {},
   "source": [
    "#### Tuple\n",
    "- Tuples are ordered and hetrogenous data structure\n",
    "- Tuples are Immutable"
   ]
  },
  {
   "cell_type": "code",
   "execution_count": 77,
   "id": "dc426188-1784-4765-9e70-fe14bf71446b",
   "metadata": {},
   "outputs": [],
   "source": [
    "# create a tuple"
   ]
  },
  {
   "cell_type": "code",
   "execution_count": 78,
   "id": "2b2aa449-5b67-4f31-a670-3497faac481c",
   "metadata": {},
   "outputs": [
    {
     "data": {
      "text/plain": [
       "tuple"
      ]
     },
     "execution_count": 78,
     "metadata": {},
     "output_type": "execute_result"
    }
   ],
   "source": [
    "t = ()\n",
    "type(t)"
   ]
  },
  {
   "cell_type": "code",
   "execution_count": 79,
   "id": "9fd8a5ad-cf33-4d74-aae2-3d6c533c00aa",
   "metadata": {},
   "outputs": [
    {
     "data": {
      "text/plain": [
       "(10, 5.5, True, 'Python')"
      ]
     },
     "execution_count": 79,
     "metadata": {},
     "output_type": "execute_result"
    }
   ],
   "source": [
    "t = (10, 5.5, True, \"Python\")\n",
    "t"
   ]
  },
  {
   "cell_type": "code",
   "execution_count": 80,
   "id": "244f8e32-d312-4468-a2b8-384543e7087c",
   "metadata": {},
   "outputs": [
    {
     "data": {
      "text/plain": [
       "1"
      ]
     },
     "execution_count": 80,
     "metadata": {},
     "output_type": "execute_result"
    }
   ],
   "source": [
    "t.count(5.5)"
   ]
  },
  {
   "cell_type": "code",
   "execution_count": 81,
   "id": "0b3d9fab-3715-4d7a-b38e-aabc27140166",
   "metadata": {},
   "outputs": [
    {
     "data": {
      "text/plain": [
       "2"
      ]
     },
     "execution_count": 81,
     "metadata": {},
     "output_type": "execute_result"
    }
   ],
   "source": [
    "t.index(True)"
   ]
  },
  {
   "cell_type": "code",
   "execution_count": 82,
   "id": "5a66962f-a1f9-4cba-b3be-0373ad6e098e",
   "metadata": {},
   "outputs": [],
   "source": [
    "# Accessing Element from tuple"
   ]
  },
  {
   "cell_type": "code",
   "execution_count": 83,
   "id": "ba6e0993-8834-4c94-a66e-23070e8a1249",
   "metadata": {},
   "outputs": [
    {
     "data": {
      "text/plain": [
       "(10, 5.5, True, 'Python')"
      ]
     },
     "execution_count": 83,
     "metadata": {},
     "output_type": "execute_result"
    }
   ],
   "source": [
    "t"
   ]
  },
  {
   "cell_type": "code",
   "execution_count": 84,
   "id": "c6f9efd0-a299-4945-bd74-d84edae1cb50",
   "metadata": {},
   "outputs": [
    {
     "data": {
      "text/plain": [
       "5.5"
      ]
     },
     "execution_count": 84,
     "metadata": {},
     "output_type": "execute_result"
    }
   ],
   "source": [
    "t[1]"
   ]
  },
  {
   "cell_type": "code",
   "execution_count": 85,
   "id": "2019596f-33b2-4674-a234-d1f0f5cd6488",
   "metadata": {},
   "outputs": [
    {
     "data": {
      "text/plain": [
       "(10, 5.5, True)"
      ]
     },
     "execution_count": 85,
     "metadata": {},
     "output_type": "execute_result"
    }
   ],
   "source": [
    "t[0:3] # it will access 0 to 2 and leave the 3 index"
   ]
  },
  {
   "cell_type": "markdown",
   "id": "6b78545f-943a-47e8-9dfe-8d880d8ab980",
   "metadata": {},
   "source": [
    "#### Dictionary\n",
    "- Ordered Collection of items\n",
    "- Hetrogenous \n",
    "- Mutable Data Structure\n",
    "- key-value pair"
   ]
  },
  {
   "cell_type": "code",
   "execution_count": 86,
   "id": "441ea9a0-70c7-4049-8afd-d1093d6a73c4",
   "metadata": {},
   "outputs": [],
   "source": [
    "# Dictionary Creation"
   ]
  },
  {
   "cell_type": "code",
   "execution_count": 87,
   "id": "8fd6ad67-d44c-48b6-919b-05a6f6d3e790",
   "metadata": {},
   "outputs": [
    {
     "data": {
      "text/plain": [
       "dict"
      ]
     },
     "execution_count": 87,
     "metadata": {},
     "output_type": "execute_result"
    }
   ],
   "source": [
    "dic= {}\n",
    "type(dic)"
   ]
  },
  {
   "cell_type": "code",
   "execution_count": 88,
   "id": "b9fd5eae-985e-4306-9f36-7e54687a866b",
   "metadata": {},
   "outputs": [],
   "source": [
    "# Adding element in Dictionary"
   ]
  },
  {
   "cell_type": "code",
   "execution_count": 89,
   "id": "74bcb42f-1f3d-4734-8fd3-16b0ddb08ce0",
   "metadata": {},
   "outputs": [
    {
     "data": {
      "text/plain": [
       "{'Name': 'Aman', 'Age': 22, 'Location': 'Mumbai', 'Course': 'Data Science'}"
      ]
     },
     "execution_count": 89,
     "metadata": {},
     "output_type": "execute_result"
    }
   ],
   "source": [
    "dic = {\n",
    "    'Name' : \"Aman\",\n",
    "    'Age' : 22,\n",
    "    \"Location\" : \"Mumbai\",\n",
    "    \"Course\" : \"Data Science\"\n",
    "}\n",
    "dic"
   ]
  },
  {
   "cell_type": "code",
   "execution_count": 90,
   "id": "60b709f4-c945-4d54-be27-e250bc279d1e",
   "metadata": {},
   "outputs": [],
   "source": [
    "#get"
   ]
  },
  {
   "cell_type": "code",
   "execution_count": 91,
   "id": "03aa81ab-79bc-41e4-812a-420389b64053",
   "metadata": {},
   "outputs": [
    {
     "data": {
      "text/plain": [
       "'Aman'"
      ]
     },
     "execution_count": 91,
     "metadata": {},
     "output_type": "execute_result"
    }
   ],
   "source": [
    "dic.get(\"Name\")"
   ]
  },
  {
   "cell_type": "code",
   "execution_count": 92,
   "id": "e58edd4d-4dff-4651-9c2f-cb7c26b572f7",
   "metadata": {},
   "outputs": [
    {
     "data": {
      "text/plain": [
       "'Data Science'"
      ]
     },
     "execution_count": 92,
     "metadata": {},
     "output_type": "execute_result"
    }
   ],
   "source": [
    "dic.get(\"Course\")"
   ]
  },
  {
   "cell_type": "code",
   "execution_count": 93,
   "id": "a8e9b028-048e-44f1-bbcf-52ebf2405b6b",
   "metadata": {},
   "outputs": [],
   "source": [
    "#items"
   ]
  },
  {
   "cell_type": "code",
   "execution_count": 94,
   "id": "d97c3339-060e-4082-9cb6-3fcccc0d181e",
   "metadata": {},
   "outputs": [
    {
     "data": {
      "text/plain": [
       "dict_items([('Name', 'Aman'), ('Age', 22), ('Location', 'Mumbai'), ('Course', 'Data Science')])"
      ]
     },
     "execution_count": 94,
     "metadata": {},
     "output_type": "execute_result"
    }
   ],
   "source": [
    "dic.items()"
   ]
  },
  {
   "cell_type": "code",
   "execution_count": 95,
   "id": "23968a27-85fa-4c1f-aff3-f08c8e038bbf",
   "metadata": {},
   "outputs": [],
   "source": [
    "#keys"
   ]
  },
  {
   "cell_type": "code",
   "execution_count": 96,
   "id": "5eed0129-01a6-4eaa-bb41-94be12c6cc5b",
   "metadata": {},
   "outputs": [
    {
     "data": {
      "text/plain": [
       "dict_keys(['Name', 'Age', 'Location', 'Course'])"
      ]
     },
     "execution_count": 96,
     "metadata": {},
     "output_type": "execute_result"
    }
   ],
   "source": [
    "dic.keys()"
   ]
  },
  {
   "cell_type": "code",
   "execution_count": 97,
   "id": "9f0b3a09-cf9c-4b75-b9a5-d55d6ba1dea9",
   "metadata": {},
   "outputs": [],
   "source": [
    "#values"
   ]
  },
  {
   "cell_type": "code",
   "execution_count": 98,
   "id": "faedad27-0208-4cec-85dc-a986e1e53766",
   "metadata": {},
   "outputs": [
    {
     "data": {
      "text/plain": [
       "dict_values(['Aman', 22, 'Mumbai', 'Data Science'])"
      ]
     },
     "execution_count": 98,
     "metadata": {},
     "output_type": "execute_result"
    }
   ],
   "source": [
    "dic.values()"
   ]
  },
  {
   "cell_type": "code",
   "execution_count": 99,
   "id": "cfe087ff-bd55-4f33-8bd3-85b79fb2a067",
   "metadata": {},
   "outputs": [],
   "source": [
    "#Adding values in Dictionary\n",
    "#update({key:value})"
   ]
  },
  {
   "cell_type": "code",
   "execution_count": 100,
   "id": "9f6ecbac-67d0-4049-8eae-ef941956e3d2",
   "metadata": {},
   "outputs": [],
   "source": [
    "dic.update({\"Date\": \"20/12/2020\"})"
   ]
  },
  {
   "cell_type": "code",
   "execution_count": 101,
   "id": "62a94104-44f4-4335-9c1f-730548fa3d98",
   "metadata": {},
   "outputs": [
    {
     "data": {
      "text/plain": [
       "{'Name': 'Aman',\n",
       " 'Age': 22,\n",
       " 'Location': 'Mumbai',\n",
       " 'Course': 'Data Science',\n",
       " 'Date': '20/12/2020'}"
      ]
     },
     "execution_count": 101,
     "metadata": {},
     "output_type": "execute_result"
    }
   ],
   "source": [
    "dic"
   ]
  },
  {
   "cell_type": "code",
   "execution_count": 102,
   "id": "6a2e97bb-236f-4d06-808a-107362f7eeb8",
   "metadata": {},
   "outputs": [],
   "source": [
    "# multiple update"
   ]
  },
  {
   "cell_type": "code",
   "execution_count": 103,
   "id": "fb2c5590-e390-446a-96c5-62a75e38518e",
   "metadata": {},
   "outputs": [],
   "source": [
    "dic.update({\"subject\": \"Ml\", \"Month\": \"December\"})"
   ]
  },
  {
   "cell_type": "code",
   "execution_count": 104,
   "id": "6763eadb-c284-4f95-b6b5-c5d15208c478",
   "metadata": {},
   "outputs": [
    {
     "data": {
      "text/plain": [
       "{'Name': 'Aman',\n",
       " 'Age': 22,\n",
       " 'Location': 'Mumbai',\n",
       " 'Course': 'Data Science',\n",
       " 'Date': '20/12/2020',\n",
       " 'subject': 'Ml',\n",
       " 'Month': 'December'}"
      ]
     },
     "execution_count": 104,
     "metadata": {},
     "output_type": "execute_result"
    }
   ],
   "source": [
    "dic"
   ]
  },
  {
   "cell_type": "code",
   "execution_count": 105,
   "id": "b0225ab5-104c-4236-b532-63863080ebc8",
   "metadata": {},
   "outputs": [
    {
     "data": {
      "text/plain": [
       "'Aman'"
      ]
     },
     "execution_count": 105,
     "metadata": {},
     "output_type": "execute_result"
    }
   ],
   "source": [
    "dic[\"Name\"]"
   ]
  },
  {
   "cell_type": "code",
   "execution_count": 106,
   "id": "621616b4-fab3-4d90-84ce-2c00cae894e5",
   "metadata": {},
   "outputs": [],
   "source": [
    "#Changing the name"
   ]
  },
  {
   "cell_type": "code",
   "execution_count": 107,
   "id": "4c641eca-197a-4aa2-9cba-e00140a8fe03",
   "metadata": {},
   "outputs": [],
   "source": [
    "dic[\"Name\"] = \"Manaf\""
   ]
  },
  {
   "cell_type": "code",
   "execution_count": 108,
   "id": "8c149d3a-d8dc-4c8f-901f-9fb2733c385d",
   "metadata": {},
   "outputs": [
    {
     "data": {
      "text/plain": [
       "{'Name': 'Manaf',\n",
       " 'Age': 22,\n",
       " 'Location': 'Mumbai',\n",
       " 'Course': 'Data Science',\n",
       " 'Date': '20/12/2020',\n",
       " 'subject': 'Ml',\n",
       " 'Month': 'December'}"
      ]
     },
     "execution_count": 108,
     "metadata": {},
     "output_type": "execute_result"
    }
   ],
   "source": [
    "dic"
   ]
  },
  {
   "cell_type": "code",
   "execution_count": 109,
   "id": "29de3401-6bbd-4309-9719-01e77c1b7007",
   "metadata": {},
   "outputs": [
    {
     "data": {
      "text/plain": [
       "'Ml'"
      ]
     },
     "execution_count": 109,
     "metadata": {},
     "output_type": "execute_result"
    }
   ],
   "source": [
    "dic.pop(\"subject\")"
   ]
  },
  {
   "cell_type": "code",
   "execution_count": 110,
   "id": "655a601c-40f4-441b-9e2d-657669e7bdb7",
   "metadata": {},
   "outputs": [
    {
     "data": {
      "text/plain": [
       "{'Name': 'Manaf',\n",
       " 'Age': 22,\n",
       " 'Location': 'Mumbai',\n",
       " 'Course': 'Data Science',\n",
       " 'Date': '20/12/2020',\n",
       " 'Month': 'December'}"
      ]
     },
     "execution_count": 110,
     "metadata": {},
     "output_type": "execute_result"
    }
   ],
   "source": [
    "dic"
   ]
  },
  {
   "cell_type": "markdown",
   "id": "3f06fe26-53b6-4081-ab72-66f325eef811",
   "metadata": {
    "jp-MarkdownHeadingCollapsed": true
   },
   "source": [
    "#### Sets\n",
    "- sets are unordered and unindexed\n",
    "- sets are immutable\n",
    "- Unordered\n",
    "- Once a set is created you cannot change its item but you can remove items and add new items\n",
    "- As sets are unordered they do not support indexing and slicing operations\n",
    "- sets do not allow duplicate values"
   ]
  },
  {
   "cell_type": "code",
   "execution_count": 111,
   "id": "103d2d3a-41ae-4f10-82e6-9118ece5bc76",
   "metadata": {},
   "outputs": [
    {
     "data": {
      "text/plain": [
       "{10, 20, 30, 40, 50}"
      ]
     },
     "execution_count": 111,
     "metadata": {},
     "output_type": "execute_result"
    }
   ],
   "source": [
    "s1= {10,10,10,10,20,30,40,50}\n",
    "s1"
   ]
  },
  {
   "cell_type": "code",
   "execution_count": 112,
   "id": "c86165c6-d715-4b0c-a941-408ef1f92c15",
   "metadata": {},
   "outputs": [
    {
     "data": {
      "text/plain": [
       "{1, 1.2, 2}"
      ]
     },
     "execution_count": 112,
     "metadata": {},
     "output_type": "execute_result"
    }
   ],
   "source": [
    "# true will not get print becoz it True consider as 1\n",
    "s2 = {1,2,1.2,True}\n",
    "s2"
   ]
  },
  {
   "cell_type": "code",
   "execution_count": 113,
   "id": "d050afd5-fe45-42f8-a59c-f6b79a4f4056",
   "metadata": {},
   "outputs": [],
   "source": [
    "#Does not support indexing"
   ]
  },
  {
   "cell_type": "code",
   "execution_count": 114,
   "id": "49400847-e041-4126-8918-5ee359f5ac69",
   "metadata": {},
   "outputs": [],
   "source": [
    "#s1[4]\n",
    "# TypeError: 'set' object is not subscriptable"
   ]
  },
  {
   "cell_type": "code",
   "execution_count": 115,
   "id": "6e85d7ed-dcd4-4c63-93d1-50d84eb41c46",
   "metadata": {},
   "outputs": [],
   "source": [
    "#add"
   ]
  },
  {
   "cell_type": "code",
   "execution_count": 116,
   "id": "49703e3c-ebf1-4c45-9f66-f2a439801773",
   "metadata": {},
   "outputs": [],
   "source": [
    "s1.add(60)"
   ]
  },
  {
   "cell_type": "code",
   "execution_count": 117,
   "id": "fce0f619-8642-464c-93ed-8daa9db0843a",
   "metadata": {},
   "outputs": [
    {
     "data": {
      "text/plain": [
       "{10, 20, 30, 40, 50, 60}"
      ]
     },
     "execution_count": 117,
     "metadata": {},
     "output_type": "execute_result"
    }
   ],
   "source": [
    "s1"
   ]
  },
  {
   "cell_type": "code",
   "execution_count": 118,
   "id": "3dacac8b-7cfb-47b8-a64c-ff96f829e523",
   "metadata": {},
   "outputs": [
    {
     "data": {
      "text/plain": [
       "{10, 20, 30, 40, 50, 60}"
      ]
     },
     "execution_count": 118,
     "metadata": {},
     "output_type": "execute_result"
    }
   ],
   "source": [
    "s1"
   ]
  },
  {
   "cell_type": "code",
   "execution_count": 119,
   "id": "d0d6090f-7f1c-4687-9c42-32a17b035538",
   "metadata": {},
   "outputs": [
    {
     "data": {
      "text/plain": [
       "50"
      ]
     },
     "execution_count": 119,
     "metadata": {},
     "output_type": "execute_result"
    }
   ],
   "source": [
    "s1.pop()"
   ]
  },
  {
   "cell_type": "code",
   "execution_count": 120,
   "id": "33ce7b8c-9ddf-4f1c-bd09-7c1f15c3df15",
   "metadata": {},
   "outputs": [
    {
     "data": {
      "text/plain": [
       "{10, 20, 30, 40, 60}"
      ]
     },
     "execution_count": 120,
     "metadata": {},
     "output_type": "execute_result"
    }
   ],
   "source": [
    "s1"
   ]
  },
  {
   "cell_type": "markdown",
   "id": "2fd6113d-76fc-4a88-8480-bfd80ce68544",
   "metadata": {
    "jp-MarkdownHeadingCollapsed": true
   },
   "source": [
    "### User Input"
   ]
  },
  {
   "cell_type": "code",
   "execution_count": 121,
   "id": "cd413c94-dc23-4a5e-b4fa-c90a4171c594",
   "metadata": {},
   "outputs": [
    {
     "name": "stdin",
     "output_type": "stream",
     "text": [
      "hello, what is your age:  10\n"
     ]
    }
   ],
   "source": [
    "age = input(\"hello, what is your age: \")"
   ]
  },
  {
   "cell_type": "code",
   "execution_count": 122,
   "id": "c91f9904-a5e1-47fc-a60f-5a07f33b02f6",
   "metadata": {},
   "outputs": [
    {
     "data": {
      "text/plain": [
       "'10'"
      ]
     },
     "execution_count": 122,
     "metadata": {},
     "output_type": "execute_result"
    }
   ],
   "source": [
    "age"
   ]
  },
  {
   "cell_type": "code",
   "execution_count": 123,
   "id": "1c0feaab-4d33-418b-ad11-a707d0920682",
   "metadata": {},
   "outputs": [
    {
     "data": {
      "text/plain": [
       "str"
      ]
     },
     "execution_count": 123,
     "metadata": {},
     "output_type": "execute_result"
    }
   ],
   "source": [
    "type(age)"
   ]
  },
  {
   "cell_type": "code",
   "execution_count": 124,
   "id": "07d072ea-dbd5-4c61-97de-0164c9e5693d",
   "metadata": {},
   "outputs": [
    {
     "name": "stdin",
     "output_type": "stream",
     "text": [
      "what is your age:  10\n"
     ]
    }
   ],
   "source": [
    "age= float(input(\"what is your age: \"))"
   ]
  },
  {
   "cell_type": "code",
   "execution_count": 125,
   "id": "470f95f8-39f5-4882-b1e6-5af84b173b90",
   "metadata": {},
   "outputs": [
    {
     "data": {
      "text/plain": [
       "10.0"
      ]
     },
     "execution_count": 125,
     "metadata": {},
     "output_type": "execute_result"
    }
   ],
   "source": [
    "age"
   ]
  },
  {
   "cell_type": "code",
   "execution_count": 126,
   "id": "44cbbaf9-80ac-4aff-ab86-ac58462682f0",
   "metadata": {},
   "outputs": [
    {
     "data": {
      "text/plain": [
       "float"
      ]
     },
     "execution_count": 126,
     "metadata": {},
     "output_type": "execute_result"
    }
   ],
   "source": [
    "type(age)"
   ]
  },
  {
   "cell_type": "code",
   "execution_count": 127,
   "id": "f9aa6150-7347-4eb6-a447-2798a9f09b0d",
   "metadata": {},
   "outputs": [
    {
     "name": "stdin",
     "output_type": "stream",
     "text": [
      "What is your my boy?  4\n"
     ]
    }
   ],
   "source": [
    "age= int(input(\"What is your my boy? \"))"
   ]
  },
  {
   "cell_type": "code",
   "execution_count": 128,
   "id": "4ef30b8e-1755-43f2-9291-6b498bf4aea1",
   "metadata": {},
   "outputs": [
    {
     "data": {
      "text/plain": [
       "4"
      ]
     },
     "execution_count": 128,
     "metadata": {},
     "output_type": "execute_result"
    }
   ],
   "source": [
    "age"
   ]
  },
  {
   "cell_type": "code",
   "execution_count": 129,
   "id": "267f63ca-1f13-4922-a476-a168dba75cd1",
   "metadata": {},
   "outputs": [
    {
     "name": "stdin",
     "output_type": "stream",
     "text": [
      "Enter first number:  10\n",
      "Enter Second number:  50\n"
     ]
    },
    {
     "name": "stdout",
     "output_type": "stream",
     "text": [
      "num1 + num2 =  60\n",
      "num1 - num2 =  -40\n",
      "num1 x num2 =  500\n",
      "num1 / num2 =  0.2\n",
      "num1 // num2 =  0\n"
     ]
    }
   ],
   "source": [
    "# Typecasting\n",
    "num1 = int(input(\"Enter first number: \"))\n",
    "num2 = int(input(\"Enter Second number: \"))\n",
    "print(\"num1 + num2 = \", num1 + num2)\n",
    "print(\"num1 - num2 = \", num1 - num2)\n",
    "print(\"num1 x num2 = \", num1 * num2)\n",
    "print(\"num1 / num2 = \", num1 / num2)\n",
    "print(\"num1 // num2 = \", num1 // num2)"
   ]
  },
  {
   "cell_type": "markdown",
   "id": "62c66da3-218e-41ef-a82f-2feed297346c",
   "metadata": {
    "jp-MarkdownHeadingCollapsed": true
   },
   "source": [
    "### Condition Statement\n",
    "- if\n",
    "- else\n",
    "- elif"
   ]
  },
  {
   "cell_type": "code",
   "execution_count": 130,
   "id": "2fbf5113-4d6a-4624-bad7-68037a5f2be1",
   "metadata": {},
   "outputs": [],
   "source": [
    "#if"
   ]
  },
  {
   "cell_type": "code",
   "execution_count": 131,
   "id": "b3bd027f-1386-413e-bdbf-148508c3384f",
   "metadata": {},
   "outputs": [
    {
     "name": "stdin",
     "output_type": "stream",
     "text": [
      "Player Name:  virat\n"
     ]
    },
    {
     "name": "stdout",
     "output_type": "stream",
     "text": [
      "Virat Kolhi my Boy\n"
     ]
    }
   ],
   "source": [
    "# Check whether the player is Virat\n",
    "\n",
    "player= input(\"Player Name: \")\n",
    "if player == \"virat\":\n",
    "    print(\"Virat Kolhi my Boy\")"
   ]
  },
  {
   "cell_type": "code",
   "execution_count": 132,
   "id": "73580532-60e0-4b81-8889-b914abc15036",
   "metadata": {},
   "outputs": [],
   "source": [
    "#if-else"
   ]
  },
  {
   "cell_type": "code",
   "execution_count": 133,
   "id": "eb192ba9-3629-4c46-9eb4-139277273267",
   "metadata": {},
   "outputs": [
    {
     "name": "stdin",
     "output_type": "stream",
     "text": [
      "Enter a Number:  5\n"
     ]
    },
    {
     "name": "stdout",
     "output_type": "stream",
     "text": [
      "positive number\n"
     ]
    }
   ],
   "source": [
    "# check whether the number is positive or negative\n",
    "num = int(input(\"Enter a Number: \"))\n",
    "if num>=0:\n",
    "    print(\"positive number\")\n",
    "else:\n",
    "    print(\"negative number\")"
   ]
  },
  {
   "cell_type": "code",
   "execution_count": 134,
   "id": "bb3281cf-c5f0-480d-8a63-2e1b23851b2b",
   "metadata": {},
   "outputs": [],
   "source": [
    "# if-elif-else"
   ]
  },
  {
   "cell_type": "code",
   "execution_count": 135,
   "id": "b2a886d1-bbc7-4948-893b-39e5b74ed3a0",
   "metadata": {},
   "outputs": [
    {
     "name": "stdin",
     "output_type": "stream",
     "text": [
      "Enter a Number:  10\n"
     ]
    },
    {
     "name": "stdout",
     "output_type": "stream",
     "text": [
      "(10), is a Positive Number (+ve)\n"
     ]
    }
   ],
   "source": [
    "# check whether the number is positive or negative or zero\n",
    "num = int(input(\"Enter a Number: \"))\n",
    "if num > 0:\n",
    "    print(f\"({num}), is a Positive Number (+ve)\")\n",
    "elif num == 0:\n",
    "    print(\"It's a ZERO\")\n",
    "else:\n",
    "    print(f\"({num}), is a Negative Number (-ve)\")"
   ]
  },
  {
   "cell_type": "code",
   "execution_count": 136,
   "id": "f4bf0993-d754-4832-ba45-222395c64f81",
   "metadata": {},
   "outputs": [
    {
     "name": "stdin",
     "output_type": "stream",
     "text": [
      "Enter your marks 85\n"
     ]
    },
    {
     "name": "stdout",
     "output_type": "stream",
     "text": [
      "A Grade\n"
     ]
    }
   ],
   "source": [
    "# Give grades based on the percentages\n",
    "#A : marks >= 85 \n",
    "#B : marks < 85 and >70\n",
    "#C : marks < 70 and > 60\n",
    "\n",
    "marks = int(input(\"Enter your marks\"))\n",
    "\n",
    "if marks >= 85:\n",
    "    print(\"A Grade\")\n",
    "elif (marks < 85) and (marks >= 70):\n",
    "    print(\"B Grade\")\n",
    "elif (marks < 70) and (marks >= 60):\n",
    "    print(\"C Grade\")\n",
    "else:\n",
    "    print(\"Bad Grades\")"
   ]
  },
  {
   "cell_type": "markdown",
   "id": "4faea61e-75ee-4a39-8b0d-1b4844c2d6ed",
   "metadata": {},
   "source": [
    "#### Practice Problem Question"
   ]
  },
  {
   "cell_type": "code",
   "execution_count": 138,
   "id": "cded4c7e-c0d9-4d86-9aa5-e37487e249fd",
   "metadata": {},
   "outputs": [],
   "source": [
    "# Write a program which will print Century if the player has made more than 100 runs else it should \n",
    "# write how many more runs he needs to have to complete the century  "
   ]
  },
  {
   "cell_type": "code",
   "execution_count": 154,
   "id": "2dbbc693-fb49-49d7-b55a-9c7fef38265f",
   "metadata": {},
   "outputs": [
    {
     "name": "stdin",
     "output_type": "stream",
     "text": [
      "How much a player scored?  200\n"
     ]
    },
    {
     "name": "stdout",
     "output_type": "stream",
     "text": [
      "Century\n"
     ]
    }
   ],
   "source": [
    "runs= int(input(\"How much a player scored? \"))\n",
    "\n",
    "if runs >= 100:\n",
    "    print(\"Century\")\n",
    "else:\n",
    "    print(\"Still need\", 100 - runs,\"runs for a century\")"
   ]
  },
  {
   "cell_type": "code",
   "execution_count": 145,
   "id": "cd448a1d-d101-463b-913a-18de0d9bdb4d",
   "metadata": {},
   "outputs": [
    {
     "name": "stdin",
     "output_type": "stream",
     "text": [
      "Whats the number:  10000\n"
     ]
    },
    {
     "name": "stdout",
     "output_type": "stream",
     "text": [
      "OMG\n"
     ]
    }
   ],
   "source": [
    "# Write a program to check the number is one digit, two digit and three digit\n",
    "\n",
    "number=int(input(\"Whats the number: \"))\n",
    "if number<=9:\n",
    "    print(\"One Digit Number\")\n",
    "elif number>=10 and number <=99:\n",
    "    print(\"Two Digit Number\")\n",
    "elif number>99 and number <=999:\n",
    "    print(\"Three Digit Number\")\n",
    "else:\n",
    "    print(\"OMG\")"
   ]
  },
  {
   "cell_type": "code",
   "execution_count": 159,
   "id": "57885c1a-0c5b-47c5-b39d-2dbc6e9c5cfa",
   "metadata": {},
   "outputs": [
    {
     "name": "stdin",
     "output_type": "stream",
     "text": [
      "Type 99:  55\n"
     ]
    },
    {
     "name": "stdout",
     "output_type": "stream",
     "text": [
      "55!!! WTF Please type 99 not a 55\n"
     ]
    }
   ],
   "source": [
    "# Write a program to check whether the user has entered number 99 or not\n",
    "type= int(input(\"Type 99: \"))\n",
    "if type ==99:\n",
    "    print(\"Thank you for typing 99 It's 99\")\n",
    "else:\n",
    "    print(f\"{type}!!! WTF Please type 99 not a {type}\")"
   ]
  },
  {
   "cell_type": "code",
   "execution_count": 157,
   "id": "5f6629f2-24be-4fec-9e9c-2427137bae98",
   "metadata": {},
   "outputs": [],
   "source": [
    "# f string (format string)"
   ]
  },
  {
   "cell_type": "code",
   "execution_count": 158,
   "id": "fa3106c7-b790-4068-a681-fb4c21189124",
   "metadata": {},
   "outputs": [
    {
     "name": "stdin",
     "output_type": "stream",
     "text": [
      "Enter your Name:  Aman\n",
      "Enter your age 21\n",
      "Enter your Designation:  Student\n",
      "Send me your location:  Mumbai\n"
     ]
    },
    {
     "name": "stdout",
     "output_type": "stream",
     "text": [
      "My name is Aman, and i am 21 years old i work as a Student, at Mumbai\n"
     ]
    }
   ],
   "source": [
    "name = input(\"Enter your Name: \")\n",
    "age = int(input(\"Enter your age\"))\n",
    "desig = input(\"Enter your Designation: \")\n",
    "location = input(\"Send me your location: \")\n",
    "\n",
    "print(f\"My name is {name}, and i am {age} years old i work as a {desig}, at {location}\")"
   ]
  },
  {
   "cell_type": "markdown",
   "id": "c3290fef-0a82-47c7-8b86-495a19f5228f",
   "metadata": {
    "jp-MarkdownHeadingCollapsed": true
   },
   "source": [
    "### Functions\n",
    "- In python there are two types of function.\n",
    "- Built in Function\n",
    "- User Defined Function\n",
    "- We can create our own customized functions in python for code reuseability"
   ]
  },
  {
   "cell_type": "code",
   "execution_count": 160,
   "id": "e5cad297-1f56-423d-b169-cd51830fc7d1",
   "metadata": {},
   "outputs": [],
   "source": [
    "# Basic Function"
   ]
  },
  {
   "cell_type": "code",
   "execution_count": 161,
   "id": "4d5618d7-ea53-4d78-a3c4-33373c410540",
   "metadata": {},
   "outputs": [],
   "source": [
    "def simple_func():\n",
    "    print(\"Hello World, This is a user defined function\")"
   ]
  },
  {
   "cell_type": "code",
   "execution_count": 162,
   "id": "379be9b7-2d76-41d7-b7cc-1f0ad5d03635",
   "metadata": {},
   "outputs": [
    {
     "name": "stdout",
     "output_type": "stream",
     "text": [
      "Hello World, This is a user defined function\n"
     ]
    }
   ],
   "source": [
    "simple_func()"
   ]
  },
  {
   "cell_type": "code",
   "execution_count": 164,
   "id": "09ebaa74-90f4-4b46-87cf-ed2c752433dc",
   "metadata": {},
   "outputs": [],
   "source": [
    "#Docstring means create your own documentation "
   ]
  },
  {
   "cell_type": "code",
   "execution_count": 166,
   "id": "a0535191-d56a-43b3-a504-3f878b095b9f",
   "metadata": {},
   "outputs": [],
   "source": [
    "def func1():\n",
    "    '''This function print 2 lines'''\n",
    "    print(\"Line 1\")\n",
    "    print(\"Line 2\")"
   ]
  },
  {
   "cell_type": "code",
   "execution_count": 169,
   "id": "b1a2f1e4-ef19-4473-b328-da3cdf69ad73",
   "metadata": {},
   "outputs": [
    {
     "name": "stdout",
     "output_type": "stream",
     "text": [
      "Line 1\n",
      "Line 2\n"
     ]
    }
   ],
   "source": [
    "func1() # press shift + tab in parentetisis"
   ]
  },
  {
   "cell_type": "code",
   "execution_count": 170,
   "id": "9301b390-75d1-4eed-8d85-fc0b996c90ce",
   "metadata": {},
   "outputs": [],
   "source": [
    "# Write a python function which will return a maximum number\n",
    "\n",
    "def max_num(num1, num2):\n",
    "    '''This function returns max number between given two number'''\n",
    "    return max(num1, num2)\n",
    "#max() is a built-in function"
   ]
  },
  {
   "cell_type": "code",
   "execution_count": 172,
   "id": "de5aecb6-2591-4762-88a6-051e8c8d9451",
   "metadata": {},
   "outputs": [
    {
     "data": {
      "text/plain": [
       "20"
      ]
     },
     "execution_count": 172,
     "metadata": {},
     "output_type": "execute_result"
    }
   ],
   "source": [
    "max_num(10, 20)"
   ]
  },
  {
   "cell_type": "code",
   "execution_count": 175,
   "id": "4e2e89ac-ca93-4475-bbc5-fe136e5e4dad",
   "metadata": {},
   "outputs": [],
   "source": [
    "# Without max()\n",
    "def max_num2(num1,num2):\n",
    "    '''This function returns max number between given two number'''\n",
    "    if num1>num2:\n",
    "        return num1\n",
    "    else:\n",
    "        return num2"
   ]
  },
  {
   "cell_type": "code",
   "execution_count": 176,
   "id": "c2ea2a4c-a5f6-4e98-bc36-a423a1aac9db",
   "metadata": {},
   "outputs": [
    {
     "data": {
      "text/plain": [
       "30"
      ]
     },
     "execution_count": 176,
     "metadata": {},
     "output_type": "execute_result"
    }
   ],
   "source": [
    "max_num(10,30)"
   ]
  },
  {
   "cell_type": "markdown",
   "id": "eb5f4822-f48f-43eb-8b40-3ae422b44d49",
   "metadata": {
    "jp-MarkdownHeadingCollapsed": true
   },
   "source": [
    "### Loops\n",
    "- while loop (Infinite Loop)\n",
    "- for loop (Finite Loop)"
   ]
  },
  {
   "cell_type": "code",
   "execution_count": 186,
   "id": "f7d26c05-04a9-42aa-8fe0-337ece72f9be",
   "metadata": {},
   "outputs": [],
   "source": [
    "#while loop\n",
    "# A while loop in Python repeatedly executes a block of code as long as a specified condition is True. "
   ]
  },
  {
   "cell_type": "code",
   "execution_count": 187,
   "id": "d1ea13d0-a5c8-4494-88ca-799b84b9cab6",
   "metadata": {},
   "outputs": [
    {
     "name": "stdout",
     "output_type": "stream",
     "text": [
      "Learning Python 1\n",
      "Learning Python 2\n",
      "Learning Python 3\n",
      "Learning Python 4\n",
      "Learning Python 5\n",
      "Learning Python 6\n",
      "Learning Python 7\n",
      "Learning Python 8\n",
      "Learning Python 9\n",
      "Learning Python 10\n",
      "Python Completed\n"
     ]
    }
   ],
   "source": [
    "python = 1\n",
    "while python <= 10:\n",
    "    print(\"Learning Python\", python)\n",
    "    python = python + 1\n",
    "print(\"Python Completed\")"
   ]
  },
  {
   "cell_type": "code",
   "execution_count": 195,
   "id": "d632d81b-fc0d-42c7-8eec-eac1f993d584",
   "metadata": {},
   "outputs": [
    {
     "name": "stdin",
     "output_type": "stream",
     "text": [
      "Enter age 7\n"
     ]
    },
    {
     "name": "stdout",
     "output_type": "stream",
     "text": [
      "Not Eligible, 7\n",
      "Not Eligible, 8\n",
      "Not Eligible, 9\n",
      "Not Eligible, 10\n",
      "Not Eligible, 11\n",
      "Not Eligible, 12\n",
      "Not Eligible, 13\n",
      "Not Eligible, 14\n",
      "Not Eligible, 15\n",
      "Not Eligible, 16\n",
      "Not Eligible, 17\n",
      "Eligible\n"
     ]
    }
   ],
   "source": [
    "age = int(input(\"Enter age\"))\n",
    "\n",
    "while age < 18:\n",
    "    print(\"Not Eligible,\", age)\n",
    "    age = age + 1\n",
    "print(\"Eligible\")"
   ]
  },
  {
   "cell_type": "code",
   "execution_count": 196,
   "id": "1c658db1-9265-4339-ae77-ca516cd0cef4",
   "metadata": {},
   "outputs": [
    {
     "data": {
      "text/plain": [
       "[1, 2, 3, 4, 5, 6, 7, 8, 9, 10, 11, 12, 13, 14, 15, 16, 17, 18, 19]"
      ]
     },
     "execution_count": 196,
     "metadata": {},
     "output_type": "execute_result"
    }
   ],
   "source": [
    "#range function \n",
    "#range(start,end,step)\n",
    "list(range(1,20))"
   ]
  },
  {
   "cell_type": "code",
   "execution_count": 198,
   "id": "32360e4a-5ac3-4df1-884d-bfda6a7d3655",
   "metadata": {},
   "outputs": [
    {
     "data": {
      "text/plain": [
       "[1, 3, 5, 7, 9, 11, 13, 15, 17, 19]"
      ]
     },
     "execution_count": 198,
     "metadata": {},
     "output_type": "execute_result"
    }
   ],
   "source": [
    "#odd number\n",
    "list(range(1,20, 2))"
   ]
  },
  {
   "cell_type": "code",
   "execution_count": 199,
   "id": "08620d3d-3f04-4c5d-9865-48600e0166f5",
   "metadata": {},
   "outputs": [
    {
     "data": {
      "text/plain": [
       "[0, 2, 4, 6, 8, 10, 12, 14, 16, 18, 20]"
      ]
     },
     "execution_count": 199,
     "metadata": {},
     "output_type": "execute_result"
    }
   ],
   "source": [
    "#Even number\n",
    "list(range(0,21, 2))"
   ]
  },
  {
   "cell_type": "code",
   "execution_count": 201,
   "id": "a9d2bd90-4a77-4c0c-9cfc-d332506d61c7",
   "metadata": {},
   "outputs": [
    {
     "data": {
      "text/plain": [
       "[20, 19, 18, 17, 16, 15, 14, 13, 12, 11, 10, 9, 8, 7, 6, 5, 4, 3, 2, 1]"
      ]
     },
     "execution_count": 201,
     "metadata": {},
     "output_type": "execute_result"
    }
   ],
   "source": [
    "#Reverse number\n",
    "list(range(20,0, -1))"
   ]
  },
  {
   "cell_type": "code",
   "execution_count": 207,
   "id": "e350f276-b2cc-4131-b4d2-4f3a6869d145",
   "metadata": {},
   "outputs": [
    {
     "name": "stdout",
     "output_type": "stream",
     "text": [
      "1\n",
      "2\n",
      "3\n",
      "4\n",
      "5\n",
      "6\n",
      "7\n",
      "8\n",
      "9\n",
      "10\n"
     ]
    }
   ],
   "source": [
    "# for loop\n",
    "# A for loop in Python iterates over a sequence (such as a list, tuple, string, or range) \n",
    "# and executes a block of code for each item in the sequence.\n",
    "for i in range(1,11):\n",
    "    print(i)"
   ]
  },
  {
   "cell_type": "code",
   "execution_count": 217,
   "id": "e9fec49b-a14e-42a7-8ad2-fd8104fe17f2",
   "metadata": {},
   "outputs": [],
   "source": [
    "lst= []\n",
    "for i in range(1,10,2):\n",
    "    lst.append(i*i)"
   ]
  },
  {
   "cell_type": "code",
   "execution_count": 218,
   "id": "a318b2ec-298b-46ab-9f27-ef2daeed5429",
   "metadata": {},
   "outputs": [
    {
     "data": {
      "text/plain": [
       "[1, 9, 25, 49, 81]"
      ]
     },
     "execution_count": 218,
     "metadata": {},
     "output_type": "execute_result"
    }
   ],
   "source": [
    "lst"
   ]
  },
  {
   "cell_type": "code",
   "execution_count": 225,
   "id": "6f3db6f9-65d6-489d-81ef-f7cb390d33fd",
   "metadata": {},
   "outputs": [
    {
     "data": {
      "text/plain": [
       "['flipkart', 'amazon', 'aya']"
      ]
     },
     "execution_count": 225,
     "metadata": {},
     "output_type": "execute_result"
    }
   ],
   "source": [
    "# Company List\n",
    "company = [\"flipkart\",\"amazon\",\"aya\"]\n",
    "company"
   ]
  },
  {
   "cell_type": "code",
   "execution_count": 226,
   "id": "33cf4ac7-0344-4382-a726-f6d2fba281dd",
   "metadata": {},
   "outputs": [
    {
     "name": "stdout",
     "output_type": "stream",
     "text": [
      "www.flipkart.com\n",
      "www.amazon.com\n",
      "www.aya.com\n"
     ]
    }
   ],
   "source": [
    "for i in company:\n",
    "    print(f\"www.{i}.com\")"
   ]
  },
  {
   "cell_type": "code",
   "execution_count": 227,
   "id": "d1ad5342-cf28-4109-ab3a-3372c91cc7a7",
   "metadata": {
    "scrolled": true
   },
   "outputs": [
    {
     "name": "stdout",
     "output_type": "stream",
     "text": [
      "www.flipkart.com\n",
      "www.amazon.com\n",
      "www.aya.com\n"
     ]
    }
   ],
   "source": [
    "for i in company:\n",
    "    print(\"www.\" + i +\".com\")"
   ]
  },
  {
   "cell_type": "markdown",
   "id": "471a1e42-a503-410d-9775-0af1b5be5bf0",
   "metadata": {
    "jp-MarkdownHeadingCollapsed": true
   },
   "source": [
    "### List Comprehension\n",
    "- Easiest way of creating list data structure along with any loops or conditional statement"
   ]
  },
  {
   "cell_type": "code",
   "execution_count": 232,
   "id": "cc52f5c3-83f1-49bb-8196-847129580093",
   "metadata": {},
   "outputs": [
    {
     "data": {
      "text/plain": [
       "[11, 12, 13, 14, 15, 16, 17, 18, 19]"
      ]
     },
     "execution_count": 232,
     "metadata": {},
     "output_type": "execute_result"
    }
   ],
   "source": [
    "x = [num+10 for num in range(1,10)]\n",
    "x"
   ]
  },
  {
   "cell_type": "markdown",
   "id": "37b7a392-5a4f-4109-901d-abba924a2aba",
   "metadata": {
    "jp-MarkdownHeadingCollapsed": true
   },
   "source": [
    "### In-class Activity\n",
    "1. Write a program to store all names which starts with \"A\" in a list.\n",
    "2. Take a list of numbers and add 5 to each number.\n",
    "3. Create a list of marks and print only marks > 75\n",
    "4. Print reverse table of given input"
   ]
  },
  {
   "cell_type": "code",
   "execution_count": 250,
   "id": "b34fbe2f-3ac1-476a-ad2f-d950e14bc01d",
   "metadata": {},
   "outputs": [
    {
     "name": "stdout",
     "output_type": "stream",
     "text": [
      "Names starting with 'A': ['Aman', 'Adnan']\n"
     ]
    }
   ],
   "source": [
    "# Write a program to store all names which starts with \"A\" in a list.\n",
    "names = [\"sher\", \"Aman\", \"Adnan\"]\n",
    "names_with_A = []\n",
    "for name in names:\n",
    "    if name.startswith(\"A\"):\n",
    "        names_with_A.append(name)\n",
    "print(\"Names starting with 'A':\", names_with_A)"
   ]
  },
  {
   "cell_type": "code",
   "execution_count": 263,
   "id": "ed611d6f-fdea-4d6d-bf5f-e477ef8138be",
   "metadata": {},
   "outputs": [
    {
     "name": "stdout",
     "output_type": "stream",
     "text": [
      "Aman\n",
      "Adnan\n"
     ]
    }
   ],
   "source": [
    "for i in names:\n",
    "    if i.startswith(\"A\"):\n",
    "        print(i)"
   ]
  },
  {
   "cell_type": "code",
   "execution_count": 251,
   "id": "6e4b3280-edb0-4987-add6-104314437add",
   "metadata": {},
   "outputs": [
    {
     "data": {
      "text/plain": [
       "[6, 7, 8, 9, 10, 11, 12, 13, 14]"
      ]
     },
     "execution_count": 251,
     "metadata": {},
     "output_type": "execute_result"
    }
   ],
   "source": [
    "# Take a list of numbers and add 5 to each number.\n",
    "addd= [numb+5 for numb in range(1,10) ]\n",
    "addd"
   ]
  },
  {
   "cell_type": "code",
   "execution_count": 253,
   "id": "f56ade58-a446-49d3-b96f-1f7309cc35a6",
   "metadata": {},
   "outputs": [
    {
     "name": "stdout",
     "output_type": "stream",
     "text": [
      "Above 75 marks are:  [76, 80, 90, 100, 76]\n"
     ]
    }
   ],
   "source": [
    "# Create a list of marks and print only marks > 75\n",
    "marks = [60,50,75,50,76,80,90,100,50,76]\n",
    "above75 = []\n",
    "for mark in marks:\n",
    "    if mark > 75:\n",
    "        above75.append(mark)\n",
    "print(\"Above 75 marks are: \", above75)"
   ]
  },
  {
   "cell_type": "code",
   "execution_count": 257,
   "id": "19b9b679-8efa-45ee-956b-8b6dc69dee67",
   "metadata": {},
   "outputs": [
    {
     "name": "stdin",
     "output_type": "stream",
     "text": [
      "Give me a number:  70\n"
     ]
    },
    {
     "name": "stdout",
     "output_type": "stream",
     "text": [
      "70 X 10 = 700\n",
      "70 X 9 = 630\n",
      "70 X 8 = 560\n",
      "70 X 7 = 490\n",
      "70 X 6 = 420\n",
      "70 X 5 = 350\n",
      "70 X 4 = 280\n",
      "70 X 3 = 210\n",
      "70 X 2 = 140\n",
      "70 X 1 = 70\n"
     ]
    }
   ],
   "source": [
    "# Print reverse table of given input\n",
    "\n",
    "user_input = int(input(\"Give me a number: \"))\n",
    "\n",
    "print(f\"{user_input} X 10 = {user_input * 10}\")\n",
    "print(f\"{user_input} X 9 = {user_input * 9}\")\n",
    "print(f\"{user_input} X 8 = {user_input * 8}\")\n",
    "print(f\"{user_input} X 7 = {user_input * 7}\")\n",
    "print(f\"{user_input} X 6 = {user_input * 6}\")\n",
    "print(f\"{user_input} X 5 = {user_input * 5}\")\n",
    "print(f\"{user_input} X 4 = {user_input * 4}\")\n",
    "print(f\"{user_input} X 3 = {user_input * 3}\")\n",
    "print(f\"{user_input} X 2 = {user_input * 2}\")\n",
    "print(f\"{user_input} X 1 = {user_input * 1}\")"
   ]
  },
  {
   "cell_type": "code",
   "execution_count": 259,
   "id": "86efd9e2-c342-4dee-9be1-5750cd92db35",
   "metadata": {},
   "outputs": [
    {
     "name": "stdin",
     "output_type": "stream",
     "text": [
      "Give me a number:  7\n"
     ]
    },
    {
     "name": "stdout",
     "output_type": "stream",
     "text": [
      "7 X 10 = 70\n",
      "7 X 9 = 63\n",
      "7 X 8 = 56\n",
      "7 X 7 = 49\n",
      "7 X 6 = 42\n",
      "7 X 5 = 35\n",
      "7 X 4 = 28\n",
      "7 X 3 = 21\n",
      "7 X 2 = 14\n",
      "7 X 1 = 7\n"
     ]
    }
   ],
   "source": [
    "user_input = int(input(\"Give me a number: \"))\n",
    "\n",
    "for i in range(10, 0, -1):\n",
    "    print(f\"{user_input} X {i} = {user_input * i}\")"
   ]
  },
  {
   "cell_type": "code",
   "execution_count": 266,
   "id": "1ceb1f59-4ef5-4dff-89e8-55f54025f2a7",
   "metadata": {},
   "outputs": [
    {
     "name": "stdin",
     "output_type": "stream",
     "text": [
      "Give me a number:  5\n"
     ]
    },
    {
     "name": "stdout",
     "output_type": "stream",
     "text": [
      "50\n",
      "45\n",
      "40\n",
      "35\n",
      "30\n",
      "25\n",
      "20\n",
      "15\n",
      "10\n",
      "5\n"
     ]
    }
   ],
   "source": [
    "user_input = int(input(\"Give me a number: \"))\n",
    "for i in range(10,0,-1):\n",
    "    print(user_input*i)"
   ]
  },
  {
   "cell_type": "code",
   "execution_count": null,
   "id": "e73298d8-d81a-4766-96c7-53dc1f91e5e0",
   "metadata": {},
   "outputs": [],
   "source": []
  }
 ],
 "metadata": {
  "kernelspec": {
   "display_name": "Python 3 (ipykernel)",
   "language": "python",
   "name": "python3"
  },
  "language_info": {
   "codemirror_mode": {
    "name": "ipython",
    "version": 3
   },
   "file_extension": ".py",
   "mimetype": "text/x-python",
   "name": "python",
   "nbconvert_exporter": "python",
   "pygments_lexer": "ipython3",
   "version": "3.11.5"
  }
 },
 "nbformat": 4,
 "nbformat_minor": 5
}
