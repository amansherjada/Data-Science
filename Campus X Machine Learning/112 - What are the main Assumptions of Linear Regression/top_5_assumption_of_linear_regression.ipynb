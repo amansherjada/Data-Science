{
 "cells": [
  {
   "cell_type": "markdown",
   "id": "3059853f-b7b1-4a8c-9396-52eecec90621",
   "metadata": {},
   "source": [
    "### Assumption of Linear Regression \n",
    "1. Linear Relationship between input and output\n",
    "2. No Multicollinearity\n",
    "3. Normality of Residual\n",
    "4. Homoscedasticity\n",
    "5. No Autocorrelation of Errors"
   ]
  },
  {
   "cell_type": "markdown",
   "id": "a3a3c5c5-b081-4277-8d9d-ad2eed02e25b",
   "metadata": {},
   "source": [
    "Linear regression makes several assumptions about the relationship between the input variables (predictors) and the output variable (response). Here's an explanation of each assumption:\n",
    "\n",
    "1. **Linear Relationship between input and output**:\n",
    "   - Linear regression assumes that there exists a linear relationship between the independent variables (input) and the dependent variable (output). This means that the change in the response variable is proportional to the change in the predictor variables, with constant coefficients.\n",
    "\n",
    "![1](https://www.emathzone.com/wp-content/uploads/2014/10/linear-nonlinear-corrrelation.jpg)\n",
    "\n",
    "2. **No Multicollinearity**:\n",
    "   - Multicollinearity occurs when two or more predictor variables are highly correlated with each other. In other words, one predictor variable can be linearly predicted from the others with a substantial degree of accuracy. Linear regression assumes that there is no multicollinearity among the independent variables, as it can lead to unstable estimates of the regression coefficients.\n",
    "\n",
    "![2](https://www.investopedia.com/thmb/fC__FZB6-cyb-6ZXGz_J6GLZsM8=/1500x0/filters:no_upscale():max_bytes(150000):strip_icc()/multicollinearity.asp-Final-101b119d086e48afb97059bca383e487.jpg)\n",
    "\n",
    "3. **Normality of Residual**:\n",
    "   - The residuals (the differences between the observed and predicted values) should be normally distributed. This assumption ensures that the errors are symmetrically distributed around the mean and do not exhibit any systematic patterns. Departure from normality may indicate that the model is not capturing all relevant information in the data.\n",
    "\n",
    "![3](https://i.stack.imgur.com/rofVG.jpg)\n",
    "\n",
    "4. **Homoscedasticity**:\n",
    "   - Homoscedasticity refers to the assumption that the variance of the residuals is constant across all levels of the predictor variables. In other words, the spread of the residuals should be consistent throughout the range of the predictors. If heteroscedasticity is present (i.e., the variance of the residuals is not constant), it can lead to biased estimates and incorrect inferences.\n",
    "\n",
    "![4](https://www.researchgate.net/publication/319091775/figure/fig2/AS:526826008846336@1502616516067/Example-of-homoscedasticity-Ideally-residuals-are-randomly-scattered-around-0-the.png)\n",
    "\n",
    "5. **No Autocorrelation of Errors**:\n",
    "   - Autocorrelation occurs when there is a correlation between the residuals at different time points or observations. Linear regression assumes that the errors or residuals are independent of each other, meaning that there is no systematic pattern or correlation among them. Autocorrelation violates this assumption and can lead to biased standard errors and invalid hypothesis tests.\n",
    "\n",
    "![5](https://miro.medium.com/v2/resize:fit:1400/1*e-O6ADdrNW6yyPzu8RL7Ww.png)\n",
    "\n",
    "These assumptions are essential for interpreting the results of linear regression correctly and making valid inferences about the relationships between the predictor variables and the response variable. Violation of these assumptions may lead to unreliable estimates and incorrect conclusions from the model. It's crucial to assess these assumptions when applying linear regression and consider potential remedies or alternative modeling approaches if they are not met."
   ]
  }
 ],
 "metadata": {
  "kernelspec": {
   "display_name": "Python 3 (ipykernel)",
   "language": "python",
   "name": "python3"
  },
  "language_info": {
   "codemirror_mode": {
    "name": "ipython",
    "version": 3
   },
   "file_extension": ".py",
   "mimetype": "text/x-python",
   "name": "python",
   "nbconvert_exporter": "python",
   "pygments_lexer": "ipython3",
   "version": "3.11.5"
  }
 },
 "nbformat": 4,
 "nbformat_minor": 5
}
