{
 "cells": [
  {
   "cell_type": "markdown",
   "id": "12356f4d-e918-4b47-b844-7e68ef896fff",
   "metadata": {},
   "source": [
    "### Mutually exclusive events\n",
    "\n",
    "Mutually exclusive events, also known as disjoint events, are events that cannot occur simultaneously. If one of the events happens, then the other event cannot happen at the same time.\n",
    "\n",
    "Formally, two events A and B are mutually exclusive if their intersection is empty, meaning that the events cannot occur together:\n",
    "\n",
    "$$[A \\cap B = \\emptyset]$$\n",
    "\n",
    "In simpler terms, if Event A occurs, then Event B cannot occur, and vice versa.\n",
    "\n",
    "For example, when rolling a fair six-sided die, the events of getting an even number (Event A) and getting an odd number (Event B) are mutually exclusive. If you roll a 2 (an even number), you cannot simultaneously roll a 3 (an odd number), and vice versa.\n",
    "\n",
    "Similarly, when drawing a card from a standard deck of 52 playing cards, the events of drawing a heart (Event A) and drawing a spade (Event B) are mutually exclusive. If you draw a heart, the card cannot be a spade, and vice versa.\n",
    "\n",
    "Mutually exclusive events are important in probability theory because their probabilities can be added together to calculate the probability of either event occurring. The probability of the union of mutually exclusive events is the sum of their individual probabilities:\n",
    "\n",
    "$$[P(A \\cup B) = P(A) + P(B)]$$\n",
    "\n",
    "This principle is known as the addition rule for mutually exclusive events."
   ]
  },
  {
   "cell_type": "markdown",
   "id": "37d7e3de-4f73-4030-b19e-0e48958c7f8b",
   "metadata": {},
   "source": [
    "### Example\n",
    "\n",
    "Let's consider a example involving flipping a fair coin.\n",
    "\n",
    "Suppose you flip a fair coin once. Let's define two events:\n",
    "\n",
    "1. Event A: Getting heads (H) on the coin flip.\n",
    "2. Event B: Getting tails (T) on the coin flip.\n",
    "\n",
    "In this example, we're interested in determining whether these events are mutually exclusive.\n",
    "\n",
    "1. **Event A: Getting heads on the coin flip**:\n",
    "   - There are two equally likely outcomes when flipping a fair coin: heads (H) or tails (T). Therefore, the probability of Event A is $(P(A) = \\frac{1}{2})$.\n",
    "\n",
    "2. **Event B: Getting tails on the coin flip**:\n",
    "   - Again, there are two equally likely outcomes when flipping a fair coin. Therefore, the probability of Event B is also $(P(B) = \\frac{1}{2})$.\n",
    "\n",
    "Now, let's see if these events are mutually exclusive:\n",
    "\n",
    "- Event A and Event B are mutually exclusive if the intersection of the two events is empty, meaning that they cannot occur together.\n",
    "\n",
    "In this case, if you get heads (Event A) on the coin flip, you cannot simultaneously get tails (Event B), and vice versa. The outcomes \"heads\" and \"tails\" are mutually exclusive because they cannot both happen in a single coin flip.\n",
    "\n",
    "So, Event A (getting heads) and Event B (getting tails) are mutually exclusive events.\n",
    "\n",
    "In summary, mutually exclusive events in probability refer to events that cannot occur simultaneously. In the coin flip example, getting heads and getting tails are mutually exclusive outcomes because they cannot both happen in a single coin flip."
   ]
  }
 ],
 "metadata": {
  "kernelspec": {
   "display_name": "Python 3 (ipykernel)",
   "language": "python",
   "name": "python3"
  },
  "language_info": {
   "codemirror_mode": {
    "name": "ipython",
    "version": 3
   },
   "file_extension": ".py",
   "mimetype": "text/x-python",
   "name": "python",
   "nbconvert_exporter": "python",
   "pygments_lexer": "ipython3",
   "version": "3.11.5"
  }
 },
 "nbformat": 4,
 "nbformat_minor": 5
}
