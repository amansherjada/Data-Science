{
 "cells": [
  {
   "cell_type": "markdown",
   "id": "d12d433a-bb04-407a-a368-106a0ad2345e",
   "metadata": {},
   "source": [
    "### Independent Events\n",
    "\n",
    "In probability theory, events are said to be independent if the occurrence of one event does not affect the occurrence of another event. In simpler terms, knowing that one event has happened (or will happen) doesn't provide any information about the likelihood of the other event happening.\n",
    "\n",
    "Formally, two events A and B are independent if and only if the probability of both events occurring (denoted as $(P(A \\cap B)))$ is equal to the product of their individual probabilities:\n",
    "\n",
    "$$[P(A \\cap B) = P(A) \\times P(B)]$$\n",
    "\n",
    "In other words, the probability of both events happening together is equal to the probability of the first event multiplied by the probability of the second event.\n",
    "\n",
    "For example, if you toss a fair coin twice, the outcomes of the two tosses are independent events. The outcome of the first toss (e.g., getting heads) does not affect the outcome of the second toss. Therefore, the probability of getting heads on the first toss (1/2) multiplied by the probability of getting heads on the second toss (1/2) equals the probability of getting heads on both tosses (1/4).\n",
    "\n",
    "Independence is a fundamental concept in probability theory and plays a crucial role in various applications, including risk assessment, statistical modeling, and decision-making. It allows us to simplify complex problems and make predictions based on assumptions about the independence of events."
   ]
  },
  {
   "cell_type": "markdown",
   "id": "b287b73f-d22d-4d2c-95b7-05db13fdbfe8",
   "metadata": {},
   "source": [
    "### Example\n",
    "\n",
    "When rolling a fair six-sided die, each outcome (1, 2, 3, 4, 5, or 6) has an equal probability of 1/6.\n",
    "\n",
    "Now, let's define two events:\n",
    "\n",
    "1. Event A: Rolling an even number on the first die.\n",
    "2. Event B: Rolling an odd number on the second die.\n",
    "\n",
    "In this example, we're interested in determining whether these events are independent.\n",
    "\n",
    "1. **Event A: Rolling an even number on the first die**:\n",
    "   - There are three even numbers on a fair die: 2, 4, and 6. Therefore, the probability of Event A is $(P(A) = \\frac{3}{6} = \\frac{1}{2})$.\n",
    "\n",
    "2. **Event B: Rolling an odd number on the second die**:\n",
    "   - There are three odd numbers on a fair die: 1, 3, and 5. Therefore, the probability of Event B is also $(P(B) = \\frac{3}{6} = \\frac{1}{2})$.\n",
    "\n",
    "Now, let's see if these events are independent by calculating the probability of both events occurring:\n",
    "\n",
    "- $(P(A \\cap B))$ represents the probability of rolling an even number on the first die AND rolling an odd number on the second die.\n",
    "\n",
    "Since the events are independent, the probability of both events occurring is the product of their individual probabilities:\n",
    "\n",
    "$[P(A \\cap B) = P(A) \\times P(B) = \\frac{1}{2} \\times \\frac{1}{2} = \\frac{1}{4}]$\n",
    "\n",
    "So, the probability of rolling an even number on the first die AND rolling an odd number on the second die is $(\\frac{1}{4})$.\n",
    "\n",
    "Since the probability of both events occurring is equal to the product of their individual probabilities, we can conclude that Events A and B are independent. In other words, knowing the outcome of the first die roll does not affect the likelihood of the outcome of the second die roll."
   ]
  },
  {
   "cell_type": "markdown",
   "id": "341448cf-e02b-4f57-8159-898cc58c84de",
   "metadata": {},
   "source": [
    "![](https://d138zd1ktt9iqe.cloudfront.net/media/seo_landing_files/formula-of-independent-events-1611291544.png)"
   ]
  }
 ],
 "metadata": {
  "kernelspec": {
   "display_name": "Python 3 (ipykernel)",
   "language": "python",
   "name": "python3"
  },
  "language_info": {
   "codemirror_mode": {
    "name": "ipython",
    "version": 3
   },
   "file_extension": ".py",
   "mimetype": "text/x-python",
   "name": "python",
   "nbconvert_exporter": "python",
   "pygments_lexer": "ipython3",
   "version": "3.11.5"
  }
 },
 "nbformat": 4,
 "nbformat_minor": 5
}
