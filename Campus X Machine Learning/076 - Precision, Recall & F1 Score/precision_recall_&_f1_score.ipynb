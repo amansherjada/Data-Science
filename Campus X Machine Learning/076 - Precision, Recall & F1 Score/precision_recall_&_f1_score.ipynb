{
 "cells": [
  {
   "cell_type": "markdown",
   "id": "52e4fed1-add7-4fab-a912-93ce7e3bc8ef",
   "metadata": {},
   "source": [
    "### Precision\n",
    "\n",
    "Precision in classification metrics refers to the proportion of true positive predictions among all positive predictions made by the model. It measures the accuracy of the positive predictions made by the model.\n",
    "\n",
    "Mathematically, precision is calculated as:\n",
    "\n",
    "`Precision = True Positives / (True Positives + False Positives)`\n",
    "\n",
    "In other words, precision answers the question: `\"Of all the items the model predicted as positive, how many were actually positive?\"`\n",
    "\n",
    "High precision indicates that the model makes few false positive predictions, which means it is good at identifying positive cases accurately. However, high precision does not necessarily mean the model is making accurate predictions overall; it could still be missing a lot of positive cases (false negatives).\n",
    "\n",
    "Precision is often used in combination with other metrics like recall, F1 score, or accuracy to evaluate the performance of a classification model comprehensively."
   ]
  },
  {
   "cell_type": "markdown",
   "id": "a4e0c88d-9f06-41a6-8ae1-7753aab051fe",
   "metadata": {},
   "source": [
    "### Example\n",
    "\n",
    "Let's consider a binary classification problem where we're trying to predict whether emails are spam or not spam (ham). \n",
    "\n",
    "Let's say we have a dataset with 100 emails, out of which 30 are actually spam and 70 are not spam. Now, our classifier predicts 20 emails as spam, out of which 15 are correctly classified as spam (True Positives) and 5 are incorrectly classified as spam (False Positives).\n",
    "\n",
    "In this example:\n",
    "\n",
    "- True Positives (TP) = 15\n",
    "- False Positives (FP) = 5\n",
    "\n",
    "Using the formula:\n",
    "\n",
    "`Precision = True Positives / (True Positives + False Positives)`\n",
    "\n",
    "Precision = 15 / 15 + 5 = 15 / 20 = 0.75 \n",
    "\n",
    "So, the precision of our classifier for predicting spam emails is 0.75 or 75%.\n",
    "\n",
    "This means that out of all the emails our classifier predicted as spam, 75% of them were actually spam. In other words, when our classifier says an email is spam, it is correct 75% of the time."
   ]
  },
  {
   "cell_type": "markdown",
   "id": "c57904f1-8b89-4924-958d-345bfeae3738",
   "metadata": {},
   "source": [
    "![Formula](https://miro.medium.com/v2/resize:fit:640/format:webp/1*7J08ekAwupLBegeUI8muHA.png)"
   ]
  },
  {
   "cell_type": "markdown",
   "id": "f9d8c351-2fc8-4741-a621-476b60425795",
   "metadata": {},
   "source": [
    "### Recall\n",
    "\n",
    "Recall, also known as sensitivity or true positive rate, is a classification metric that measures the ability of a model to identify all relevant instances, or in other words, it measures the proportion of actual positives that were correctly identified by the model.\n",
    "\n",
    "Mathematically, recall is calculated as:\n",
    "\n",
    "`ecall = True Positives / (True Positives + False Negatives)`\r\n",
    "\n",
    "In simple terms, recall answers the question:` \"Of all the actual positive cases, how many did the model correctly identify as positive?`\"\n",
    "\n",
    "A high recall indicates that the model is good at capturing positive instances, minimizing the number of false negatives (instances wrongly classified as negative). However, a high recall may come at the expense of precision, where the model may also classify many negatives as positives, leading to false positives.\n",
    "\n",
    "Recall is often used in combination with precision, F1 score, or accuracy to provide a comprehensive evaluation of a classification model's performance."
   ]
  },
  {
   "cell_type": "markdown",
   "id": "172fca72-692a-45d6-9db6-72e997e3733b",
   "metadata": {},
   "source": [
    "### Example\n",
    "\n",
    "Let's consider a simplified example using a cancer dataset. Suppose we have a dataset of 100 patients who underwent cancer testing, out of which 30 patients have cancer (positive cases) and 70 do not have cancer (negative cases). Our classifier predicts 40 patients as having cancer.\n",
    "\n",
    "Out of these predictions, let's say 25 patients who actually have cancer are correctly identified by the classifier (True Positives), but 5 patients with cancer are missed by the classifier (False Negatives).\n",
    "\n",
    "In this example:\n",
    "\n",
    "- True Positives (TP) = 25\n",
    "- False Negatives (FN) = 5\n",
    "\n",
    "Using the formula for recall:\n",
    "\n",
    "Recall = True Positives / (True Positives + False Negatives)\n",
    "\n",
    "Recall = 25 / 25 + 5 = 25 / 30 = 0.83\n",
    "\n",
    "So, the recall of our classifier for predicting cancer cases is 0.83 or 83%.\n",
    "\n",
    "This means that out of all the patients who actually have cancer, our classifier correctly identified 83% of them. In other words, when a patient truly has cancer, the classifier was able to detect it correctly 83% of the time."
   ]
  },
  {
   "cell_type": "markdown",
   "id": "ed029cb4-de7d-4e27-8b9d-6fb5ffcd2310",
   "metadata": {},
   "source": [
    "### Precision & Recall questions\n",
    "\n",
    "These two questions address different aspects of the model's performance in a classification task:\n",
    "\n",
    "1. **\"Of all the actual positive cases, how many did the model correctly identify as positive?\"** - This question is related to the concept of `recall`. It focuses on evaluating how well the model identifies instances of the positive class from the entire pool of positive instances in the dataset. It measures the model's ability to capture all relevant positive cases and avoid missing any `(i.e., minimizing false negatives)`.\n",
    "\n",
    "2. **\"Of all the items the model predicted as positive, how many were actually positive?\"** - This question pertains to `precision`. It assesses the accuracy of the model's positive predictions among all instances that it classified as positive. It measures the model's ability to avoid incorrectly labeling negative instances as positive `(i.e., minimizing false positives)`.\n",
    "\n",
    "In summary, while recall emphasizes the model's ability to find all relevant instances of the positive class, precision focuses on the model's accuracy in labeling instances as positive. Both metrics are essential in evaluating the overall effectiveness of a classification model, as they provide complementary insights into its performance."
   ]
  },
  {
   "cell_type": "markdown",
   "id": "ba30b5b1-5b6f-418b-bde2-e5a41bd277f3",
   "metadata": {},
   "source": [
    "### F1 score\n",
    "\n",
    "The F1 score is a metric used to evaluate the performance of a classification model. It is the harmonic mean of precision and recall, providing a balance between these two metrics.\n",
    "\n",
    "`When it is hard to decide what to minimizing false positives or false negatives we use F1 score`\n",
    "\n",
    "The formula for the F1 score is:\n",
    "\n",
    "`F1 Score = 2 * (Precision * Recall) / (Precision + Recall)`\n",
    "\n",
    "or equivalently:\n",
    "\n",
    "`F1 Score = 2 * True Positives / (2 * True Positives + False Positives + False Negatives)`\n",
    "\n",
    "The F1 score takes both false positives and false negatives into account, making it a useful metric when the class distribution is imbalanced. It reaches its best value at 1 and worst value at 0.\n",
    "\n",
    "In summary, the F1 score provides a single value that represents the balance between precision and recall, making it a useful metric for evaluating the overall performance of a classification model."
   ]
  },
  {
   "cell_type": "markdown",
   "id": "e3113f5e-fbdd-4c1d-a030-3d24f5fb20e2",
   "metadata": {},
   "source": [
    "### Why to use F1 Score\n",
    "\n",
    "While precision and recall are useful metrics individually, they may not always provide a complete picture of the performance of a classification model, especially when dealing with imbalanced datasets.\r\n",
    "\r\n",
    "Here are some reasons why the F1 score, which combines precision and recall, is commonly used:\r\n",
    "\r\n",
    "1. **Balance between Precision and Recall**: The F1 score provides a balance between precision and recall. It takes into account both false positives (which affect precision) and false negatives (which affect recall). This is particularly important when the cost of false positives and false negatives differs significantly.\r\n",
    "\r\n",
    "2. **Imbalanced Datasets**: In datasets where one class is significantly more prevalent than the other, precision or recall alone may not adequately reflect the model's performance. The F1 score considers both true positives and false negatives, making it more suitable for imbalanced datasets.\r\n",
    "\r\n",
    "3. **Single Metric**: Using the F1 score allows for a single metric to summarize the performance of the model. This simplifies the evaluation process, especially when comparing multiple models or tuning hyperparameters.\r\n",
    "\r\n",
    "4. **Trade-off between Precision and Recall**: The F1 score captures the trade-off between precision and recall. In some applications, such as information retrieval or medical diagnostics, there is a trade-off between precision and recall, and the F1 score helps in assessing this balance.\r\n",
    "\r\n",
    "5. **Threshold Selection**: The F1 score can be useful for selecting the optimal classification threshold. By evaluating the F1 score at different thresholds, one can find the threshold that maximizes the balance between precision and recall.\r\n",
    "\r\n",
    "In summary, while precision and recall are informative on their own, the F1 score provides a more comprehensive evaluation of a classification model's performance, especially in scenarios involving imbalanced datasets or when there's a need to balance precision and recall."
   ]
  },
  {
   "cell_type": "code",
   "execution_count": 1,
   "id": "034775bf-79f0-456c-b48a-551c6c08eb9e",
   "metadata": {},
   "outputs": [],
   "source": [
    "import pandas as pd\n",
    "import numpy as np"
   ]
  },
  {
   "cell_type": "code",
   "execution_count": 2,
   "id": "d784f2a7-4926-4192-809a-7bc923e2cb61",
   "metadata": {},
   "outputs": [],
   "source": [
    "df = pd.read_csv('heart.csv')"
   ]
  },
  {
   "cell_type": "code",
   "execution_count": 3,
   "id": "dfca3916-6d08-4480-83d2-c99af280bceb",
   "metadata": {},
   "outputs": [
    {
     "data": {
      "text/html": [
       "<div>\n",
       "<style scoped>\n",
       "    .dataframe tbody tr th:only-of-type {\n",
       "        vertical-align: middle;\n",
       "    }\n",
       "\n",
       "    .dataframe tbody tr th {\n",
       "        vertical-align: top;\n",
       "    }\n",
       "\n",
       "    .dataframe thead th {\n",
       "        text-align: right;\n",
       "    }\n",
       "</style>\n",
       "<table border=\"1\" class=\"dataframe\">\n",
       "  <thead>\n",
       "    <tr style=\"text-align: right;\">\n",
       "      <th></th>\n",
       "      <th>age</th>\n",
       "      <th>sex</th>\n",
       "      <th>cp</th>\n",
       "      <th>trestbps</th>\n",
       "      <th>chol</th>\n",
       "      <th>fbs</th>\n",
       "      <th>restecg</th>\n",
       "      <th>thalach</th>\n",
       "      <th>exang</th>\n",
       "      <th>oldpeak</th>\n",
       "      <th>slope</th>\n",
       "      <th>ca</th>\n",
       "      <th>thal</th>\n",
       "      <th>target</th>\n",
       "    </tr>\n",
       "  </thead>\n",
       "  <tbody>\n",
       "    <tr>\n",
       "      <th>0</th>\n",
       "      <td>52</td>\n",
       "      <td>1</td>\n",
       "      <td>0</td>\n",
       "      <td>125</td>\n",
       "      <td>212</td>\n",
       "      <td>0</td>\n",
       "      <td>1</td>\n",
       "      <td>168</td>\n",
       "      <td>0</td>\n",
       "      <td>1.0</td>\n",
       "      <td>2</td>\n",
       "      <td>2</td>\n",
       "      <td>3</td>\n",
       "      <td>0</td>\n",
       "    </tr>\n",
       "    <tr>\n",
       "      <th>1</th>\n",
       "      <td>53</td>\n",
       "      <td>1</td>\n",
       "      <td>0</td>\n",
       "      <td>140</td>\n",
       "      <td>203</td>\n",
       "      <td>1</td>\n",
       "      <td>0</td>\n",
       "      <td>155</td>\n",
       "      <td>1</td>\n",
       "      <td>3.1</td>\n",
       "      <td>0</td>\n",
       "      <td>0</td>\n",
       "      <td>3</td>\n",
       "      <td>0</td>\n",
       "    </tr>\n",
       "    <tr>\n",
       "      <th>2</th>\n",
       "      <td>70</td>\n",
       "      <td>1</td>\n",
       "      <td>0</td>\n",
       "      <td>145</td>\n",
       "      <td>174</td>\n",
       "      <td>0</td>\n",
       "      <td>1</td>\n",
       "      <td>125</td>\n",
       "      <td>1</td>\n",
       "      <td>2.6</td>\n",
       "      <td>0</td>\n",
       "      <td>0</td>\n",
       "      <td>3</td>\n",
       "      <td>0</td>\n",
       "    </tr>\n",
       "    <tr>\n",
       "      <th>3</th>\n",
       "      <td>61</td>\n",
       "      <td>1</td>\n",
       "      <td>0</td>\n",
       "      <td>148</td>\n",
       "      <td>203</td>\n",
       "      <td>0</td>\n",
       "      <td>1</td>\n",
       "      <td>161</td>\n",
       "      <td>0</td>\n",
       "      <td>0.0</td>\n",
       "      <td>2</td>\n",
       "      <td>1</td>\n",
       "      <td>3</td>\n",
       "      <td>0</td>\n",
       "    </tr>\n",
       "    <tr>\n",
       "      <th>4</th>\n",
       "      <td>62</td>\n",
       "      <td>0</td>\n",
       "      <td>0</td>\n",
       "      <td>138</td>\n",
       "      <td>294</td>\n",
       "      <td>1</td>\n",
       "      <td>1</td>\n",
       "      <td>106</td>\n",
       "      <td>0</td>\n",
       "      <td>1.9</td>\n",
       "      <td>1</td>\n",
       "      <td>3</td>\n",
       "      <td>2</td>\n",
       "      <td>0</td>\n",
       "    </tr>\n",
       "  </tbody>\n",
       "</table>\n",
       "</div>"
      ],
      "text/plain": [
       "   age  sex  cp  trestbps  chol  fbs  restecg  thalach  exang  oldpeak  slope  \\\n",
       "0   52    1   0       125   212    0        1      168      0      1.0      2   \n",
       "1   53    1   0       140   203    1        0      155      1      3.1      0   \n",
       "2   70    1   0       145   174    0        1      125      1      2.6      0   \n",
       "3   61    1   0       148   203    0        1      161      0      0.0      2   \n",
       "4   62    0   0       138   294    1        1      106      0      1.9      1   \n",
       "\n",
       "   ca  thal  target  \n",
       "0   2     3       0  \n",
       "1   0     3       0  \n",
       "2   0     3       0  \n",
       "3   1     3       0  \n",
       "4   3     2       0  "
      ]
     },
     "execution_count": 3,
     "metadata": {},
     "output_type": "execute_result"
    }
   ],
   "source": [
    "df.head()"
   ]
  },
  {
   "cell_type": "code",
   "execution_count": 4,
   "id": "ae126213-9fbb-4298-b6a0-4f5aff34b99b",
   "metadata": {},
   "outputs": [],
   "source": [
    "from sklearn.model_selection import train_test_split\n",
    "X_train,X_test,y_train,y_test = train_test_split(df.iloc[:,0:-1],df.iloc[:,-1],test_size=0.2,random_state=2)"
   ]
  },
  {
   "cell_type": "code",
   "execution_count": 5,
   "id": "4d14ca2c-8804-43c0-97fe-904bba82f2dd",
   "metadata": {},
   "outputs": [],
   "source": [
    "from sklearn.linear_model import LogisticRegression\n",
    "from sklearn.tree import DecisionTreeClassifier"
   ]
  },
  {
   "cell_type": "code",
   "execution_count": 6,
   "id": "742bc1eb-244f-46b8-ab58-16f71a3913ee",
   "metadata": {},
   "outputs": [],
   "source": [
    "clf1 = LogisticRegression()\n",
    "clf2 = DecisionTreeClassifier()"
   ]
  },
  {
   "cell_type": "code",
   "execution_count": 7,
   "id": "89f75e1a-6d2f-4746-8884-a932eb1e9b8e",
   "metadata": {},
   "outputs": [
    {
     "name": "stderr",
     "output_type": "stream",
     "text": [
      "C:\\ProgramData\\anaconda3\\Lib\\site-packages\\sklearn\\linear_model\\_logistic.py:458: ConvergenceWarning: lbfgs failed to converge (status=1):\n",
      "STOP: TOTAL NO. of ITERATIONS REACHED LIMIT.\n",
      "\n",
      "Increase the number of iterations (max_iter) or scale the data as shown in:\n",
      "    https://scikit-learn.org/stable/modules/preprocessing.html\n",
      "Please also refer to the documentation for alternative solver options:\n",
      "    https://scikit-learn.org/stable/modules/linear_model.html#logistic-regression\n",
      "  n_iter_i = _check_optimize_result(\n"
     ]
    },
    {
     "data": {
      "text/html": [
       "<style>#sk-container-id-1 {color: black;background-color: white;}#sk-container-id-1 pre{padding: 0;}#sk-container-id-1 div.sk-toggleable {background-color: white;}#sk-container-id-1 label.sk-toggleable__label {cursor: pointer;display: block;width: 100%;margin-bottom: 0;padding: 0.3em;box-sizing: border-box;text-align: center;}#sk-container-id-1 label.sk-toggleable__label-arrow:before {content: \"▸\";float: left;margin-right: 0.25em;color: #696969;}#sk-container-id-1 label.sk-toggleable__label-arrow:hover:before {color: black;}#sk-container-id-1 div.sk-estimator:hover label.sk-toggleable__label-arrow:before {color: black;}#sk-container-id-1 div.sk-toggleable__content {max-height: 0;max-width: 0;overflow: hidden;text-align: left;background-color: #f0f8ff;}#sk-container-id-1 div.sk-toggleable__content pre {margin: 0.2em;color: black;border-radius: 0.25em;background-color: #f0f8ff;}#sk-container-id-1 input.sk-toggleable__control:checked~div.sk-toggleable__content {max-height: 200px;max-width: 100%;overflow: auto;}#sk-container-id-1 input.sk-toggleable__control:checked~label.sk-toggleable__label-arrow:before {content: \"▾\";}#sk-container-id-1 div.sk-estimator input.sk-toggleable__control:checked~label.sk-toggleable__label {background-color: #d4ebff;}#sk-container-id-1 div.sk-label input.sk-toggleable__control:checked~label.sk-toggleable__label {background-color: #d4ebff;}#sk-container-id-1 input.sk-hidden--visually {border: 0;clip: rect(1px 1px 1px 1px);clip: rect(1px, 1px, 1px, 1px);height: 1px;margin: -1px;overflow: hidden;padding: 0;position: absolute;width: 1px;}#sk-container-id-1 div.sk-estimator {font-family: monospace;background-color: #f0f8ff;border: 1px dotted black;border-radius: 0.25em;box-sizing: border-box;margin-bottom: 0.5em;}#sk-container-id-1 div.sk-estimator:hover {background-color: #d4ebff;}#sk-container-id-1 div.sk-parallel-item::after {content: \"\";width: 100%;border-bottom: 1px solid gray;flex-grow: 1;}#sk-container-id-1 div.sk-label:hover label.sk-toggleable__label {background-color: #d4ebff;}#sk-container-id-1 div.sk-serial::before {content: \"\";position: absolute;border-left: 1px solid gray;box-sizing: border-box;top: 0;bottom: 0;left: 50%;z-index: 0;}#sk-container-id-1 div.sk-serial {display: flex;flex-direction: column;align-items: center;background-color: white;padding-right: 0.2em;padding-left: 0.2em;position: relative;}#sk-container-id-1 div.sk-item {position: relative;z-index: 1;}#sk-container-id-1 div.sk-parallel {display: flex;align-items: stretch;justify-content: center;background-color: white;position: relative;}#sk-container-id-1 div.sk-item::before, #sk-container-id-1 div.sk-parallel-item::before {content: \"\";position: absolute;border-left: 1px solid gray;box-sizing: border-box;top: 0;bottom: 0;left: 50%;z-index: -1;}#sk-container-id-1 div.sk-parallel-item {display: flex;flex-direction: column;z-index: 1;position: relative;background-color: white;}#sk-container-id-1 div.sk-parallel-item:first-child::after {align-self: flex-end;width: 50%;}#sk-container-id-1 div.sk-parallel-item:last-child::after {align-self: flex-start;width: 50%;}#sk-container-id-1 div.sk-parallel-item:only-child::after {width: 0;}#sk-container-id-1 div.sk-dashed-wrapped {border: 1px dashed gray;margin: 0 0.4em 0.5em 0.4em;box-sizing: border-box;padding-bottom: 0.4em;background-color: white;}#sk-container-id-1 div.sk-label label {font-family: monospace;font-weight: bold;display: inline-block;line-height: 1.2em;}#sk-container-id-1 div.sk-label-container {text-align: center;}#sk-container-id-1 div.sk-container {/* jupyter's `normalize.less` sets `[hidden] { display: none; }` but bootstrap.min.css set `[hidden] { display: none !important; }` so we also need the `!important` here to be able to override the default hidden behavior on the sphinx rendered scikit-learn.org. See: https://github.com/scikit-learn/scikit-learn/issues/21755 */display: inline-block !important;position: relative;}#sk-container-id-1 div.sk-text-repr-fallback {display: none;}</style><div id=\"sk-container-id-1\" class=\"sk-top-container\"><div class=\"sk-text-repr-fallback\"><pre>DecisionTreeClassifier()</pre><b>In a Jupyter environment, please rerun this cell to show the HTML representation or trust the notebook. <br />On GitHub, the HTML representation is unable to render, please try loading this page with nbviewer.org.</b></div><div class=\"sk-container\" hidden><div class=\"sk-item\"><div class=\"sk-estimator sk-toggleable\"><input class=\"sk-toggleable__control sk-hidden--visually\" id=\"sk-estimator-id-1\" type=\"checkbox\" checked><label for=\"sk-estimator-id-1\" class=\"sk-toggleable__label sk-toggleable__label-arrow\">DecisionTreeClassifier</label><div class=\"sk-toggleable__content\"><pre>DecisionTreeClassifier()</pre></div></div></div></div></div>"
      ],
      "text/plain": [
       "DecisionTreeClassifier()"
      ]
     },
     "execution_count": 7,
     "metadata": {},
     "output_type": "execute_result"
    }
   ],
   "source": [
    "clf1.fit(X_train,y_train)\n",
    "clf2.fit(X_train,y_train)"
   ]
  },
  {
   "cell_type": "code",
   "execution_count": 8,
   "id": "8abd171d-9011-46c5-918f-2e2a6c7711ae",
   "metadata": {},
   "outputs": [],
   "source": [
    "y_pred1 = clf1.predict(X_test)\n",
    "y_pred2 = clf2.predict(X_test)"
   ]
  },
  {
   "cell_type": "code",
   "execution_count": 9,
   "id": "5dc513b5-2622-40fb-9810-a33dd8923f0a",
   "metadata": {},
   "outputs": [],
   "source": [
    "from sklearn.metrics import confusion_matrix"
   ]
  },
  {
   "cell_type": "code",
   "execution_count": 10,
   "id": "3bbc60e2-1c4b-4b4a-b47e-94ccfc3bc022",
   "metadata": {},
   "outputs": [
    {
     "data": {
      "text/plain": [
       "array([[82, 23],\n",
       "       [10, 90]], dtype=int64)"
      ]
     },
     "execution_count": 10,
     "metadata": {},
     "output_type": "execute_result"
    }
   ],
   "source": [
    "confusion_matrix(y_test, y_pred1)"
   ]
  },
  {
   "cell_type": "code",
   "execution_count": 11,
   "id": "0f2b1f7a-4922-4cd1-9fd3-1024c4cab6e8",
   "metadata": {},
   "outputs": [
    {
     "data": {
      "text/plain": [
       "array([[101,   4],\n",
       "       [  0, 100]], dtype=int64)"
      ]
     },
     "execution_count": 11,
     "metadata": {},
     "output_type": "execute_result"
    }
   ],
   "source": [
    "confusion_matrix(y_test, y_pred2)"
   ]
  },
  {
   "cell_type": "code",
   "execution_count": 12,
   "id": "ac3a1952-0e03-41c2-94d5-f902ac49275b",
   "metadata": {},
   "outputs": [],
   "source": [
    "from sklearn.metrics import recall_score,precision_score,f1_score"
   ]
  },
  {
   "cell_type": "code",
   "execution_count": 13,
   "id": "9a399fa7-ec51-4f57-920b-eb811b3e0c15",
   "metadata": {},
   "outputs": [
    {
     "name": "stdout",
     "output_type": "stream",
     "text": [
      "For Logistic regression Model\n",
      "--------------------------------------------------\n",
      "    0   1\n",
      "0  82  23\n",
      "1  10  90\n",
      "--------------------------------------------------\n",
      "Precision -  0.7964601769911505\n",
      "Recall -  0.9\n",
      "F1 score -  0.8450704225352113\n"
     ]
    }
   ],
   "source": [
    "print(\"For Logistic regression Model\")\n",
    "print(\"-\"*50)\n",
    "cdf = pd.DataFrame(confusion_matrix(y_test,y_pred1),columns=list(range(0,2)))\n",
    "print(cdf)\n",
    "print(\"-\"*50)\n",
    "print(\"Precision - \",precision_score(y_test,y_pred1))\n",
    "print(\"Recall - \",recall_score(y_test,y_pred1))\n",
    "print(\"F1 score - \",f1_score(y_test,y_pred1))"
   ]
  },
  {
   "cell_type": "code",
   "execution_count": 14,
   "id": "d7ffce22-dee4-4599-a6bf-e82f10d6f4fa",
   "metadata": {},
   "outputs": [
    {
     "name": "stdout",
     "output_type": "stream",
     "text": [
      "For DT Model\n",
      "--------------------------------------------------\n",
      "     0    1\n",
      "0  101    4\n",
      "1    0  100\n",
      "--------------------------------------------------\n",
      "Precision -  0.9615384615384616\n",
      "Recall -  1.0\n",
      "F1 score -  0.9803921568627451\n"
     ]
    }
   ],
   "source": [
    "print(\"For DT Model\")\n",
    "print(\"-\"*50)\n",
    "cdf = pd.DataFrame(confusion_matrix(y_test,y_pred2),columns=list(range(0,2)))\n",
    "print(cdf)\n",
    "print(\"-\"*50)\n",
    "print(\"Precision - \",precision_score(y_test,y_pred2))\n",
    "print(\"Recall - \",recall_score(y_test,y_pred2))\n",
    "print(\"F1 score - \",f1_score(y_test,y_pred2))"
   ]
  },
  {
   "cell_type": "markdown",
   "id": "6a9da12a-7663-4acc-a9ea-4bf1848ac0b8",
   "metadata": {},
   "source": [
    "### Multi-Class Pricision and Recall\n",
    "\n",
    "In the context of multi-class classification, precision, recall, and F1 score can be extended to evaluate the performance of the classifier across multiple classes. Here's how these metrics are defined for multi-class classification:\n",
    "\n",
    "1. **Precision**: Precision for a particular class \\( C_i \\) is calculated as the ratio of true positives for class \\( C_i \\) to the sum of true positives and false positives for class \\( C_i \\).\n",
    "\n",
    "\n",
    "Precision(C_i) = TP_C_i / (TP_C_i + FP_C_i)\n",
    "\n",
    "\n",
    "2. **Recall**: Recall for a particular class \\( C_i \\) is calculated as the ratio of true positives for class \\( C_i \\) to the sum of true positives and false negatives for class \\( C_i \\).\n",
    "\n",
    "Recall(C_i) = TP_C_i / (TP_C_i + FN_C_i)\n",
    "\n",
    "\n",
    "3. **F1 Score**: The F1 score for a particular class \\( C_i \\) is the harmonic mean of precision and recall for that class.\n",
    "\n",
    "F1_Score(C_i) = 2 * Precision(C_i) * Recall(C_i) / (Precision(C_i) + Recall(C_i))\n",
    "\n",
    "To compute these metrics for multi-class classification, you would typically aggregate the true positives, false positives, and false negatives across all classes. Then, you can calculate the precision, recall, and F1 score for each class individually, or you can compute macro-average or micro-average scores across all classes.\n",
    "\n",
    "- **Macro-average**: Computes the metric independently for each class and then takes the average. It gives equal weight to each class, regardless of class size.\n",
    "\n",
    "- **Micro-average**: Aggregates the contributions of all classes to compute the average metric. It gives equal weight to each instance, regardless of its class.\n",
    "\n",
    "- **Weighted-average**: Computes the average metric weighted by the number of true instances in each class. It gives more weight to larger classes.\n",
    "\n",
    "These metrics provide insight into how well the classifier performs for each individual class and overall across all classes in the multi-class classification problem."
   ]
  },
  {
   "cell_type": "markdown",
   "id": "0570671f-a544-4e6b-9563-6e8be0532abf",
   "metadata": {},
   "source": [
    "For Multi-Class caluculation refer this = https://youtu.be/iK-kdhJ-7yI?si=8xrN6Oen-ivRJ05P&t=1295"
   ]
  },
  {
   "attachments": {
    "4fe074ab-4295-485b-a667-9745e8cdf3ac.png": {
     "image/png": "[encoded data removed]"
    }
   },
   "cell_type": "markdown",
   "id": "b277d221-a279-4b51-8778-92f58460b00f",
   "metadata": {},
   "source": [
    "![](attachment:4fe074ab-4295-485b-a667-9745e8cdf3ac.png)\n",
    "\n"
   ]
  },
  {
   "cell_type": "markdown",
   "id": "7b8df6e0-0817-45ce-b24a-7b068c325207",
   "metadata": {},
   "source": [
    "![](https://miro.medium.com/v2/resize:fit:828/format:webp/1*DdVtgn3uHgBp3a9qjU9hqg.png)"
   ]
  },
  {
   "cell_type": "code",
   "execution_count": null,
   "id": "06b5655b-363d-458d-b6b4-fe28150eb7b2",
   "metadata": {},
   "outputs": [],
   "source": []
  }
 ],
 "metadata": {
  "kernelspec": {
   "display_name": "Python 3 (ipykernel)",
   "language": "python",
   "name": "python3"
  },
  "language_info": {
   "codemirror_mode": {
    "name": "ipython",
    "version": 3
   },
   "file_extension": ".py",
   "mimetype": "text/x-python",
   "name": "python",
   "nbconvert_exporter": "python",
   "pygments_lexer": "ipython3",
   "version": "3.11.5"
  }
 },
 "nbformat": 4,
 "nbformat_minor": 5
}
