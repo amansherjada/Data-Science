{
 "cells": [
  {
   "cell_type": "markdown",
   "id": "98b48f3b-7e47-46d7-b24d-a59c6352c4a8",
   "metadata": {},
   "source": [
    "## Logistic Regression\n",
    "\n",
    "Logistic Regression is a type of regression analysis used for predicting the probability of a binary outcome based on one or more predictor variables. Despite its name, it is actually a classification algorithm rather than a regression algorithm.\n",
    "\n",
    "In Logistic Regression, the dependent variable is binary, meaning it has only two possible outcomes (e.g., 0 or 1, yes or no, true or false). The goal of logistic regression is to model the probability that a given instance belongs to a particular class. This probability is modeled using a logistic function (also called the sigmoid function), which ensures that the predicted probabilities lie between 0 and 1.\n",
    "\n",
    "![Sigmoid](sigmoid.png)\n",
    "\n",
    "The logistic regression model estimates the values of the coefficients \tβ_1, β_2, β_3,.....β_n using maximum likelihood estimation or other optimization techniques. These coefficients represent the relationship between the independent variables and the log-odds of the dependent variable being 1.\n",
    "\n",
    "Logistic Regression is widely used in various fields, including medicine, finance, marketing, and social sciences, for tasks such as predicting whether a customer will churn, whether an email is spam or not, or whether a patient has a disease based on certain diagnostic tests."
   ]
  },
  {
   "cell_type": "markdown",
   "id": "9061d856-9ce7-4899-ab2e-03e80f022e3b",
   "metadata": {},
   "source": [
    "Video = https://youtu.be/XNXzVfItWGY?si=1-vXHORIL_67DdhV"
   ]
  },
  {
   "cell_type": "markdown",
   "id": "7c6d2130-e548-4afe-98f5-c735aab748f1",
   "metadata": {},
   "source": [
    "### Perceptron Trick\n",
    "\n",
    "The Perceptron Trick is a technique used to update the weights of a perceptron (a type of artificial neuron) in order to correctly classify input data points. It is a fundamental concept in the field of neural networks and forms the basis for learning in single-layer perceptrons.\n",
    "\n",
    "Here's how the Perceptron Trick works:\n",
    "\n",
    "1. **Initialization:** Initially, the weights of the perceptron are randomly initialized or set to some initial values.\n",
    "\n",
    "2. **Iterative Update:** For each training example, the perceptron makes a prediction based on the current weights and compares it to the true label. If the prediction is incorrect, the weights are adjusted using the Perceptron Trick.\n",
    "\n",
    "3. **Error Calculation:** If the perceptron misclassifies an input example, the weights are adjusted in the direction that would reduce the error.\n",
    "\n",
    "4. **Weight Update:** The weights are updated according to the following formula:\n",
    "   \n",
    "   `w_i := w_i + α × (y - ŷ) × x_i`\n",
    "\n",
    "   - w_i is the weight associated with the \\( i \\)-th feature.\n",
    "   - alpha is the learning rate, controlling the size of the update step.\n",
    "   - y is the true label of the input example.\n",
    "   - ŷ is the predicted label of the input example.\n",
    "   - x_i is the value of the \\( i \\)-th feature of the input example.\n",
    "\n",
    "   This formula updates the weights in the direction that would reduce the error, scaled by the learning rate \\( \\alpha \\).\n",
    "\n",
    "5. **Iteration:** The process is repeated for multiple iterations (epochs) or until convergence, where the perceptron makes predictions that are consistent with the training data.\n",
    "\n",
    "The Perceptron Trick is a simple yet effective algorithm for training a perceptron to learn linear decision boundaries. However, it has limitations, such as being unable to learn non-linear decision boundaries and being sensitive to the order of training examples. More advanced techniques, such as gradient descent and backpropagation, are used to train multi-layer perceptrons and deep neural networks."
   ]
  }
 ],
 "metadata": {
  "kernelspec": {
   "display_name": "Python 3 (ipykernel)",
   "language": "python",
   "name": "python3"
  },
  "language_info": {
   "codemirror_mode": {
    "name": "ipython",
    "version": 3
   },
   "file_extension": ".py",
   "mimetype": "text/x-python",
   "name": "python",
   "nbconvert_exporter": "python",
   "pygments_lexer": "ipython3",
   "version": "3.11.5"
  }
 },
 "nbformat": 4,
 "nbformat_minor": 5
}
