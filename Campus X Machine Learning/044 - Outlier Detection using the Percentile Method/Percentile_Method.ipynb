{
 "cells": [
  {
   "cell_type": "markdown",
   "id": "34c94244-3e63-48a2-b540-c0f111943a43",
   "metadata": {},
   "source": [
    "Outlier detection using the percentile method is a technique for identifying data points that significantly deviate from the rest of the data. It leverages the concept of percentiles, which divide your data into 100 equal parts. Here's how it works:\r\n",
    "\r\n",
    "**1. Define your threshold:**\r\n",
    "\r\n",
    "Instead of a fixed range like the Interquartile Range (IQR) method, percentiles offer flexibility. You choose specific percentiles, like the 1st and 99th, representing 1% and 99% of the data, respectively. These represent your **threshold**:\r\n",
    "\r\n",
    "* Values below the 1st percentile are potential **low outliers**.\r\n",
    "* Values above the 99th percentile are potential **high outliers**.\r\n",
    "\r\n",
    "**2. Identify and address outliers:**\r\n",
    "\r\n",
    "Compare each data point to your chosen thresholds. Any point:\r\n",
    "\r\n",
    "* **Below the 1st percentile:** is considered a **low outlier**.\r\n",
    "* **Above the 99th percentile:** is considered a **high outlier**.\r\n",
    "\r\n",
    "**3. Handling outliers:**\r\n",
    "\r\n",
    "You have various options for handling outliers:\r\n",
    "\r\n",
    "* **Removal:** Exclude them from further analysis, but be cautious as it might discard valuable information.\r\n",
    "* **Capping:** Replace outliers with the threshold values (1st or 99th percentile). This maintains data size but reduces impact. This technique is called **Winsorization**.\r\n",
    "* **Imputation:** Use statistical methods like mean or median to replace outliers with more representative values.\r\n",
    "* **Investigation:** Analyze the outliers to understand if they represent genuine anomalies or errors.\r\n",
    "\r\n",
    "**Advantages:**\r\n",
    "\r\n",
    "* Flexible: You can adapt thresholds based on your data and domain knowledge.\r\n",
    "* Handles skewed data: Works well with non-normal distributions compared to IQR.\r\n",
    "* Transparency: Clear definition of outlier based on chosen percentiles.\r\n",
    "\r\n",
    "**Disadvantages:**\r\n",
    "\r\n",
    "* Subjective choice of thresholds: Requires careful consideration based on context.\r\n",
    "* Arbitrary removal of data: May discard valuable information if not done judiciously.\r\n",
    "* Potential masking of true outliers: If thresholds are not set carefully, true outliers might remain undetected.\r\n",
    "\r\n",
    "Remember, outlier detection is not about removing \"weird\" data, but about understanding what deviates from the expected pattern and why. Use the percentile method cautiously, considering its advantages and limitations in the context of your specific data and analysis goals."
   ]
  },
  {
   "cell_type": "markdown",
   "id": "d324a213-9c53-4821-85ec-56a08c04d1ea",
   "metadata": {},
   "source": [
    "Data= https://raw.githubusercontent.com/campusx-official/100-days-of-machine-learning/main/day44-outlier-detection-using-percentiles/weight-height.csv"
   ]
  },
  {
   "cell_type": "code",
   "execution_count": 1,
   "id": "d79e1b71-0e9a-4fb9-b025-d3feb84107eb",
   "metadata": {},
   "outputs": [],
   "source": [
    "import pandas as pd\n",
    "import numpy as np\n",
    "import seaborn as sns\n",
    "import matplotlib.pyplot as plt"
   ]
  },
  {
   "cell_type": "code",
   "execution_count": 2,
   "id": "ea14697e-f35e-4d1a-bd85-e9c5d5207090",
   "metadata": {},
   "outputs": [],
   "source": [
    "df = pd.read_csv('https://raw.githubusercontent.com/campusx-official/100-days-of-machine-learning/main/day44-outlier-detection-using-percentiles/weight-height.csv')"
   ]
  },
  {
   "cell_type": "code",
   "execution_count": 3,
   "id": "4a2d7c76-216d-49a0-abab-0d9b848526b7",
   "metadata": {},
   "outputs": [
    {
     "data": {
      "text/html": [
       "<div>\n",
       "<style scoped>\n",
       "    .dataframe tbody tr th:only-of-type {\n",
       "        vertical-align: middle;\n",
       "    }\n",
       "\n",
       "    .dataframe tbody tr th {\n",
       "        vertical-align: top;\n",
       "    }\n",
       "\n",
       "    .dataframe thead th {\n",
       "        text-align: right;\n",
       "    }\n",
       "</style>\n",
       "<table border=\"1\" class=\"dataframe\">\n",
       "  <thead>\n",
       "    <tr style=\"text-align: right;\">\n",
       "      <th></th>\n",
       "      <th>Gender</th>\n",
       "      <th>Height</th>\n",
       "      <th>Weight</th>\n",
       "    </tr>\n",
       "  </thead>\n",
       "  <tbody>\n",
       "    <tr>\n",
       "      <th>0</th>\n",
       "      <td>Male</td>\n",
       "      <td>73.847017</td>\n",
       "      <td>241.893563</td>\n",
       "    </tr>\n",
       "    <tr>\n",
       "      <th>1</th>\n",
       "      <td>Male</td>\n",
       "      <td>68.781904</td>\n",
       "      <td>162.310473</td>\n",
       "    </tr>\n",
       "    <tr>\n",
       "      <th>2</th>\n",
       "      <td>Male</td>\n",
       "      <td>74.110105</td>\n",
       "      <td>212.740856</td>\n",
       "    </tr>\n",
       "    <tr>\n",
       "      <th>3</th>\n",
       "      <td>Male</td>\n",
       "      <td>71.730978</td>\n",
       "      <td>220.042470</td>\n",
       "    </tr>\n",
       "    <tr>\n",
       "      <th>4</th>\n",
       "      <td>Male</td>\n",
       "      <td>69.881796</td>\n",
       "      <td>206.349801</td>\n",
       "    </tr>\n",
       "  </tbody>\n",
       "</table>\n",
       "</div>"
      ],
      "text/plain": [
       "  Gender     Height      Weight\n",
       "0   Male  73.847017  241.893563\n",
       "1   Male  68.781904  162.310473\n",
       "2   Male  74.110105  212.740856\n",
       "3   Male  71.730978  220.042470\n",
       "4   Male  69.881796  206.349801"
      ]
     },
     "execution_count": 3,
     "metadata": {},
     "output_type": "execute_result"
    }
   ],
   "source": [
    "df.head()"
   ]
  },
  {
   "cell_type": "code",
   "execution_count": 4,
   "id": "c8525e81-53ed-42ab-a4e9-5c6d7b2e9412",
   "metadata": {},
   "outputs": [
    {
     "data": {
      "text/plain": [
       "(10000, 3)"
      ]
     },
     "execution_count": 4,
     "metadata": {},
     "output_type": "execute_result"
    }
   ],
   "source": [
    "df.shape"
   ]
  },
  {
   "cell_type": "code",
   "execution_count": 5,
   "id": "3637da40-3e4f-42aa-a267-850d9a706105",
   "metadata": {},
   "outputs": [
    {
     "data": {
      "text/plain": [
       "count    10000.000000\n",
       "mean        66.367560\n",
       "std          3.847528\n",
       "min         54.263133\n",
       "25%         63.505620\n",
       "50%         66.318070\n",
       "75%         69.174262\n",
       "max         78.998742\n",
       "Name: Height, dtype: float64"
      ]
     },
     "execution_count": 5,
     "metadata": {},
     "output_type": "execute_result"
    }
   ],
   "source": [
    "df['Height'].describe()"
   ]
  },
  {
   "cell_type": "code",
   "execution_count": 6,
   "id": "be84088b-c7e3-4ad1-88a7-4707ec98bdab",
   "metadata": {},
   "outputs": [
    {
     "data": {
      "text/plain": [
       "<Axes: xlabel='Height', ylabel='Density'>"
      ]
     },
     "execution_count": 6,
     "metadata": {},
     "output_type": "execute_result"
    },
    {
     "data": {
      "image/png": "[encoded data removed]",
      "text/plain": [
       "<Figure size 640x480 with 1 Axes>"
      ]
     },
     "metadata": {},
     "output_type": "display_data"
    }
   ],
   "source": [
    "sns.kdeplot(df['Height'])"
   ]
  },
  {
   "cell_type": "code",
   "execution_count": 7,
   "id": "29f40f40-69f9-4240-ae11-ba6ac33414c1",
   "metadata": {},
   "outputs": [
    {
     "data": {
      "text/plain": [
       "<Axes: xlabel='Height'>"
      ]
     },
     "execution_count": 7,
     "metadata": {},
     "output_type": "execute_result"
    },
    {
     "data": {
      "image/png": "[encoded data removed]",
      "text/plain": [
       "<Figure size 640x480 with 1 Axes>"
      ]
     },
     "metadata": {},
     "output_type": "display_data"
    }
   ],
   "source": [
    "sns.boxplot(x = df['Height'])"
   ]
  },
  {
   "cell_type": "code",
   "execution_count": 8,
   "id": "83ecb0dd-5428-4e0e-bcf0-7dc6f0e0f400",
   "metadata": {},
   "outputs": [],
   "source": [
    "upper_limit = np.percentile(df['Height'], 99)\n",
    "lower_limit = np.percentile(df['Height'], 1)"
   ]
  },
  {
   "cell_type": "code",
   "execution_count": 9,
   "id": "88ffce61-8042-4f6b-aec0-d1d238fed792",
   "metadata": {},
   "outputs": [
    {
     "data": {
      "text/plain": [
       "(74.7857900583366, 58.13441158671655)"
      ]
     },
     "execution_count": 9,
     "metadata": {},
     "output_type": "execute_result"
    }
   ],
   "source": [
    "upper_limit, lower_limit"
   ]
  },
  {
   "cell_type": "code",
   "execution_count": 10,
   "id": "353ded76-fcfa-4336-b718-7d872fcb36e0",
   "metadata": {},
   "outputs": [
    {
     "data": {
      "text/html": [
       "<div>\n",
       "<style scoped>\n",
       "    .dataframe tbody tr th:only-of-type {\n",
       "        vertical-align: middle;\n",
       "    }\n",
       "\n",
       "    .dataframe tbody tr th {\n",
       "        vertical-align: top;\n",
       "    }\n",
       "\n",
       "    .dataframe thead th {\n",
       "        text-align: right;\n",
       "    }\n",
       "</style>\n",
       "<table border=\"1\" class=\"dataframe\">\n",
       "  <thead>\n",
       "    <tr style=\"text-align: right;\">\n",
       "      <th></th>\n",
       "      <th>Gender</th>\n",
       "      <th>Height</th>\n",
       "      <th>Weight</th>\n",
       "    </tr>\n",
       "  </thead>\n",
       "  <tbody>\n",
       "    <tr>\n",
       "      <th>23</th>\n",
       "      <td>Male</td>\n",
       "      <td>75.205974</td>\n",
       "      <td>228.761781</td>\n",
       "    </tr>\n",
       "    <tr>\n",
       "      <th>190</th>\n",
       "      <td>Male</td>\n",
       "      <td>76.709835</td>\n",
       "      <td>235.035419</td>\n",
       "    </tr>\n",
       "    <tr>\n",
       "      <th>197</th>\n",
       "      <td>Male</td>\n",
       "      <td>75.944460</td>\n",
       "      <td>231.924749</td>\n",
       "    </tr>\n",
       "    <tr>\n",
       "      <th>202</th>\n",
       "      <td>Male</td>\n",
       "      <td>75.140821</td>\n",
       "      <td>224.124271</td>\n",
       "    </tr>\n",
       "    <tr>\n",
       "      <th>215</th>\n",
       "      <td>Male</td>\n",
       "      <td>74.795375</td>\n",
       "      <td>232.635403</td>\n",
       "    </tr>\n",
       "    <tr>\n",
       "      <th>...</th>\n",
       "      <td>...</td>\n",
       "      <td>...</td>\n",
       "      <td>...</td>\n",
       "    </tr>\n",
       "    <tr>\n",
       "      <th>9761</th>\n",
       "      <td>Female</td>\n",
       "      <td>56.975279</td>\n",
       "      <td>90.341784</td>\n",
       "    </tr>\n",
       "    <tr>\n",
       "      <th>9825</th>\n",
       "      <td>Female</td>\n",
       "      <td>55.979198</td>\n",
       "      <td>85.417534</td>\n",
       "    </tr>\n",
       "    <tr>\n",
       "      <th>9895</th>\n",
       "      <td>Female</td>\n",
       "      <td>57.740192</td>\n",
       "      <td>93.652957</td>\n",
       "    </tr>\n",
       "    <tr>\n",
       "      <th>9904</th>\n",
       "      <td>Female</td>\n",
       "      <td>57.028857</td>\n",
       "      <td>101.202551</td>\n",
       "    </tr>\n",
       "    <tr>\n",
       "      <th>9978</th>\n",
       "      <td>Female</td>\n",
       "      <td>57.375759</td>\n",
       "      <td>114.192209</td>\n",
       "    </tr>\n",
       "  </tbody>\n",
       "</table>\n",
       "<p>200 rows × 3 columns</p>\n",
       "</div>"
      ],
      "text/plain": [
       "      Gender     Height      Weight\n",
       "23      Male  75.205974  228.761781\n",
       "190     Male  76.709835  235.035419\n",
       "197     Male  75.944460  231.924749\n",
       "202     Male  75.140821  224.124271\n",
       "215     Male  74.795375  232.635403\n",
       "...      ...        ...         ...\n",
       "9761  Female  56.975279   90.341784\n",
       "9825  Female  55.979198   85.417534\n",
       "9895  Female  57.740192   93.652957\n",
       "9904  Female  57.028857  101.202551\n",
       "9978  Female  57.375759  114.192209\n",
       "\n",
       "[200 rows x 3 columns]"
      ]
     },
     "execution_count": 10,
     "metadata": {},
     "output_type": "execute_result"
    }
   ],
   "source": [
    "df[(df['Height'] >= 74.7857900583366) | (df['Height'] <= 58.13441158671655)]"
   ]
  },
  {
   "cell_type": "code",
   "execution_count": 11,
   "id": "71eb8c34-bfc0-4a14-b0b5-7f8edd5fa97a",
   "metadata": {},
   "outputs": [],
   "source": [
    "new_df = df[(df['Height'] <= 74.7857900583366) & (df['Height'] >= 58.13441158671655)]"
   ]
  },
  {
   "cell_type": "code",
   "execution_count": 12,
   "id": "67af460c-19b4-4eec-91ce-7c9070a85446",
   "metadata": {},
   "outputs": [
    {
     "data": {
      "text/plain": [
       "(9800, 3)"
      ]
     },
     "execution_count": 12,
     "metadata": {},
     "output_type": "execute_result"
    }
   ],
   "source": [
    "new_df.shape"
   ]
  },
  {
   "cell_type": "code",
   "execution_count": 13,
   "id": "2599d176-186b-4f1e-ba58-61b80f56b73b",
   "metadata": {},
   "outputs": [
    {
     "data": {
      "text/plain": [
       "count    9800.000000\n",
       "mean       66.364366\n",
       "std         3.645075\n",
       "min        58.134496\n",
       "25%        63.577162\n",
       "50%        66.318070\n",
       "75%        69.119896\n",
       "max        74.785714\n",
       "Name: Height, dtype: float64"
      ]
     },
     "execution_count": 13,
     "metadata": {},
     "output_type": "execute_result"
    }
   ],
   "source": [
    "new_df['Height'].describe()"
   ]
  },
  {
   "cell_type": "code",
   "execution_count": 14,
   "id": "0d53de49-3ff5-4222-b2eb-50a2227d9176",
   "metadata": {},
   "outputs": [
    {
     "data": {
      "text/plain": [
       "count    10000.000000\n",
       "mean        66.367560\n",
       "std          3.847528\n",
       "min         54.263133\n",
       "25%         63.505620\n",
       "50%         66.318070\n",
       "75%         69.174262\n",
       "max         78.998742\n",
       "Name: Height, dtype: float64"
      ]
     },
     "execution_count": 14,
     "metadata": {},
     "output_type": "execute_result"
    }
   ],
   "source": [
    "df['Height'].describe()"
   ]
  },
  {
   "cell_type": "code",
   "execution_count": 15,
   "id": "e0e35676-5c64-4849-bf88-d081e280e12c",
   "metadata": {},
   "outputs": [
    {
     "data": {
      "text/plain": [
       "<Axes: xlabel='Height', ylabel='Density'>"
      ]
     },
     "execution_count": 15,
     "metadata": {},
     "output_type": "execute_result"
    },
    {
     "data": {
      "image/png": "[encoded data removed]",
      "text/plain": [
       "<Figure size 640x480 with 1 Axes>"
      ]
     },
     "metadata": {},
     "output_type": "display_data"
    }
   ],
   "source": [
    "sns.kdeplot(new_df['Height'])"
   ]
  },
  {
   "cell_type": "code",
   "execution_count": 16,
   "id": "d229bba1-9eee-456a-80b5-bea1bbe58586",
   "metadata": {},
   "outputs": [
    {
     "data": {
      "text/plain": [
       "<Axes: xlabel='Height'>"
      ]
     },
     "execution_count": 16,
     "metadata": {},
     "output_type": "execute_result"
    },
    {
     "data": {
      "image/png": "[encoded data removed]",
      "text/plain": [
       "<Figure size 640x480 with 1 Axes>"
      ]
     },
     "metadata": {},
     "output_type": "display_data"
    }
   ],
   "source": [
    "sns.boxplot(x = new_df['Height'])"
   ]
  },
  {
   "cell_type": "code",
   "execution_count": 17,
   "id": "1ab59c2d-65f5-4047-93df-d3620d7cd9e6",
   "metadata": {},
   "outputs": [],
   "source": [
    "#no outliers"
   ]
  },
  {
   "cell_type": "code",
   "execution_count": 18,
   "id": "9d46761f-19b9-4119-af5c-e4d5a0bef630",
   "metadata": {},
   "outputs": [],
   "source": [
    "# Capping --> Winsorization\n",
    "\n",
    "df['Height'] = np.where(\n",
    "    df['Height'] >= upper_limit,\n",
    "    upper_limit,\n",
    "    np.where(\n",
    "        df['Height'] <= lower_limit,\n",
    "        lower_limit,\n",
    "        df['Height']\n",
    "    )\n",
    ")"
   ]
  },
  {
   "cell_type": "code",
   "execution_count": 19,
   "id": "3ffecb39-add8-4046-a8e1-f1ac5cf693b6",
   "metadata": {},
   "outputs": [
    {
     "data": {
      "text/plain": [
       "count    10000.000000\n",
       "mean        66.366281\n",
       "std          3.795717\n",
       "min         58.134412\n",
       "25%         63.505620\n",
       "50%         66.318070\n",
       "75%         69.174262\n",
       "max         74.785790\n",
       "Name: Height, dtype: float64"
      ]
     },
     "execution_count": 19,
     "metadata": {},
     "output_type": "execute_result"
    }
   ],
   "source": [
    "df['Height'].describe()"
   ]
  },
  {
   "cell_type": "code",
   "execution_count": 20,
   "id": "f516b331-bc5e-4b4a-90d1-ccfb551372c0",
   "metadata": {},
   "outputs": [
    {
     "data": {
      "text/plain": [
       "<Axes: xlabel='Height', ylabel='Density'>"
      ]
     },
     "execution_count": 20,
     "metadata": {},
     "output_type": "execute_result"
    },
    {
     "data": {
      "image/png": "[encoded data removed]",
      "text/plain": [
       "<Figure size 640x480 with 1 Axes>"
      ]
     },
     "metadata": {},
     "output_type": "display_data"
    }
   ],
   "source": [
    "sns.kdeplot(df['Height'])"
   ]
  },
  {
   "cell_type": "code",
   "execution_count": 21,
   "id": "2f5cecd3-bc5d-4aac-8843-52457e3c62f7",
   "metadata": {},
   "outputs": [
    {
     "data": {
      "text/plain": [
       "<Axes: xlabel='Height'>"
      ]
     },
     "execution_count": 21,
     "metadata": {},
     "output_type": "execute_result"
    },
    {
     "data": {
      "image/png": "[encoded data removed]",
      "text/plain": [
       "<Figure size 640x480 with 1 Axes>"
      ]
     },
     "metadata": {},
     "output_type": "display_data"
    }
   ],
   "source": [
    "sns.boxplot(x = df['Height'])"
   ]
  },
  {
   "cell_type": "markdown",
   "id": "3ec7ad35-a160-450a-9098-53cf0ef99b3e",
   "metadata": {},
   "source": [
    "The choice between the percentile method (including IQR) and the Z-score method for outlier detection depends on various factors, including the distribution of the data, the presence of skewness or outliers, and the specific requirements of the analysis. Here's a guideline on when to use each method:\r\n",
    "\r\n",
    "1. **Percentile Method (including IQR)**:\r\n",
    "   - Use when the data is not normally distributed or when there are outliers that might affect the mean and standard deviation.\r\n",
    "   - Suitable for skewed datasets or datasets with a non-standard distribution.\r\n",
    "   - Robust against outliers because it relies on the quartiles rather than the mean and standard deviation.\r\n",
    "   - Good for identifying outliers in datasets with heavy tails or those that contain extreme values.\r\n",
    "   - Particularly useful when the distribution of the data is unknown or when there are concerns about the validity of assuming a normal distribution.\r\n",
    "\r\n",
    "2. **Z-score Method**:\r\n",
    "   - Use when the data is approximately normally distributed or can be transformed to approximate normality.\r\n",
    "   - Suitable for datasets where the mean and standard deviation provide meaningful information about the spread and central tendency.\r\n",
    "   - Useful when a parametric approach is appropriate and when there are no significant outliers or skewness in the data.\r\n",
    "   - Provides a standardized measure of deviation from the mean, making it easy to compare across different variables or datasets.\r\n",
    "   - May be preferred when the distribution of the data is known or can be reasonably assumed to be normal.\r\n",
    "\r\n",
    "In summary, if you're dealing with non-normally distributed data, skewed distributions, or datasets containing outliers, the percentile method (including IQR) is often a better choice. On the other hand, if the data is approximately normally distributed and there are no significant outliers, the Z-score method can be more suitable. However, it's important to assess the characteristics of your data and consider the assumptions and limitations of each method before making a decision. Additionally, in some cases, using both methods in combination or exploring other outlier detection techniques might provide a more comprehensive analysis."
   ]
  },
  {
   "cell_type": "code",
   "execution_count": null,
   "id": "91448ab2-b127-43b6-806c-2635f2b47664",
   "metadata": {},
   "outputs": [],
   "source": []
  }
 ],
 "metadata": {
  "kernelspec": {
   "display_name": "Python 3 (ipykernel)",
   "language": "python",
   "name": "python3"
  },
  "language_info": {
   "codemirror_mode": {
    "name": "ipython",
    "version": 3
   },
   "file_extension": ".py",
   "mimetype": "text/x-python",
   "name": "python",
   "nbconvert_exporter": "python",
   "pygments_lexer": "ipython3",
   "version": "3.11.5"
  }
 },
 "nbformat": 4,
 "nbformat_minor": 5
}
