{
 "cells": [
  {
   "cell_type": "markdown",
   "id": "3c6711a8-1049-4645-9eb0-41dfa9d39fee",
   "metadata": {},
   "source": [
    "After adding sigmoid, we got close to the optimal answer but still not the perfect solution.\n",
    "\n",
    "Now we are Finding a `Lose Function/Error Function`\n",
    "\n",
    "The `Loss function` tells us which model is better than the others and also gives the best model.\n",
    "\n",
    "To derive our loss function, we will use the concept of maximum likelihood (related to probability).\n",
    "\n",
    "![Models](models.jpg)\n",
    "\n",
    "**By looking at the models we can say that Model 2 is better than Model 1,\n",
    "However now we are mathametically proving that Model 2 is Better than model 1 using probability with the help of Maximum Likelihood and Cross Entropy Function**\n",
    "\n",
    "***For a solution, refer to the Loss Function.pdf from the GitHub repository.***"
   ]
  },
  {
   "cell_type": "markdown",
   "id": "8b4d1638-00ec-4f8a-8451-43546cc37705",
   "metadata": {},
   "source": [
    "**Loss Function = -y_i log(y_i) - (1 - y_i) log(1 - y_i)**"
   ]
  }
 ],
 "metadata": {
  "kernelspec": {
   "display_name": "Python 3 (ipykernel)",
   "language": "python",
   "name": "python3"
  },
  "language_info": {
   "codemirror_mode": {
    "name": "ipython",
    "version": 3
   },
   "file_extension": ".py",
   "mimetype": "text/x-python",
   "name": "python",
   "nbconvert_exporter": "python",
   "pygments_lexer": "ipython3",
   "version": "3.11.5"
  }
 },
 "nbformat": 4,
 "nbformat_minor": 5
}
