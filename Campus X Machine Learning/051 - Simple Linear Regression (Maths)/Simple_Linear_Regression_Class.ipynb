{
 "cells": [
  {
   "cell_type": "markdown",
   "metadata": {},
   "source": [
    "## Simple Linear Regression\n",
    "\n",
    "### Definition\n",
    "\n",
    "Simple linear regression aims to find a linear relationship to describe the correlation between an independent and possibly dependent variable. The regression line can be used to predict or estimate missing values, this is known as interpolation."
   ]
  },
  {
   "cell_type": "markdown",
   "metadata": {},
   "source": [
    "This Python code defines a simple linear regression class named `MeraLR`. Here's a breakdown of what each part of the code does:\r\n",
    "\r\n",
    "1. **Class Definition (`MeraLR`):**\r\n",
    "   - This line defines a class named `MeraLR`, which stands for \"My Linear Regression\".\r\n",
    "\r\n",
    "2. **`__init__` method:**\r\n",
    "   - This method serves as the constructor for the class. It initializes two instance variables `self.m` and `self.b` to `None`.\r\n",
    "\r\n",
    "3. **`fit` method:**\r\n",
    "   - This method is used to train the linear regression model. It takes two parameters `X_train` and `y_train`, which are the features and corresponding labels of the training data.\r\n",
    "   - Inside the method, it calculates the slope `self.m` and intercept `self.b` of the regression line using the least squares method.\r\n",
    "   - It prints the calculated slope and intercept.\r\n",
    "   \r\n",
    "4. **`predict` method:**\r\n",
    "   - This method is used to make predictions using the trained linear regression model. It takes a parameter `X_test`, which represents the features of the test data.\r\n",
    "   - Inside the method, it calculates the predicted values `y_pred` using the formula of a straight line (`y = mx + b`) where `m` is the slope and `b` is the intercept.\r\n",
    "   - It then returns the predicted values.\r\n",
    "\r\n",
    "5. **Main Functionality:**\r\n",
    "   - The class is designed to fit a linear regression model (`fit` method) to a given dataset and then use this model to make predictions (`predict` method) on new data.\r\n",
    "\r\n",
    "This implementation assumes that the input data (`X_train`, `y_train`, `X_test`) is in the form of one-dimensional arrays (or lists), where each element represents a single feature or label. Additionally, it does not include any error handling or validation checks, which might be necessary for a production-grade implementation."
   ]
  },
  {
   "cell_type": "markdown",
   "metadata": {},
   "source": [
    "**The formula for calculating the slope (`m`) in simple linear regression using the method of least squares is:**\n",
    "\n",
    "```\n",
    "m = (Σ(xi - x̄)(yi - ȳ)) / (Σ(xi - x̄)^2)\n",
    "```\n",
    "\n",
    "Where:\n",
    "- m is the slope.\n",
    "- Σ represents summation.\n",
    "- xi and yi are individual data points.\n",
    "- x̄ and ȳ are the means of the x and y values, respectively.\n",
    "\n",
    "\n",
    "This formula calculates the slope by taking the sum of the products of the differences between each data point and the mean of the corresponding variable, divided by the sum of the squared differences between each data point and the mean of the \\( x \\) variable.\n",
    "\n",
    "In the provided code, `num` represents the numerator of this formula, and `den` represents the denominator. The slope (`m`) is then calculated by dividing `num` by `den`.\n",
    "\n",
    "**The intercept (\r\n",
    "b) in simple linear regressio**n:\n",
    "\n",
    "\n",
    "\n",
    "```\n",
    "b = ȳ - (m * x̄)\n",
    "```\n",
    "\n",
    "Where:\n",
    "- b is the intercept.\n",
    "- ȳ is the mean of the \\( y \\) values.\n",
    "- m is the slope.\n",
    "- x̄ is the mean of the \\( x \\) values."
   ]
  },
  {
   "cell_type": "markdown",
   "metadata": {},
   "source": [
    "def fit(self,X_train,y_train):\r\n",
    "        \r\n",
    "    num = 0\r\n",
    "    den = 0\r\n",
    "        \r\n",
    "    for i in range(X_train.shape[0]):\r\n",
    "            \r\n",
    "        num = num + ((X_train[i] - X_train.mean())*(y_train[i] - y_train.mean()))\r\n",
    "        den = den + ((X_train[i] - X_train.mean())*(X_train[i] - X_train.mean()))\r\n",
    "        \r\n",
    "    self.m = num/den\r\n",
    "    self.b = y_train.mean() - (self.m * X_train.mean())\r\n",
    "    print(self.m)\r\n",
    "    print(self.b)\r\n",
    "\n",
    "This part of the code implements the `fit` method within the `MeraLR` class. Here's a detailed explanation of what it does:\n",
    "\n",
    "1. **Initialization of Variables:**\n",
    "   - `num` and `den` are initialized to 0. These variables will be used to compute the numerator and denominator of the slope (`m`) of the linear regression line.\n",
    "\n",
    "2. **Loop through Training Data:**\n",
    "   - It iterates through each data point in the training set (`X_train` and `y_train`). The loop runs `X_train.shape[0]` times, which is the number of samples in the training set.\n",
    "\n",
    "3. **Numerator (`num`) and Denominator (`den`) Calculation:**\n",
    "   - Within the loop, for each data point, it updates `num` and `den` by adding the product of the differences between the data points and their respective means.\n",
    "   - `num` accumulates the sum of `(X_train[i] - X_train.mean()) * (y_train[i] - y_train.mean())`, while `den` accumulates the sum of `(X_train[i] - X_train.mean()) * (X_train[i] - X_train.mean())`.\n",
    "\n",
    "4. **Calculation of Slope (`self.m`) and Intercept (`self.b`):**\n",
    "   - After iterating through all the data points, it computes the slope (`self.m`) by dividing `num` by `den`.\n",
    "   - It also calculates the intercept (`self.b`) using the formula for a straight line: `y = mx + b`, where `y_train.mean()` represents the mean of the labels and `X_train.mean()` represents the mean of the features.\n",
    "\n",
    "5. **Printing Results:**\n",
    "   - It prints out the calculated slope (`self.m`) and intercept (`self.b`) to the console.\n",
    "\n",
    "6. **Side Notes:**\n",
    "   - This implementation assumes that `X_train` and `y_train` are one-dimensional arrays or lists.\n",
    "   - The method doesn't include any regularization or bias terms, which might be necessary depending on the application.\n",
    "   - Printing the slope and intercept might be useful for debugging purposes, but in a production setting, it might be unnecessary and can be removed.\n",
    "\n",
    "Overall, this `fit` method calculates the parameters (`self.m` and `self.b`) of a linear regression model using the least squares method."
   ]
  },
  {
   "cell_type": "code",
   "execution_count": 1,
   "metadata": {},
   "outputs": [],
   "source": [
    "class MeraLR:\n",
    "    \n",
    "    def __init__(self):\n",
    "        self.m = None\n",
    "        self.b = None\n",
    "        \n",
    "    def fit(self,X_train,y_train):\n",
    "        \n",
    "        num = 0\n",
    "        den = 0\n",
    "        \n",
    "        for i in range(X_train.shape[0]):\n",
    "            #m = (Σ(xi - x̄)(yi - ȳ)) / (Σ(xi - x̄)^2)\n",
    "            num = num + ((X_train[i] - X_train.mean())*(y_train[i] - y_train.mean()))\n",
    "            den = den + ((X_train[i] - X_train.mean())*(X_train[i] - X_train.mean()))\n",
    "            \n",
    "        #m = (Σ(xi - x̄)(yi - ȳ)) / (Σ(xi - x̄)^2)\n",
    "        self.m = num/den\n",
    "        \n",
    "        #b = ȳ - (m * x̄)\n",
    "        self.b = y_train.mean() - (self.m * X_train.mean())\n",
    "        \n",
    "        print('Slope(m) =',self.m)\n",
    "        print('Intercept(b) =',self.b)       \n",
    "    \n",
    "    def predict(self,X_test):\n",
    "        \n",
    "        print('Test Value = ',X_test)\n",
    "        #y = mx + b\n",
    "        print ('↓ Predicted Value ↓')\n",
    "        return self.m * X_test + self.b"
   ]
  },
  {
   "cell_type": "code",
   "execution_count": 2,
   "metadata": {},
   "outputs": [],
   "source": [
    "import numpy as np\n",
    "import pandas as pd"
   ]
  },
  {
   "cell_type": "code",
   "execution_count": 3,
   "metadata": {},
   "outputs": [],
   "source": [
    "df = pd.read_csv('https://raw.githubusercontent.com/campusx-official/100-days-of-machine-learning/main/day48-simple-linear-regression/placement.csv')"
   ]
  },
  {
   "cell_type": "code",
   "execution_count": 4,
   "metadata": {},
   "outputs": [
    {
     "data": {
      "text/html": [
       "<div>\n",
       "<style scoped>\n",
       "    .dataframe tbody tr th:only-of-type {\n",
       "        vertical-align: middle;\n",
       "    }\n",
       "\n",
       "    .dataframe tbody tr th {\n",
       "        vertical-align: top;\n",
       "    }\n",
       "\n",
       "    .dataframe thead th {\n",
       "        text-align: right;\n",
       "    }\n",
       "</style>\n",
       "<table border=\"1\" class=\"dataframe\">\n",
       "  <thead>\n",
       "    <tr style=\"text-align: right;\">\n",
       "      <th></th>\n",
       "      <th>cgpa</th>\n",
       "      <th>package</th>\n",
       "    </tr>\n",
       "  </thead>\n",
       "  <tbody>\n",
       "    <tr>\n",
       "      <th>0</th>\n",
       "      <td>6.89</td>\n",
       "      <td>3.26</td>\n",
       "    </tr>\n",
       "    <tr>\n",
       "      <th>1</th>\n",
       "      <td>5.12</td>\n",
       "      <td>1.98</td>\n",
       "    </tr>\n",
       "    <tr>\n",
       "      <th>2</th>\n",
       "      <td>7.82</td>\n",
       "      <td>3.25</td>\n",
       "    </tr>\n",
       "    <tr>\n",
       "      <th>3</th>\n",
       "      <td>7.42</td>\n",
       "      <td>3.67</td>\n",
       "    </tr>\n",
       "    <tr>\n",
       "      <th>4</th>\n",
       "      <td>6.94</td>\n",
       "      <td>3.57</td>\n",
       "    </tr>\n",
       "  </tbody>\n",
       "</table>\n",
       "</div>"
      ],
      "text/plain": [
       "   cgpa  package\n",
       "0  6.89     3.26\n",
       "1  5.12     1.98\n",
       "2  7.82     3.25\n",
       "3  7.42     3.67\n",
       "4  6.94     3.57"
      ]
     },
     "execution_count": 4,
     "metadata": {},
     "output_type": "execute_result"
    }
   ],
   "source": [
    "df.head()"
   ]
  },
  {
   "cell_type": "code",
   "execution_count": 5,
   "metadata": {},
   "outputs": [],
   "source": [
    "X = df.iloc[:,0].values\n",
    "y = df.iloc[:,1].values"
   ]
  },
  {
   "cell_type": "code",
   "execution_count": 6,
   "metadata": {},
   "outputs": [
    {
     "data": {
      "text/plain": [
       "array([6.89, 5.12, 7.82, 7.42, 6.94, 7.89, 6.73, 6.75, 6.09, 8.31, 5.32,\n",
       "       6.61, 8.94, 6.93, 7.73, 7.25, 6.84, 5.38, 6.94, 7.48, 7.28, 6.85,\n",
       "       6.14, 6.19, 6.53, 7.28, 8.31, 5.42, 5.94, 7.15, 7.36, 8.1 , 6.96,\n",
       "       6.35, 7.34, 6.87, 5.99, 5.9 , 8.62, 7.43, 9.38, 6.89, 5.95, 7.66,\n",
       "       5.09, 7.87, 6.07, 5.84, 8.63, 8.87, 9.58, 9.26, 8.37, 6.47, 6.86,\n",
       "       8.2 , 5.84, 6.6 , 6.92, 7.56, 5.61, 5.48, 6.34, 9.16, 7.36, 7.6 ,\n",
       "       5.11, 6.51, 7.56, 7.3 , 5.79, 7.47, 7.78, 8.44, 6.85, 6.97, 6.94,\n",
       "       8.99, 6.59, 7.18, 7.63, 6.1 , 5.58, 8.44, 4.26, 4.79, 7.61, 8.09,\n",
       "       4.73, 6.42, 7.11, 6.22, 7.9 , 6.79, 5.83, 6.63, 7.11, 5.98, 7.69,\n",
       "       6.61, 7.95, 6.71, 5.13, 7.05, 7.62, 6.66, 6.13, 6.33, 7.76, 7.77,\n",
       "       8.18, 5.42, 8.58, 6.94, 5.84, 8.35, 9.04, 7.12, 7.4 , 7.39, 5.23,\n",
       "       6.5 , 5.12, 5.1 , 6.06, 7.33, 5.91, 6.78, 7.93, 7.29, 6.68, 6.37,\n",
       "       5.84, 6.05, 7.2 , 6.1 , 5.64, 7.14, 7.91, 7.19, 7.91, 6.76, 6.93,\n",
       "       4.85, 6.17, 5.84, 6.07, 5.66, 7.57, 8.28, 6.3 , 6.12, 7.37, 7.94,\n",
       "       7.08, 6.98, 7.38, 6.47, 5.95, 8.71, 7.13, 7.3 , 5.53, 8.93, 9.06,\n",
       "       8.21, 8.6 , 8.13, 8.65, 9.31, 6.22, 8.01, 6.93, 6.75, 7.32, 7.04,\n",
       "       6.29, 7.09, 8.15, 7.14, 6.19, 8.22, 5.88, 7.28, 7.88, 6.31, 7.84,\n",
       "       6.26, 7.35, 8.11, 6.19, 7.28, 8.25, 4.57, 7.89, 6.93, 5.89, 7.21,\n",
       "       7.63, 6.22])"
      ]
     },
     "execution_count": 6,
     "metadata": {},
     "output_type": "execute_result"
    }
   ],
   "source": [
    "X"
   ]
  },
  {
   "cell_type": "code",
   "execution_count": 7,
   "metadata": {},
   "outputs": [
    {
     "data": {
      "text/plain": [
       "array([3.26, 1.98, 3.25, 3.67, 3.57, 2.99, 2.6 , 2.48, 2.31, 3.51, 1.86,\n",
       "       2.6 , 3.65, 2.89, 3.42, 3.23, 2.35, 2.09, 2.98, 2.83, 3.16, 2.93,\n",
       "       2.3 , 2.48, 2.71, 3.65, 3.42, 2.16, 2.24, 3.49, 3.26, 3.89, 3.08,\n",
       "       2.73, 3.42, 2.87, 2.84, 2.43, 4.36, 3.33, 4.02, 2.7 , 2.54, 2.76,\n",
       "       1.86, 3.58, 2.26, 3.26, 4.09, 4.62, 4.43, 3.79, 4.11, 2.61, 3.09,\n",
       "       3.39, 2.74, 1.94, 3.09, 3.31, 2.19, 1.61, 2.09, 4.25, 2.92, 3.81,\n",
       "       1.63, 2.89, 2.99, 2.94, 2.35, 3.34, 3.62, 4.03, 3.44, 3.28, 3.15,\n",
       "       4.6 , 2.21, 3.  , 3.44, 2.2 , 2.17, 3.49, 1.53, 1.48, 2.77, 3.55,\n",
       "       1.48, 2.72, 2.66, 2.14, 4.  , 3.08, 2.42, 2.79, 2.61, 2.84, 3.83,\n",
       "       3.24, 4.14, 3.52, 1.37, 3.  , 3.74, 2.82, 2.19, 2.59, 3.54, 4.06,\n",
       "       3.76, 2.25, 4.1 , 2.37, 1.87, 4.21, 3.33, 2.99, 2.88, 2.65, 1.73,\n",
       "       3.02, 2.01, 2.3 , 2.31, 3.16, 2.6 , 3.11, 3.34, 3.12, 2.49, 2.01,\n",
       "       2.48, 2.58, 2.83, 2.6 , 2.1 , 3.13, 3.89, 2.4 , 3.15, 3.18, 3.04,\n",
       "       1.54, 2.42, 2.18, 2.46, 2.21, 3.4 , 3.67, 2.73, 2.76, 3.08, 3.99,\n",
       "       2.85, 3.09, 3.13, 2.7 , 3.04, 4.08, 2.93, 3.33, 2.55, 3.91, 3.82,\n",
       "       4.08, 3.98, 3.6 , 3.52, 4.37, 2.87, 3.76, 2.51, 2.56, 2.99, 3.5 ,\n",
       "       3.23, 3.64, 3.63, 3.03, 2.72, 3.89, 2.08, 2.72, 3.14, 3.18, 3.47,\n",
       "       2.44, 3.08, 4.06, 2.69, 3.48, 3.75, 1.94, 3.67, 2.46, 2.57, 3.24,\n",
       "       3.96, 2.33])"
      ]
     },
     "execution_count": 7,
     "metadata": {},
     "output_type": "execute_result"
    }
   ],
   "source": [
    "y"
   ]
  },
  {
   "cell_type": "code",
   "execution_count": 8,
   "metadata": {},
   "outputs": [],
   "source": [
    "from sklearn.model_selection import train_test_split\n",
    "X_train,X_test,y_train,y_test = train_test_split(X,y,test_size=0.2,random_state=2)"
   ]
  },
  {
   "cell_type": "code",
   "execution_count": 9,
   "metadata": {},
   "outputs": [
    {
     "data": {
      "text/plain": [
       "(160,)"
      ]
     },
     "execution_count": 9,
     "metadata": {},
     "output_type": "execute_result"
    }
   ],
   "source": [
    "X_train.shape"
   ]
  },
  {
   "cell_type": "code",
   "execution_count": 10,
   "metadata": {},
   "outputs": [],
   "source": [
    "lr = MeraLR()"
   ]
  },
  {
   "cell_type": "code",
   "execution_count": 11,
   "metadata": {},
   "outputs": [
    {
     "name": "stdout",
     "output_type": "stream",
     "text": [
      "Slope(m) = 0.5579519734250721\n",
      "Intercept(b) = -0.8961119222429152\n"
     ]
    }
   ],
   "source": [
    "lr.fit(X_train,y_train)"
   ]
  },
  {
   "cell_type": "code",
   "execution_count": 12,
   "metadata": {},
   "outputs": [
    {
     "data": {
      "text/plain": [
       "160"
      ]
     },
     "execution_count": 12,
     "metadata": {},
     "output_type": "execute_result"
    }
   ],
   "source": [
    "X_train.shape[0]"
   ]
  },
  {
   "cell_type": "code",
   "execution_count": 13,
   "metadata": {},
   "outputs": [
    {
     "data": {
      "text/plain": [
       "7.14"
      ]
     },
     "execution_count": 13,
     "metadata": {},
     "output_type": "execute_result"
    }
   ],
   "source": [
    "X_train[0]"
   ]
  },
  {
   "cell_type": "code",
   "execution_count": 14,
   "metadata": {},
   "outputs": [
    {
     "data": {
      "text/plain": [
       "6.989937500000001"
      ]
     },
     "execution_count": 14,
     "metadata": {},
     "output_type": "execute_result"
    }
   ],
   "source": [
    "X_train.mean()"
   ]
  },
  {
   "cell_type": "code",
   "execution_count": 15,
   "metadata": {},
   "outputs": [
    {
     "data": {
      "text/plain": [
       "8.58"
      ]
     },
     "execution_count": 15,
     "metadata": {},
     "output_type": "execute_result"
    }
   ],
   "source": [
    "X_test[0]"
   ]
  },
  {
   "cell_type": "code",
   "execution_count": 16,
   "metadata": {},
   "outputs": [
    {
     "name": "stdout",
     "output_type": "stream",
     "text": [
      "Test Value =  8.58\n",
      "↓ Predicted Value ↓\n",
      "3.891116009744203\n"
     ]
    }
   ],
   "source": [
    "print(lr.predict(X_test[0]))"
   ]
  },
  {
   "cell_type": "code",
   "execution_count": 17,
   "metadata": {},
   "outputs": [
    {
     "name": "stdout",
     "output_type": "stream",
     "text": [
      "Test Value =  5.88\n",
      "↓ Predicted Value ↓\n"
     ]
    },
    {
     "data": {
      "text/plain": [
       "2.3846456814965085"
      ]
     },
     "execution_count": 17,
     "metadata": {},
     "output_type": "execute_result"
    }
   ],
   "source": [
    "lr.predict(X_test[2])"
   ]
  }
 ],
 "metadata": {
  "kernelspec": {
   "display_name": "Python 3 (ipykernel)",
   "language": "python",
   "name": "python3"
  },
  "language_info": {
   "codemirror_mode": {
    "name": "ipython",
    "version": 3
   },
   "file_extension": ".py",
   "mimetype": "text/x-python",
   "name": "python",
   "nbconvert_exporter": "python",
   "pygments_lexer": "ipython3",
   "version": "3.11.5"
  }
 },
 "nbformat": 4,
 "nbformat_minor": 4
}
