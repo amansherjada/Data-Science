{
 "cells": [
  {
   "cell_type": "markdown",
   "id": "ae50bdae-302d-4ca2-9c6c-1ba428940cc9",
   "metadata": {},
   "source": [
    "## Regression metrics\n",
    "\n",
    "![](https://miro.medium.com/v2/resize:fit:1400/1*rVTCIffI2D_-i_CGeHwF6A.png)\n",
    "\n",
    "Sum of Squared Residuals (SSR)\n",
    "Sum of Squared Means (SSM)"
   ]
  },
  {
   "cell_type": "markdown",
   "id": "7d3c53c6-c75a-4036-8630-428cbd788897",
   "metadata": {},
   "source": [
    "Regression metrics are evaluation measures used to assess the performance of regression models. These metrics quantify how well the predicted values from a regression model match the actual observed values. Here are explanations of some common regression metrics:\n",
    "\n",
    "1. **Mean Absolute Error (MAE):**\n",
    "   - MAE measures the average absolute difference between the predicted values and the actual values.\n",
    "   - Advantages:\n",
    "     - Easy to understand and interpret.\n",
    "     - Not sensitive to outliers.\n",
    "     - The unit of MAE is the same as the unit of the target variable\n",
    "   - Disadvantages:\n",
    "     - Treats all errors equally, which may not be desirable in some cases.\n",
    "     - Doesn't indicate the direction of the errors.\n",
    "\n",
    "2. **Mean Squared Error (MSE):**\n",
    "   - MSE measures the average of the squares of the errors between predicted values and actual values.\n",
    "   - Advantages:\n",
    "     - Penalizes larger errors more heavily than MAE, providing a better indication of model performance.\n",
    "     - Widely used and easy to compute.\n",
    "   - Disadvantages:\n",
    "     - Sensitive to outliers due to squaring the errors.\n",
    "     - The unit of MSE is not the same as the unit of the target variable, making it less interpretable.\n",
    "\n",
    "3. **Root Mean Squared Error (RMSE):**\n",
    "   - RMSE is the square root of the MSE and represents the standard deviation of the residuals.\n",
    "   - Advantages:\n",
    "     - Provides an interpretable measure in the same unit as the target variable.\n",
    "     - Useful for comparing different models.\n",
    "   - Disadvantages:\n",
    "     - Shares some of the disadvantages of MSE, such as sensitivity to outliers.\n",
    "     - Requires additional computation compared to MSE.\n",
    "\n",
    "4. **Coefficient of Determination R-squared, ( R^2 ):**\n",
    "   - R^2 measures the proportion of the variance in the dependent variable that is predictable from the independent variables.\n",
    "   - Advantages:\n",
    "     - Provides an intuitive measure of how well the model fits the data.\n",
    "     - Value ranges from 0 to 1, where 1 indicates a perfect fit.\n",
    "   - Disadvantages:\n",
    "     - Can be misleading when used with complex models or a large number of predictors.\n",
    "     - Always increases with the addition of more predictors, whether they are useful or not.\n",
    "\n",
    "5. **Adjusted R^2 Score:**\n",
    "   - Adjusted R^2 is a modified version of R^2 that penalizes the addition of unnecessary predictors in a model.\n",
    "   - Advantages:\n",
    "     - Helps mitigate the issue of overfitting by considering the number of predictors.\n",
    "     - Adjusts R^2 downwards if adding a new predictor does not significantly improve the model.\n",
    "   - Disadvantages:\n",
    "     - Can still be influenced by outliers or non-linear relationships.\n",
    "     - May not provide a good fit measure for small sample sizes.\n",
    "\n",
    "In summary, each regression metric has its own advantages and disadvantages, and the choice of which metric to use depends on the specific requirements of the problem and the preferences of the analyst. It's often useful to consider multiple metrics to gain a comprehensive understanding of the model performance."
   ]
  },
  {
   "cell_type": "markdown",
   "id": "b626f722-3633-4c0a-a2f0-823a3887f28c",
   "metadata": {},
   "source": [
    "### When to use MAE, MSE, RMSE, R2 Score, Adjusted R2 Score\r\n",
    "\n",
    "\n",
    "The choice of regression metrics depends on various factors such as the characteristics of the dataset, the goals of the analysis, and the preferences of the analyst. Here's a guideline on when to use each regression metric:\r\n",
    "\r\n",
    "1. **Mean Absolute Error (MAE):**\r\n",
    "   - Use MAE when:\r\n",
    "     - You want a metric that is easy to interpret and explain.\r\n",
    "     - Outliers are present in the data, and you want a metric that is robust to them.\r\n",
    "   - Example: Predicting house prices where you want to know the average difference between predicted and actual prices.\r\n",
    "\r\n",
    "2. **Mean Squared Error (MSE):**\r\n",
    "   - Use MSE when:\r\n",
    "     - You want a metric that penalizes larger errors more heavily than smaller errors.\r\n",
    "     - The dataset does not contain significant outliers, or you're willing to tolerate their effect.\r\n",
    "   - Example: Assessing the performance of a regression model in financial forecasting where small errors are acceptable but large errors are problematic.\r\n",
    "\r\n",
    "3. **Root Mean Squared Error (RMSE):**\r\n",
    "   - Use RMSE when:\r\n",
    "     - You want a metric that provides an interpretable measure of the average error in the same units as the target variable.\r\n",
    "     - You want to compare the performance of different models with respect to the variability of the target variable.\r\n",
    "   - Example: Evaluating the accuracy of a weather forecasting model where you want to quantify the typical error in temperature predictions.\r\n",
    "\r\n",
    "4. **Coefficient of Determination (\\( R^2 \\) Score):**\r\n",
    "   - Use \\( R^2 \\) Score when:\r\n",
    "     - You want a metric that measures the proportion of variance in the dependent variable explained by the independent variables.\r\n",
    "     - You need an intuitive measure of how well the model fits the data.\r\n",
    "   - Example: Analyzing the goodness-of-fit of a linear regression model predicting student performance based on study hours, previous grades, and socioeconomic factors.\r\n",
    "\r\n",
    "5. **Adjusted \\( R^2 \\) Score:**\r\n",
    "   - Use Adjusted \\( R^2 \\) Score when:\r\n",
    "     - You want to mitigate the risk of overfitting by penalizing the addition of unnecessary predictors.\r\n",
    "     - The model includes multiple predictors, and you want to account for the complexity of the model.\r\n",
    "   - Example: Building a regression model to predict sales revenue with multiple predictor variables (e.g., advertising expenditure, seasonality, competitor activities) where you want to ensure that the model is not overly complex.\r\n",
    "\r\n",
    "In practice, it's often useful to consider multiple regression metrics to gain a comprehensive understanding of the model's performance and suitability for the specific task at hand.or the specific task at hand.\r\n"
   ]
  },
  {
   "cell_type": "markdown",
   "id": "4ef85181-ccc2-4115-9125-7c04f6afb871",
   "metadata": {},
   "source": [
    "| Metric               | Range          | Meaning                                                                                 |\n",
    "|----------------------|----------------|-----------------------------------------------------------------------------------------|\n",
    "| Mean Absolute Error (MAE)   | ( 0, + ∞) | The average absolute difference between predicted and actual values. Lower is better.   |\n",
    "| Mean Squared Error (MSE)    | ( 0, + ∞)  | The average of the squared differences between predicted and actual values. Lower is better. |\n",
    "| Root Mean Squared Error (RMSE) | ( 0, + ∞) | The square root of the MSE, providing an interpretable measure in the same unit as the target variable. Lower is better. |\n",
    "| Coefficient of Determination (( R^2 \\) Score) | (0, 1) | The proportion of variance in the dependent variable explained by the independent variables. Closer to 1 is better. |\n",
    "| Adjusted \\( R^2 \\) Score     | (-∞, 1)   | A modified version of \\( R^2 \\) that adjusts for the number of predictors in the model. Closer to 1 is better. |\n"
   ]
  },
  {
   "cell_type": "markdown",
   "id": "a284167e-3069-4c01-bdf3-fffa5f1d81bc",
   "metadata": {},
   "source": [
    "### Ranges\n",
    "\n",
    "1. **Mean Absolute Error (MAE):**\n",
    "   - Range: (0, + ∞)\n",
    "   - Meaning: MAE measures the average absolute difference between the predicted values and the actual values. A lower MAE indicates better model performance, with 0 being a perfect fit.\n",
    "\n",
    "2. **Mean Squared Error (MSE):**\n",
    "   - Range: (0, + ∞)\n",
    "   - Meaning: MSE measures the average of the squares of the errors between predicted values and actual values. Like MAE, a lower MSE indicates better model performance, with 0 being a perfect fit.\n",
    "\n",
    "3. **Root Mean Squared Error (RMSE):**\n",
    "   - Range: (0, + ∞)\n",
    "   - Meaning: RMSE is the square root of MSE and provides an interpretable measure of the average error in the same units as the target variable. As with MAE and MSE, a lower RMSE indicates better model performance, with 0 being a perfect fit.\n",
    "\n",
    "4. **Coefficient of Determination (\\( R^2 \\) Score):**\n",
    "   - Range: (0, 1)\n",
    "   - Meaning: \\( R^2 \\) measures the proportion of variance in the dependent variable explained by the independent variables. A value of 1 indicates a perfect fit where the model explains all the variance, while a value of 0 indicates that the model does not explain any variance.\n",
    "    - 0 means Mean Line and Regression Line (Best Fit) are same\n",
    "    - 1 means Regression Line (Best Fit) making no error perfect line\n",
    "\n",
    "5. **Adjusted \\( R^2 \\) Score:**\n",
    "   - Range: (-∞, 1)\n",
    "   - Meaning: Adjusted \\( R^2 \\) is a modification of \\( R^2 \\) that adjusts for the number of predictors in the model. It penalizes the addition of unnecessary predictors, so it may be negative. A higher adjusted \\( R^2 \\) indicates better model performance, with 1 being a perfect fit.\n",
    "\n",
    "Understanding the range and meaning of these regression metrics is crucial for interpreting the performance of regression models and selecting the most appropriate metric for a given problem."
   ]
  },
  {
   "cell_type": "code",
   "execution_count": 1,
   "id": "2ccedb49-abb5-4bea-9230-52a31dbd00a2",
   "metadata": {},
   "outputs": [],
   "source": [
    "import matplotlib.pyplot as plt\n",
    "import pandas as pd\n",
    "import numpy as np"
   ]
  },
  {
   "cell_type": "code",
   "execution_count": 2,
   "id": "a13ac71d-cc74-4de0-85ee-068968bd4aa8",
   "metadata": {},
   "outputs": [],
   "source": [
    "df = pd.read_csv('https://raw.githubusercontent.com/campusx-official/100-days-of-machine-learning/main/day49-regression-metrics/placement.csv')"
   ]
  },
  {
   "cell_type": "code",
   "execution_count": 3,
   "id": "a8ad4afb-470e-4a90-90ed-4390174ff80c",
   "metadata": {},
   "outputs": [
    {
     "data": {
      "text/html": [
       "<div>\n",
       "<style scoped>\n",
       "    .dataframe tbody tr th:only-of-type {\n",
       "        vertical-align: middle;\n",
       "    }\n",
       "\n",
       "    .dataframe tbody tr th {\n",
       "        vertical-align: top;\n",
       "    }\n",
       "\n",
       "    .dataframe thead th {\n",
       "        text-align: right;\n",
       "    }\n",
       "</style>\n",
       "<table border=\"1\" class=\"dataframe\">\n",
       "  <thead>\n",
       "    <tr style=\"text-align: right;\">\n",
       "      <th></th>\n",
       "      <th>cgpa</th>\n",
       "      <th>package</th>\n",
       "    </tr>\n",
       "  </thead>\n",
       "  <tbody>\n",
       "    <tr>\n",
       "      <th>0</th>\n",
       "      <td>6.89</td>\n",
       "      <td>3.26</td>\n",
       "    </tr>\n",
       "    <tr>\n",
       "      <th>1</th>\n",
       "      <td>5.12</td>\n",
       "      <td>1.98</td>\n",
       "    </tr>\n",
       "    <tr>\n",
       "      <th>2</th>\n",
       "      <td>7.82</td>\n",
       "      <td>3.25</td>\n",
       "    </tr>\n",
       "    <tr>\n",
       "      <th>3</th>\n",
       "      <td>7.42</td>\n",
       "      <td>3.67</td>\n",
       "    </tr>\n",
       "    <tr>\n",
       "      <th>4</th>\n",
       "      <td>6.94</td>\n",
       "      <td>3.57</td>\n",
       "    </tr>\n",
       "  </tbody>\n",
       "</table>\n",
       "</div>"
      ],
      "text/plain": [
       "   cgpa  package\n",
       "0  6.89     3.26\n",
       "1  5.12     1.98\n",
       "2  7.82     3.25\n",
       "3  7.42     3.67\n",
       "4  6.94     3.57"
      ]
     },
     "execution_count": 3,
     "metadata": {},
     "output_type": "execute_result"
    }
   ],
   "source": [
    "df.head()"
   ]
  },
  {
   "cell_type": "code",
   "execution_count": 4,
   "id": "65c973d9-da7b-4840-b721-67929d74e9fe",
   "metadata": {},
   "outputs": [
    {
     "data": {
      "text/plain": [
       "Text(0, 0.5, 'Package(in lpa)')"
      ]
     },
     "execution_count": 4,
     "metadata": {},
     "output_type": "execute_result"
    },
    {
     "data": {
      "image/png": "[encoded data removed]",
      "text/plain": [
       "<Figure size 640x480 with 1 Axes>"
      ]
     },
     "metadata": {},
     "output_type": "display_data"
    }
   ],
   "source": [
    "plt.scatter(df['cgpa'],df['package'])\n",
    "plt.xlabel('CGPA')\n",
    "plt.ylabel('Package(in lpa)')"
   ]
  },
  {
   "cell_type": "code",
   "execution_count": 5,
   "id": "cfad2f54-32f2-42f8-b011-f99d24d3af32",
   "metadata": {},
   "outputs": [],
   "source": [
    "X = df.iloc[:,0:1]\n",
    "y = df.iloc[:,-1]"
   ]
  },
  {
   "cell_type": "code",
   "execution_count": 6,
   "id": "a5d2839d-641d-41e8-8b0d-b02208f039a5",
   "metadata": {},
   "outputs": [
    {
     "data": {
      "text/plain": [
       "0      3.26\n",
       "1      1.98\n",
       "2      3.25\n",
       "3      3.67\n",
       "4      3.57\n",
       "       ... \n",
       "195    2.46\n",
       "196    2.57\n",
       "197    3.24\n",
       "198    3.96\n",
       "199    2.33\n",
       "Name: package, Length: 200, dtype: float64"
      ]
     },
     "execution_count": 6,
     "metadata": {},
     "output_type": "execute_result"
    }
   ],
   "source": [
    "y"
   ]
  },
  {
   "cell_type": "code",
   "execution_count": 7,
   "id": "be214866-a105-4ea9-a010-f4323873faad",
   "metadata": {},
   "outputs": [],
   "source": [
    "from sklearn.model_selection import train_test_split\n",
    "X_train,X_test,y_train,y_test = train_test_split(X,y,test_size=0.2,random_state=2)"
   ]
  },
  {
   "cell_type": "code",
   "execution_count": 8,
   "id": "1b195923-9170-46fa-9580-05bd22ffe149",
   "metadata": {},
   "outputs": [],
   "source": [
    "from sklearn.linear_model import LinearRegression"
   ]
  },
  {
   "cell_type": "code",
   "execution_count": 9,
   "id": "dfe23f95-a339-4ad4-bc67-c75c7b7c5771",
   "metadata": {},
   "outputs": [
    {
     "data": {
      "text/html": [
       "<style>#sk-container-id-1 {color: black;}#sk-container-id-1 pre{padding: 0;}#sk-container-id-1 div.sk-toggleable {background-color: white;}#sk-container-id-1 label.sk-toggleable__label {cursor: pointer;display: block;width: 100%;margin-bottom: 0;padding: 0.3em;box-sizing: border-box;text-align: center;}#sk-container-id-1 label.sk-toggleable__label-arrow:before {content: \"▸\";float: left;margin-right: 0.25em;color: #696969;}#sk-container-id-1 label.sk-toggleable__label-arrow:hover:before {color: black;}#sk-container-id-1 div.sk-estimator:hover label.sk-toggleable__label-arrow:before {color: black;}#sk-container-id-1 div.sk-toggleable__content {max-height: 0;max-width: 0;overflow: hidden;text-align: left;background-color: #f0f8ff;}#sk-container-id-1 div.sk-toggleable__content pre {margin: 0.2em;color: black;border-radius: 0.25em;background-color: #f0f8ff;}#sk-container-id-1 input.sk-toggleable__control:checked~div.sk-toggleable__content {max-height: 200px;max-width: 100%;overflow: auto;}#sk-container-id-1 input.sk-toggleable__control:checked~label.sk-toggleable__label-arrow:before {content: \"▾\";}#sk-container-id-1 div.sk-estimator input.sk-toggleable__control:checked~label.sk-toggleable__label {background-color: #d4ebff;}#sk-container-id-1 div.sk-label input.sk-toggleable__control:checked~label.sk-toggleable__label {background-color: #d4ebff;}#sk-container-id-1 input.sk-hidden--visually {border: 0;clip: rect(1px 1px 1px 1px);clip: rect(1px, 1px, 1px, 1px);height: 1px;margin: -1px;overflow: hidden;padding: 0;position: absolute;width: 1px;}#sk-container-id-1 div.sk-estimator {font-family: monospace;background-color: #f0f8ff;border: 1px dotted black;border-radius: 0.25em;box-sizing: border-box;margin-bottom: 0.5em;}#sk-container-id-1 div.sk-estimator:hover {background-color: #d4ebff;}#sk-container-id-1 div.sk-parallel-item::after {content: \"\";width: 100%;border-bottom: 1px solid gray;flex-grow: 1;}#sk-container-id-1 div.sk-label:hover label.sk-toggleable__label {background-color: #d4ebff;}#sk-container-id-1 div.sk-serial::before {content: \"\";position: absolute;border-left: 1px solid gray;box-sizing: border-box;top: 0;bottom: 0;left: 50%;z-index: 0;}#sk-container-id-1 div.sk-serial {display: flex;flex-direction: column;align-items: center;background-color: white;padding-right: 0.2em;padding-left: 0.2em;position: relative;}#sk-container-id-1 div.sk-item {position: relative;z-index: 1;}#sk-container-id-1 div.sk-parallel {display: flex;align-items: stretch;justify-content: center;background-color: white;position: relative;}#sk-container-id-1 div.sk-item::before, #sk-container-id-1 div.sk-parallel-item::before {content: \"\";position: absolute;border-left: 1px solid gray;box-sizing: border-box;top: 0;bottom: 0;left: 50%;z-index: -1;}#sk-container-id-1 div.sk-parallel-item {display: flex;flex-direction: column;z-index: 1;position: relative;background-color: white;}#sk-container-id-1 div.sk-parallel-item:first-child::after {align-self: flex-end;width: 50%;}#sk-container-id-1 div.sk-parallel-item:last-child::after {align-self: flex-start;width: 50%;}#sk-container-id-1 div.sk-parallel-item:only-child::after {width: 0;}#sk-container-id-1 div.sk-dashed-wrapped {border: 1px dashed gray;margin: 0 0.4em 0.5em 0.4em;box-sizing: border-box;padding-bottom: 0.4em;background-color: white;}#sk-container-id-1 div.sk-label label {font-family: monospace;font-weight: bold;display: inline-block;line-height: 1.2em;}#sk-container-id-1 div.sk-label-container {text-align: center;}#sk-container-id-1 div.sk-container {/* jupyter's `normalize.less` sets `[hidden] { display: none; }` but bootstrap.min.css set `[hidden] { display: none !important; }` so we also need the `!important` here to be able to override the default hidden behavior on the sphinx rendered scikit-learn.org. See: https://github.com/scikit-learn/scikit-learn/issues/21755 */display: inline-block !important;position: relative;}#sk-container-id-1 div.sk-text-repr-fallback {display: none;}</style><div id=\"sk-container-id-1\" class=\"sk-top-container\"><div class=\"sk-text-repr-fallback\"><pre>LinearRegression()</pre><b>In a Jupyter environment, please rerun this cell to show the HTML representation or trust the notebook. <br />On GitHub, the HTML representation is unable to render, please try loading this page with nbviewer.org.</b></div><div class=\"sk-container\" hidden><div class=\"sk-item\"><div class=\"sk-estimator sk-toggleable\"><input class=\"sk-toggleable__control sk-hidden--visually\" id=\"sk-estimator-id-1\" type=\"checkbox\" checked><label for=\"sk-estimator-id-1\" class=\"sk-toggleable__label sk-toggleable__label-arrow\">LinearRegression</label><div class=\"sk-toggleable__content\"><pre>LinearRegression()</pre></div></div></div></div></div>"
      ],
      "text/plain": [
       "LinearRegression()"
      ]
     },
     "execution_count": 9,
     "metadata": {},
     "output_type": "execute_result"
    }
   ],
   "source": [
    "lr = LinearRegression()\n",
    "lr.fit(X_train,y_train)"
   ]
  },
  {
   "cell_type": "code",
   "execution_count": 10,
   "id": "3b6acaae-8b6f-4861-8add-a6705e78e8fa",
   "metadata": {},
   "outputs": [],
   "source": [
    "y_pred = lr.predict(X_test)"
   ]
  },
  {
   "cell_type": "code",
   "execution_count": 11,
   "id": "453c0736-52c5-4709-b3d6-37e97f5be025",
   "metadata": {},
   "outputs": [
    {
     "data": {
      "text/plain": [
       "Text(0, 0.5, 'Package(in lpa)')"
      ]
     },
     "execution_count": 11,
     "metadata": {},
     "output_type": "execute_result"
    },
    {
     "data": {
      "image/png": "[encoded data removed]",
      "text/plain": [
       "<Figure size 640x480 with 1 Axes>"
      ]
     },
     "metadata": {},
     "output_type": "display_data"
    }
   ],
   "source": [
    "plt.scatter(df['cgpa'],df['package'])\n",
    "plt.plot(X_train,lr.predict(X_train),color='red')\n",
    "plt.xlabel('CGPA')\n",
    "plt.ylabel('Package(in lpa)')"
   ]
  },
  {
   "cell_type": "code",
   "execution_count": 12,
   "id": "ef7252d8-dd4b-4afd-9222-4f5c638ff35a",
   "metadata": {},
   "outputs": [],
   "source": [
    "from sklearn.metrics import mean_absolute_error,mean_squared_error,r2_score"
   ]
  },
  {
   "cell_type": "code",
   "execution_count": 13,
   "id": "1fc64443-1fd9-4e05-b6ae-4669412c905d",
   "metadata": {},
   "outputs": [
    {
     "data": {
      "text/plain": [
       "array([4.1 , 3.49, 2.08, 2.33, 1.94, 1.48, 1.86, 3.09, 4.21, 2.87, 3.65,\n",
       "       4.  , 2.89, 2.6 , 2.99, 3.25, 1.86, 3.67, 2.37, 3.42, 2.48, 3.65,\n",
       "       2.6 , 2.83, 4.08, 2.56, 3.58, 3.81, 4.09, 2.01, 3.63, 2.92, 3.51,\n",
       "       1.94, 2.21, 3.34, 3.34, 3.23, 2.01, 2.61])"
      ]
     },
     "execution_count": 13,
     "metadata": {},
     "output_type": "execute_result"
    }
   ],
   "source": [
    "y_test.values"
   ]
  },
  {
   "cell_type": "code",
   "execution_count": 14,
   "id": "20db539d-9ea4-4f51-97fb-69a4e3dda2e8",
   "metadata": {},
   "outputs": [
    {
     "data": {
      "text/plain": [
       "array([3.89111601, 3.09324469, 2.38464568, 2.57434935, 1.6537286 ,\n",
       "       1.77647803, 2.07219258, 2.93143862, 3.76278706, 2.93701814,\n",
       "       4.09197872, 3.51170867, 2.97049525, 2.40138424, 3.18809652,\n",
       "       3.46707251, 1.94386362, 3.24389172, 2.97607477, 3.41685683,\n",
       "       2.55761079, 3.16577844, 2.85890486, 3.12114229, 3.68467378,\n",
       "       2.8700639 , 3.49497011, 3.34432308, 3.91901361, 1.96060218,\n",
       "       3.65119666, 3.2104146 , 3.74046898, 2.7863711 , 2.78079158,\n",
       "       3.27178932, 3.52844723, 2.61340599, 2.65804215, 2.71383735])"
      ]
     },
     "execution_count": 14,
     "metadata": {},
     "output_type": "execute_result"
    }
   ],
   "source": [
    "y_pred"
   ]
  },
  {
   "cell_type": "code",
   "execution_count": 15,
   "id": "8c89d087-5b42-442b-a2c2-67cf061020aa",
   "metadata": {},
   "outputs": [
    {
     "name": "stdout",
     "output_type": "stream",
     "text": [
      "MAE = 0.2884710931878175\n"
     ]
    }
   ],
   "source": [
    "print('MAE =',mean_absolute_error(y_test, y_pred))"
   ]
  },
  {
   "cell_type": "code",
   "execution_count": 16,
   "id": "67a1de6f-7c58-4f15-a82b-d6a82c5bbd24",
   "metadata": {},
   "outputs": [
    {
     "name": "stdout",
     "output_type": "stream",
     "text": [
      "MSE = 0.12129235313495527\n"
     ]
    }
   ],
   "source": [
    "print('MSE =',mean_squared_error(y_test, y_pred))"
   ]
  },
  {
   "cell_type": "code",
   "execution_count": 17,
   "id": "c0ccf3dd-a9ca-4b53-ba91-bad61d64095f",
   "metadata": {},
   "outputs": [
    {
     "name": "stdout",
     "output_type": "stream",
     "text": [
      "RMSE = 0.34827051717731616\n"
     ]
    }
   ],
   "source": [
    "print('RMSE =',np.sqrt(mean_squared_error(y_test, y_pred)))"
   ]
  },
  {
   "cell_type": "code",
   "execution_count": 18,
   "id": "1578ef38-9da6-47d1-ad8e-7de8629e42e5",
   "metadata": {},
   "outputs": [
    {
     "name": "stdout",
     "output_type": "stream",
     "text": [
      "R2 = 0.780730147510384\n"
     ]
    }
   ],
   "source": [
    "print('R2 =',r2_score(y_test, y_pred))"
   ]
  },
  {
   "cell_type": "code",
   "execution_count": 19,
   "id": "bb588b32-f0cd-4d19-a0b3-c406a0f72e59",
   "metadata": {},
   "outputs": [],
   "source": [
    "#Adjusted R2 Score  1 - (1 - R-squared) * ((n - 1)/(n - p - 1))\n",
    "r2 = r2_score(y_test, y_pred)"
   ]
  },
  {
   "cell_type": "code",
   "execution_count": 20,
   "id": "831b8895-8fdd-41ef-a5a3-87924bb2f506",
   "metadata": {},
   "outputs": [
    {
     "data": {
      "text/plain": [
       "(40, 1)"
      ]
     },
     "execution_count": 20,
     "metadata": {},
     "output_type": "execute_result"
    }
   ],
   "source": [
    "X_test.shape"
   ]
  },
  {
   "cell_type": "code",
   "execution_count": 21,
   "id": "59eb571e-ecfb-4ba9-8532-f08230f75b17",
   "metadata": {},
   "outputs": [
    {
     "data": {
      "text/plain": [
       "40"
      ]
     },
     "execution_count": 21,
     "metadata": {},
     "output_type": "execute_result"
    }
   ],
   "source": [
    "X_test.shape[0]"
   ]
  },
  {
   "cell_type": "code",
   "execution_count": 22,
   "id": "37736261-5e79-4b95-9607-61a65bb71300",
   "metadata": {},
   "outputs": [
    {
     "data": {
      "text/plain": [
       "1"
      ]
     },
     "execution_count": 22,
     "metadata": {},
     "output_type": "execute_result"
    }
   ],
   "source": [
    "X_test.shape[1]"
   ]
  },
  {
   "cell_type": "code",
   "execution_count": 23,
   "id": "e19609a5-8354-4f3f-8590-699a28f90980",
   "metadata": {},
   "outputs": [
    {
     "data": {
      "text/plain": [
       "0.7749598882343415"
      ]
     },
     "execution_count": 23,
     "metadata": {},
     "output_type": "execute_result"
    }
   ],
   "source": [
    "#Adjusted R2 Score  1 - (1 - R-squared) * ((n - 1)/(n - p - 1))\n",
    "\n",
    "# 1 - ((1-r2) * (X_test.shape[0]-1)/(X_test.shape[0]-X_test.shape[1]-1))\n",
    "1 - ((1-r2) * (40-1)/(40-1-1))"
   ]
  },
  {
   "cell_type": "code",
   "execution_count": 24,
   "id": "0338d9c9-48d2-4c13-92f4-eea1eb93d2c1",
   "metadata": {},
   "outputs": [
    {
     "data": {
      "text/html": [
       "<div>\n",
       "<style scoped>\n",
       "    .dataframe tbody tr th:only-of-type {\n",
       "        vertical-align: middle;\n",
       "    }\n",
       "\n",
       "    .dataframe tbody tr th {\n",
       "        vertical-align: top;\n",
       "    }\n",
       "\n",
       "    .dataframe thead th {\n",
       "        text-align: right;\n",
       "    }\n",
       "</style>\n",
       "<table border=\"1\" class=\"dataframe\">\n",
       "  <thead>\n",
       "    <tr style=\"text-align: right;\">\n",
       "      <th></th>\n",
       "      <th>cgpa</th>\n",
       "      <th>random_feature</th>\n",
       "      <th>package</th>\n",
       "    </tr>\n",
       "  </thead>\n",
       "  <tbody>\n",
       "    <tr>\n",
       "      <th>0</th>\n",
       "      <td>6.89</td>\n",
       "      <td>0.764448</td>\n",
       "      <td>3.26</td>\n",
       "    </tr>\n",
       "    <tr>\n",
       "      <th>1</th>\n",
       "      <td>5.12</td>\n",
       "      <td>0.556250</td>\n",
       "      <td>1.98</td>\n",
       "    </tr>\n",
       "    <tr>\n",
       "      <th>2</th>\n",
       "      <td>7.82</td>\n",
       "      <td>0.973440</td>\n",
       "      <td>3.25</td>\n",
       "    </tr>\n",
       "    <tr>\n",
       "      <th>3</th>\n",
       "      <td>7.42</td>\n",
       "      <td>0.846047</td>\n",
       "      <td>3.67</td>\n",
       "    </tr>\n",
       "    <tr>\n",
       "      <th>4</th>\n",
       "      <td>6.94</td>\n",
       "      <td>0.674126</td>\n",
       "      <td>3.57</td>\n",
       "    </tr>\n",
       "  </tbody>\n",
       "</table>\n",
       "</div>"
      ],
      "text/plain": [
       "   cgpa  random_feature  package\n",
       "0  6.89        0.764448     3.26\n",
       "1  5.12        0.556250     1.98\n",
       "2  7.82        0.973440     3.25\n",
       "3  7.42        0.846047     3.67\n",
       "4  6.94        0.674126     3.57"
      ]
     },
     "execution_count": 24,
     "metadata": {},
     "output_type": "execute_result"
    }
   ],
   "source": [
    "# Adding a Random Column to check the difference between Adjusted R2 Score and R2 Score\n",
    "new_df1 = df.copy()\n",
    "new_df1['random_feature'] = np.random.random(200)\n",
    "\n",
    "new_df1 = new_df1[['cgpa','random_feature','package']]\n",
    "new_df1.head()"
   ]
  },
  {
   "cell_type": "code",
   "execution_count": 25,
   "id": "2368fc19-26f4-4817-834c-d061b65242a6",
   "metadata": {},
   "outputs": [
    {
     "data": {
      "text/plain": [
       "Text(0, 0.5, 'Package(in lpa)')"
      ]
     },
     "execution_count": 25,
     "metadata": {},
     "output_type": "execute_result"
    },
    {
     "data": {
      "image/png": "[encoded data removed]",
      "text/plain": [
       "<Figure size 640x480 with 1 Axes>"
      ]
     },
     "metadata": {},
     "output_type": "display_data"
    }
   ],
   "source": [
    "plt.scatter(new_df1['random_feature'],new_df1['package'])\n",
    "plt.xlabel('random_feature')\n",
    "plt.ylabel('Package(in lpa)')"
   ]
  },
  {
   "cell_type": "code",
   "execution_count": 26,
   "id": "7f566758-e8be-45dc-925c-b77bce6cc8f3",
   "metadata": {},
   "outputs": [],
   "source": [
    "X = new_df1.iloc[:,0:2]\n",
    "y = new_df1.iloc[:,-1]"
   ]
  },
  {
   "cell_type": "code",
   "execution_count": 27,
   "id": "a52e52ab-d5b5-4db4-9a07-5342394d3da9",
   "metadata": {},
   "outputs": [],
   "source": [
    "X_train,X_test,y_train,y_test = train_test_split(X,y,test_size=0.2,random_state=2)\n",
    "\n",
    "lr = LinearRegression()\n",
    "\n",
    "lr.fit(X_train,y_train)\n",
    "\n",
    "y_pred = lr.predict(X_test)"
   ]
  },
  {
   "cell_type": "code",
   "execution_count": 28,
   "id": "71121307-af84-4a8e-a193-e8fe54970ced",
   "metadata": {},
   "outputs": [
    {
     "name": "stdout",
     "output_type": "stream",
     "text": [
      "R2 score 0.7835182049857456\n"
     ]
    }
   ],
   "source": [
    "print(\"R2 score\",r2_score(y_test,y_pred))\n",
    "r2 = r2_score(y_test,y_pred)"
   ]
  },
  {
   "cell_type": "code",
   "execution_count": 29,
   "id": "616976cc-aa7d-4b2c-99ec-d53f8addaf58",
   "metadata": {},
   "outputs": [
    {
     "data": {
      "text/plain": [
       "0.7718164863363265"
      ]
     },
     "execution_count": 29,
     "metadata": {},
     "output_type": "execute_result"
    }
   ],
   "source": [
    "#Adjusted R2\n",
    "1 - ((1-r2)*(40-1)/(40-1-2))"
   ]
  },
  {
   "cell_type": "code",
   "execution_count": 30,
   "id": "7472d700-1fb8-4a42-ab86-6d9644ebb705",
   "metadata": {},
   "outputs": [],
   "source": [
    "# As we can see our Adjusted R2 is decresed from 0.7749598882343415 to 0.7688271208968622 after adding irrelevant column\n",
    "# But our  R2 is stay approx same from 0.780730147510384 to 0.7806821403380488 after adding irrelevant column"
   ]
  },
  {
   "cell_type": "code",
   "execution_count": 31,
   "id": "f0983e17-4162-4572-9564-68ade75f195d",
   "metadata": {},
   "outputs": [],
   "source": [
    "# Adding a Relevant Column to check the difference between Adjusted R2 Score and R2 Score\n",
    "new_df2 = df.copy()\n",
    "\n",
    "new_df2['iq'] = new_df2['package'] + (np.random.randint(-12,12,200)/10)\n",
    "\n",
    "new_df2 = new_df2[['cgpa','iq','package']]"
   ]
  },
  {
   "cell_type": "code",
   "execution_count": 32,
   "id": "04369f3d-a2c2-498c-8dc3-a7b3fa64b9b1",
   "metadata": {},
   "outputs": [
    {
     "data": {
      "text/html": [
       "<div>\n",
       "<style scoped>\n",
       "    .dataframe tbody tr th:only-of-type {\n",
       "        vertical-align: middle;\n",
       "    }\n",
       "\n",
       "    .dataframe tbody tr th {\n",
       "        vertical-align: top;\n",
       "    }\n",
       "\n",
       "    .dataframe thead th {\n",
       "        text-align: right;\n",
       "    }\n",
       "</style>\n",
       "<table border=\"1\" class=\"dataframe\">\n",
       "  <thead>\n",
       "    <tr style=\"text-align: right;\">\n",
       "      <th></th>\n",
       "      <th>cgpa</th>\n",
       "      <th>iq</th>\n",
       "      <th>package</th>\n",
       "    </tr>\n",
       "  </thead>\n",
       "  <tbody>\n",
       "    <tr>\n",
       "      <th>66</th>\n",
       "      <td>5.11</td>\n",
       "      <td>1.73</td>\n",
       "      <td>1.63</td>\n",
       "    </tr>\n",
       "    <tr>\n",
       "      <th>45</th>\n",
       "      <td>7.87</td>\n",
       "      <td>2.48</td>\n",
       "      <td>3.58</td>\n",
       "    </tr>\n",
       "    <tr>\n",
       "      <th>5</th>\n",
       "      <td>7.89</td>\n",
       "      <td>2.19</td>\n",
       "      <td>2.99</td>\n",
       "    </tr>\n",
       "    <tr>\n",
       "      <th>63</th>\n",
       "      <td>9.16</td>\n",
       "      <td>3.35</td>\n",
       "      <td>4.25</td>\n",
       "    </tr>\n",
       "    <tr>\n",
       "      <th>146</th>\n",
       "      <td>6.07</td>\n",
       "      <td>2.86</td>\n",
       "      <td>2.46</td>\n",
       "    </tr>\n",
       "  </tbody>\n",
       "</table>\n",
       "</div>"
      ],
      "text/plain": [
       "     cgpa    iq  package\n",
       "66   5.11  1.73     1.63\n",
       "45   7.87  2.48     3.58\n",
       "5    7.89  2.19     2.99\n",
       "63   9.16  3.35     4.25\n",
       "146  6.07  2.86     2.46"
      ]
     },
     "execution_count": 32,
     "metadata": {},
     "output_type": "execute_result"
    }
   ],
   "source": [
    "new_df2.sample(5)"
   ]
  },
  {
   "cell_type": "code",
   "execution_count": 33,
   "id": "fa7e7874-7262-432e-92bd-4047905b23e1",
   "metadata": {},
   "outputs": [
    {
     "data": {
      "text/plain": [
       "Text(0, 0.5, 'Package(in lpa)')"
      ]
     },
     "execution_count": 33,
     "metadata": {},
     "output_type": "execute_result"
    },
    {
     "data": {
      "image/png": "[encoded data removed]",
      "text/plain": [
       "<Figure size 640x480 with 1 Axes>"
      ]
     },
     "metadata": {},
     "output_type": "display_data"
    }
   ],
   "source": [
    "plt.scatter(new_df2['iq'],new_df2['package'])\n",
    "plt.xlabel('iq')\n",
    "plt.ylabel('Package(in lpa)')"
   ]
  },
  {
   "cell_type": "code",
   "execution_count": 34,
   "id": "e50a6bf5-d2dc-4f57-9787-8bd7e5e73d22",
   "metadata": {},
   "outputs": [
    {
     "data": {
      "text/plain": [
       "4"
      ]
     },
     "execution_count": 34,
     "metadata": {},
     "output_type": "execute_result"
    }
   ],
   "source": [
    "np.random.randint(-100,100)"
   ]
  },
  {
   "cell_type": "code",
   "execution_count": 35,
   "id": "3894da16-627e-4bba-a762-ab656881c5fd",
   "metadata": {},
   "outputs": [],
   "source": [
    "X = new_df2.iloc[:,0:2]\n",
    "y = new_df2.iloc[:,-1]"
   ]
  },
  {
   "cell_type": "code",
   "execution_count": 36,
   "id": "ca876503-0b79-4644-bd42-dafc9310918a",
   "metadata": {},
   "outputs": [],
   "source": [
    "X_train,X_test,y_train,y_test = train_test_split(X,y,test_size=0.2,random_state=2)"
   ]
  },
  {
   "cell_type": "code",
   "execution_count": 37,
   "id": "d943a22d-1aa6-450c-9c72-f35217ab9e0f",
   "metadata": {},
   "outputs": [],
   "source": [
    "lr = LinearRegression()\n",
    "lr.fit(X_train,y_train)\n",
    "y_pred = lr.predict(X_test)"
   ]
  },
  {
   "cell_type": "code",
   "execution_count": 38,
   "id": "d1363cb5-1632-43db-a8e0-51fa162f2100",
   "metadata": {},
   "outputs": [
    {
     "name": "stdout",
     "output_type": "stream",
     "text": [
      "R2 score 0.8177492495985099\n"
     ]
    }
   ],
   "source": [
    "print(\"R2 score\",r2_score(y_test,y_pred))\n",
    "r2 = r2_score(y_test,y_pred)"
   ]
  },
  {
   "cell_type": "code",
   "execution_count": 39,
   "id": "a8c48b30-4af5-4e96-b1ac-ace6e70cba50",
   "metadata": {},
   "outputs": [
    {
     "data": {
      "text/plain": [
       "0.8078978576849158"
      ]
     },
     "execution_count": 39,
     "metadata": {},
     "output_type": "execute_result"
    }
   ],
   "source": [
    "1 - ((1-r2)*(40-1)/(40-1-2))"
   ]
  }
 ],
 "metadata": {
  "kernelspec": {
   "display_name": "Python 3 (ipykernel)",
   "language": "python",
   "name": "python3"
  },
  "language_info": {
   "codemirror_mode": {
    "name": "ipython",
    "version": 3
   },
   "file_extension": ".py",
   "mimetype": "text/x-python",
   "name": "python",
   "nbconvert_exporter": "python",
   "pygments_lexer": "ipython3",
   "version": "3.11.5"
  }
 },
 "nbformat": 4,
 "nbformat_minor": 5
}
