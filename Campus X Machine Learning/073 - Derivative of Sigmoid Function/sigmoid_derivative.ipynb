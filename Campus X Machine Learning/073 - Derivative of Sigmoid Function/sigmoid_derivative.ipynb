{
 "cells": [
  {
   "cell_type": "markdown",
   "id": "fabebf8a-6b75-408e-bed2-b647abcaa61d",
   "metadata": {},
   "source": [
    "![Sigmoid](https://miro.medium.com/v2/resize:fit:1400/1*a04iKNbchayCAJ7-0QlesA.png)\n",
    "\n",
    "Think of the sigmoid function like a smooth \"S\"-shaped curve. It takes any input value and squishes it into a value between 0 and 1.\n",
    "\n",
    "Imagine you have a number line where the numbers on the left are really negative, the numbers in the middle are around 0, and the numbers on the right are really positive. When you feed these numbers into the sigmoid function:\n",
    "\n",
    "- For very negative numbers, the sigmoid function gives a value close to 0.\n",
    "- For very positive numbers, it gives a value close to 1.\n",
    "- For numbers around 0, it gives a value close to 0.5.\n",
    "\n",
    "It's like a translator that converts any number you give it into a \"probability\" between 0 and 1. This property makes it really handy in things like predicting probabilities or classifying things into categories (like saying if an email is spam or not).\n",
    "\n",
    "The formula for the sigmoid function is **`f(x) = 1 / 1 + e^-x`**, where x is the input value. But you don't have to worry too much about the math unless you're diving deep into the details! Just remember, it squishes numbers into probabilities."
   ]
  },
  {
   "cell_type": "markdown",
   "id": "b72a0ba2-9036-4a3a-bb3b-21690f807864",
   "metadata": {},
   "source": [
    "Sigmoid Derivative\n",
    "\n",
    "![Sigmoid Derivative](https://www.geeksforgeeks.org/wp-content/ql-cache/quicklatex.com-507e60eb67497bbef9f09a82bc205da1_l3.svg)\n",
    "\n",
    "***The derivative of the Sigmoid function is the Sigmoid function itself multiplied by 1 minus the Sigmoid function***\n",
    "\n",
    "Refer `Sigmoid derivative.pdf` from the github repository"
   ]
  },
  {
   "cell_type": "markdown",
   "id": "6bd44ea7-c866-496e-b2ff-7338c517351f",
   "metadata": {},
   "source": [
    "![Sigmoid graph](https://miro.medium.com/v2/resize:fit:1400/1*6A3A_rt4YmumHusvTvVTxw.png)"
   ]
  }
 ],
 "metadata": {
  "kernelspec": {
   "display_name": "Python 3 (ipykernel)",
   "language": "python",
   "name": "python3"
  },
  "language_info": {
   "codemirror_mode": {
    "name": "ipython",
    "version": 3
   },
   "file_extension": ".py",
   "mimetype": "text/x-python",
   "name": "python",
   "nbconvert_exporter": "python",
   "pygments_lexer": "ipython3",
   "version": "3.11.5"
  }
 },
 "nbformat": 4,
 "nbformat_minor": 5
}
