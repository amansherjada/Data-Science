{
 "cells": [
  {
   "cell_type": "markdown",
   "id": "2852c508-8511-42ef-9f95-f0badf8142f9",
   "metadata": {},
   "source": [
    "Dataset = https://www.kaggle.com/datasets/oddrationale/mnist-in-csv"
   ]
  },
  {
   "cell_type": "markdown",
   "id": "c99966b4-51a6-46a9-a071-e31457b052b3",
   "metadata": {},
   "source": [
    "### What is Feature Importance\n",
    "\n",
    "Feature importance refers to a technique used in machine learning to determine the relative significance of input features in predicting the target variable. It helps identify which features contribute the most to the model's predictions and can provide valuable insights into the underlying relationships within the dataset. Here's a detailed explanation:\n",
    "\n",
    "1. **Importance of Features**:\n",
    "   - In many machine learning tasks, datasets contain multiple input features that may vary in their predictive power. Some features might have a strong influence on the target variable, while others might be less relevant or even irrelevant.\n",
    "   - Understanding the importance of features can help in feature selection, model interpretation, and identifying key factors driving the predictions.\n",
    "\n",
    "2. **Feature Importance Metrics**:\n",
    "   - Various metrics are used to quantify the importance of features. Common methods include:\n",
    "     - **Gini Importance**: Measures the total decrease in node impurity (e.g., Gini impurity) across all decision trees in a Random Forest model.\n",
    "     - **Permutation Importance**: Measures the decrease in model performance (e.g., accuracy, F1-score) when the values of a feature are randomly shuffled.\n",
    "     - **Coefficient Magnitudes**: In linear models, the magnitude of the coefficients indicates the importance of features.\n",
    "     - **Information Gain**: In decision trees, the information gain obtained by splitting on a feature is often used as a measure of its importance.\n",
    "     - **Tree-based Methods**: In tree-based models like decision trees, Random Forests, or Gradient Boosting Machines (GBM), the importance of features can be inferred directly from the structure of the trees.\n",
    "\n",
    "3. **Interpretation**:\n",
    "   - Feature importance scores provide a ranking of features based on their relative influence on the model's predictions. Features with higher importance scores are considered more influential in predicting the target variable.\n",
    "   - Understanding feature importance can help in:\n",
    "     - Identifying key drivers of the target variable.\n",
    "     - Selecting the most relevant features for model training, which can lead to simpler and more interpretable models.\n",
    "     - Detecting potential data issues or biases if unexpected features have high importance.\n",
    "     - Explaining and interpreting the model's predictions to stakeholders.\n",
    "\n",
    "4. **Visualization**:\n",
    "   - Feature importance can be visualized using various techniques such as bar plots, heatmaps, or tree-based feature importance plots. These visualizations provide a clear understanding of the relative importance of features.\n",
    "\n",
    "In summary, feature importance is a valuable tool in machine learning for understanding the contribution of input features to the model's predictions. It helps in model interpretation, feature selection, and identifying key factors driving the target variable."
   ]
  },
  {
   "cell_type": "markdown",
   "id": "c460ad14-ac42-4a64-b9f4-d76daff80231",
   "metadata": {},
   "source": [
    "### Feature importance using Random Forest"
   ]
  },
  {
   "cell_type": "code",
   "execution_count": 1,
   "id": "c43c5af1-14cd-4430-bf42-0479f69a9d57",
   "metadata": {},
   "outputs": [],
   "source": [
    "import pandas as pd\n",
    "import seaborn as sns"
   ]
  },
  {
   "cell_type": "code",
   "execution_count": 2,
   "id": "840465cd-4e29-4a56-aa38-c656ad6d058b",
   "metadata": {},
   "outputs": [],
   "source": [
    "df = pd.read_csv('mnist_train.csv')"
   ]
  },
  {
   "cell_type": "code",
   "execution_count": 3,
   "id": "b9c3b3b6-04a4-49ad-aa6d-655820725960",
   "metadata": {},
   "outputs": [],
   "source": [
    "# Rename the pixel columns\n",
    "# pixel columns start from 1x1 and go up to 28x28\n",
    "old_columns = df.columns[1:]  # Exclude the 'label' column\n",
    "new_columns = ['pixel' + str(i) for i in range(len(old_columns))]\n",
    "column_mapping = dict(zip(old_columns, new_columns))\n",
    "df = df.rename(columns=column_mapping)"
   ]
  },
  {
   "cell_type": "code",
   "execution_count": 4,
   "id": "6bebc621-0ea5-43ef-9b0a-fe34b06d3129",
   "metadata": {},
   "outputs": [
    {
     "data": {
      "text/html": [
       "<div>\n",
       "<style scoped>\n",
       "    .dataframe tbody tr th:only-of-type {\n",
       "        vertical-align: middle;\n",
       "    }\n",
       "\n",
       "    .dataframe tbody tr th {\n",
       "        vertical-align: top;\n",
       "    }\n",
       "\n",
       "    .dataframe thead th {\n",
       "        text-align: right;\n",
       "    }\n",
       "</style>\n",
       "<table border=\"1\" class=\"dataframe\">\n",
       "  <thead>\n",
       "    <tr style=\"text-align: right;\">\n",
       "      <th></th>\n",
       "      <th>label</th>\n",
       "      <th>pixel0</th>\n",
       "      <th>pixel1</th>\n",
       "      <th>pixel2</th>\n",
       "      <th>pixel3</th>\n",
       "      <th>pixel4</th>\n",
       "      <th>pixel5</th>\n",
       "      <th>pixel6</th>\n",
       "      <th>pixel7</th>\n",
       "      <th>pixel8</th>\n",
       "      <th>...</th>\n",
       "      <th>pixel774</th>\n",
       "      <th>pixel775</th>\n",
       "      <th>pixel776</th>\n",
       "      <th>pixel777</th>\n",
       "      <th>pixel778</th>\n",
       "      <th>pixel779</th>\n",
       "      <th>pixel780</th>\n",
       "      <th>pixel781</th>\n",
       "      <th>pixel782</th>\n",
       "      <th>pixel783</th>\n",
       "    </tr>\n",
       "  </thead>\n",
       "  <tbody>\n",
       "    <tr>\n",
       "      <th>0</th>\n",
       "      <td>5</td>\n",
       "      <td>0</td>\n",
       "      <td>0</td>\n",
       "      <td>0</td>\n",
       "      <td>0</td>\n",
       "      <td>0</td>\n",
       "      <td>0</td>\n",
       "      <td>0</td>\n",
       "      <td>0</td>\n",
       "      <td>0</td>\n",
       "      <td>...</td>\n",
       "      <td>0</td>\n",
       "      <td>0</td>\n",
       "      <td>0</td>\n",
       "      <td>0</td>\n",
       "      <td>0</td>\n",
       "      <td>0</td>\n",
       "      <td>0</td>\n",
       "      <td>0</td>\n",
       "      <td>0</td>\n",
       "      <td>0</td>\n",
       "    </tr>\n",
       "    <tr>\n",
       "      <th>1</th>\n",
       "      <td>0</td>\n",
       "      <td>0</td>\n",
       "      <td>0</td>\n",
       "      <td>0</td>\n",
       "      <td>0</td>\n",
       "      <td>0</td>\n",
       "      <td>0</td>\n",
       "      <td>0</td>\n",
       "      <td>0</td>\n",
       "      <td>0</td>\n",
       "      <td>...</td>\n",
       "      <td>0</td>\n",
       "      <td>0</td>\n",
       "      <td>0</td>\n",
       "      <td>0</td>\n",
       "      <td>0</td>\n",
       "      <td>0</td>\n",
       "      <td>0</td>\n",
       "      <td>0</td>\n",
       "      <td>0</td>\n",
       "      <td>0</td>\n",
       "    </tr>\n",
       "    <tr>\n",
       "      <th>2</th>\n",
       "      <td>4</td>\n",
       "      <td>0</td>\n",
       "      <td>0</td>\n",
       "      <td>0</td>\n",
       "      <td>0</td>\n",
       "      <td>0</td>\n",
       "      <td>0</td>\n",
       "      <td>0</td>\n",
       "      <td>0</td>\n",
       "      <td>0</td>\n",
       "      <td>...</td>\n",
       "      <td>0</td>\n",
       "      <td>0</td>\n",
       "      <td>0</td>\n",
       "      <td>0</td>\n",
       "      <td>0</td>\n",
       "      <td>0</td>\n",
       "      <td>0</td>\n",
       "      <td>0</td>\n",
       "      <td>0</td>\n",
       "      <td>0</td>\n",
       "    </tr>\n",
       "    <tr>\n",
       "      <th>3</th>\n",
       "      <td>1</td>\n",
       "      <td>0</td>\n",
       "      <td>0</td>\n",
       "      <td>0</td>\n",
       "      <td>0</td>\n",
       "      <td>0</td>\n",
       "      <td>0</td>\n",
       "      <td>0</td>\n",
       "      <td>0</td>\n",
       "      <td>0</td>\n",
       "      <td>...</td>\n",
       "      <td>0</td>\n",
       "      <td>0</td>\n",
       "      <td>0</td>\n",
       "      <td>0</td>\n",
       "      <td>0</td>\n",
       "      <td>0</td>\n",
       "      <td>0</td>\n",
       "      <td>0</td>\n",
       "      <td>0</td>\n",
       "      <td>0</td>\n",
       "    </tr>\n",
       "    <tr>\n",
       "      <th>4</th>\n",
       "      <td>9</td>\n",
       "      <td>0</td>\n",
       "      <td>0</td>\n",
       "      <td>0</td>\n",
       "      <td>0</td>\n",
       "      <td>0</td>\n",
       "      <td>0</td>\n",
       "      <td>0</td>\n",
       "      <td>0</td>\n",
       "      <td>0</td>\n",
       "      <td>...</td>\n",
       "      <td>0</td>\n",
       "      <td>0</td>\n",
       "      <td>0</td>\n",
       "      <td>0</td>\n",
       "      <td>0</td>\n",
       "      <td>0</td>\n",
       "      <td>0</td>\n",
       "      <td>0</td>\n",
       "      <td>0</td>\n",
       "      <td>0</td>\n",
       "    </tr>\n",
       "  </tbody>\n",
       "</table>\n",
       "<p>5 rows × 785 columns</p>\n",
       "</div>"
      ],
      "text/plain": [
       "   label  pixel0  pixel1  pixel2  pixel3  pixel4  pixel5  pixel6  pixel7  \\\n",
       "0      5       0       0       0       0       0       0       0       0   \n",
       "1      0       0       0       0       0       0       0       0       0   \n",
       "2      4       0       0       0       0       0       0       0       0   \n",
       "3      1       0       0       0       0       0       0       0       0   \n",
       "4      9       0       0       0       0       0       0       0       0   \n",
       "\n",
       "   pixel8  ...  pixel774  pixel775  pixel776  pixel777  pixel778  pixel779  \\\n",
       "0       0  ...         0         0         0         0         0         0   \n",
       "1       0  ...         0         0         0         0         0         0   \n",
       "2       0  ...         0         0         0         0         0         0   \n",
       "3       0  ...         0         0         0         0         0         0   \n",
       "4       0  ...         0         0         0         0         0         0   \n",
       "\n",
       "   pixel780  pixel781  pixel782  pixel783  \n",
       "0         0         0         0         0  \n",
       "1         0         0         0         0  \n",
       "2         0         0         0         0  \n",
       "3         0         0         0         0  \n",
       "4         0         0         0         0  \n",
       "\n",
       "[5 rows x 785 columns]"
      ]
     },
     "execution_count": 4,
     "metadata": {},
     "output_type": "execute_result"
    }
   ],
   "source": [
    "df.head()"
   ]
  },
  {
   "cell_type": "code",
   "execution_count": 5,
   "id": "c04ee228-aee6-4b8f-af2b-479ea54a5326",
   "metadata": {},
   "outputs": [],
   "source": [
    "X = df.iloc[:, 1:]\n",
    "y = df.iloc[:, 0]"
   ]
  },
  {
   "cell_type": "code",
   "execution_count": 7,
   "id": "b16b38df-186a-4188-8a84-016342aca4af",
   "metadata": {},
   "outputs": [
    {
     "data": {
      "text/plain": [
       "<Axes: >"
      ]
     },
     "execution_count": 7,
     "metadata": {},
     "output_type": "execute_result"
    },
    {
     "data": {
      "image/png": "[encoded data removed]",
      "text/plain": [
       "<Figure size 640x480 with 2 Axes>"
      ]
     },
     "metadata": {},
     "output_type": "display_data"
    }
   ],
   "source": [
    "sns.heatmap(X.iloc[1].values.reshape(28,28))"
   ]
  },
  {
   "cell_type": "code",
   "execution_count": 8,
   "id": "cea4ac6d-9cb5-4ddb-a663-88ecc85df052",
   "metadata": {},
   "outputs": [
    {
     "data": {
      "text/html": [
       "<style>#sk-container-id-1 {color: black;background-color: white;}#sk-container-id-1 pre{padding: 0;}#sk-container-id-1 div.sk-toggleable {background-color: white;}#sk-container-id-1 label.sk-toggleable__label {cursor: pointer;display: block;width: 100%;margin-bottom: 0;padding: 0.3em;box-sizing: border-box;text-align: center;}#sk-container-id-1 label.sk-toggleable__label-arrow:before {content: \"▸\";float: left;margin-right: 0.25em;color: #696969;}#sk-container-id-1 label.sk-toggleable__label-arrow:hover:before {color: black;}#sk-container-id-1 div.sk-estimator:hover label.sk-toggleable__label-arrow:before {color: black;}#sk-container-id-1 div.sk-toggleable__content {max-height: 0;max-width: 0;overflow: hidden;text-align: left;background-color: #f0f8ff;}#sk-container-id-1 div.sk-toggleable__content pre {margin: 0.2em;color: black;border-radius: 0.25em;background-color: #f0f8ff;}#sk-container-id-1 input.sk-toggleable__control:checked~div.sk-toggleable__content {max-height: 200px;max-width: 100%;overflow: auto;}#sk-container-id-1 input.sk-toggleable__control:checked~label.sk-toggleable__label-arrow:before {content: \"▾\";}#sk-container-id-1 div.sk-estimator input.sk-toggleable__control:checked~label.sk-toggleable__label {background-color: #d4ebff;}#sk-container-id-1 div.sk-label input.sk-toggleable__control:checked~label.sk-toggleable__label {background-color: #d4ebff;}#sk-container-id-1 input.sk-hidden--visually {border: 0;clip: rect(1px 1px 1px 1px);clip: rect(1px, 1px, 1px, 1px);height: 1px;margin: -1px;overflow: hidden;padding: 0;position: absolute;width: 1px;}#sk-container-id-1 div.sk-estimator {font-family: monospace;background-color: #f0f8ff;border: 1px dotted black;border-radius: 0.25em;box-sizing: border-box;margin-bottom: 0.5em;}#sk-container-id-1 div.sk-estimator:hover {background-color: #d4ebff;}#sk-container-id-1 div.sk-parallel-item::after {content: \"\";width: 100%;border-bottom: 1px solid gray;flex-grow: 1;}#sk-container-id-1 div.sk-label:hover label.sk-toggleable__label {background-color: #d4ebff;}#sk-container-id-1 div.sk-serial::before {content: \"\";position: absolute;border-left: 1px solid gray;box-sizing: border-box;top: 0;bottom: 0;left: 50%;z-index: 0;}#sk-container-id-1 div.sk-serial {display: flex;flex-direction: column;align-items: center;background-color: white;padding-right: 0.2em;padding-left: 0.2em;position: relative;}#sk-container-id-1 div.sk-item {position: relative;z-index: 1;}#sk-container-id-1 div.sk-parallel {display: flex;align-items: stretch;justify-content: center;background-color: white;position: relative;}#sk-container-id-1 div.sk-item::before, #sk-container-id-1 div.sk-parallel-item::before {content: \"\";position: absolute;border-left: 1px solid gray;box-sizing: border-box;top: 0;bottom: 0;left: 50%;z-index: -1;}#sk-container-id-1 div.sk-parallel-item {display: flex;flex-direction: column;z-index: 1;position: relative;background-color: white;}#sk-container-id-1 div.sk-parallel-item:first-child::after {align-self: flex-end;width: 50%;}#sk-container-id-1 div.sk-parallel-item:last-child::after {align-self: flex-start;width: 50%;}#sk-container-id-1 div.sk-parallel-item:only-child::after {width: 0;}#sk-container-id-1 div.sk-dashed-wrapped {border: 1px dashed gray;margin: 0 0.4em 0.5em 0.4em;box-sizing: border-box;padding-bottom: 0.4em;background-color: white;}#sk-container-id-1 div.sk-label label {font-family: monospace;font-weight: bold;display: inline-block;line-height: 1.2em;}#sk-container-id-1 div.sk-label-container {text-align: center;}#sk-container-id-1 div.sk-container {/* jupyter's `normalize.less` sets `[hidden] { display: none; }` but bootstrap.min.css set `[hidden] { display: none !important; }` so we also need the `!important` here to be able to override the default hidden behavior on the sphinx rendered scikit-learn.org. See: https://github.com/scikit-learn/scikit-learn/issues/21755 */display: inline-block !important;position: relative;}#sk-container-id-1 div.sk-text-repr-fallback {display: none;}</style><div id=\"sk-container-id-1\" class=\"sk-top-container\"><div class=\"sk-text-repr-fallback\"><pre>RandomForestClassifier()</pre><b>In a Jupyter environment, please rerun this cell to show the HTML representation or trust the notebook. <br />On GitHub, the HTML representation is unable to render, please try loading this page with nbviewer.org.</b></div><div class=\"sk-container\" hidden><div class=\"sk-item\"><div class=\"sk-estimator sk-toggleable\"><input class=\"sk-toggleable__control sk-hidden--visually\" id=\"sk-estimator-id-1\" type=\"checkbox\" checked><label for=\"sk-estimator-id-1\" class=\"sk-toggleable__label sk-toggleable__label-arrow\">RandomForestClassifier</label><div class=\"sk-toggleable__content\"><pre>RandomForestClassifier()</pre></div></div></div></div></div>"
      ],
      "text/plain": [
       "RandomForestClassifier()"
      ]
     },
     "execution_count": 8,
     "metadata": {},
     "output_type": "execute_result"
    }
   ],
   "source": [
    "from sklearn.ensemble import RandomForestClassifier\n",
    "\n",
    "rf = RandomForestClassifier()\n",
    "\n",
    "rf.fit(X,y)"
   ]
  },
  {
   "cell_type": "code",
   "execution_count": 9,
   "id": "39fa0aa6-c359-4add-8006-d17a6efd84aa",
   "metadata": {},
   "outputs": [
    {
     "data": {
      "text/plain": [
       "array([0.00000000e+00, 0.00000000e+00, 0.00000000e+00, 0.00000000e+00,\n",
       "       0.00000000e+00, 0.00000000e+00, 0.00000000e+00, 0.00000000e+00,\n",
       "       0.00000000e+00, 0.00000000e+00, 0.00000000e+00, 0.00000000e+00,\n",
       "       0.00000000e+00, 0.00000000e+00, 0.00000000e+00, 0.00000000e+00,\n",
       "       0.00000000e+00, 0.00000000e+00, 0.00000000e+00, 0.00000000e+00,\n",
       "       0.00000000e+00, 0.00000000e+00, 0.00000000e+00, 0.00000000e+00,\n",
       "       0.00000000e+00, 0.00000000e+00, 0.00000000e+00, 0.00000000e+00,\n",
       "       0.00000000e+00, 0.00000000e+00, 0.00000000e+00, 0.00000000e+00,\n",
       "       0.00000000e+00, 0.00000000e+00, 3.12902603e-06, 7.31338595e-07,\n",
       "       2.46784417e-06, 2.48434416e-06, 3.05522897e-06, 4.21926076e-06,\n",
       "       3.75117654e-06, 3.53918463e-07, 7.54442458e-06, 4.34261052e-06,\n",
       "       7.17832366e-06, 1.73880397e-06, 1.74597020e-06, 0.00000000e+00,\n",
       "       1.33715019e-06, 1.45861403e-06, 0.00000000e+00, 3.69134036e-07,\n",
       "       0.00000000e+00, 0.00000000e+00, 0.00000000e+00, 0.00000000e+00,\n",
       "       0.00000000e+00, 0.00000000e+00, 0.00000000e+00, 8.90634940e-07,\n",
       "       0.00000000e+00, 0.00000000e+00, 1.95881381e-06, 1.59247866e-06,\n",
       "       1.35188960e-05, 4.07108258e-05, 4.86581802e-05, 9.96749284e-05,\n",
       "       1.29930531e-04, 1.35156631e-04, 8.91810654e-05, 1.11365914e-04,\n",
       "       1.40104294e-04, 1.10441135e-04, 1.62041496e-04, 2.72008574e-05,\n",
       "       1.86886542e-05, 1.62147104e-05, 9.16431837e-06, 2.75644212e-06,\n",
       "       7.33447978e-07, 7.22335445e-07, 0.00000000e+00, 0.00000000e+00,\n",
       "       0.00000000e+00, 0.00000000e+00, 3.66407648e-07, 6.32188009e-07,\n",
       "       7.10071572e-07, 1.92603454e-06, 1.04578666e-05, 2.29631397e-05,\n",
       "       6.01193430e-05, 1.85919787e-04, 2.50685174e-04, 5.43024593e-04,\n",
       "       7.93440697e-04, 8.63505563e-04, 1.62890037e-03, 2.47142622e-03,\n",
       "       1.73859764e-03, 1.99757441e-03, 9.80318264e-04, 5.98696668e-04,\n",
       "       3.76133539e-04, 1.38820664e-04, 7.83342790e-05, 2.99012584e-05,\n",
       "       1.63249359e-05, 2.68064809e-06, 0.00000000e+00, 0.00000000e+00,\n",
       "       0.00000000e+00, 0.00000000e+00, 8.33613829e-07, 3.48695365e-07,\n",
       "       3.14479092e-06, 1.65100935e-05, 2.45265955e-05, 7.45991414e-05,\n",
       "       1.37818367e-04, 3.76201351e-04, 6.91469850e-04, 9.08130675e-04,\n",
       "       1.53972277e-03, 2.01027739e-03, 2.16919772e-03, 1.70058340e-03,\n",
       "       1.85885634e-03, 1.01775180e-03, 1.09010391e-03, 5.69382172e-04,\n",
       "       3.72041564e-04, 2.14513606e-04, 1.50378152e-04, 8.88887237e-05,\n",
       "       3.77946842e-05, 2.61157834e-05, 3.61615328e-06, 3.61948954e-07,\n",
       "       0.00000000e+00, 0.00000000e+00, 0.00000000e+00, 3.66777072e-07,\n",
       "       1.56933790e-05, 3.45551018e-05, 1.20889177e-04, 2.08124862e-04,\n",
       "       4.58695743e-04, 1.11664747e-03, 2.00331034e-03, 3.41663883e-03,\n",
       "       3.14302695e-03, 4.61011303e-03, 5.99239551e-03, 5.35408412e-03,\n",
       "       7.55654976e-03, 3.25144401e-03, 2.21864436e-03, 1.49514162e-03,\n",
       "       1.06479390e-03, 7.85483970e-04, 4.51198256e-04, 2.38715868e-04,\n",
       "       1.10038542e-04, 3.61616222e-05, 9.01060644e-06, 1.50375949e-06,\n",
       "       0.00000000e+00, 0.00000000e+00, 6.98452680e-07, 8.97948789e-06,\n",
       "       2.48554495e-05, 9.55047559e-05, 2.70188653e-04, 4.41302539e-04,\n",
       "       1.42324008e-03, 2.04139773e-03, 2.00370388e-03, 2.54541283e-03,\n",
       "       2.40623085e-03, 3.03759346e-03, 3.99115120e-03, 4.98498528e-03,\n",
       "       3.42921348e-03, 2.65750188e-03, 2.05350726e-03, 1.52452489e-03,\n",
       "       1.38570907e-03, 1.25958228e-03, 1.12574654e-03, 9.18947352e-04,\n",
       "       5.37498213e-04, 5.41927378e-05, 8.04671330e-06, 2.16016389e-06,\n",
       "       0.00000000e+00, 5.77113992e-07, 1.31855564e-06, 1.28729292e-05,\n",
       "       6.91693096e-05, 1.82336796e-04, 3.20870000e-04, 6.72092477e-04,\n",
       "       9.55279700e-04, 1.76196602e-03, 2.12074316e-03, 2.80090532e-03,\n",
       "       2.40861575e-03, 3.22199214e-03, 4.41018386e-03, 7.02509677e-03,\n",
       "       5.48470484e-03, 2.56700802e-03, 2.68805410e-03, 2.67903843e-03,\n",
       "       1.39785788e-03, 1.29774753e-03, 1.34031647e-03, 1.24476582e-03,\n",
       "       7.29309740e-04, 1.32032113e-04, 1.50719659e-05, 7.72786080e-06,\n",
       "       1.00816854e-06, 1.43294904e-06, 2.57957878e-06, 2.97025429e-05,\n",
       "       6.84225335e-05, 2.01325549e-04, 4.46734111e-04, 7.18331436e-04,\n",
       "       9.39070520e-04, 1.69604459e-03, 2.64923487e-03, 2.90178399e-03,\n",
       "       3.76879950e-03, 4.05604428e-03, 5.59398066e-03, 5.52314689e-03,\n",
       "       4.67250698e-03, 3.26535542e-03, 2.95300623e-03, 3.20389767e-03,\n",
       "       2.19592828e-03, 1.75704135e-03, 1.23081244e-03, 9.57580754e-04,\n",
       "       8.18347428e-04, 1.33601584e-04, 9.58923348e-06, 2.77650687e-06,\n",
       "       0.00000000e+00, 3.00561278e-06, 1.23639602e-05, 2.11006363e-05,\n",
       "       1.00685234e-04, 1.87102393e-04, 4.65984970e-04, 9.11152196e-04,\n",
       "       1.78554294e-03, 1.79649088e-03, 3.65073020e-03, 5.03833026e-03,\n",
       "       2.95898628e-03, 3.06513000e-03, 3.37243752e-03, 4.31613344e-03,\n",
       "       3.42078347e-03, 3.97745639e-03, 5.25719171e-03, 3.74125044e-03,\n",
       "       2.44513768e-03, 2.00782533e-03, 9.71008993e-04, 6.93598298e-04,\n",
       "       4.95904800e-04, 1.13470236e-04, 1.22282550e-05, 2.21122070e-06,\n",
       "       0.00000000e+00, 7.14720783e-07, 4.20403426e-06, 2.44063232e-05,\n",
       "       1.25041389e-04, 2.73094841e-04, 4.85282801e-04, 1.05183593e-03,\n",
       "       2.10032490e-03, 2.78320830e-03, 6.04335578e-03, 5.66837014e-03,\n",
       "       3.14739909e-03, 2.97741887e-03, 3.30293398e-03, 3.79944012e-03,\n",
       "       3.52068216e-03, 3.31355893e-03, 4.17252068e-03, 4.04164889e-03,\n",
       "       2.60006499e-03, 1.78295070e-03, 1.56139016e-03, 4.15398958e-04,\n",
       "       2.22207059e-04, 5.90147388e-05, 1.56881859e-05, 1.84808250e-06,\n",
       "       0.00000000e+00, 0.00000000e+00, 2.75722678e-06, 2.83873065e-05,\n",
       "       1.10711420e-04, 2.29198270e-04, 5.24980086e-04, 1.36265665e-03,\n",
       "       2.00685877e-03, 3.54894208e-03, 5.41958220e-03, 4.19003182e-03,\n",
       "       3.83468219e-03, 3.50712250e-03, 5.22133553e-03, 3.94610524e-03,\n",
       "       3.40781600e-03, 3.37071603e-03, 4.74386330e-03, 3.00663410e-03,\n",
       "       2.03207470e-03, 1.97690016e-03, 1.35209061e-03, 4.92197048e-04,\n",
       "       1.16121405e-04, 4.53113887e-05, 8.36860284e-06, 4.01225030e-06,\n",
       "       0.00000000e+00, 2.07495646e-06, 3.49690343e-06, 3.24497952e-05,\n",
       "       1.03145945e-04, 2.37917345e-04, 7.24884345e-04, 1.30558660e-03,\n",
       "       2.78551164e-03, 3.52024915e-03, 5.63315374e-03, 6.12303182e-03,\n",
       "       5.04855468e-03, 4.20915744e-03, 8.69359798e-03, 5.08781452e-03,\n",
       "       3.96295178e-03, 3.74131422e-03, 3.62690897e-03, 2.02850419e-03,\n",
       "       1.55724185e-03, 2.98333950e-03, 2.34347289e-03, 5.70624429e-04,\n",
       "       9.15436345e-05, 2.24256146e-05, 4.54797969e-06, 0.00000000e+00,\n",
       "       0.00000000e+00, 2.47004308e-07, 2.03842862e-06, 1.20459121e-05,\n",
       "       8.44338090e-05, 3.85339212e-04, 9.99934632e-04, 2.27444506e-03,\n",
       "       3.68214942e-03, 7.05328507e-03, 5.71593593e-03, 6.43378817e-03,\n",
       "       4.44008808e-03, 6.07350763e-03, 8.09859653e-03, 3.94760886e-03,\n",
       "       4.25405982e-03, 6.65840635e-03, 3.57991058e-03, 1.64534835e-03,\n",
       "       1.36644090e-03, 1.30507382e-03, 3.07117122e-03, 8.53856099e-04,\n",
       "       1.63869463e-04, 2.68247600e-05, 7.51297154e-06, 0.00000000e+00,\n",
       "       0.00000000e+00, 0.00000000e+00, 6.79101069e-07, 9.83895442e-06,\n",
       "       9.77578476e-05, 3.23845515e-04, 1.11144770e-03, 1.94562802e-03,\n",
       "       4.83108955e-03, 4.39066054e-03, 4.18760953e-03, 4.18035571e-03,\n",
       "       4.62410681e-03, 7.76473253e-03, 7.90878580e-03, 4.49348777e-03,\n",
       "       4.16929050e-03, 6.33750193e-03, 3.94122914e-03, 1.50144981e-03,\n",
       "       1.38445303e-03, 2.57407233e-03, 1.91255189e-03, 4.89473286e-04,\n",
       "       2.47687043e-04, 3.33764629e-05, 8.22602465e-06, 4.44579228e-07,\n",
       "       0.00000000e+00, 3.50827569e-07, 4.77455574e-06, 2.68054616e-05,\n",
       "       8.74323951e-05, 5.59534911e-04, 1.79717470e-03, 2.12958349e-03,\n",
       "       3.18251859e-03, 4.54788301e-03, 3.83806391e-03, 5.55564236e-03,\n",
       "       4.96315750e-03, 7.90825031e-03, 5.43673774e-03, 3.14358628e-03,\n",
       "       3.75112005e-03, 4.93239236e-03, 2.78916053e-03, 1.82515436e-03,\n",
       "       1.60376616e-03, 1.11736642e-03, 1.18831643e-03, 6.20114084e-04,\n",
       "       1.73521195e-04, 3.64771262e-05, 1.27354845e-05, 0.00000000e+00,\n",
       "       0.00000000e+00, 0.00000000e+00, 5.74465873e-06, 2.79667463e-05,\n",
       "       1.07952546e-04, 4.99123960e-04, 1.99274558e-03, 2.92927350e-03,\n",
       "       3.28492963e-03, 4.08171505e-03, 4.63753277e-03, 4.18225574e-03,\n",
       "       5.99522897e-03, 6.87582701e-03, 7.03003888e-03, 3.13320403e-03,\n",
       "       3.35937913e-03, 3.65784963e-03, 2.94008293e-03, 1.82738766e-03,\n",
       "       1.50015111e-03, 1.53436567e-03, 6.10853897e-04, 4.37805675e-04,\n",
       "       1.86454533e-04, 4.13222867e-05, 2.01163538e-05, 2.29676163e-06,\n",
       "       0.00000000e+00, 3.68291326e-07, 4.81780561e-06, 3.85247634e-05,\n",
       "       1.37024349e-04, 4.41925081e-04, 1.73784010e-03, 2.85455486e-03,\n",
       "       3.09465878e-03, 4.52047244e-03, 4.52543835e-03, 6.12906037e-03,\n",
       "       6.50925556e-03, 3.92488956e-03, 4.18496174e-03, 2.41852853e-03,\n",
       "       1.84020569e-03, 2.95692429e-03, 2.48321270e-03, 2.30667237e-03,\n",
       "       1.75713060e-03, 9.38086305e-04, 5.32808515e-04, 3.46094422e-04,\n",
       "       1.99856745e-04, 6.70784492e-05, 9.12510840e-06, 3.15810625e-06,\n",
       "       0.00000000e+00, 0.00000000e+00, 7.54883711e-06, 6.04971432e-05,\n",
       "       1.69716724e-04, 6.78328737e-04, 1.57317057e-03, 3.49285299e-03,\n",
       "       1.69281283e-03, 5.02512082e-03, 5.70040190e-03, 5.51974389e-03,\n",
       "       4.41966911e-03, 3.92404882e-03, 2.42409072e-03, 1.88746298e-03,\n",
       "       1.19198728e-03, 2.24244806e-03, 2.01809853e-03, 2.76229840e-03,\n",
       "       1.36458095e-03, 1.07006852e-03, 7.14651316e-04, 4.04957589e-04,\n",
       "       2.02836363e-04, 4.06333284e-05, 8.67981844e-06, 1.08613350e-06,\n",
       "       0.00000000e+00, 0.00000000e+00, 4.84345788e-06, 5.82571792e-05,\n",
       "       2.20259407e-04, 6.45048401e-04, 1.71103976e-03, 2.19056716e-03,\n",
       "       3.52279018e-03, 4.69588494e-03, 6.07640353e-03, 6.15892610e-03,\n",
       "       3.25911310e-03, 2.39512781e-03, 1.84058033e-03, 1.43189903e-03,\n",
       "       1.47778342e-03, 3.21907740e-03, 2.29853329e-03, 2.73859235e-03,\n",
       "       1.25890701e-03, 1.04310934e-03, 5.83432441e-04, 5.22363929e-04,\n",
       "       1.80274732e-04, 2.95839107e-05, 2.87310316e-06, 0.00000000e+00,\n",
       "       0.00000000e+00, 0.00000000e+00, 8.15205100e-06, 6.09588429e-05,\n",
       "       2.75227149e-04, 6.10685750e-04, 2.06107215e-03, 3.09739696e-03,\n",
       "       3.64924127e-03, 6.15194176e-03, 3.76256039e-03, 3.47230996e-03,\n",
       "       2.81764047e-03, 2.27787185e-03, 2.25761324e-03, 1.56464412e-03,\n",
       "       1.47311719e-03, 2.14500423e-03, 2.10944267e-03, 2.36672915e-03,\n",
       "       1.54635920e-03, 9.35163737e-04, 5.83440290e-04, 3.19466504e-04,\n",
       "       1.09026171e-04, 2.68400162e-05, 5.96368088e-06, 0.00000000e+00,\n",
       "       0.00000000e+00, 0.00000000e+00, 6.73760795e-06, 3.87605290e-05,\n",
       "       1.30101441e-04, 4.04111908e-04, 1.08776929e-03, 2.32019646e-03,\n",
       "       6.39889570e-03, 3.16146440e-03, 2.55948882e-03, 1.81833098e-03,\n",
       "       1.88617384e-03, 1.82233933e-03, 1.43247589e-03, 1.42578620e-03,\n",
       "       1.27714477e-03, 1.10064181e-03, 1.37753778e-03, 1.29226757e-03,\n",
       "       8.59518221e-04, 6.63751759e-04, 4.45751200e-04, 1.29492500e-04,\n",
       "       5.72037800e-05, 1.07362908e-05, 1.63589801e-06, 0.00000000e+00,\n",
       "       0.00000000e+00, 0.00000000e+00, 4.64169513e-06, 2.73045579e-05,\n",
       "       7.28416620e-05, 1.84567426e-04, 5.54133271e-04, 1.91394434e-03,\n",
       "       3.08261434e-03, 3.72294624e-03, 2.61171877e-03, 1.83085861e-03,\n",
       "       1.66608817e-03, 1.87771377e-03, 1.28627627e-03, 1.42296910e-03,\n",
       "       1.18361485e-03, 9.38355323e-04, 7.88334641e-04, 7.08962200e-04,\n",
       "       5.47435384e-04, 3.06180548e-04, 1.57527534e-04, 7.02916603e-05,\n",
       "       2.03259293e-05, 4.68879228e-06, 1.41662114e-06, 0.00000000e+00,\n",
       "       0.00000000e+00, 0.00000000e+00, 1.19958938e-06, 1.43786608e-05,\n",
       "       5.24063688e-05, 1.53646405e-04, 3.19854602e-04, 6.03319426e-04,\n",
       "       1.43574540e-03, 2.43779510e-03, 3.80246278e-03, 5.42272803e-03,\n",
       "       5.44727847e-03, 4.84781065e-03, 2.95761357e-03, 3.39148589e-03,\n",
       "       1.64774988e-03, 1.20925477e-03, 5.80303029e-04, 4.65644107e-04,\n",
       "       2.96183968e-04, 1.43056864e-04, 7.64217713e-05, 3.24205454e-05,\n",
       "       1.10387061e-05, 4.93190497e-06, 7.37867324e-07, 0.00000000e+00,\n",
       "       0.00000000e+00, 0.00000000e+00, 2.74583976e-06, 5.43594868e-06,\n",
       "       4.46169070e-05, 1.00858703e-04, 2.89490815e-04, 4.29398170e-04,\n",
       "       6.04239949e-04, 7.65661389e-04, 8.96046919e-04, 1.38603226e-03,\n",
       "       1.55624595e-03, 1.34805364e-03, 1.01167129e-03, 7.47064755e-04,\n",
       "       5.09390141e-04, 4.71948570e-04, 3.12499989e-04, 2.61503098e-04,\n",
       "       1.46737679e-04, 8.39088351e-05, 3.19337706e-05, 1.67842008e-05,\n",
       "       4.91883449e-06, 1.76672839e-06, 0.00000000e+00, 0.00000000e+00,\n",
       "       0.00000000e+00, 0.00000000e+00, 0.00000000e+00, 3.69181895e-07,\n",
       "       1.43228336e-05, 5.26582551e-05, 1.16098054e-04, 2.74330354e-04,\n",
       "       5.79544521e-04, 6.18711972e-04, 7.43140444e-04, 1.04585176e-03,\n",
       "       1.14910780e-03, 1.15653621e-03, 6.10289517e-04, 4.26859942e-04,\n",
       "       5.73012952e-04, 5.17146526e-04, 2.87540340e-04, 1.87759701e-04,\n",
       "       1.02740201e-04, 4.58322919e-05, 2.02664738e-05, 8.53821397e-06,\n",
       "       3.33368870e-06, 0.00000000e+00, 5.44753356e-07, 0.00000000e+00,\n",
       "       0.00000000e+00, 0.00000000e+00, 0.00000000e+00, 0.00000000e+00,\n",
       "       2.60530330e-06, 8.20966720e-06, 1.15676014e-05, 1.20777625e-05,\n",
       "       5.87063073e-05, 9.05219471e-05, 1.51976776e-04, 4.69863693e-04,\n",
       "       5.33507026e-04, 1.09081281e-04, 1.25177063e-04, 2.34871996e-04,\n",
       "       1.23032318e-04, 1.19433227e-04, 6.79529740e-05, 3.19282746e-05,\n",
       "       3.30433901e-05, 8.48185788e-06, 2.34662132e-06, 3.33423728e-07,\n",
       "       1.26729141e-06, 0.00000000e+00, 0.00000000e+00, 0.00000000e+00,\n",
       "       0.00000000e+00, 0.00000000e+00, 0.00000000e+00, 0.00000000e+00,\n",
       "       0.00000000e+00, 0.00000000e+00, 0.00000000e+00, 0.00000000e+00,\n",
       "       1.06617798e-06, 3.27256377e-06, 1.78128556e-06, 1.33874504e-06,\n",
       "       3.07969607e-06, 6.15203321e-06, 5.90443873e-06, 3.18691548e-06,\n",
       "       2.78015493e-06, 1.16396222e-06, 1.27360850e-06, 1.78606978e-06,\n",
       "       1.25217434e-06, 1.45778109e-06, 3.46001781e-07, 3.24172813e-07,\n",
       "       0.00000000e+00, 0.00000000e+00, 0.00000000e+00, 0.00000000e+00])"
      ]
     },
     "execution_count": 9,
     "metadata": {},
     "output_type": "execute_result"
    }
   ],
   "source": [
    "rf.feature_importances_"
   ]
  },
  {
   "cell_type": "code",
   "execution_count": 10,
   "id": "8c254710-94cc-4602-ad9d-f72306d455d5",
   "metadata": {},
   "outputs": [
    {
     "data": {
      "text/plain": [
       "(784,)"
      ]
     },
     "execution_count": 10,
     "metadata": {},
     "output_type": "execute_result"
    }
   ],
   "source": [
    "rf.feature_importances_.shape"
   ]
  },
  {
   "cell_type": "code",
   "execution_count": 11,
   "id": "592d6f4d-038a-4ceb-ab93-e123e6854c6e",
   "metadata": {},
   "outputs": [
    {
     "data": {
      "text/plain": [
       "<Axes: >"
      ]
     },
     "execution_count": 11,
     "metadata": {},
     "output_type": "execute_result"
    },
    {
     "data": {
      "image/png": "[encoded data removed]",
      "text/plain": [
       "<Figure size 640x480 with 2 Axes>"
      ]
     },
     "metadata": {},
     "output_type": "display_data"
    }
   ],
   "source": [
    "sns.heatmap(rf.feature_importances_.reshape(28,28))"
   ]
  },
  {
   "cell_type": "code",
   "execution_count": null,
   "id": "57d296c7-8aa8-40dc-8f74-d2fec97dd8fa",
   "metadata": {},
   "outputs": [],
   "source": [
    "# It is showing that the middel colored pixels are important"
   ]
  },
  {
   "cell_type": "markdown",
   "id": "227afc8e-9bea-4ea8-bac0-1e13733745b9",
   "metadata": {},
   "source": [
    "### How feature importance is calculated in Decision Tree"
   ]
  },
  {
   "cell_type": "code",
   "execution_count": 15,
   "id": "b13e4eb6-e301-49ec-a0d9-6299234173a9",
   "metadata": {},
   "outputs": [],
   "source": [
    "from sklearn.datasets import make_classification\n",
    "from sklearn.tree import DecisionTreeClassifier"
   ]
  },
  {
   "cell_type": "code",
   "execution_count": 16,
   "id": "c596c658-ef4b-4f8b-853b-9138d92ee476",
   "metadata": {},
   "outputs": [],
   "source": [
    "X,y = make_classification(n_samples=5, n_classes=2,\n",
    "                               n_features=2, n_informative=2, n_redundant=0,\n",
    "                               random_state=0)"
   ]
  },
  {
   "cell_type": "code",
   "execution_count": 17,
   "id": "c9517b5d-8d7d-46c9-9c91-8e06183f8edc",
   "metadata": {},
   "outputs": [],
   "source": [
    "clf = DecisionTreeClassifier()"
   ]
  },
  {
   "cell_type": "code",
   "execution_count": 18,
   "id": "81b653cf-95f0-4e1b-a8ce-b520bd3cfda4",
   "metadata": {},
   "outputs": [
    {
     "data": {
      "text/html": [
       "<style>#sk-container-id-2 {color: black;background-color: white;}#sk-container-id-2 pre{padding: 0;}#sk-container-id-2 div.sk-toggleable {background-color: white;}#sk-container-id-2 label.sk-toggleable__label {cursor: pointer;display: block;width: 100%;margin-bottom: 0;padding: 0.3em;box-sizing: border-box;text-align: center;}#sk-container-id-2 label.sk-toggleable__label-arrow:before {content: \"▸\";float: left;margin-right: 0.25em;color: #696969;}#sk-container-id-2 label.sk-toggleable__label-arrow:hover:before {color: black;}#sk-container-id-2 div.sk-estimator:hover label.sk-toggleable__label-arrow:before {color: black;}#sk-container-id-2 div.sk-toggleable__content {max-height: 0;max-width: 0;overflow: hidden;text-align: left;background-color: #f0f8ff;}#sk-container-id-2 div.sk-toggleable__content pre {margin: 0.2em;color: black;border-radius: 0.25em;background-color: #f0f8ff;}#sk-container-id-2 input.sk-toggleable__control:checked~div.sk-toggleable__content {max-height: 200px;max-width: 100%;overflow: auto;}#sk-container-id-2 input.sk-toggleable__control:checked~label.sk-toggleable__label-arrow:before {content: \"▾\";}#sk-container-id-2 div.sk-estimator input.sk-toggleable__control:checked~label.sk-toggleable__label {background-color: #d4ebff;}#sk-container-id-2 div.sk-label input.sk-toggleable__control:checked~label.sk-toggleable__label {background-color: #d4ebff;}#sk-container-id-2 input.sk-hidden--visually {border: 0;clip: rect(1px 1px 1px 1px);clip: rect(1px, 1px, 1px, 1px);height: 1px;margin: -1px;overflow: hidden;padding: 0;position: absolute;width: 1px;}#sk-container-id-2 div.sk-estimator {font-family: monospace;background-color: #f0f8ff;border: 1px dotted black;border-radius: 0.25em;box-sizing: border-box;margin-bottom: 0.5em;}#sk-container-id-2 div.sk-estimator:hover {background-color: #d4ebff;}#sk-container-id-2 div.sk-parallel-item::after {content: \"\";width: 100%;border-bottom: 1px solid gray;flex-grow: 1;}#sk-container-id-2 div.sk-label:hover label.sk-toggleable__label {background-color: #d4ebff;}#sk-container-id-2 div.sk-serial::before {content: \"\";position: absolute;border-left: 1px solid gray;box-sizing: border-box;top: 0;bottom: 0;left: 50%;z-index: 0;}#sk-container-id-2 div.sk-serial {display: flex;flex-direction: column;align-items: center;background-color: white;padding-right: 0.2em;padding-left: 0.2em;position: relative;}#sk-container-id-2 div.sk-item {position: relative;z-index: 1;}#sk-container-id-2 div.sk-parallel {display: flex;align-items: stretch;justify-content: center;background-color: white;position: relative;}#sk-container-id-2 div.sk-item::before, #sk-container-id-2 div.sk-parallel-item::before {content: \"\";position: absolute;border-left: 1px solid gray;box-sizing: border-box;top: 0;bottom: 0;left: 50%;z-index: -1;}#sk-container-id-2 div.sk-parallel-item {display: flex;flex-direction: column;z-index: 1;position: relative;background-color: white;}#sk-container-id-2 div.sk-parallel-item:first-child::after {align-self: flex-end;width: 50%;}#sk-container-id-2 div.sk-parallel-item:last-child::after {align-self: flex-start;width: 50%;}#sk-container-id-2 div.sk-parallel-item:only-child::after {width: 0;}#sk-container-id-2 div.sk-dashed-wrapped {border: 1px dashed gray;margin: 0 0.4em 0.5em 0.4em;box-sizing: border-box;padding-bottom: 0.4em;background-color: white;}#sk-container-id-2 div.sk-label label {font-family: monospace;font-weight: bold;display: inline-block;line-height: 1.2em;}#sk-container-id-2 div.sk-label-container {text-align: center;}#sk-container-id-2 div.sk-container {/* jupyter's `normalize.less` sets `[hidden] { display: none; }` but bootstrap.min.css set `[hidden] { display: none !important; }` so we also need the `!important` here to be able to override the default hidden behavior on the sphinx rendered scikit-learn.org. See: https://github.com/scikit-learn/scikit-learn/issues/21755 */display: inline-block !important;position: relative;}#sk-container-id-2 div.sk-text-repr-fallback {display: none;}</style><div id=\"sk-container-id-2\" class=\"sk-top-container\"><div class=\"sk-text-repr-fallback\"><pre>DecisionTreeClassifier()</pre><b>In a Jupyter environment, please rerun this cell to show the HTML representation or trust the notebook. <br />On GitHub, the HTML representation is unable to render, please try loading this page with nbviewer.org.</b></div><div class=\"sk-container\" hidden><div class=\"sk-item\"><div class=\"sk-estimator sk-toggleable\"><input class=\"sk-toggleable__control sk-hidden--visually\" id=\"sk-estimator-id-2\" type=\"checkbox\" checked><label for=\"sk-estimator-id-2\" class=\"sk-toggleable__label sk-toggleable__label-arrow\">DecisionTreeClassifier</label><div class=\"sk-toggleable__content\"><pre>DecisionTreeClassifier()</pre></div></div></div></div></div>"
      ],
      "text/plain": [
       "DecisionTreeClassifier()"
      ]
     },
     "execution_count": 18,
     "metadata": {},
     "output_type": "execute_result"
    }
   ],
   "source": [
    "clf.fit(X,y)"
   ]
  },
  {
   "cell_type": "code",
   "execution_count": 21,
   "id": "81332eb3-ad35-466c-ae7e-90df9d7694c3",
   "metadata": {},
   "outputs": [
    {
     "data": {
      "text/plain": [
       "[Text(0.4, 0.8333333333333334, 'X[1] <= -0.894\\ngini = 0.48\\nsamples = 5\\nvalue = [3, 2]'),\n",
       " Text(0.2, 0.5, 'gini = 0.0\\nsamples = 1\\nvalue = [0, 1]'),\n",
       " Text(0.6, 0.5, 'X[0] <= 1.01\\ngini = 0.375\\nsamples = 4\\nvalue = [3, 1]'),\n",
       " Text(0.4, 0.16666666666666666, 'gini = 0.0\\nsamples = 3\\nvalue = [3, 0]'),\n",
       " Text(0.8, 0.16666666666666666, 'gini = 0.0\\nsamples = 1\\nvalue = [0, 1]')]"
      ]
     },
     "execution_count": 21,
     "metadata": {},
     "output_type": "execute_result"
    },
    {
     "data": {
      "image/png": "[encoded data removed]",
      "text/plain": [
       "<Figure size 640x480 with 1 Axes>"
      ]
     },
     "metadata": {},
     "output_type": "display_data"
    }
   ],
   "source": [
    "from sklearn.tree import plot_tree\n",
    "plot_tree(clf)"
   ]
  },
  {
   "cell_type": "code",
   "execution_count": 20,
   "id": "fefafb50-022e-4374-93db-78895f311844",
   "metadata": {},
   "outputs": [
    {
     "data": {
      "text/plain": [
       "array([0.625, 0.375])"
      ]
     },
     "execution_count": 20,
     "metadata": {},
     "output_type": "execute_result"
    }
   ],
   "source": [
    "clf.feature_importances_"
   ]
  },
  {
   "cell_type": "markdown",
   "id": "c67ef17e-6574-4a58-badf-4631dc245e0e",
   "metadata": {},
   "source": [
    "In decision trees, feature importance can be calculated based on how much each feature contributes to reducing impurity (or increasing purity) when making decisions at each node in the tree. There are different methods to calculate feature importance, and one common approach is using node importance. Here's how it works:\r\n",
    "\r\n",
    "1. **Node Importance**:\r\n",
    "   - Node importance is a measure of how much each feature contributes to reducing impurity (such as Gini impurity or entropy) at each node in the decision tree.\r\n",
    "   - For each feature, the importance is calculated by summing the impurity decreases across all nodes where the feature is used for splitting.\r\n",
    "\r\n",
    "2. **Calculation**:\r\n",
    "   - When building a decision tree, at each node, the algorithm considers all features and selects the one that maximally reduces impurity when splitting the data.\r\n",
    "   - The impurity decrease for a particular feature at a node is calculated by comparing the impurity of the parent node with the weighted sum of impurities of the child nodes after the split.\r\n",
    "   - The feature importance for a feature is then calculated by summing the impurity decreases across all nodes where the feature is used for splitting.\r\n",
    "\r\n",
    "3. **Example**:\r\n",
    "   - In your code example, you have created a decision tree classifier `clf` using scikit-learn's `DecisionTreeClassifier`.\r\n",
    "   - By calling `clf.feature_importances_`, you can retrieve the feature importance scores calculated by the decision tree model.\r\n",
    "   - The output `[0.625, 0.375]` indicates the feature importance for the two features in your dataset. For example, the first feature has an importance score of 0.625, while the second feature has an importance score of 0.375.\r\n",
    "\r\n",
    "4. **Interpretation**:\r\n",
    "   - Higher feature importance scores indicate that the corresponding features are more influential in making decisions in the decision tree. Features with higher importance are considered more informative for predicting the target variable.\r\n",
    "\r\n",
    "5. **Usage**:\r\n",
    "   - Feature importance scores can be used for feature selection, model interpretation, and identifying key factors driving the predictions of the decision tree model.\r\n",
    "   - They provide insights into which features are most relevant for predicting the target variable and can guide further analysis or model improvement efforts.\r\n",
    "\r\n",
    "In summary, feature importance in decision trees, calculated using node importance, provides valuable insights into the relative importance of features for making decisions in the model. It helps in understanding the model's behavior and identifying important features for predictive modeling tasks."
   ]
  },
  {
   "cell_type": "markdown",
   "id": "cd9fc3bd-c402-4f5b-ac2a-a16eb1a87e63",
   "metadata": {},
   "source": [
    "**Calculation of feature importances using Decision Tree**\n",
    "\n",
    "![](node_importantance.jpg)"
   ]
  },
  {
   "cell_type": "markdown",
   "id": "f25b2360-d4f4-42a4-8cec-e57e65a5261b",
   "metadata": {},
   "source": [
    "### How feature importance is calculated in Random Forest\r\n",
    "\n",
    "\n",
    "In Random Forest, feature importance is typically calculated based on the mean decrease in impurity (or Gini impurity) for each feature across all decision trees in the ensemble. The feature importance score reflects how much each feature contributes to decreasing impurity when making decisions in the Random Forest model. Here's how it's calculated:\r\n",
    "\r\n",
    "1. **Mean Decrease in Impurity**:\r\n",
    "   - At each node of each decision tree in the Random Forest, when selecting the best split, the algorithm considers a subset of features chosen randomly from the full set of features.\r\n",
    "   - For each feature, the algorithm measures the decrease in impurity (e.g., Gini impurity or entropy) that results from splitting the data on that feature.\r\n",
    "   - The decrease in impurity is calculated as the difference between the impurity of the parent node and the weighted sum of impurities of the child nodes after the split.\r\n",
    "\r\n",
    "2. **Feature Importance**:\r\n",
    "   - The feature importance for a feature is then calculated by averaging the decrease in impurity across all decision trees in the Random Forest ensemble.\r\n",
    "   - Features with higher average decrease in impurity are considered more important, as they contribute more to improving the model's predictive performance.\r\n",
    "\r\n",
    "3. **Normalization**:\r\n",
    "   - In some implementations, the feature importance scores may be normalized to sum up to 1 across all features, providing a relative measure of importance.\r\n",
    "\r\n",
    "4. **Interpretation**:\r\n",
    "   - Higher feature importance scores indicate that the corresponding features are more influential in making predictions in the Random Forest model.\r\n",
    "   - Feature importance scores can be used for feature selection, model interpretation, and identifying key factors driving the predictions of the Random Forest model.\r\n",
    "\r\n",
    "5. **Usage**:\r\n",
    "   - Feature importance scores provide insights into which features are most relevant for predicting the target variable and can guide further analysis or model improvement efforts.\r\n",
    "   - They can be visualized and analyzed to understand the relative importance of different features in the dataset.\r\n",
    "\r\n",
    "In summary, feature importance in Random Forest is calculated based on the mean decrease in impurity across all decision trees in the ensemble. It helps in understanding the relative importance of features for predicting the target variable and provides insights into the underlying relationships within the data."
   ]
  }
 ],
 "metadata": {
  "kernelspec": {
   "display_name": "Python 3 (ipykernel)",
   "language": "python",
   "name": "python3"
  },
  "language_info": {
   "codemirror_mode": {
    "name": "ipython",
    "version": 3
   },
   "file_extension": ".py",
   "mimetype": "text/x-python",
   "name": "python",
   "nbconvert_exporter": "python",
   "pygments_lexer": "ipython3",
   "version": "3.11.5"
  }
 },
 "nbformat": 4,
 "nbformat_minor": 5
}
