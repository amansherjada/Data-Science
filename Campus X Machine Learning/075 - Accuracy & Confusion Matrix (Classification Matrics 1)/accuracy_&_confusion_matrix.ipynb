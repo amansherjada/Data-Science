{
 "cells": [
  {
   "cell_type": "markdown",
   "id": "352dbd24-0433-4835-8f10-8c3eb3812d7e",
   "metadata": {},
   "source": [
    "### Classification metrics\n",
    "\n",
    "Classification metrics are measures used to evaluate the performance of machine learning models that are used for classification tasks. In classification, the goal is to predict a categorical label or class for a given input instance. Some common classification metrics include:\r\n",
    "\r\n",
    "1. **Accuracy**: The proportion of correctly classified instances out of the total instances.\r\n",
    "\r\n",
    "2. **Precision**: The proportion of true positive predictions (correctly predicted positive instances) out of all positive predictions (true positives + false positives). Precision focuses on the accuracy of positive predictions.\r\n",
    "\r\n",
    "3. **Recall (Sensitivity)**: The proportion of true positive predictions out of all actual positive instances (true positives + false negatives). Recall measures the ability of the model to capture all positive instances.\r\n",
    "\r\n",
    "4. **F1 Score**: The harmonic mean of precision and recall. It provides a balanced measure between precision and recall.\r\n",
    "\r\n",
    "5. **Specificity**: The proportion of true negative predictions (correctly predicted negative instances) out of all actual negative instances (true negatives + false positives). Specificity measures the ability of the model to correctly identify negative instances.\r\n",
    "\r\n",
    "6. **ROC Curve (Receiver Operating Characteristic Curve)**: A graphical representation of the true positive rate (recall) against the false positive rate at various threshold settings. It helps to visualize the trade-off between sensitivity and specificity.\r\n",
    "\r\n",
    "7. **AUC (Area Under the ROC Curve)**: The area under the ROC curve. AUC provides an aggregate measure of performance across all possible classification thresholds.\r\n",
    "\r\n",
    "8. **Confusion Matrix**: A matrix that summarizes the performance of a classification model by showing the counts of true positive, false positive, true negative, and false negative predictions.\r\n",
    "\r\n",
    "These metrics provide insights into different aspects of a classifier's performance and help in evaluating its effectiveness for a particular task. The choice of metrics depends on the specific requirements and constraints of the problem at hand.\n"
   ]
  },
  {
   "cell_type": "markdown",
   "id": "797219a2-9850-41e5-a977-64b9c918207e",
   "metadata": {},
   "source": [
    "### Accuracy\n",
    "\n",
    "![](https://substackcdn.com/image/fetch/f_auto,q_auto:good,fl_progressive:steep/https%3A%2F%2Fsubstack-post-media.s3.amazonaws.com%2Fpublic%2Fimages%2Fc8dc0d74-3a1a-444c-aeb1-f1b0ba55d310_320x199.png)\n",
    "\n",
    "Accuracy is a common classification metric that measures the proportion of correctly classified instances out of the total instances. It's calculated using the formula:\n",
    "\n",
    "`Accuracy = Number of Correct Predictions / Total Number of Predictions`\n",
    "\n",
    "Let's illustrate accuracy with a simple example:\n",
    "\n",
    "Suppose you have a dataset of 100 emails labeled as either \"spam\" or \"not spam\". You've built a machine learning model to classify these emails. After training the model and making predictions, you find the following results:\n",
    "\n",
    "- Correctly classified spam emails: 80\n",
    "- Correctly classified non-spam emails: 15\n",
    "- Incorrectly classified spam emails: 3\n",
    "- Incorrectly classified non-spam emails: 2\n",
    "\n",
    "To calculate accuracy:\n",
    "\n",
    "`Total Number of Predictions = Total Correct Predictions + Total Incorrect Predictions`\n",
    "\n",
    "Total Number of Predictions = 80 + 15 + 3 + 2 = 100\n",
    "\n",
    "Accuracy = 80 + 15 / 100 = 95 / 100 = `0.95`\n",
    "\n",
    "So, the accuracy of your model is 95%. This means that 95 out of 100 emails were correctly classified by your model.\n",
    "\n",
    "In simple terms, accuracy tells you how often your model makes the correct prediction out of all predictions made. However, it's important to note that accuracy may not be the best metric for all situations, especially when dealing with imbalanced datasets where one class is much more prevalent than the other. In such cases, other metrics like precision, recall, or F1 score might provide a better understanding of the model's performance."
   ]
  },
  {
   "cell_type": "markdown",
   "id": "4855c632-06f9-407e-9d72-85475d344c94",
   "metadata": {},
   "source": [
    "### Accuracy for multi-class classification\n",
    "\n",
    "Let's explain accuracy for multi-class classification using the famous Iris dataset, which consists of 150 samples of iris flowers, each with four features: sepal length, sepal width, petal length, and petal width. The task is to classify each iris sample into one of three species: Setosa, Versicolor, or Virginica.\n",
    "\n",
    "Suppose we have a machine learning model trained on the Iris dataset to classify iris flowers into three species: Setosa, Versicolor, and Virginica.\n",
    "\n",
    "After training the model and making predictions on a test dataset, we obtain the following results:\n",
    "\n",
    "- Correctly classified Setosa flowers: 48\n",
    "- Correctly classified Versicolor flowers: 45\n",
    "- Correctly classified Virginica flowers: 47\n",
    "\n",
    "- Incorrectly classified Setosa flowers: 2\n",
    "- Incorrectly classified Versicolor flowers: 5\n",
    "- Incorrectly classified Virginica flowers: 3\n",
    "\n",
    "To calculate accuracy:\n",
    "\n",
    "`Total Number of Predictions = Total Correct Predictions + Total Incorrect Predictions`\n",
    "\n",
    "Total Number of Predictions = 48 + 45 + 47 + 2 + 5 + 3 = 150\n",
    "\n",
    "Accuracy = (48 + 45 + 47) / 150\n",
    "\n",
    "Accuracy = 140 / 150\n",
    "\n",
    "`Accuracy = 0.9333 (rounded to four decimal places)`\n",
    "\n",
    "So, the accuracy of our multi-class classification model on the Iris dataset is approximately 93.33%. This means that about 93.33% of the iris flowers in our test dataset were correctly classified by the model.\n",
    "\n",
    "So, the accuracy of your model for the Iris dataset is approximately 93.3%. This means that out of the total 150 iris samples, the model correctly classified around 93.3% of them.\n",
    "\n",
    "In multi-class classification, accuracy gives you an overall measure of how well your model performs across all classes. However, it's important to note that accuracy may not always be the most informative metric, especially if the classes are imbalanced or if certain types of errors are more costly than others. In such cases, you may want to consider other metrics like precision, recall, or F1 score for a more nuanced evaluation of your model's performance."
   ]
  },
  {
   "cell_type": "markdown",
   "id": "fe743e83-cdaf-45db-a079-3c010f235bc0",
   "metadata": {},
   "source": [
    "### How much accuracy is good?\n",
    "\n",
    "It depends on the problem we are solving\n",
    "\n",
    "\n",
    "\n",
    "The level of accuracy considered \"good\" depends on various factors, including the specific context of the problem, the nature of the data, and the consequences of errors.\r\n",
    "\r\n",
    "Here are some general considerations:\r\n",
    "\r\n",
    "1. **Baseline Accuracy**: Before assessing whether a model's accuracy is good, it's essential to establish a baseline. This could be the accuracy of a simple baseline model or the accuracy one would expect by random chance. Your model should perform significantly better than this baseline to be considered effective.\r\n",
    "\r\n",
    "2. **Domain Requirements**: The acceptable level of accuracy often varies depending on the domain and the specific task. For example, in certain medical diagnoses or financial fraud detection tasks, even a small increase in accuracy can be crucial. On the other hand, in less critical applications, a slightly lower accuracy might be acceptable.\r\n",
    "\r\n",
    "3. **Cost of Errors**: Consider the consequences of false positives and false negatives. In some scenarios, false positives (Type I errors) might be more tolerable than false negatives (Type II errors), or vice versa. The relative costs of these errors can influence what level of accuracy is deemed acceptable.\r\n",
    "\r\n",
    "4. **Imbalance in Classes**: If the classes in your dataset are highly imbalanced (i.e., one class is much more prevalent than others), accuracy alone might not be a reliable metric. In such cases, other metrics like precision, recall, or F1 score may provide a more nuanced evaluation of the model's performance.\r\n",
    "\r\n",
    "5. **Trade-offs with Other Metrics**: Sometimes, optimizing for accuracy might not be the best strategy, especially if there are trade-offs with other important metrics. For instance, achieving higher accuracy might come at the cost of lower precision or recall. The choice of evaluation metrics should align with the specific goals of the project.\r\n",
    "\r\n",
    "In summary, while higher accuracy is generally desirable, what constitutes \"good\" accuracy is subjective and depends on the specific requirements and constraints of the problem at hand. It's essential to consider various factors and metrics when evaluating the performance of a machine learning model."
   ]
  },
  {
   "cell_type": "markdown",
   "id": "91b87e29-fe89-440b-9d72-73c4688a9f42",
   "metadata": {},
   "source": [
    "### The problem with Accuracy Score?\r\n",
    "While accuracy score is a commonly used metric for evaluating classification models, it does have some limitations and potential drawbacks:\r\n",
    "\r\n",
    "1. **Sensitivity to Class Imbalance**: Accuracy score can be misleading when dealing with imbalanced datasets, where one class is much more prevalent than others. In such cases, a model can achieve high accuracy by simply predicting the majority class for most instances, even if it performs poorly on the minority class(es). This can give a false impression of the model's effectiveness.\r\n",
    "\r\n",
    "2. **Failure to Capture Class Distribution**: Accuracy alone does not provide insight into the distribution of predictions across different classes. A model may have high accuracy overall but still perform poorly on specific classes. This lack of granularity can be problematic, especially in applications where certain classes are more critical or costly to misclassify.\r\n",
    "\r\n",
    "3. **Misleading Performance Assessment**: In some cases, accuracy may not accurately reflect the true performance of a model. For example, if the cost of false positives and false negatives differs significantly, accuracy alone may not adequately capture the impact of these errors. This can lead to suboptimal model selection or deployment decisions.\r\n",
    "\r\n",
    "4. **Doesn't Account for Prediction Confidence**: Accuracy treats all correct predictions equally, regardless of the confidence level of those predictions. A model that is highly confident in its correct predictions is treated the same as one that is uncertain about its correct predictions. This lack of consideration for prediction confidence can be problematic, especially in applications where confidence in predictions is essential.\r\n",
    "\r\n",
    "5. **Inability to Differentiate Types of Errors**: Accuracy does not distinguish between different types of prediction errors (e.g., false positives vs. false negatives). Depending on the application, the consequences of these errors may vary significantly. Other metrics such as precision, recall, and F1 score provide more nuanced insights into the types of errors made by the model.\r\n",
    "\r\n",
    "In summary, while accuracy score is a straightforward metric to interpret, it should be used with caution, especially in scenarios with imbalanced classes or differential costs associated with prediction errors. It's often beneficial to complement accuracy with other evaluation metrics to gain a more comprehensive understanding of a model's erformance.\n",
    "\r\n"
   ]
  },
  {
   "cell_type": "markdown",
   "id": "1331a52b-1671-4a43-b3a9-2a8347d857e6",
   "metadata": {},
   "source": [
    "```\n",
    "sklearn.metrics.accuracy_score(y_true, y_pred, *, normalize=True, sample_weight=None)\n",
    "\n",
    "Parameters:\n",
    "y_true : 1d array-like, or label indicator array / sparse matrix\n",
    "Ground truth (correct) labels.\n",
    "\n",
    "y_pred : 1d array-like, or label indicator array / sparse matrix\n",
    "Predicted labels, as returned by a classifier.\n",
    "\n",
    "normalize : bool, default=True\n",
    "If False, return the number of correctly classified samples. Otherwise, return the fraction of correctly classified samples.\n",
    "\n",
    "sample_weight : array-like of shape (n_samples,), default=None\n",
    "Sample weights.\n",
    "\n",
    "Returns:\n",
    "scorefloat\n",
    "If normalize == True, return the fraction of correctly classified samples (float), else returns the number of correctly classified samples (int).\n",
    "\n",
    "The best performance is 1 with normalize == True and the number of samples with normalize == False.\n",
    "```"
   ]
  },
  {
   "cell_type": "code",
   "execution_count": 1,
   "id": "c3b00e63-a262-4344-afe2-4bccb2319eac",
   "metadata": {},
   "outputs": [
    {
     "data": {
      "text/html": [
       "<div>\n",
       "<style scoped>\n",
       "    .dataframe tbody tr th:only-of-type {\n",
       "        vertical-align: middle;\n",
       "    }\n",
       "\n",
       "    .dataframe tbody tr th {\n",
       "        vertical-align: top;\n",
       "    }\n",
       "\n",
       "    .dataframe thead th {\n",
       "        text-align: right;\n",
       "    }\n",
       "</style>\n",
       "<table border=\"1\" class=\"dataframe\">\n",
       "  <thead>\n",
       "    <tr style=\"text-align: right;\">\n",
       "      <th></th>\n",
       "      <th>age</th>\n",
       "      <th>sex</th>\n",
       "      <th>cp</th>\n",
       "      <th>trestbps</th>\n",
       "      <th>chol</th>\n",
       "      <th>fbs</th>\n",
       "      <th>restecg</th>\n",
       "      <th>thalach</th>\n",
       "      <th>exang</th>\n",
       "      <th>oldpeak</th>\n",
       "      <th>slope</th>\n",
       "      <th>ca</th>\n",
       "      <th>thal</th>\n",
       "      <th>target</th>\n",
       "    </tr>\n",
       "  </thead>\n",
       "  <tbody>\n",
       "    <tr>\n",
       "      <th>0</th>\n",
       "      <td>52</td>\n",
       "      <td>1</td>\n",
       "      <td>0</td>\n",
       "      <td>125</td>\n",
       "      <td>212</td>\n",
       "      <td>0</td>\n",
       "      <td>1</td>\n",
       "      <td>168</td>\n",
       "      <td>0</td>\n",
       "      <td>1.0</td>\n",
       "      <td>2</td>\n",
       "      <td>2</td>\n",
       "      <td>3</td>\n",
       "      <td>0</td>\n",
       "    </tr>\n",
       "    <tr>\n",
       "      <th>1</th>\n",
       "      <td>53</td>\n",
       "      <td>1</td>\n",
       "      <td>0</td>\n",
       "      <td>140</td>\n",
       "      <td>203</td>\n",
       "      <td>1</td>\n",
       "      <td>0</td>\n",
       "      <td>155</td>\n",
       "      <td>1</td>\n",
       "      <td>3.1</td>\n",
       "      <td>0</td>\n",
       "      <td>0</td>\n",
       "      <td>3</td>\n",
       "      <td>0</td>\n",
       "    </tr>\n",
       "    <tr>\n",
       "      <th>2</th>\n",
       "      <td>70</td>\n",
       "      <td>1</td>\n",
       "      <td>0</td>\n",
       "      <td>145</td>\n",
       "      <td>174</td>\n",
       "      <td>0</td>\n",
       "      <td>1</td>\n",
       "      <td>125</td>\n",
       "      <td>1</td>\n",
       "      <td>2.6</td>\n",
       "      <td>0</td>\n",
       "      <td>0</td>\n",
       "      <td>3</td>\n",
       "      <td>0</td>\n",
       "    </tr>\n",
       "    <tr>\n",
       "      <th>3</th>\n",
       "      <td>61</td>\n",
       "      <td>1</td>\n",
       "      <td>0</td>\n",
       "      <td>148</td>\n",
       "      <td>203</td>\n",
       "      <td>0</td>\n",
       "      <td>1</td>\n",
       "      <td>161</td>\n",
       "      <td>0</td>\n",
       "      <td>0.0</td>\n",
       "      <td>2</td>\n",
       "      <td>1</td>\n",
       "      <td>3</td>\n",
       "      <td>0</td>\n",
       "    </tr>\n",
       "    <tr>\n",
       "      <th>4</th>\n",
       "      <td>62</td>\n",
       "      <td>0</td>\n",
       "      <td>0</td>\n",
       "      <td>138</td>\n",
       "      <td>294</td>\n",
       "      <td>1</td>\n",
       "      <td>1</td>\n",
       "      <td>106</td>\n",
       "      <td>0</td>\n",
       "      <td>1.9</td>\n",
       "      <td>1</td>\n",
       "      <td>3</td>\n",
       "      <td>2</td>\n",
       "      <td>0</td>\n",
       "    </tr>\n",
       "  </tbody>\n",
       "</table>\n",
       "</div>"
      ],
      "text/plain": [
       "   age  sex  cp  trestbps  chol  fbs  restecg  thalach  exang  oldpeak  slope  \\\n",
       "0   52    1   0       125   212    0        1      168      0      1.0      2   \n",
       "1   53    1   0       140   203    1        0      155      1      3.1      0   \n",
       "2   70    1   0       145   174    0        1      125      1      2.6      0   \n",
       "3   61    1   0       148   203    0        1      161      0      0.0      2   \n",
       "4   62    0   0       138   294    1        1      106      0      1.9      1   \n",
       "\n",
       "   ca  thal  target  \n",
       "0   2     3       0  \n",
       "1   0     3       0  \n",
       "2   0     3       0  \n",
       "3   1     3       0  \n",
       "4   3     2       0  "
      ]
     },
     "execution_count": 1,
     "metadata": {},
     "output_type": "execute_result"
    }
   ],
   "source": [
    "import numpy as np\n",
    "import pandas as pd\n",
    "\n",
    "df = pd.read_csv('heart.csv')\n",
    "df.head()"
   ]
  },
  {
   "cell_type": "code",
   "execution_count": 2,
   "id": "27cdf7a0-a8bc-483f-b5d1-f1fbc0ede0ae",
   "metadata": {},
   "outputs": [],
   "source": [
    "from sklearn.model_selection import train_test_split\n",
    "X_train,X_test,y_train,y_test = train_test_split(df.iloc[:,0:-1],df.iloc[:,-1],test_size=0.2,random_state=2)"
   ]
  },
  {
   "cell_type": "code",
   "execution_count": 3,
   "id": "c1ff3598-8868-4495-8539-905a40e6bee7",
   "metadata": {},
   "outputs": [],
   "source": [
    "from sklearn.linear_model import LogisticRegression\n",
    "from sklearn.tree import DecisionTreeClassifier"
   ]
  },
  {
   "cell_type": "code",
   "execution_count": 4,
   "id": "8b0b063d-8a75-41c0-9d94-c08659479c9c",
   "metadata": {},
   "outputs": [],
   "source": [
    "clf1 = LogisticRegression()\n",
    "clf2 = DecisionTreeClassifier()"
   ]
  },
  {
   "cell_type": "code",
   "execution_count": 5,
   "id": "be4cc813-2be1-4acd-87f8-2dcfa4c68e70",
   "metadata": {},
   "outputs": [
    {
     "name": "stderr",
     "output_type": "stream",
     "text": [
      "C:\\ProgramData\\anaconda3\\Lib\\site-packages\\sklearn\\linear_model\\_logistic.py:458: ConvergenceWarning: lbfgs failed to converge (status=1):\n",
      "STOP: TOTAL NO. of ITERATIONS REACHED LIMIT.\n",
      "\n",
      "Increase the number of iterations (max_iter) or scale the data as shown in:\n",
      "    https://scikit-learn.org/stable/modules/preprocessing.html\n",
      "Please also refer to the documentation for alternative solver options:\n",
      "    https://scikit-learn.org/stable/modules/linear_model.html#logistic-regression\n",
      "  n_iter_i = _check_optimize_result(\n"
     ]
    },
    {
     "data": {
      "text/html": [
       "<style>#sk-container-id-1 {color: black;background-color: white;}#sk-container-id-1 pre{padding: 0;}#sk-container-id-1 div.sk-toggleable {background-color: white;}#sk-container-id-1 label.sk-toggleable__label {cursor: pointer;display: block;width: 100%;margin-bottom: 0;padding: 0.3em;box-sizing: border-box;text-align: center;}#sk-container-id-1 label.sk-toggleable__label-arrow:before {content: \"▸\";float: left;margin-right: 0.25em;color: #696969;}#sk-container-id-1 label.sk-toggleable__label-arrow:hover:before {color: black;}#sk-container-id-1 div.sk-estimator:hover label.sk-toggleable__label-arrow:before {color: black;}#sk-container-id-1 div.sk-toggleable__content {max-height: 0;max-width: 0;overflow: hidden;text-align: left;background-color: #f0f8ff;}#sk-container-id-1 div.sk-toggleable__content pre {margin: 0.2em;color: black;border-radius: 0.25em;background-color: #f0f8ff;}#sk-container-id-1 input.sk-toggleable__control:checked~div.sk-toggleable__content {max-height: 200px;max-width: 100%;overflow: auto;}#sk-container-id-1 input.sk-toggleable__control:checked~label.sk-toggleable__label-arrow:before {content: \"▾\";}#sk-container-id-1 div.sk-estimator input.sk-toggleable__control:checked~label.sk-toggleable__label {background-color: #d4ebff;}#sk-container-id-1 div.sk-label input.sk-toggleable__control:checked~label.sk-toggleable__label {background-color: #d4ebff;}#sk-container-id-1 input.sk-hidden--visually {border: 0;clip: rect(1px 1px 1px 1px);clip: rect(1px, 1px, 1px, 1px);height: 1px;margin: -1px;overflow: hidden;padding: 0;position: absolute;width: 1px;}#sk-container-id-1 div.sk-estimator {font-family: monospace;background-color: #f0f8ff;border: 1px dotted black;border-radius: 0.25em;box-sizing: border-box;margin-bottom: 0.5em;}#sk-container-id-1 div.sk-estimator:hover {background-color: #d4ebff;}#sk-container-id-1 div.sk-parallel-item::after {content: \"\";width: 100%;border-bottom: 1px solid gray;flex-grow: 1;}#sk-container-id-1 div.sk-label:hover label.sk-toggleable__label {background-color: #d4ebff;}#sk-container-id-1 div.sk-serial::before {content: \"\";position: absolute;border-left: 1px solid gray;box-sizing: border-box;top: 0;bottom: 0;left: 50%;z-index: 0;}#sk-container-id-1 div.sk-serial {display: flex;flex-direction: column;align-items: center;background-color: white;padding-right: 0.2em;padding-left: 0.2em;position: relative;}#sk-container-id-1 div.sk-item {position: relative;z-index: 1;}#sk-container-id-1 div.sk-parallel {display: flex;align-items: stretch;justify-content: center;background-color: white;position: relative;}#sk-container-id-1 div.sk-item::before, #sk-container-id-1 div.sk-parallel-item::before {content: \"\";position: absolute;border-left: 1px solid gray;box-sizing: border-box;top: 0;bottom: 0;left: 50%;z-index: -1;}#sk-container-id-1 div.sk-parallel-item {display: flex;flex-direction: column;z-index: 1;position: relative;background-color: white;}#sk-container-id-1 div.sk-parallel-item:first-child::after {align-self: flex-end;width: 50%;}#sk-container-id-1 div.sk-parallel-item:last-child::after {align-self: flex-start;width: 50%;}#sk-container-id-1 div.sk-parallel-item:only-child::after {width: 0;}#sk-container-id-1 div.sk-dashed-wrapped {border: 1px dashed gray;margin: 0 0.4em 0.5em 0.4em;box-sizing: border-box;padding-bottom: 0.4em;background-color: white;}#sk-container-id-1 div.sk-label label {font-family: monospace;font-weight: bold;display: inline-block;line-height: 1.2em;}#sk-container-id-1 div.sk-label-container {text-align: center;}#sk-container-id-1 div.sk-container {/* jupyter's `normalize.less` sets `[hidden] { display: none; }` but bootstrap.min.css set `[hidden] { display: none !important; }` so we also need the `!important` here to be able to override the default hidden behavior on the sphinx rendered scikit-learn.org. See: https://github.com/scikit-learn/scikit-learn/issues/21755 */display: inline-block !important;position: relative;}#sk-container-id-1 div.sk-text-repr-fallback {display: none;}</style><div id=\"sk-container-id-1\" class=\"sk-top-container\"><div class=\"sk-text-repr-fallback\"><pre>DecisionTreeClassifier()</pre><b>In a Jupyter environment, please rerun this cell to show the HTML representation or trust the notebook. <br />On GitHub, the HTML representation is unable to render, please try loading this page with nbviewer.org.</b></div><div class=\"sk-container\" hidden><div class=\"sk-item\"><div class=\"sk-estimator sk-toggleable\"><input class=\"sk-toggleable__control sk-hidden--visually\" id=\"sk-estimator-id-1\" type=\"checkbox\" checked><label for=\"sk-estimator-id-1\" class=\"sk-toggleable__label sk-toggleable__label-arrow\">DecisionTreeClassifier</label><div class=\"sk-toggleable__content\"><pre>DecisionTreeClassifier()</pre></div></div></div></div></div>"
      ],
      "text/plain": [
       "DecisionTreeClassifier()"
      ]
     },
     "execution_count": 5,
     "metadata": {},
     "output_type": "execute_result"
    }
   ],
   "source": [
    "clf1.fit(X_train,y_train)\n",
    "clf2.fit(X_train,y_train)"
   ]
  },
  {
   "cell_type": "code",
   "execution_count": 6,
   "id": "833f19cf-dbb0-43bc-9a1a-8a8cef803892",
   "metadata": {},
   "outputs": [],
   "source": [
    "y_pred1 = clf1.predict(X_test)\n",
    "y_pred2 = clf2.predict(X_test)"
   ]
  },
  {
   "cell_type": "code",
   "execution_count": 7,
   "id": "b7668b40-38d7-4612-bfb3-4f74588ecb30",
   "metadata": {},
   "outputs": [
    {
     "name": "stdout",
     "output_type": "stream",
     "text": [
      "Accuracy of Logistic Regression 0.8390243902439024\n",
      "Accuracy of Decision Trees 0.9804878048780488\n"
     ]
    }
   ],
   "source": [
    "from sklearn.metrics import accuracy_score\n",
    "print(\"Accuracy of Logistic Regression\",accuracy_score(y_test,y_pred1))\n",
    "print(\"Accuracy of Decision Trees\",accuracy_score(y_test,y_pred2))"
   ]
  },
  {
   "cell_type": "markdown",
   "id": "e152503e-bcca-4b56-8e74-9ffd316c424f",
   "metadata": {},
   "source": [
    "### Confusion Matrix\n",
    "\n",
    "![Confusion Matrix](https://miro.medium.com/v2/resize:fit:1218/1*jMs1RmSwnYgR9CsBw-z1dw.png)\n",
    "\n",
    "A confusion matrix is a table that visualizes the performance of a classification model by summarizing the counts of correct and incorrect predictions made by the model on a dataset. It breaks down the model's predictions into four categories based on the actual and predicted classes:\r\n",
    "\r\n",
    "1. True Positives (TP): Instances that are correctly predicted as belonging to the positive class.\r\n",
    "2. True Negatives (TN): Instances that are correctly predicted as belonging to the negative class.\r\n",
    "3. False Positives (FP): Instances that are incorrectly predicted as belonging to the positive class when they actually belong to the negative class. Also known as Type I errors.\r\n",
    "4. False Negatives (FN): Instances that are incorrectly predicted as belonging to the negative class when they actually belong to the positive class. Also known as Type II errors.\r\n",
    "\r\n",
    "The confusion matrix helps in evaluating the performance of a classification model by providing insights into its ability to correctly classify instances across different classes. It is a crucial tool for assessing the accuracy, precision, recall, F1 score, and other performance metrics of a classification model."
   ]
  },
  {
   "cell_type": "markdown",
   "id": "a4e5c5dd-dad3-499d-8a28-2c35db48b6a9",
   "metadata": {},
   "source": [
    "\r\n",
    "Imagine you have built a machine learning model to classify emails as either spam or not spam. The confusion matrix helps you understand how well your model is performing by breaking down its predictions into four categories:\r\n",
    "\r\n",
    "1. **True Positives (TP)**: These are the emails that your model correctly predicted as spam.\r\n",
    "\r\n",
    "2. **True Negatives (TN)**: These are the emails that your model correctly predicted as not spam.\r\n",
    "\r\n",
    "3. **False Positives (FP)**: These are the emails that your model incorrectly predicted as spam when they are actually not spam. (Also known as Type I errors)\r\n",
    "\r\n",
    "4. **False Negatives (FN)**: These are the emails that your model incorrectly predicted as not spam when they are actually spam. (Also known as Type II errors)e's a simple example to illustrate:\r\n",
    "\r\n",
    "Let's say you tested your model on 100 emails, and here are the results:\r\n",
    "\r\n",
    "- True Positives (TP): Your model correctly identified 30 emails as spam.\r\n",
    "- True Negatives (TN): Your model correctly identified 60 emails as not spam.\r\n",
    "- False Positives (FP): Your model incorrectly marked 5 emails as spam when they were not.\r\n",
    "- False Negatives (FN): Your model missed 5 spam emails and classified them as not spam.\r\n",
    "\r\n",
    "Now, you can visualize these results in a matrix format like this:\r\n",
    "\r\n",
    "```\r\n",
    "               Predicted Not Spam   Predicted Spam\r\n",
    "Actual Not Spam       TN (60)             FP (5)\r\n",
    "Actual Spam           FN (5)              TP (30)\r\n",
    "```\r\n",
    "\r\n",
    "In this confusion matrix:\r\n",
    "- The top-left cell (TN) represents the emails correctly classified as not spam.\r\n",
    "- The top-right cell (FP) represents the emails incorrectly classified as spam.\r\n",
    "- The bottom-left cell (FN) represents the spam emails incorrectly classified as not spam.\r\n",
    "- The bottom-right cell (TP) represents the spam emails correctly classified as spam.\r\n",
    "\r\n",
    "By looking at this matrix, you can see where your model is making mistakes and where it's performing well. This helps you understand the strengths and weaknesses of your model and can guide you in improving its performance."
   ]
  },
  {
   "cell_type": "code",
   "execution_count": 8,
   "id": "b18e6a63-2e9a-4ea7-8dd3-fc2eefc17a6b",
   "metadata": {},
   "outputs": [],
   "source": [
    "from sklearn.metrics import confusion_matrix"
   ]
  },
  {
   "cell_type": "code",
   "execution_count": 9,
   "id": "82ba03db-2db6-4013-aa39-bfa7b675317b",
   "metadata": {},
   "outputs": [
    {
     "data": {
      "text/plain": [
       "(205,)"
      ]
     },
     "execution_count": 9,
     "metadata": {},
     "output_type": "execute_result"
    }
   ],
   "source": [
    "y_test.shape"
   ]
  },
  {
   "cell_type": "markdown",
   "id": "b1ef1d0f-da51-4438-9c38-b609969b18ae",
   "metadata": {},
   "source": [
    "In scikit-learn (sklearn), the top-left cell of a confusion matrix can represent both True Negatives (TN) and True Positives (TP), depending on the definition of the classes. The confusion matrix is a 2x2 array, and the meaning of the top-left cell changes based on the order of the classes.\n",
    "\n",
    "[[TN, FP],  \n",
    "\n",
    " [FN, TP]]  \n",
    "\n",
    "or\n",
    "\n",
    " [[TP, FN],\n",
    "\n",
    " [FP, TN]]\n",
    "\n",
    "The top-left cell of the confusion matrix represents True Negatives (TN) when it corresponds to the actual negative class (0) and the predicted negative class (0), while it represents True Positives (TP) when it corresponds to the actual positive class (1) and the predicted positive class (1)."
   ]
  },
  {
   "cell_type": "code",
   "execution_count": 10,
   "id": "a60bc399-401a-42ef-80ca-8eab04d85000",
   "metadata": {},
   "outputs": [
    {
     "data": {
      "text/plain": [
       "array([[82, 23],\n",
       "       [10, 90]], dtype=int64)"
      ]
     },
     "execution_count": 10,
     "metadata": {},
     "output_type": "execute_result"
    }
   ],
   "source": [
    "confusion_matrix(y_test ,y_pred1)"
   ]
  },
  {
   "cell_type": "code",
   "execution_count": 11,
   "id": "8c9ee73b-076d-45c4-b08d-5311fa3a1cad",
   "metadata": {},
   "outputs": [
    {
     "data": {
      "text/plain": [
       "205"
      ]
     },
     "execution_count": 11,
     "metadata": {},
     "output_type": "execute_result"
    }
   ],
   "source": [
    "82 + 23 + 10 + 90"
   ]
  },
  {
   "cell_type": "markdown",
   "id": "481683e2-9e62-497d-bea5-4a54214e3428",
   "metadata": {},
   "source": [
    "#### We can also calculate the Accuracy Scroce using confusion matrix but not vica versa \n",
    "\n",
    "![](https://www.nomidl.com/wp-content/uploads/2022/02/image-13.png)"
   ]
  },
  {
   "cell_type": "markdown",
   "id": "e4b7bab9-14bb-4cc7-a911-2320d636f9ec",
   "metadata": {},
   "source": [
    "Type I and Type II errors are concepts commonly used in hypothesis testing and binary classification problems. Here's an explanation of each:\r\n",
    "\r\n",
    "1. **Type I Error**:\r\n",
    "   - Also known as a \"false positive.\"\r\n",
    "   - Occurs when the null hypothesis is incorrectly rejected when it is actually true.\r\n",
    "   - In the context of binary classification:\r\n",
    "     - Type I error occurs when a negative instance is incorrectly classified as positive.\r\n",
    "   - Example: In a medical test for a disease, a Type I error would happen if the test indicates a person has the disease when they do not actually have it.\r\n",
    "\r\n",
    "2. **Type II Error**:\r\n",
    "   - Also known as a \"false negative.\"\r\n",
    "   - Occurs when the null hypothesis is incorrectly accepted when it is actually false.\r\n",
    "   - In the context of binary classification:\r\n",
    "     - Type II error occurs when a positive instance is incorrectly classified as negative.\r\n",
    "   - Example: In a medical test for a disease, a Type II error would happen if the test indicates a person does not have the disease when they actually do have it.\r\n",
    "\r\n",
    "In summary, Type I and Type II errors represent the two possible mistakes that can occur in hypothesis testing or binary classification, depending on whether the null hypothesis is true or false and how it is classified or rejected."
   ]
  },
  {
   "cell_type": "markdown",
   "id": "4c549879-7442-4ed0-bcc5-7145e5dff258",
   "metadata": {},
   "source": [
    "### Multi-Class Confusion Matrix with Scikit-Learn"
   ]
  },
  {
   "cell_type": "code",
   "execution_count": 12,
   "id": "36117e6f-2c7f-4aed-a171-9f3807782bd9",
   "metadata": {},
   "outputs": [
    {
     "data": {
      "image/png": "[encoded data removed]",
      "text/plain": [
       "<Figure size 640x480 with 2 Axes>"
      ]
     },
     "metadata": {},
     "output_type": "display_data"
    }
   ],
   "source": [
    "from sklearn.datasets import load_iris\n",
    "from sklearn.metrics import ConfusionMatrixDisplay\n",
    "import matplotlib.pyplot as plt\n",
    "\n",
    "# Load the iris dataset\n",
    "iris = load_iris()\n",
    "X = iris.data\n",
    "y = iris.target\n",
    "\n",
    "# Split the data into training and testing sets\n",
    "X_train, X_test, y_train, y_test = train_test_split(X, y, test_size=0.3)\n",
    "\n",
    "# Train a decision tree classifier on the training set\n",
    "clf = DecisionTreeClassifier()\n",
    "clf.fit(X_train, y_train)\n",
    "\n",
    "# Make predictions on the test set\n",
    "y_pred = clf.predict(X_test)\n",
    "\n",
    "# Calculate the confusion matrix\n",
    "cm = confusion_matrix(y_test, y_pred)\n",
    "\n",
    "# Plot confusion matrix using ConfusionMatrixDisplay\n",
    "disp = ConfusionMatrixDisplay(confusion_matrix=cm, display_labels=iris.target_names)\n",
    "disp.plot()\n",
    "\n",
    "plt.show()"
   ]
  },
  {
   "cell_type": "code",
   "execution_count": null,
   "id": "5d81c926-04d8-4e35-ab6a-30addd6b78f6",
   "metadata": {},
   "outputs": [],
   "source": [
    "#Diagonal elements are the True predicted values"
   ]
  },
  {
   "cell_type": "markdown",
   "id": "552531fa-a33c-482a-8212-be3fb144d162",
   "metadata": {},
   "source": [
    "### When accuracy score is misleading?\n",
    "\n",
    "The accuracy score can be misleading in certain scenarios, especially when the dataset is imbalanced, or when different types of errors have significantly different consequences. Here are some situations where accuracy might be misleading:\r\n",
    "\r\n",
    "1. **Imbalanced Datasets**: In datasets where one class is significantly more frequent than the others, accuracy can be high simply by predicting the majority class all the time. However, this doesn't necessarily mean that the model is performing well. For example, if you have 95% of instances belonging to class A and 5% belonging to class B, a model that always predicts class A will achieve 95% accuracy. In such cases, accuracy alone doesn't provide a clear picture of the model's performance, especially for the minority class.\r\n",
    "\r\n",
    "2. **Different Costs of Errors**: In many real-world scenarios, the cost of false positives and false negatives can be significantly different. For instance, in medical diagnosis, a false negative (predicting a patient doesn't have a disease when they actually do) might have far more severe consequences than a false positive. In such cases, accuracy might not adequately capture the performance of the model because it treats all types of errors equally.\r\n",
    "\r\n",
    "3. **Class Distribution Shift**: If the distribution of classes changes over time, accuracy may not reflect the model's performance accurately. For example, if a model is trained on data from one time period and tested on data from another period where the class distribution has shifted, accuracy might not be a reliable metric.\r\n",
    "\r\n",
    "4. **Misclassification of Specific Classes**: Accuracy does not provide insight into which classes are being misclassified. A model might have high accuracy but perform poorly on certain classes.\r\n",
    "\r\n",
    "In these cases, it's essential to look at other metrics such as precision, recall, F1-score, or area under the ROC curve (AUC-ROC) to gain a more comprehensive understanding of the model's performance, especially regarding specific classes or types of errors. Additionally, domain knowledge and understanding the context of the problem are crucial for interpreting model performance metrics accurately."
   ]
  }
 ],
 "metadata": {
  "kernelspec": {
   "display_name": "Python 3 (ipykernel)",
   "language": "python",
   "name": "python3"
  },
  "language_info": {
   "codemirror_mode": {
    "name": "ipython",
    "version": 3
   },
   "file_extension": ".py",
   "mimetype": "text/x-python",
   "name": "python",
   "nbconvert_exporter": "python",
   "pygments_lexer": "ipython3",
   "version": "3.11.5"
  }
 },
 "nbformat": 4,
 "nbformat_minor": 5
}
