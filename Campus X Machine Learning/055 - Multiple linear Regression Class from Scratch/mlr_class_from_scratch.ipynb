{
 "cells": [
  {
   "cell_type": "markdown",
   "id": "67c73fa6-9b9a-4acc-9b8c-29aff78a989b",
   "metadata": {},
   "source": [
    "![formula](formula.jpg)\n",
    "\n",
    "This formula is used to calculate the coefficients (β) of a linear regression model. Let me break it down into simpler terms:\n",
    "\n",
    "- (β): The coefficients of the linear regression model. These coefficients represent the relationship between the independent variables (features) and the dependent variable (target).\n",
    "\n",
    "- \\( X \\): The design matrix. It contains the values of the independent variables (features) for each data point. Each row represents a data point, and each column represents a different feature.\n",
    "\n",
    "- \\( Y \\): The target vector. It contains the observed values of the dependent variable for each data point.\n",
    "\n",
    "- \\( X^T \\): The transpose of the design matrix. This operation flips the rows and columns of the design matrix.\n",
    "\n",
    "- \\( (X^T X)^{-1} \\): The inverse of the matrix product of the transpose of the design matrix (\\( X^T \\)) and the design matrix itself (\\( X \\)). This term is known as the \"precision matrix\" or the \"inverse of the Gram matrix\". It helps in finding the coefficients that minimize the sum of squared residuals.\n",
    "\n",
    "- \\( (X^T Y) \\): The matrix product of the transpose of the design matrix (\\( X^T \\)) and the target vector (\\( Y \\)). This operation is also known as the \"cross-product matrix\".\n",
    "\n",
    "Putting it all together, the formula calculates the coefficients (\\( \\beta \\)) by first computing the inverse of the matrix product of the transpose of the design matrix and the design matrix (\\( (X^T X)^{-1} \\)), and then multiplying it by the matrix product of the transpose of the design matrix and the target vector (\\( (X^T Y) \\)).\n",
    "\n",
    "In simpler terms, this formula finds the best-fitting line (or hyperplane in higher dimensions) that minimizes the difference between the predicted values (based on the independent variables) and the actual observed values (the target variable). It does so by solving a system of equations derived from the least squares method."
   ]
  },
  {
   "cell_type": "code",
   "execution_count": 1,
   "id": "b760d6ee-906c-4ae6-8df4-ae646d2b41a6",
   "metadata": {},
   "outputs": [],
   "source": [
    "import numpy as np\n",
    "from sklearn.datasets import load_diabetes"
   ]
  },
  {
   "cell_type": "markdown",
   "id": "9300f948-517b-4955-9817-c23c584c908f",
   "metadata": {},
   "source": [
    "Dataset details = https://scikit-learn.org/stable/datasets/toy_dataset.html#diabetes-dataset"
   ]
  },
  {
   "cell_type": "code",
   "execution_count": 2,
   "id": "7894aae7-7e57-437b-ad75-9038e1d41ce7",
   "metadata": {},
   "outputs": [],
   "source": [
    "X,y = load_diabetes(return_X_y=True)"
   ]
  },
  {
   "cell_type": "code",
   "execution_count": 3,
   "id": "1bd9e131-67e8-44c2-97a8-95dd1ce6c5b3",
   "metadata": {},
   "outputs": [
    {
     "data": {
      "text/plain": [
       "(442, 10)"
      ]
     },
     "execution_count": 3,
     "metadata": {},
     "output_type": "execute_result"
    }
   ],
   "source": [
    "X.shape"
   ]
  },
  {
   "cell_type": "code",
   "execution_count": 4,
   "id": "ed31357e-c62d-4d07-a47a-ee4da509405b",
   "metadata": {},
   "outputs": [
    {
     "data": {
      "text/plain": [
       "(442,)"
      ]
     },
     "execution_count": 4,
     "metadata": {},
     "output_type": "execute_result"
    }
   ],
   "source": [
    "y.shape"
   ]
  },
  {
   "cell_type": "markdown",
   "id": "f972d143-486c-4ae6-b483-a9f7aec63e6c",
   "metadata": {},
   "source": [
    "## Using Sklearn's Linear Regression"
   ]
  },
  {
   "cell_type": "code",
   "execution_count": 5,
   "id": "d038e553-4aa7-410d-9f2f-9096fd1770e5",
   "metadata": {},
   "outputs": [],
   "source": [
    "from sklearn.model_selection import train_test_split\n",
    "\n",
    "X_train,X_test,y_train,y_test = train_test_split(X,y,test_size=0.2,random_state=2)"
   ]
  },
  {
   "cell_type": "code",
   "execution_count": 6,
   "id": "a6bd6ce4-3c32-43ca-ab3e-a7754089303f",
   "metadata": {},
   "outputs": [
    {
     "name": "stdout",
     "output_type": "stream",
     "text": [
      "(353, 10)\n",
      "(89, 10)\n"
     ]
    }
   ],
   "source": [
    "print(X_train.shape)\n",
    "print(X_test.shape)"
   ]
  },
  {
   "cell_type": "code",
   "execution_count": 7,
   "id": "0e7f8f74-c375-4d2b-b487-44c0690dc94e",
   "metadata": {},
   "outputs": [],
   "source": [
    "from sklearn.linear_model import LinearRegression\n",
    "lr = LinearRegression()\n",
    "lr.fit(X_train, y_train)\n",
    "y_pred = lr.predict(X_test)"
   ]
  },
  {
   "cell_type": "code",
   "execution_count": 8,
   "id": "3409e9b1-4bb1-4e13-8ddc-dc8cca2c9670",
   "metadata": {},
   "outputs": [],
   "source": [
    "from sklearn.metrics import r2_score"
   ]
  },
  {
   "cell_type": "code",
   "execution_count": 9,
   "id": "e14453d6-47f0-4cd4-8cf9-37e547ea4336",
   "metadata": {},
   "outputs": [
    {
     "data": {
      "text/plain": [
       "0.4399338661568968"
      ]
     },
     "execution_count": 9,
     "metadata": {},
     "output_type": "execute_result"
    }
   ],
   "source": [
    "r2_score(y_test,y_pred)"
   ]
  },
  {
   "cell_type": "code",
   "execution_count": 10,
   "id": "2dd32e7d-410b-46b6-b90e-efea0e41e81c",
   "metadata": {},
   "outputs": [
    {
     "data": {
      "text/plain": [
       "array([  -9.15865318, -205.45432163,  516.69374454,  340.61999905,\n",
       "       -895.5520019 ,  561.22067904,  153.89310954,  126.73139688,\n",
       "        861.12700152,   52.42112238])"
      ]
     },
     "execution_count": 10,
     "metadata": {},
     "output_type": "execute_result"
    }
   ],
   "source": [
    "lr.coef_"
   ]
  },
  {
   "cell_type": "code",
   "execution_count": 11,
   "id": "7740cba0-04e5-4354-a3ee-0fb8220bc11d",
   "metadata": {},
   "outputs": [
    {
     "data": {
      "text/plain": [
       "151.88331005254167"
      ]
     },
     "execution_count": 11,
     "metadata": {},
     "output_type": "execute_result"
    }
   ],
   "source": [
    "lr.intercept_"
   ]
  },
  {
   "cell_type": "markdown",
   "id": "2b88e46b-cdd6-4e0e-a16d-0dbe5cb8b993",
   "metadata": {},
   "source": [
    "## Making our own Linear Regression Class"
   ]
  },
  {
   "cell_type": "code",
   "execution_count": 12,
   "id": "705be012-b097-4fcb-b68a-7c11c47c66de",
   "metadata": {},
   "outputs": [],
   "source": [
    "class MeraLR:\n",
    "    \n",
    "    def __init__(self):\n",
    "        self.coef_ = None\n",
    "        self.intercept_ = None\n",
    "        \n",
    "    def fit(self,X_train,y_train):\n",
    "        X_train = np.insert(X_train,0,1,axis=1)\n",
    "        \n",
    "        # calcuate the coeffs\n",
    "        betas = np.linalg.inv(np.dot(X_train.T,X_train)).dot(X_train.T).dot(y_train)\n",
    "        self.intercept_ = betas[0]\n",
    "        self.coef_ = betas[1:]\n",
    "    \n",
    "    def predict(self,X_test):\n",
    "        y_pred = np.dot(X_test,self.coef_) + self.intercept_\n",
    "        return y_pred"
   ]
  },
  {
   "cell_type": "markdown",
   "id": "f7f11786-120b-4a8d-b263-81fcbfa08d02",
   "metadata": {},
   "source": [
    "Let's break down the code step by step:\n",
    "\n",
    "```python\n",
    "class MeraLR:\n",
    "    def __init__(self):\n",
    "        self.coef_ = None\n",
    "        self.intercept_ = None\n",
    "```\n",
    "\n",
    "1. The `MeraLR` class is defined, which serves as a custom linear regression model.\n",
    "2. The `__init__` method initializes the class attributes `coef_` and `intercept_` to `None`. These attributes will store the coefficients and intercept of the linear regression model once it's fitted.\n",
    "\n",
    "```python\n",
    "    def fit(self, X_train, y_train):\n",
    "        X_train = np.insert(X_train, 0, 1, axis=1)\n",
    "```\n",
    "\n",
    "3. The `fit` method is defined, which takes training data `X_train` and corresponding target values `y_train` as input.\n",
    "4. A constant term (1s) is inserted at the beginning of each data point in the feature matrix `X_train`. This is done by using `np.insert()` to add a column of ones at index 0 along the axis 1.\n",
    "\n",
    "```python\n",
    "        # calculate the coeffs\n",
    "        betas = np.linalg.inv(np.dot(X_train.T, X_train)).dot(X_train.T).dot(y_train)\n",
    "        self.intercept_ = betas[0]\n",
    "        self.coef_ = betas[1:]\n",
    "```\n",
    "\n",
    "5. The coefficients of the linear regression model are computed using the ordinary least squares (OLS) method.\n",
    "6. First, the dot product of the transpose of `X_train` and `X_train` itself is computed (`np.dot(X_train.T, X_train)`).\n",
    "7. Then, the inverse of this matrix product is calculated (`np.linalg.inv()`).\n",
    "8. Next, the dot product of the transpose of `X_train` and the target vector `y_train` is computed (`np.dot(X_train.T, y_train)`).\n",
    "9. Finally, the dot product of the inverse of the matrix product and the dot product of the transpose of `X_train` and `y_train` is calculated to get the coefficients (`betas`).\n",
    "10. The intercept is set to the first element of `betas`, and the remaining coefficients are stored in `self.coef_`.\n",
    "\n",
    "```python\n",
    "    def predict(self, X_test):\n",
    "        y_pred = np.dot(X_test, self.coef_) + self.intercept_\n",
    "        return y_pred\n",
    "```\n",
    "\n",
    "11. The `predict` method takes test data `X_test` as input.\n",
    "12. The predicted values (`y_pred`) are computed using the dot product of `X_test` and the coefficients (`self.coef_`), plus the intercept (`self.intercept_`).\n",
    "13. The predicted values are returned.\n",
    "\n",
    "In summary, this code defines a custom linear regression model `MeraLR` with methods to fit the model to training data (`fit`) and make predictions on test data (`predict`). The model computes coefficients using the OLS method and stores them along with the intercept for later use in prediction."
   ]
  },
  {
   "cell_type": "code",
   "execution_count": 13,
   "id": "98583daa-8b9b-4589-97c6-03f9eb7ed376",
   "metadata": {},
   "outputs": [],
   "source": [
    "lr = MeraLR()"
   ]
  },
  {
   "cell_type": "code",
   "execution_count": 14,
   "id": "cf573d88-13e5-4cf7-afe5-6d676a6d9642",
   "metadata": {},
   "outputs": [],
   "source": [
    "lr.fit(X_train,y_train)"
   ]
  },
  {
   "cell_type": "code",
   "execution_count": 15,
   "id": "0cdf94b6-967d-415c-9761-6318640ce28e",
   "metadata": {},
   "outputs": [
    {
     "data": {
      "text/plain": [
       "(353, 10)"
      ]
     },
     "execution_count": 15,
     "metadata": {},
     "output_type": "execute_result"
    }
   ],
   "source": [
    "X_train.shape"
   ]
  },
  {
   "cell_type": "code",
   "execution_count": 16,
   "id": "433c4611-c125-435f-9eba-197c7c936314",
   "metadata": {},
   "outputs": [],
   "source": [
    "y_pred = lr.predict(X_test)"
   ]
  },
  {
   "cell_type": "code",
   "execution_count": 17,
   "id": "8fc9f5c0-7498-4d19-b277-b2643c4371e8",
   "metadata": {},
   "outputs": [
    {
     "data": {
      "text/plain": [
       "array([  -9.15865318, -205.45432163,  516.69374454,  340.61999905,\n",
       "       -895.5520019 ,  561.22067904,  153.89310954,  126.73139688,\n",
       "        861.12700152,   52.42112238])"
      ]
     },
     "execution_count": 17,
     "metadata": {},
     "output_type": "execute_result"
    }
   ],
   "source": [
    "lr.coef_"
   ]
  },
  {
   "cell_type": "code",
   "execution_count": 18,
   "id": "a350fd0d-6bb7-43b0-9652-154652ac0af1",
   "metadata": {},
   "outputs": [
    {
     "data": {
      "text/plain": [
       "151.8833100525417"
      ]
     },
     "execution_count": 18,
     "metadata": {},
     "output_type": "execute_result"
    }
   ],
   "source": [
    "lr.intercept_"
   ]
  }
 ],
 "metadata": {
  "kernelspec": {
   "display_name": "Python 3 (ipykernel)",
   "language": "python",
   "name": "python3"
  },
  "language_info": {
   "codemirror_mode": {
    "name": "ipython",
    "version": 3
   },
   "file_extension": ".py",
   "mimetype": "text/x-python",
   "name": "python",
   "nbconvert_exporter": "python",
   "pygments_lexer": "ipython3",
   "version": "3.11.5"
  }
 },
 "nbformat": 4,
 "nbformat_minor": 5
}
