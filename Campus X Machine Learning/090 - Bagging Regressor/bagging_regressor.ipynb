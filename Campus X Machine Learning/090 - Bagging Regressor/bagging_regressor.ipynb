{
 "cells": [
  {
   "cell_type": "markdown",
   "id": "1e2a15b8-ef88-44df-8629-c16382a4018d",
   "metadata": {},
   "source": [
    "## Bagging Regressor\n",
    "\n",
    "![Bagging](https://www.researchgate.net/publication/369343824/figure/fig4/AS:11431281127720553@1679147347645/Bagging-regression-model.png)\n",
    "\n",
    "The Bagging Regressor is an ensemble learning method that combines the predictions of multiple base regressors to improve the overall performance of the model. It's a variant of the Bagging (Bootstrap Aggregating) technique, commonly used for regression tasks.\n",
    "\n",
    "Here's how the Bagging Regressor works:\n",
    "\n",
    "1. **Bootstrap Sampling**:\n",
    "   - Multiple subsets of the original training dataset are created by random sampling with replacement (bootstrap sampling).\n",
    "   - Each subset is of the same size as the original dataset.\n",
    "   - Some instances may appear multiple times in a subset, while others may not appear at all.\n",
    "\n",
    "2. **Base Regressor Training**:\n",
    "   - A base regressor (e.g., decision tree regressor, linear regressor, etc.) is trained on each bootstrap sample independently.\n",
    "   - Each base regressor is exposed to slightly different variations of the original dataset due to the randomness introduced by bootstrap sampling.\n",
    "\n",
    "3. **Aggregation**:\n",
    "   - Once all base regressors are trained, their predictions are aggregated to make the final prediction.\n",
    "   - For regression tasks, the most common approach is to average the predictions of all base regressors.\n",
    "   - Alternatively, weighted averaging or other aggregation methods can be used based on specific requirements.\n",
    "\n",
    "The key idea behind Bagging Regressor is to reduce the variance of the model by combining predictions from multiple models trained on slightly different subsets of the data. This helps to smooth out irregularities and noise in the training data, leading to better generalization performance on unseen data.\n",
    "\n",
    "Bagging Regressor is particularly effective when the base regressors are unstable or prone to overfitting. By introducing randomness in the training process, Bagging helps to decorrelate the base regressors and reduce their tendency to overfit the training data.\n",
    "\n",
    "In scikit-learn, you can use the `BaggingRegressor` class to create a Bagging Regressor model. It provides flexibility in choosing the base regressor and hyperparameters such as the number of base regressors (`n_estimators`), the size of each bootstrap sample (`max_samples`), and other settings."
   ]
  },
  {
   "cell_type": "markdown",
   "id": "3a628de9-7aad-413f-9dee-45ca0890f94a",
   "metadata": {},
   "source": [
    "### Bagging Regressor hyperparameters\n",
    "\n",
    "```\n",
    "class sklearn.ensemble.BaggingRegressor(estimator=None, n_estimators=10, *, max_samples=1.0, max_features=1.0, bootstrap=True, bootstrap_features=False, oob_score=False, warm_start=False, n_jobs=None, random_state=None, verbose=0)\n",
    "```\r\n",
    "\r\n",
    "1. **estimator**:\r\n",
    "   - This parameter specifies the base regressor (or estimator) to be used for training each individual model within the ensemble.\r\n",
    "   - It is set to `None` by default, which means that a decision tree regressor (`DecisionTreeRegressor`) will be used as the base estimator. However, you can specify any other regressor or estimator as the base estimator.\r\n",
    "\r\n",
    "2. **n_estimators**:\r\n",
    "   - This parameter defines the number of base regressors (or estimators) to be used in the ensemble.\r\n",
    "   - It is set to 10 by default. Increasing the number of estimators can improve the performance of the Bagging Regressor but will also increase the computational cost.\r\n",
    "\r\n",
    "3. **max_samples**:\r\n",
    "   - This parameter controls the number of samples to be drawn from the training data for training each base regressor.\r\n",
    "   - It is set to 1.0 by default, which means that each base regressor is trained on the entire training dataset. You can set it to a value less than 1.0 to use a fraction of the training data for each base regressor.\r\n",
    "\r\n",
    "4. **max_features**:\r\n",
    "   - This parameter controls the number of features to be used for training each base regressor.\r\n",
    "   - It is set to 1.0 by default, which means that all features are used. You can set it to a value less than 1.0 to use a fraction of the features for training each base regressor.\r\n",
    "\r\n",
    "5. **bootstrap**:\r\n",
    "   - This parameter specifies whether bootstrap samples should be used when training the base regressors.\r\n",
    "   - It is set to `True` by default, meaning that bootstrap samples are used. If set to `False`, the entire training dataset is used for training each base regressor.\r\n",
    "\r\n",
    "6. **bootstrap_features**:\r\n",
    "   - This parameter specifies whether bootstrap samples should be used when selecting features for training each base regressor.\r\n",
    "   - It is set to `False` by default, meaning that all features are considered for training each base regressor.\r\n",
    "\r\n",
    "7. **oob_score**:\r\n",
    "   - This parameter specifies whether to use out-of-bag samples to estimate the generalization performance of the ensemble.\r\n",
    "   - It is set to `False` by default. If set to `True`, the out-of-bag samples (i.e., samples not included in the bootstrap sample for training) are used to estimate the accuracy of the ensemble.\r\n",
    "\r\n",
    "8. **warm_start**:\r\n",
    "   - This parameter specifies whether to reuse the solution of the previous call to fit and add more estimators to the ensemble.\r\n",
    "   - It is set to `False` by default. If set to `True`, you can incrementally train the Bagging Regressor by calling the `fit()` method multiple times.\r\n",
    "\r\n",
    "9. **n_jobs**:\r\n",
    "   - This parameter specifies the number of jobs to run in parallel for both fitting and predicting.\r\n",
    "   - It is set to `None` by default, which means that only one job will be run. You can set it to an integer value to use multiple CPU cores for parallel processing.\r\n",
    "\r\n",
    "10. **random_state**:\r\n",
    "    - This parameter specifies the random seed for random number generation.\r\n",
    "    - It is set to `None` by default, meaning that a random seed will be automatically selected. You can set it to an integer value to ensure reproducibility of results.\r\n",
    "\r\n",
    "11. **verbose**:\r\n",
    "    - This parameter controls the verbosity of the output during fitting.\r\n",
    "    - It is set to 0 by default, which means that no output will be generated. You can set it to a positive integer value to display progress messages during fitting.\r\n",
    "\r\n",
    "These are the hyperparameters available in the `BaggingRegressor` class in scikit-learn, each controlling different aspects of the ensemble learning process. Adjusting these hyperparameters can help you fine-tune the performance of the Bagging Regressor for your specific regression task."
   ]
  },
  {
   "cell_type": "code",
   "execution_count": 1,
   "id": "8cfe04e7-2c5b-4343-ac5a-14e11ee16f4c",
   "metadata": {},
   "outputs": [
    {
     "name": "stdout",
     "output_type": "stream",
     "text": [
      "Dataset features names : ['CRIM' 'ZN' 'INDUS' 'CHAS' 'NOX' 'RM' 'AGE' 'DIS' 'RAD' 'TAX' 'PTRATIO'\n",
      " 'B' 'LSTAT']\n",
      "Dataset features size : (506, 13)\n",
      "Dataset target size : (506,)\n"
     ]
    }
   ],
   "source": [
    "import warnings\n",
    "warnings.filterwarnings('ignore')\n",
    "\n",
    "from sklearn import datasets\n",
    "\n",
    "boston = datasets.load_boston()\n",
    "X_boston, Y_boston = boston.data, boston.target\n",
    "print('Dataset features names : '+ str(boston.feature_names))\n",
    "print('Dataset features size : '+ str(boston.data.shape))\n",
    "print('Dataset target size : '+ str(boston.target.shape))"
   ]
  },
  {
   "cell_type": "code",
   "execution_count": 2,
   "id": "14da7e26-258f-4835-9748-08aa4034963d",
   "metadata": {},
   "outputs": [],
   "source": [
    "from sklearn.linear_model import LinearRegression\n",
    "from sklearn.neighbors import KNeighborsRegressor\n",
    "from sklearn.tree import DecisionTreeRegressor\n",
    "from sklearn.model_selection import GridSearchCV\n",
    "from sklearn.metrics import r2_score"
   ]
  },
  {
   "cell_type": "code",
   "execution_count": 3,
   "id": "847bdde8-e325-4f54-8793-7ee9ed57866e",
   "metadata": {},
   "outputs": [
    {
     "name": "stdout",
     "output_type": "stream",
     "text": [
      "Train/Test Sets Sizes :  (404, 13) (102, 13) (404,) (102,)\n"
     ]
    }
   ],
   "source": [
    "from sklearn.model_selection import train_test_split\n",
    "\n",
    "X_train, X_test, Y_train, Y_test = train_test_split(X_boston, Y_boston , train_size=0.80, test_size=0.20, random_state=123)\n",
    "print('Train/Test Sets Sizes : ',X_train.shape, X_test.shape, Y_train.shape, Y_test.shape)"
   ]
  },
  {
   "cell_type": "code",
   "execution_count": 4,
   "id": "7a7e4be4-c5b8-4afa-be3b-9fb98a49af08",
   "metadata": {},
   "outputs": [],
   "source": [
    "lr = LinearRegression()\n",
    "dt = DecisionTreeRegressor()\n",
    "knn = KNeighborsRegressor()"
   ]
  },
  {
   "cell_type": "code",
   "execution_count": 5,
   "id": "264d33b8-c22d-4f5b-980e-019bb65e4892",
   "metadata": {},
   "outputs": [
    {
     "data": {
      "text/html": [
       "<style>#sk-container-id-1 {color: black;background-color: white;}#sk-container-id-1 pre{padding: 0;}#sk-container-id-1 div.sk-toggleable {background-color: white;}#sk-container-id-1 label.sk-toggleable__label {cursor: pointer;display: block;width: 100%;margin-bottom: 0;padding: 0.3em;box-sizing: border-box;text-align: center;}#sk-container-id-1 label.sk-toggleable__label-arrow:before {content: \"▸\";float: left;margin-right: 0.25em;color: #696969;}#sk-container-id-1 label.sk-toggleable__label-arrow:hover:before {color: black;}#sk-container-id-1 div.sk-estimator:hover label.sk-toggleable__label-arrow:before {color: black;}#sk-container-id-1 div.sk-toggleable__content {max-height: 0;max-width: 0;overflow: hidden;text-align: left;background-color: #f0f8ff;}#sk-container-id-1 div.sk-toggleable__content pre {margin: 0.2em;color: black;border-radius: 0.25em;background-color: #f0f8ff;}#sk-container-id-1 input.sk-toggleable__control:checked~div.sk-toggleable__content {max-height: 200px;max-width: 100%;overflow: auto;}#sk-container-id-1 input.sk-toggleable__control:checked~label.sk-toggleable__label-arrow:before {content: \"▾\";}#sk-container-id-1 div.sk-estimator input.sk-toggleable__control:checked~label.sk-toggleable__label {background-color: #d4ebff;}#sk-container-id-1 div.sk-label input.sk-toggleable__control:checked~label.sk-toggleable__label {background-color: #d4ebff;}#sk-container-id-1 input.sk-hidden--visually {border: 0;clip: rect(1px 1px 1px 1px);clip: rect(1px, 1px, 1px, 1px);height: 1px;margin: -1px;overflow: hidden;padding: 0;position: absolute;width: 1px;}#sk-container-id-1 div.sk-estimator {font-family: monospace;background-color: #f0f8ff;border: 1px dotted black;border-radius: 0.25em;box-sizing: border-box;margin-bottom: 0.5em;}#sk-container-id-1 div.sk-estimator:hover {background-color: #d4ebff;}#sk-container-id-1 div.sk-parallel-item::after {content: \"\";width: 100%;border-bottom: 1px solid gray;flex-grow: 1;}#sk-container-id-1 div.sk-label:hover label.sk-toggleable__label {background-color: #d4ebff;}#sk-container-id-1 div.sk-serial::before {content: \"\";position: absolute;border-left: 1px solid gray;box-sizing: border-box;top: 0;bottom: 0;left: 50%;z-index: 0;}#sk-container-id-1 div.sk-serial {display: flex;flex-direction: column;align-items: center;background-color: white;padding-right: 0.2em;padding-left: 0.2em;position: relative;}#sk-container-id-1 div.sk-item {position: relative;z-index: 1;}#sk-container-id-1 div.sk-parallel {display: flex;align-items: stretch;justify-content: center;background-color: white;position: relative;}#sk-container-id-1 div.sk-item::before, #sk-container-id-1 div.sk-parallel-item::before {content: \"\";position: absolute;border-left: 1px solid gray;box-sizing: border-box;top: 0;bottom: 0;left: 50%;z-index: -1;}#sk-container-id-1 div.sk-parallel-item {display: flex;flex-direction: column;z-index: 1;position: relative;background-color: white;}#sk-container-id-1 div.sk-parallel-item:first-child::after {align-self: flex-end;width: 50%;}#sk-container-id-1 div.sk-parallel-item:last-child::after {align-self: flex-start;width: 50%;}#sk-container-id-1 div.sk-parallel-item:only-child::after {width: 0;}#sk-container-id-1 div.sk-dashed-wrapped {border: 1px dashed gray;margin: 0 0.4em 0.5em 0.4em;box-sizing: border-box;padding-bottom: 0.4em;background-color: white;}#sk-container-id-1 div.sk-label label {font-family: monospace;font-weight: bold;display: inline-block;line-height: 1.2em;}#sk-container-id-1 div.sk-label-container {text-align: center;}#sk-container-id-1 div.sk-container {/* jupyter's `normalize.less` sets `[hidden] { display: none; }` but bootstrap.min.css set `[hidden] { display: none !important; }` so we also need the `!important` here to be able to override the default hidden behavior on the sphinx rendered scikit-learn.org. See: https://github.com/scikit-learn/scikit-learn/issues/21755 */display: inline-block !important;position: relative;}#sk-container-id-1 div.sk-text-repr-fallback {display: none;}</style><div id=\"sk-container-id-1\" class=\"sk-top-container\"><div class=\"sk-text-repr-fallback\"><pre>KNeighborsRegressor()</pre><b>In a Jupyter environment, please rerun this cell to show the HTML representation or trust the notebook. <br />On GitHub, the HTML representation is unable to render, please try loading this page with nbviewer.org.</b></div><div class=\"sk-container\" hidden><div class=\"sk-item\"><div class=\"sk-estimator sk-toggleable\"><input class=\"sk-toggleable__control sk-hidden--visually\" id=\"sk-estimator-id-1\" type=\"checkbox\" checked><label for=\"sk-estimator-id-1\" class=\"sk-toggleable__label sk-toggleable__label-arrow\">KNeighborsRegressor</label><div class=\"sk-toggleable__content\"><pre>KNeighborsRegressor()</pre></div></div></div></div></div>"
      ],
      "text/plain": [
       "KNeighborsRegressor()"
      ]
     },
     "execution_count": 5,
     "metadata": {},
     "output_type": "execute_result"
    }
   ],
   "source": [
    "lr.fit(X_train,Y_train)\n",
    "dt.fit(X_train,Y_train)\n",
    "knn.fit(X_train,Y_train)"
   ]
  },
  {
   "cell_type": "code",
   "execution_count": 6,
   "id": "8d814413-926e-4da5-9839-7199dc32a22f",
   "metadata": {},
   "outputs": [],
   "source": [
    "y_pred1 = lr.predict(X_test)\n",
    "y_pred2 = dt.predict(X_test)\n",
    "y_pred3 = knn.predict(X_test)"
   ]
  },
  {
   "cell_type": "code",
   "execution_count": 7,
   "id": "2693dd14-51aa-40a3-85ae-2f63fbe429ea",
   "metadata": {},
   "outputs": [
    {
     "name": "stdout",
     "output_type": "stream",
     "text": [
      "R^2 score for LR 0.6592466510354119\n",
      "R^2 score for DT 0.46064407885473546\n",
      "R^2 score for KNN 0.5475962186976784\n"
     ]
    }
   ],
   "source": [
    "print(\"R^2 score for LR\",r2_score(Y_test,y_pred1))\n",
    "print(\"R^2 score for DT\",r2_score(Y_test,y_pred2))\n",
    "print(\"R^2 score for KNN\",r2_score(Y_test,y_pred3))"
   ]
  },
  {
   "cell_type": "markdown",
   "id": "33c598d5-6762-487d-a3a8-c4539a744e9b",
   "metadata": {},
   "source": [
    "#### Applying Bagging"
   ]
  },
  {
   "cell_type": "code",
   "execution_count": 8,
   "id": "45fefc06-041b-48df-a1ae-18ce33d10f9c",
   "metadata": {},
   "outputs": [
    {
     "data": {
      "text/html": [
       "<style>#sk-container-id-2 {color: black;background-color: white;}#sk-container-id-2 pre{padding: 0;}#sk-container-id-2 div.sk-toggleable {background-color: white;}#sk-container-id-2 label.sk-toggleable__label {cursor: pointer;display: block;width: 100%;margin-bottom: 0;padding: 0.3em;box-sizing: border-box;text-align: center;}#sk-container-id-2 label.sk-toggleable__label-arrow:before {content: \"▸\";float: left;margin-right: 0.25em;color: #696969;}#sk-container-id-2 label.sk-toggleable__label-arrow:hover:before {color: black;}#sk-container-id-2 div.sk-estimator:hover label.sk-toggleable__label-arrow:before {color: black;}#sk-container-id-2 div.sk-toggleable__content {max-height: 0;max-width: 0;overflow: hidden;text-align: left;background-color: #f0f8ff;}#sk-container-id-2 div.sk-toggleable__content pre {margin: 0.2em;color: black;border-radius: 0.25em;background-color: #f0f8ff;}#sk-container-id-2 input.sk-toggleable__control:checked~div.sk-toggleable__content {max-height: 200px;max-width: 100%;overflow: auto;}#sk-container-id-2 input.sk-toggleable__control:checked~label.sk-toggleable__label-arrow:before {content: \"▾\";}#sk-container-id-2 div.sk-estimator input.sk-toggleable__control:checked~label.sk-toggleable__label {background-color: #d4ebff;}#sk-container-id-2 div.sk-label input.sk-toggleable__control:checked~label.sk-toggleable__label {background-color: #d4ebff;}#sk-container-id-2 input.sk-hidden--visually {border: 0;clip: rect(1px 1px 1px 1px);clip: rect(1px, 1px, 1px, 1px);height: 1px;margin: -1px;overflow: hidden;padding: 0;position: absolute;width: 1px;}#sk-container-id-2 div.sk-estimator {font-family: monospace;background-color: #f0f8ff;border: 1px dotted black;border-radius: 0.25em;box-sizing: border-box;margin-bottom: 0.5em;}#sk-container-id-2 div.sk-estimator:hover {background-color: #d4ebff;}#sk-container-id-2 div.sk-parallel-item::after {content: \"\";width: 100%;border-bottom: 1px solid gray;flex-grow: 1;}#sk-container-id-2 div.sk-label:hover label.sk-toggleable__label {background-color: #d4ebff;}#sk-container-id-2 div.sk-serial::before {content: \"\";position: absolute;border-left: 1px solid gray;box-sizing: border-box;top: 0;bottom: 0;left: 50%;z-index: 0;}#sk-container-id-2 div.sk-serial {display: flex;flex-direction: column;align-items: center;background-color: white;padding-right: 0.2em;padding-left: 0.2em;position: relative;}#sk-container-id-2 div.sk-item {position: relative;z-index: 1;}#sk-container-id-2 div.sk-parallel {display: flex;align-items: stretch;justify-content: center;background-color: white;position: relative;}#sk-container-id-2 div.sk-item::before, #sk-container-id-2 div.sk-parallel-item::before {content: \"\";position: absolute;border-left: 1px solid gray;box-sizing: border-box;top: 0;bottom: 0;left: 50%;z-index: -1;}#sk-container-id-2 div.sk-parallel-item {display: flex;flex-direction: column;z-index: 1;position: relative;background-color: white;}#sk-container-id-2 div.sk-parallel-item:first-child::after {align-self: flex-end;width: 50%;}#sk-container-id-2 div.sk-parallel-item:last-child::after {align-self: flex-start;width: 50%;}#sk-container-id-2 div.sk-parallel-item:only-child::after {width: 0;}#sk-container-id-2 div.sk-dashed-wrapped {border: 1px dashed gray;margin: 0 0.4em 0.5em 0.4em;box-sizing: border-box;padding-bottom: 0.4em;background-color: white;}#sk-container-id-2 div.sk-label label {font-family: monospace;font-weight: bold;display: inline-block;line-height: 1.2em;}#sk-container-id-2 div.sk-label-container {text-align: center;}#sk-container-id-2 div.sk-container {/* jupyter's `normalize.less` sets `[hidden] { display: none; }` but bootstrap.min.css set `[hidden] { display: none !important; }` so we also need the `!important` here to be able to override the default hidden behavior on the sphinx rendered scikit-learn.org. See: https://github.com/scikit-learn/scikit-learn/issues/21755 */display: inline-block !important;position: relative;}#sk-container-id-2 div.sk-text-repr-fallback {display: none;}</style><div id=\"sk-container-id-2\" class=\"sk-top-container\"><div class=\"sk-text-repr-fallback\"><pre>BaggingRegressor(random_state=1)</pre><b>In a Jupyter environment, please rerun this cell to show the HTML representation or trust the notebook. <br />On GitHub, the HTML representation is unable to render, please try loading this page with nbviewer.org.</b></div><div class=\"sk-container\" hidden><div class=\"sk-item\"><div class=\"sk-estimator sk-toggleable\"><input class=\"sk-toggleable__control sk-hidden--visually\" id=\"sk-estimator-id-2\" type=\"checkbox\" checked><label for=\"sk-estimator-id-2\" class=\"sk-toggleable__label sk-toggleable__label-arrow\">BaggingRegressor</label><div class=\"sk-toggleable__content\"><pre>BaggingRegressor(random_state=1)</pre></div></div></div></div></div>"
      ],
      "text/plain": [
       "BaggingRegressor(random_state=1)"
      ]
     },
     "execution_count": 8,
     "metadata": {},
     "output_type": "execute_result"
    }
   ],
   "source": [
    "from sklearn.ensemble import BaggingRegressor\n",
    "\n",
    "bag_regressor = BaggingRegressor(random_state=1)\n",
    "bag_regressor.fit(X_train, Y_train)"
   ]
  },
  {
   "cell_type": "code",
   "execution_count": 9,
   "id": "d3960269-ef1b-4bcc-8afe-7503f6f0731a",
   "metadata": {},
   "outputs": [],
   "source": [
    "y_pred = bag_regressor.predict(X_test)"
   ]
  },
  {
   "cell_type": "code",
   "execution_count": 10,
   "id": "cb626f1a-915f-4d0e-a46c-43054fc4217b",
   "metadata": {},
   "outputs": [
    {
     "name": "stdout",
     "output_type": "stream",
     "text": [
      "R^2 score for Bagging 0.8184644795411804\n"
     ]
    }
   ],
   "source": [
    "print(\"R^2 score for Bagging\",r2_score(Y_test,y_pred))"
   ]
  },
  {
   "cell_type": "code",
   "execution_count": 11,
   "id": "c0a34479-ddcb-4d94-af3e-755aaafbadbf",
   "metadata": {},
   "outputs": [
    {
     "name": "stdout",
     "output_type": "stream",
     "text": [
      "Training Coefficient of R^2 : 0.9799359879973576\n",
      "Test Coefficient of R^2 : 0.8184644795411804\n"
     ]
    }
   ],
   "source": [
    "print('Training Coefficient of R^2 :', bag_regressor.score(X_train, Y_train))\n",
    "print('Test Coefficient of R^2 :', bag_regressor.score(X_test, Y_test))"
   ]
  },
  {
   "cell_type": "code",
   "execution_count": 12,
   "id": "0ca764e3-78b9-41bf-a336-2324cb02de67",
   "metadata": {},
   "outputs": [
    {
     "name": "stdout",
     "output_type": "stream",
     "text": [
      "Fitting 3 folds for each of 144 candidates, totalling 432 fits\n",
      "Train R^2 Score : 0.983\n",
      "Test R^2 Score : 0.805\n",
      "Best R^2 Score Through Grid Search : 0.871\n",
      "Best Parameters :  {'base_estimator': None, 'bootstrap': True, 'bootstrap_features': False, 'max_features': 1.0, 'max_samples': 1.0, 'n_estimators': 50}\n",
      "CPU times: total: 672 ms\n",
      "Wall time: 11.9 s\n"
     ]
    }
   ],
   "source": [
    "%%time\n",
    "\n",
    "n_samples = boston.data.shape[0]\n",
    "n_features = boston.data.shape[1]\n",
    "\n",
    "params = {'base_estimator': [None, LinearRegression(), KNeighborsRegressor()],\n",
    "          'n_estimators': [20,50,100],\n",
    "          'max_samples': [0.5,1.0],\n",
    "          'max_features': [0.5,1.0],\n",
    "          'bootstrap': [True, False],\n",
    "          'bootstrap_features': [True, False]}\n",
    "\n",
    "bagging_regressor_grid = GridSearchCV(BaggingRegressor(random_state=1, n_jobs=-1), param_grid =params, cv=3, n_jobs=-1, verbose=1)\n",
    "bagging_regressor_grid.fit(X_train, Y_train)\n",
    "\n",
    "print('Train R^2 Score : %.3f'%bagging_regressor_grid.best_estimator_.score(X_train, Y_train))\n",
    "print('Test R^2 Score : %.3f'%bagging_regressor_grid.best_estimator_.score(X_test, Y_test))\n",
    "print('Best R^2 Score Through Grid Search : %.3f'%bagging_regressor_grid.best_score_)\n",
    "print('Best Parameters : ',bagging_regressor_grid.best_params_)"
   ]
  },
  {
   "cell_type": "code",
   "execution_count": 20,
   "id": "c084c4c3-a428-483f-a7a9-438b7bfa0741",
   "metadata": {},
   "outputs": [
    {
     "data": {
      "text/html": [
       "<style>#sk-container-id-6 {color: black;background-color: white;}#sk-container-id-6 pre{padding: 0;}#sk-container-id-6 div.sk-toggleable {background-color: white;}#sk-container-id-6 label.sk-toggleable__label {cursor: pointer;display: block;width: 100%;margin-bottom: 0;padding: 0.3em;box-sizing: border-box;text-align: center;}#sk-container-id-6 label.sk-toggleable__label-arrow:before {content: \"▸\";float: left;margin-right: 0.25em;color: #696969;}#sk-container-id-6 label.sk-toggleable__label-arrow:hover:before {color: black;}#sk-container-id-6 div.sk-estimator:hover label.sk-toggleable__label-arrow:before {color: black;}#sk-container-id-6 div.sk-toggleable__content {max-height: 0;max-width: 0;overflow: hidden;text-align: left;background-color: #f0f8ff;}#sk-container-id-6 div.sk-toggleable__content pre {margin: 0.2em;color: black;border-radius: 0.25em;background-color: #f0f8ff;}#sk-container-id-6 input.sk-toggleable__control:checked~div.sk-toggleable__content {max-height: 200px;max-width: 100%;overflow: auto;}#sk-container-id-6 input.sk-toggleable__control:checked~label.sk-toggleable__label-arrow:before {content: \"▾\";}#sk-container-id-6 div.sk-estimator input.sk-toggleable__control:checked~label.sk-toggleable__label {background-color: #d4ebff;}#sk-container-id-6 div.sk-label input.sk-toggleable__control:checked~label.sk-toggleable__label {background-color: #d4ebff;}#sk-container-id-6 input.sk-hidden--visually {border: 0;clip: rect(1px 1px 1px 1px);clip: rect(1px, 1px, 1px, 1px);height: 1px;margin: -1px;overflow: hidden;padding: 0;position: absolute;width: 1px;}#sk-container-id-6 div.sk-estimator {font-family: monospace;background-color: #f0f8ff;border: 1px dotted black;border-radius: 0.25em;box-sizing: border-box;margin-bottom: 0.5em;}#sk-container-id-6 div.sk-estimator:hover {background-color: #d4ebff;}#sk-container-id-6 div.sk-parallel-item::after {content: \"\";width: 100%;border-bottom: 1px solid gray;flex-grow: 1;}#sk-container-id-6 div.sk-label:hover label.sk-toggleable__label {background-color: #d4ebff;}#sk-container-id-6 div.sk-serial::before {content: \"\";position: absolute;border-left: 1px solid gray;box-sizing: border-box;top: 0;bottom: 0;left: 50%;z-index: 0;}#sk-container-id-6 div.sk-serial {display: flex;flex-direction: column;align-items: center;background-color: white;padding-right: 0.2em;padding-left: 0.2em;position: relative;}#sk-container-id-6 div.sk-item {position: relative;z-index: 1;}#sk-container-id-6 div.sk-parallel {display: flex;align-items: stretch;justify-content: center;background-color: white;position: relative;}#sk-container-id-6 div.sk-item::before, #sk-container-id-6 div.sk-parallel-item::before {content: \"\";position: absolute;border-left: 1px solid gray;box-sizing: border-box;top: 0;bottom: 0;left: 50%;z-index: -1;}#sk-container-id-6 div.sk-parallel-item {display: flex;flex-direction: column;z-index: 1;position: relative;background-color: white;}#sk-container-id-6 div.sk-parallel-item:first-child::after {align-self: flex-end;width: 50%;}#sk-container-id-6 div.sk-parallel-item:last-child::after {align-self: flex-start;width: 50%;}#sk-container-id-6 div.sk-parallel-item:only-child::after {width: 0;}#sk-container-id-6 div.sk-dashed-wrapped {border: 1px dashed gray;margin: 0 0.4em 0.5em 0.4em;box-sizing: border-box;padding-bottom: 0.4em;background-color: white;}#sk-container-id-6 div.sk-label label {font-family: monospace;font-weight: bold;display: inline-block;line-height: 1.2em;}#sk-container-id-6 div.sk-label-container {text-align: center;}#sk-container-id-6 div.sk-container {/* jupyter's `normalize.less` sets `[hidden] { display: none; }` but bootstrap.min.css set `[hidden] { display: none !important; }` so we also need the `!important` here to be able to override the default hidden behavior on the sphinx rendered scikit-learn.org. See: https://github.com/scikit-learn/scikit-learn/issues/21755 */display: inline-block !important;position: relative;}#sk-container-id-6 div.sk-text-repr-fallback {display: none;}</style><div id=\"sk-container-id-6\" class=\"sk-top-container\"><div class=\"sk-text-repr-fallback\"><pre>BaggingRegressor(n_estimators=50, random_state=1)</pre><b>In a Jupyter environment, please rerun this cell to show the HTML representation or trust the notebook. <br />On GitHub, the HTML representation is unable to render, please try loading this page with nbviewer.org.</b></div><div class=\"sk-container\" hidden><div class=\"sk-item\"><div class=\"sk-estimator sk-toggleable\"><input class=\"sk-toggleable__control sk-hidden--visually\" id=\"sk-estimator-id-12\" type=\"checkbox\" checked><label for=\"sk-estimator-id-12\" class=\"sk-toggleable__label sk-toggleable__label-arrow\">BaggingRegressor</label><div class=\"sk-toggleable__content\"><pre>BaggingRegressor(n_estimators=50, random_state=1)</pre></div></div></div></div></div>"
      ],
      "text/plain": [
       "BaggingRegressor(n_estimators=50, random_state=1)"
      ]
     },
     "execution_count": 20,
     "metadata": {},
     "output_type": "execute_result"
    }
   ],
   "source": [
    "bag_regressor1 = BaggingRegressor(base_estimator = None,\n",
    "                                  n_estimators = 50,\n",
    "                                  max_samples = 1.0,\n",
    "                                  max_features = 1.0,\n",
    "                                  bootstrap =  True, \n",
    "                                  bootstrap_features = False,   \n",
    "                                  random_state=1)\n",
    "\n",
    "bag_regressor1.fit(X_train, Y_train)"
   ]
  },
  {
   "cell_type": "code",
   "execution_count": 21,
   "id": "4540b8a8-8b9b-4d4c-9e08-020b22a3759f",
   "metadata": {},
   "outputs": [
    {
     "data": {
      "text/plain": [
       "0.805126651796481"
      ]
     },
     "execution_count": 21,
     "metadata": {},
     "output_type": "execute_result"
    }
   ],
   "source": [
    "y_pred4 = bag_regressor1.predict(X_test)\n",
    "r2_score(Y_test, y_pred4)"
   ]
  },
  {
   "cell_type": "code",
   "execution_count": 23,
   "id": "86d60450-8af3-45e4-a571-fb269cbcea95",
   "metadata": {},
   "outputs": [
    {
     "data": {
      "text/plain": [
       "array([132, 220, 266, 279,  82, 249, 300, 369, 365, 292,  74, 244, 316,\n",
       "       363, 258, 191, 103, 328,  65, 306,  53, 158, 228,  60,  13, 291,\n",
       "       331, 291,  83, 209, 376,  69,  33, 369, 345,  86, 303, 359,  37,\n",
       "       230, 387, 344, 382, 262, 129, 131, 395, 100, 267, 138, 322,  26,\n",
       "       221, 277, 185, 204, 250,  28,  86, 122, 178, 309,  18, 116, 286,\n",
       "        12,  77, 177, 282, 223,  21, 393, 128, 211, 396, 183,  42, 146,\n",
       "       104, 383, 184, 124, 173, 336,   6, 163, 306, 111, 350,  55, 181,\n",
       "       241, 159,  33, 347, 154,  17, 179, 170, 237,  32, 148, 320, 168,\n",
       "       269, 358,  62, 297,  60, 216, 120, 310, 216, 106, 361, 386,  93,\n",
       "       276,  75, 342, 253, 270, 334, 203, 106,  37, 206,  92, 100, 336,\n",
       "       316, 266, 142, 202,  38,  85, 258, 103, 377, 331, 240, 194, 145,\n",
       "       131, 238,  22, 375,  24,  57,  26, 384, 372, 170, 380, 301, 200,\n",
       "       295,  44, 381, 216,  78, 274, 285, 170,   7, 264, 136, 387,  36,\n",
       "        83, 133, 387, 321, 181, 336,  96, 235, 110,  13,  65, 352, 301,\n",
       "       153,  58, 242, 267, 250, 273,  72, 280, 219,   0, 252, 394, 116,\n",
       "       200,  74, 272, 314, 322, 120, 327,  15,  40, 192, 373, 134, 165,\n",
       "       353,  54, 368, 365, 189,  16,  44,  94, 245,  64,  59, 249, 278,\n",
       "       163,  97, 212,  97, 369, 110, 101, 221, 100, 333,  59, 228, 234,\n",
       "       293, 135, 288, 370, 143, 367,  39, 161,   9, 105,  74, 360, 162,\n",
       "        82, 209,  23, 201,  30, 341, 340, 215,  93, 211,  88, 230, 351,\n",
       "       196,  39, 228, 203, 326, 152, 200, 236, 153,  26, 321, 180,  73,\n",
       "       328, 199,  42, 391, 249,  38, 110, 116, 127,  86, 179,   7, 202,\n",
       "       215, 105,  78, 156, 279, 147, 164, 333, 145, 114, 113, 346,  50,\n",
       "       366, 111, 342, 137,  47,  18, 358, 340, 155, 158, 209,   9, 145,\n",
       "       192, 260, 394,  30, 145, 392, 307, 159, 207,  96, 398, 206, 293,\n",
       "       358, 103,  87, 352, 330, 241, 118, 269, 148, 385, 134, 179, 305,\n",
       "        52,  74, 248, 305, 226, 347, 210, 316, 124, 188,  14, 338, 385,\n",
       "       216, 397,  46, 310, 356, 190, 331, 286, 262, 103,  76, 376,  31,\n",
       "       197, 197,  63, 403, 222, 185,  99, 114, 179, 101, 390,   1, 243,\n",
       "        26, 284, 397, 134,  75, 226, 165, 136, 192, 135, 166, 254, 152,\n",
       "        54,  28, 192,  60, 261, 184,  97, 123, 240, 373, 235, 397, 352,\n",
       "       205])"
      ]
     },
     "execution_count": 23,
     "metadata": {},
     "output_type": "execute_result"
    }
   ],
   "source": [
    "bag_regressor1.estimators_samples_[0]"
   ]
  },
  {
   "cell_type": "code",
   "execution_count": 25,
   "id": "f9bbcee6-e68f-46ff-9235-09912aaee3c2",
   "metadata": {},
   "outputs": [
    {
     "data": {
      "text/plain": [
       "array([0.76171358, 0.86362648, 0.72362671, 0.45534378, 0.18969469])"
      ]
     },
     "execution_count": 25,
     "metadata": {},
     "output_type": "execute_result"
    }
   ],
   "source": [
    "from sklearn.model_selection import cross_val_score\n",
    "\n",
    "cross_val_score(bag_regressor1, X_boston, Y_boston, cv=5, scoring='r2')"
   ]
  }
 ],
 "metadata": {
  "kernelspec": {
   "display_name": "Python 3 (ipykernel)",
   "language": "python",
   "name": "python3"
  },
  "language_info": {
   "codemirror_mode": {
    "name": "ipython",
    "version": 3
   },
   "file_extension": ".py",
   "mimetype": "text/x-python",
   "name": "python",
   "nbconvert_exporter": "python",
   "pygments_lexer": "ipython3",
   "version": "3.11.5"
  }
 },
 "nbformat": 4,
 "nbformat_minor": 5
}
