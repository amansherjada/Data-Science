{
 "cells": [
  {
   "cell_type": "markdown",
   "id": "7dfa19ef-2981-43df-a383-b81d36e52630",
   "metadata": {},
   "source": [
    "### K-Nearest Neighbors (KNN)\n",
    "\n",
    "![](https://miro.medium.com/v2/resize:fit:679/1*n9v1xsBi0bek98rqBnWGEg.gif)\n",
    "\n",
    "K-Nearest Neighbors (KNN) is a simple yet powerful algorithm used for both classification and regression tasks. The logic behind KNN is straightforward:\r\n",
    "\r\n",
    "1. **Training Phase**: In the training phase, the algorithm simply memorizes the feature vectors and corresponding labels of the training data. \r\n",
    "\r\n",
    "2. **Prediction Phase**:\r\n",
    "   - For a given unlabeled data point, KNN calculates the distances between this point and all other points in the training set. The distance metric used can vary, but commonly used ones include Euclidean distance, Manhattan distance, or cosine similarity.\r\n",
    "   - It then identifies the K nearest neighbors to the unlabeled point based on these distances.\r\n",
    "   - For classification tasks, it assigns the most common class label among these K neighbors to the unlabeled point.\r\n",
    "   - For regression tasks, it calculates the average or weighted average of the target values of these K neighbors and assigns it to the unlabeled point.\r\n",
    "\r\n",
    "3. **Choosing K**: The choice of K (the number of neighbors) is a hyperparameter that needs to be specified beforehand. It can significantly affect the performance of the algorithm. A smaller value of K can lead to more flexible decision boundaries but may also increase the noise sensitivity, while a larger value of K can smooth out the decision boundaries but may ignore local patterns.\r\n",
    "\r\n",
    "4. **Decision Boundary**: KNN implicitly defines decision boundaries in the feature space based on the nearest neighbors. In classification, these decision boundaries are determined by the class labels of the neighboring points.\r\n",
    "\r\n",
    "In summary, the simple logic behind KNN is to make predictions for new data points based on the majority vote (for classification) or averaging (for regression) of the labels of their nearest neighbors in the training set. It's called \"nearest neighbors\" because the prediction is based on the closest data points in the feature space."
   ]
  },
  {
   "cell_type": "markdown",
   "id": "911e913a-a91e-4c94-a8f1-d4304a86c957",
   "metadata": {},
   "source": [
    "KNN = https://www.javatpoint.com/k-nearest-neighbor-algorithm-for-machine-learning"
   ]
  },
  {
   "cell_type": "markdown",
   "id": "e44bb279-ae47-42f2-9cd6-a4149e2df293",
   "metadata": {},
   "source": [
    "### Step-by-Step explanation of how the K-Nearest Neighbors (KNN) algorithm works:\r\n",
    "\r\n",
    "1. **Data Collection and Preprocessing**:\r\n",
    "   - Collect a dataset consisting of feature vectors (attributes) and corresponding labels (class or target values).\r\n",
    "   - Preprocess the data if necessary by handling missing values, normalizing features, or encoding categorical variables.\r\n",
    "\r\n",
    "2. **Choose the Value of K**:\r\n",
    "   - Select the number of neighbors (K) to consider when making predictions. This is typically chosen based on cross-validation or other validation methods.\r\n",
    "\r\n",
    "3. **Distance Calculation**:\r\n",
    "   - Compute the distance between the new data point (query point) and every point in the training dataset. Common distance metrics include Euclidean distance, Manhattan distance, or cosine similarity.\r\n",
    "   - The choice of distance metric depends on the nature of the data and the problem at hand.\r\n",
    "\r\n",
    "4. **Find K Nearest Neighbors**:\r\n",
    "   - Identify the K training data points that are closest to the query point based on the calculated distances.\r\n",
    "   - These K data points are the \"nearest neighbors\" to the query point.\r\n",
    "\r\n",
    "5. **Majority Voting (Classification) or Average (Regression)**:\r\n",
    "   - For classification:\r\n",
    "     - If the problem is classification, count the number of data points in each class among the K nearest neighbors.\r\n",
    "     - Assign the query point to the class that appears most frequently among its K nearest neighbors. This is known as majority voting.\r\n",
    "   - For regression:\r\n",
    "     - If the problem is regression, take the average (or weighted average) of the target values of the K nearest neighbors.\r\n",
    "     - Assign this average value to the query point as its predicted target value.\r\n",
    "\r\n",
    "6. **Prediction**:\r\n",
    "   - Return the predicted class label (for classification) or predicted target value (for regression) for the query point.\r\n",
    "\r\n",
    "7. **Evaluate Model Performance**:\r\n",
    "   - Assess the performance of the KNN model using appropriate evaluation metrics such as accuracy, precision, recall, F1-score (for classification), or mean squared error (for regression).\r\n",
    "   - Optionally, fine-tune hyperparameters (such as K) to improve performance.\r\n",
    "\r\n",
    "8. **Repeat for New Data**:\r\n",
    "   - Once the model is trained and evaluated, it can be used to make predictions on new, unseen data points usingng data points in the training set."
   ]
  },
  {
   "cell_type": "markdown",
   "id": "13ec3e75-6a17-4d65-ace6-e9fb572282f1",
   "metadata": {},
   "source": [
    "### Code Example on *Breast Cancer Wisconsin (Diagnostic) Data Set*"
   ]
  },
  {
   "cell_type": "code",
   "execution_count": 1,
   "id": "40b0319d-5e88-4d04-b59a-97980bc513ea",
   "metadata": {},
   "outputs": [],
   "source": [
    "import pandas as pd\n",
    "import numpy as np"
   ]
  },
  {
   "cell_type": "code",
   "execution_count": 2,
   "id": "32a631d8-af0f-42de-8b9c-1689040cc629",
   "metadata": {},
   "outputs": [
    {
     "data": {
      "text/html": [
       "<div>\n",
       "<style scoped>\n",
       "    .dataframe tbody tr th:only-of-type {\n",
       "        vertical-align: middle;\n",
       "    }\n",
       "\n",
       "    .dataframe tbody tr th {\n",
       "        vertical-align: top;\n",
       "    }\n",
       "\n",
       "    .dataframe thead th {\n",
       "        text-align: right;\n",
       "    }\n",
       "</style>\n",
       "<table border=\"1\" class=\"dataframe\">\n",
       "  <thead>\n",
       "    <tr style=\"text-align: right;\">\n",
       "      <th></th>\n",
       "      <th>id</th>\n",
       "      <th>diagnosis</th>\n",
       "      <th>radius_mean</th>\n",
       "      <th>texture_mean</th>\n",
       "      <th>perimeter_mean</th>\n",
       "      <th>area_mean</th>\n",
       "      <th>smoothness_mean</th>\n",
       "      <th>compactness_mean</th>\n",
       "      <th>concavity_mean</th>\n",
       "      <th>concave points_mean</th>\n",
       "      <th>...</th>\n",
       "      <th>texture_worst</th>\n",
       "      <th>perimeter_worst</th>\n",
       "      <th>area_worst</th>\n",
       "      <th>smoothness_worst</th>\n",
       "      <th>compactness_worst</th>\n",
       "      <th>concavity_worst</th>\n",
       "      <th>concave points_worst</th>\n",
       "      <th>symmetry_worst</th>\n",
       "      <th>fractal_dimension_worst</th>\n",
       "      <th>Unnamed: 32</th>\n",
       "    </tr>\n",
       "  </thead>\n",
       "  <tbody>\n",
       "    <tr>\n",
       "      <th>0</th>\n",
       "      <td>842302</td>\n",
       "      <td>M</td>\n",
       "      <td>17.99</td>\n",
       "      <td>10.38</td>\n",
       "      <td>122.80</td>\n",
       "      <td>1001.0</td>\n",
       "      <td>0.11840</td>\n",
       "      <td>0.27760</td>\n",
       "      <td>0.3001</td>\n",
       "      <td>0.14710</td>\n",
       "      <td>...</td>\n",
       "      <td>17.33</td>\n",
       "      <td>184.60</td>\n",
       "      <td>2019.0</td>\n",
       "      <td>0.1622</td>\n",
       "      <td>0.6656</td>\n",
       "      <td>0.7119</td>\n",
       "      <td>0.2654</td>\n",
       "      <td>0.4601</td>\n",
       "      <td>0.11890</td>\n",
       "      <td>NaN</td>\n",
       "    </tr>\n",
       "    <tr>\n",
       "      <th>1</th>\n",
       "      <td>842517</td>\n",
       "      <td>M</td>\n",
       "      <td>20.57</td>\n",
       "      <td>17.77</td>\n",
       "      <td>132.90</td>\n",
       "      <td>1326.0</td>\n",
       "      <td>0.08474</td>\n",
       "      <td>0.07864</td>\n",
       "      <td>0.0869</td>\n",
       "      <td>0.07017</td>\n",
       "      <td>...</td>\n",
       "      <td>23.41</td>\n",
       "      <td>158.80</td>\n",
       "      <td>1956.0</td>\n",
       "      <td>0.1238</td>\n",
       "      <td>0.1866</td>\n",
       "      <td>0.2416</td>\n",
       "      <td>0.1860</td>\n",
       "      <td>0.2750</td>\n",
       "      <td>0.08902</td>\n",
       "      <td>NaN</td>\n",
       "    </tr>\n",
       "    <tr>\n",
       "      <th>2</th>\n",
       "      <td>84300903</td>\n",
       "      <td>M</td>\n",
       "      <td>19.69</td>\n",
       "      <td>21.25</td>\n",
       "      <td>130.00</td>\n",
       "      <td>1203.0</td>\n",
       "      <td>0.10960</td>\n",
       "      <td>0.15990</td>\n",
       "      <td>0.1974</td>\n",
       "      <td>0.12790</td>\n",
       "      <td>...</td>\n",
       "      <td>25.53</td>\n",
       "      <td>152.50</td>\n",
       "      <td>1709.0</td>\n",
       "      <td>0.1444</td>\n",
       "      <td>0.4245</td>\n",
       "      <td>0.4504</td>\n",
       "      <td>0.2430</td>\n",
       "      <td>0.3613</td>\n",
       "      <td>0.08758</td>\n",
       "      <td>NaN</td>\n",
       "    </tr>\n",
       "    <tr>\n",
       "      <th>3</th>\n",
       "      <td>84348301</td>\n",
       "      <td>M</td>\n",
       "      <td>11.42</td>\n",
       "      <td>20.38</td>\n",
       "      <td>77.58</td>\n",
       "      <td>386.1</td>\n",
       "      <td>0.14250</td>\n",
       "      <td>0.28390</td>\n",
       "      <td>0.2414</td>\n",
       "      <td>0.10520</td>\n",
       "      <td>...</td>\n",
       "      <td>26.50</td>\n",
       "      <td>98.87</td>\n",
       "      <td>567.7</td>\n",
       "      <td>0.2098</td>\n",
       "      <td>0.8663</td>\n",
       "      <td>0.6869</td>\n",
       "      <td>0.2575</td>\n",
       "      <td>0.6638</td>\n",
       "      <td>0.17300</td>\n",
       "      <td>NaN</td>\n",
       "    </tr>\n",
       "    <tr>\n",
       "      <th>4</th>\n",
       "      <td>84358402</td>\n",
       "      <td>M</td>\n",
       "      <td>20.29</td>\n",
       "      <td>14.34</td>\n",
       "      <td>135.10</td>\n",
       "      <td>1297.0</td>\n",
       "      <td>0.10030</td>\n",
       "      <td>0.13280</td>\n",
       "      <td>0.1980</td>\n",
       "      <td>0.10430</td>\n",
       "      <td>...</td>\n",
       "      <td>16.67</td>\n",
       "      <td>152.20</td>\n",
       "      <td>1575.0</td>\n",
       "      <td>0.1374</td>\n",
       "      <td>0.2050</td>\n",
       "      <td>0.4000</td>\n",
       "      <td>0.1625</td>\n",
       "      <td>0.2364</td>\n",
       "      <td>0.07678</td>\n",
       "      <td>NaN</td>\n",
       "    </tr>\n",
       "  </tbody>\n",
       "</table>\n",
       "<p>5 rows × 33 columns</p>\n",
       "</div>"
      ],
      "text/plain": [
       "         id diagnosis  radius_mean  texture_mean  perimeter_mean  area_mean  \\\n",
       "0    842302         M        17.99         10.38          122.80     1001.0   \n",
       "1    842517         M        20.57         17.77          132.90     1326.0   \n",
       "2  84300903         M        19.69         21.25          130.00     1203.0   \n",
       "3  84348301         M        11.42         20.38           77.58      386.1   \n",
       "4  84358402         M        20.29         14.34          135.10     1297.0   \n",
       "\n",
       "   smoothness_mean  compactness_mean  concavity_mean  concave points_mean  \\\n",
       "0          0.11840           0.27760          0.3001              0.14710   \n",
       "1          0.08474           0.07864          0.0869              0.07017   \n",
       "2          0.10960           0.15990          0.1974              0.12790   \n",
       "3          0.14250           0.28390          0.2414              0.10520   \n",
       "4          0.10030           0.13280          0.1980              0.10430   \n",
       "\n",
       "   ...  texture_worst  perimeter_worst  area_worst  smoothness_worst  \\\n",
       "0  ...          17.33           184.60      2019.0            0.1622   \n",
       "1  ...          23.41           158.80      1956.0            0.1238   \n",
       "2  ...          25.53           152.50      1709.0            0.1444   \n",
       "3  ...          26.50            98.87       567.7            0.2098   \n",
       "4  ...          16.67           152.20      1575.0            0.1374   \n",
       "\n",
       "   compactness_worst  concavity_worst  concave points_worst  symmetry_worst  \\\n",
       "0             0.6656           0.7119                0.2654          0.4601   \n",
       "1             0.1866           0.2416                0.1860          0.2750   \n",
       "2             0.4245           0.4504                0.2430          0.3613   \n",
       "3             0.8663           0.6869                0.2575          0.6638   \n",
       "4             0.2050           0.4000                0.1625          0.2364   \n",
       "\n",
       "   fractal_dimension_worst  Unnamed: 32  \n",
       "0                  0.11890          NaN  \n",
       "1                  0.08902          NaN  \n",
       "2                  0.08758          NaN  \n",
       "3                  0.17300          NaN  \n",
       "4                  0.07678          NaN  \n",
       "\n",
       "[5 rows x 33 columns]"
      ]
     },
     "execution_count": 2,
     "metadata": {},
     "output_type": "execute_result"
    }
   ],
   "source": [
    "df = pd.read_csv('data.csv')\n",
    "df.head()"
   ]
  },
  {
   "cell_type": "code",
   "execution_count": 3,
   "id": "c43760b2-0762-42f9-86ad-8cb9130d07ae",
   "metadata": {},
   "outputs": [
    {
     "data": {
      "text/plain": [
       "array([nan])"
      ]
     },
     "execution_count": 3,
     "metadata": {},
     "output_type": "execute_result"
    }
   ],
   "source": [
    "df['Unnamed: 32'].unique()"
   ]
  },
  {
   "cell_type": "code",
   "execution_count": 4,
   "id": "64f75de3-1e6f-4c99-b39c-0d7bb7f0ce81",
   "metadata": {},
   "outputs": [
    {
     "data": {
      "text/html": [
       "<div>\n",
       "<style scoped>\n",
       "    .dataframe tbody tr th:only-of-type {\n",
       "        vertical-align: middle;\n",
       "    }\n",
       "\n",
       "    .dataframe tbody tr th {\n",
       "        vertical-align: top;\n",
       "    }\n",
       "\n",
       "    .dataframe thead th {\n",
       "        text-align: right;\n",
       "    }\n",
       "</style>\n",
       "<table border=\"1\" class=\"dataframe\">\n",
       "  <thead>\n",
       "    <tr style=\"text-align: right;\">\n",
       "      <th></th>\n",
       "      <th>diagnosis</th>\n",
       "      <th>radius_mean</th>\n",
       "      <th>texture_mean</th>\n",
       "      <th>perimeter_mean</th>\n",
       "      <th>area_mean</th>\n",
       "      <th>smoothness_mean</th>\n",
       "      <th>compactness_mean</th>\n",
       "      <th>concavity_mean</th>\n",
       "      <th>concave points_mean</th>\n",
       "      <th>symmetry_mean</th>\n",
       "      <th>...</th>\n",
       "      <th>radius_worst</th>\n",
       "      <th>texture_worst</th>\n",
       "      <th>perimeter_worst</th>\n",
       "      <th>area_worst</th>\n",
       "      <th>smoothness_worst</th>\n",
       "      <th>compactness_worst</th>\n",
       "      <th>concavity_worst</th>\n",
       "      <th>concave points_worst</th>\n",
       "      <th>symmetry_worst</th>\n",
       "      <th>fractal_dimension_worst</th>\n",
       "    </tr>\n",
       "  </thead>\n",
       "  <tbody>\n",
       "    <tr>\n",
       "      <th>0</th>\n",
       "      <td>M</td>\n",
       "      <td>17.99</td>\n",
       "      <td>10.38</td>\n",
       "      <td>122.80</td>\n",
       "      <td>1001.0</td>\n",
       "      <td>0.11840</td>\n",
       "      <td>0.27760</td>\n",
       "      <td>0.3001</td>\n",
       "      <td>0.14710</td>\n",
       "      <td>0.2419</td>\n",
       "      <td>...</td>\n",
       "      <td>25.38</td>\n",
       "      <td>17.33</td>\n",
       "      <td>184.60</td>\n",
       "      <td>2019.0</td>\n",
       "      <td>0.1622</td>\n",
       "      <td>0.6656</td>\n",
       "      <td>0.7119</td>\n",
       "      <td>0.2654</td>\n",
       "      <td>0.4601</td>\n",
       "      <td>0.11890</td>\n",
       "    </tr>\n",
       "    <tr>\n",
       "      <th>1</th>\n",
       "      <td>M</td>\n",
       "      <td>20.57</td>\n",
       "      <td>17.77</td>\n",
       "      <td>132.90</td>\n",
       "      <td>1326.0</td>\n",
       "      <td>0.08474</td>\n",
       "      <td>0.07864</td>\n",
       "      <td>0.0869</td>\n",
       "      <td>0.07017</td>\n",
       "      <td>0.1812</td>\n",
       "      <td>...</td>\n",
       "      <td>24.99</td>\n",
       "      <td>23.41</td>\n",
       "      <td>158.80</td>\n",
       "      <td>1956.0</td>\n",
       "      <td>0.1238</td>\n",
       "      <td>0.1866</td>\n",
       "      <td>0.2416</td>\n",
       "      <td>0.1860</td>\n",
       "      <td>0.2750</td>\n",
       "      <td>0.08902</td>\n",
       "    </tr>\n",
       "    <tr>\n",
       "      <th>2</th>\n",
       "      <td>M</td>\n",
       "      <td>19.69</td>\n",
       "      <td>21.25</td>\n",
       "      <td>130.00</td>\n",
       "      <td>1203.0</td>\n",
       "      <td>0.10960</td>\n",
       "      <td>0.15990</td>\n",
       "      <td>0.1974</td>\n",
       "      <td>0.12790</td>\n",
       "      <td>0.2069</td>\n",
       "      <td>...</td>\n",
       "      <td>23.57</td>\n",
       "      <td>25.53</td>\n",
       "      <td>152.50</td>\n",
       "      <td>1709.0</td>\n",
       "      <td>0.1444</td>\n",
       "      <td>0.4245</td>\n",
       "      <td>0.4504</td>\n",
       "      <td>0.2430</td>\n",
       "      <td>0.3613</td>\n",
       "      <td>0.08758</td>\n",
       "    </tr>\n",
       "    <tr>\n",
       "      <th>3</th>\n",
       "      <td>M</td>\n",
       "      <td>11.42</td>\n",
       "      <td>20.38</td>\n",
       "      <td>77.58</td>\n",
       "      <td>386.1</td>\n",
       "      <td>0.14250</td>\n",
       "      <td>0.28390</td>\n",
       "      <td>0.2414</td>\n",
       "      <td>0.10520</td>\n",
       "      <td>0.2597</td>\n",
       "      <td>...</td>\n",
       "      <td>14.91</td>\n",
       "      <td>26.50</td>\n",
       "      <td>98.87</td>\n",
       "      <td>567.7</td>\n",
       "      <td>0.2098</td>\n",
       "      <td>0.8663</td>\n",
       "      <td>0.6869</td>\n",
       "      <td>0.2575</td>\n",
       "      <td>0.6638</td>\n",
       "      <td>0.17300</td>\n",
       "    </tr>\n",
       "    <tr>\n",
       "      <th>4</th>\n",
       "      <td>M</td>\n",
       "      <td>20.29</td>\n",
       "      <td>14.34</td>\n",
       "      <td>135.10</td>\n",
       "      <td>1297.0</td>\n",
       "      <td>0.10030</td>\n",
       "      <td>0.13280</td>\n",
       "      <td>0.1980</td>\n",
       "      <td>0.10430</td>\n",
       "      <td>0.1809</td>\n",
       "      <td>...</td>\n",
       "      <td>22.54</td>\n",
       "      <td>16.67</td>\n",
       "      <td>152.20</td>\n",
       "      <td>1575.0</td>\n",
       "      <td>0.1374</td>\n",
       "      <td>0.2050</td>\n",
       "      <td>0.4000</td>\n",
       "      <td>0.1625</td>\n",
       "      <td>0.2364</td>\n",
       "      <td>0.07678</td>\n",
       "    </tr>\n",
       "  </tbody>\n",
       "</table>\n",
       "<p>5 rows × 31 columns</p>\n",
       "</div>"
      ],
      "text/plain": [
       "  diagnosis  radius_mean  texture_mean  perimeter_mean  area_mean  \\\n",
       "0         M        17.99         10.38          122.80     1001.0   \n",
       "1         M        20.57         17.77          132.90     1326.0   \n",
       "2         M        19.69         21.25          130.00     1203.0   \n",
       "3         M        11.42         20.38           77.58      386.1   \n",
       "4         M        20.29         14.34          135.10     1297.0   \n",
       "\n",
       "   smoothness_mean  compactness_mean  concavity_mean  concave points_mean  \\\n",
       "0          0.11840           0.27760          0.3001              0.14710   \n",
       "1          0.08474           0.07864          0.0869              0.07017   \n",
       "2          0.10960           0.15990          0.1974              0.12790   \n",
       "3          0.14250           0.28390          0.2414              0.10520   \n",
       "4          0.10030           0.13280          0.1980              0.10430   \n",
       "\n",
       "   symmetry_mean  ...  radius_worst  texture_worst  perimeter_worst  \\\n",
       "0         0.2419  ...         25.38          17.33           184.60   \n",
       "1         0.1812  ...         24.99          23.41           158.80   \n",
       "2         0.2069  ...         23.57          25.53           152.50   \n",
       "3         0.2597  ...         14.91          26.50            98.87   \n",
       "4         0.1809  ...         22.54          16.67           152.20   \n",
       "\n",
       "   area_worst  smoothness_worst  compactness_worst  concavity_worst  \\\n",
       "0      2019.0            0.1622             0.6656           0.7119   \n",
       "1      1956.0            0.1238             0.1866           0.2416   \n",
       "2      1709.0            0.1444             0.4245           0.4504   \n",
       "3       567.7            0.2098             0.8663           0.6869   \n",
       "4      1575.0            0.1374             0.2050           0.4000   \n",
       "\n",
       "   concave points_worst  symmetry_worst  fractal_dimension_worst  \n",
       "0                0.2654          0.4601                  0.11890  \n",
       "1                0.1860          0.2750                  0.08902  \n",
       "2                0.2430          0.3613                  0.08758  \n",
       "3                0.2575          0.6638                  0.17300  \n",
       "4                0.1625          0.2364                  0.07678  \n",
       "\n",
       "[5 rows x 31 columns]"
      ]
     },
     "execution_count": 4,
     "metadata": {},
     "output_type": "execute_result"
    }
   ],
   "source": [
    "df.drop(columns=['id', 'Unnamed: 32'], inplace=True)\n",
    "df.head()"
   ]
  },
  {
   "cell_type": "code",
   "execution_count": 5,
   "id": "4484ae15-02a1-4734-b916-a1d14d0550da",
   "metadata": {},
   "outputs": [
    {
     "data": {
      "text/plain": [
       "array(['M', 'B'], dtype=object)"
      ]
     },
     "execution_count": 5,
     "metadata": {},
     "output_type": "execute_result"
    }
   ],
   "source": [
    "df['diagnosis'].unique()"
   ]
  },
  {
   "cell_type": "markdown",
   "id": "0c6c4f1c-5562-489e-aa51-68334e2d6a04",
   "metadata": {},
   "source": [
    "Diagnosis (M = malignant, B = benign)\n",
    "\n",
    "\r\n",
    "- **Malignant**: Malignant tumors are cancerous growths that can invade nearby tissues and spread to other parts of the body. They are characterized by uncontrolled cell growth, often with the ability to metastasize (spread) to distant organs or tissues, which can be life-threatening if not treated promptly.\r\n",
    "\r\n",
    "- **Benign**: Benign tumors are non-cancerous growths that do not invade nearby tissues or spread to other parts of the body. They usually grow slowly and are typically not life-threatening. However, depending on their size and location, benign tumors can sometimes cause health problems or discomfort and may require medical interventealth."
   ]
  },
  {
   "cell_type": "code",
   "execution_count": 6,
   "id": "41fdf242-6d7a-450f-b2ae-f4893ed861ae",
   "metadata": {},
   "outputs": [
    {
     "data": {
      "text/plain": [
       "(569, 31)"
      ]
     },
     "execution_count": 6,
     "metadata": {},
     "output_type": "execute_result"
    }
   ],
   "source": [
    "df.shape"
   ]
  },
  {
   "cell_type": "code",
   "execution_count": 7,
   "id": "d4506ebb-efb7-43b0-b04f-908f60c64951",
   "metadata": {},
   "outputs": [],
   "source": [
    "X = df.iloc[:, 1:]\n",
    "y = df.iloc[:, 0]"
   ]
  },
  {
   "cell_type": "code",
   "execution_count": 8,
   "id": "09ee8efc-f94c-4d53-923a-e1d6c551aaeb",
   "metadata": {},
   "outputs": [],
   "source": [
    "# Convert the target variable 'y' from categorical ('M'/'B') to numerical labels (0/1)\n",
    "from sklearn.preprocessing import LabelEncoder\n",
    "label_encoder = LabelEncoder()\n",
    "y = label_encoder.fit_transform(y)"
   ]
  },
  {
   "cell_type": "code",
   "execution_count": 9,
   "id": "b5fd8c61-bd69-4f19-a292-dd64ca1a6437",
   "metadata": {},
   "outputs": [],
   "source": [
    "from sklearn.model_selection import train_test_split\n",
    "\n",
    "X_train,X_test, y_train, y_test = train_test_split(X, y, test_size = 0.2, random_state = 2)"
   ]
  },
  {
   "cell_type": "code",
   "execution_count": 10,
   "id": "d8cd6ceb-9d91-402e-98bd-03d88ae9d9eb",
   "metadata": {},
   "outputs": [
    {
     "data": {
      "text/plain": [
       "(455, 30)"
      ]
     },
     "execution_count": 10,
     "metadata": {},
     "output_type": "execute_result"
    }
   ],
   "source": [
    "X_train.shape"
   ]
  },
  {
   "cell_type": "markdown",
   "id": "858f8820-c16b-4c9e-af9e-ee6dd71376a2",
   "metadata": {},
   "source": [
    "#### Data scaling is important in K-Nearest Neighbors (KNN) algorithm for a couple of reasons:\r\n",
    "\r\n",
    "1. **Distance Calculation**: KNN relies on distance metrics to determine the similarity between data points. If the features are on different scales, features with larger magnitudes may dominate the distance calculations. This can lead to biased results where certain features have a disproportionate influence on the outcome. Scaling the features ensures that each feature contributes equally to the distance calculation.\r\n",
    "\r\n",
    "2. **Convergence Speed**: Data scaling can also help improve the convergence speed of the algorithm. When features are on vastly different scales, it may take longer for the algorithm to converge to the optimal solution.\r\n",
    "\r\n",
    "Common methods for scaling data include:\r\n",
    "\r\n",
    "- **Min-Max Scaling**: This method scales the data to a fixed range, usually between 0 and 1. It's calculated as `(x - min(x)) / (max(x) - min(x))`, where `x` is the feature value.\r\n",
    "\r\n",
    "- **Standardization (Z-score Normalization)**: This method scales the data to have a mean of 0 and a standard deviation of 1. It's calculated as `(x - mean(x)) / std_dev(x)`, where `x` is the feature value.\r\n",
    "\r\n",
    "- **Normalization**: This method scales each feature to have a unit norm, meaning that the sum of the squares of the values of each feature is equal to 1. It's calculated as `x / norm(x)`.\r\n",
    "\r\n",
    "Before applying KNN, it's generally a good practice to preprocess the data by scaling it appropriately based on the characteristics of the dataset and the requirements of the algorithm. This ensures that the algorithm performs optimally and is not biased by differences in feature scales."
   ]
  },
  {
   "cell_type": "code",
   "execution_count": 11,
   "id": "b081d22d-b5df-40b0-85bf-a83addef6fd6",
   "metadata": {},
   "outputs": [],
   "source": [
    "from sklearn.preprocessing import StandardScaler\n",
    "\n",
    "scaler = StandardScaler()\n",
    "\n",
    "X_train = scaler.fit_transform(X_train)\n",
    "X_test = scaler.transform(X_test)"
   ]
  },
  {
   "cell_type": "code",
   "execution_count": 12,
   "id": "b9dc9b5a-6903-4398-ba8d-b4110632ad48",
   "metadata": {},
   "outputs": [
    {
     "data": {
      "text/plain": [
       "array([[-0.01330339,  1.7757658 , -0.01491962, ..., -0.13236958,\n",
       "        -1.08014517, -0.03527943],\n",
       "       [-0.8448276 , -0.6284278 , -0.87702746, ..., -1.11552632,\n",
       "        -0.85773964, -0.72098905],\n",
       "       [ 1.44755936,  0.71180168,  1.47428816, ...,  0.87583964,\n",
       "         0.4967602 ,  0.46321706],\n",
       "       ...,\n",
       "       [-0.46608541, -1.49375484, -0.53234924, ..., -1.32388956,\n",
       "        -1.02997851, -0.75145272],\n",
       "       [-0.50025764, -1.62161319, -0.527814  , ..., -0.0987626 ,\n",
       "         0.35796577, -0.43906159],\n",
       "       [ 0.96060511,  1.21181916,  1.00427242, ...,  0.8956983 ,\n",
       "        -1.23064515,  0.50697397]])"
      ]
     },
     "execution_count": 12,
     "metadata": {},
     "output_type": "execute_result"
    }
   ],
   "source": [
    "X_train"
   ]
  },
  {
   "cell_type": "code",
   "execution_count": 13,
   "id": "0fde7068-c36d-4a1e-9d9d-4926056f1063",
   "metadata": {},
   "outputs": [
    {
     "data": {
      "text/plain": [
       "(455, 30)"
      ]
     },
     "execution_count": 13,
     "metadata": {},
     "output_type": "execute_result"
    }
   ],
   "source": [
    "X_train.shape"
   ]
  },
  {
   "cell_type": "code",
   "execution_count": 14,
   "id": "ada595db-254b-4da8-886a-e7c59f18a2b0",
   "metadata": {},
   "outputs": [],
   "source": [
    "from sklearn.neighbors import KNeighborsClassifier\n",
    "\n",
    "knn = KNeighborsClassifier(n_neighbors=5)"
   ]
  },
  {
   "cell_type": "code",
   "execution_count": 15,
   "id": "a9a3dc5a-ea94-4066-af30-680f449015fd",
   "metadata": {},
   "outputs": [],
   "source": [
    "knn.fit(X_train, y_train)\n",
    "y_pred = knn.predict(X_test)"
   ]
  },
  {
   "cell_type": "code",
   "execution_count": 16,
   "id": "1e7bcb36-6212-46c1-b111-1cd405b168f9",
   "metadata": {},
   "outputs": [
    {
     "data": {
      "text/plain": [
       "0.9736842105263158"
      ]
     },
     "execution_count": 16,
     "metadata": {},
     "output_type": "execute_result"
    }
   ],
   "source": [
    "from sklearn.metrics import accuracy_score\n",
    "\n",
    "accuracy_score(y_test, y_pred)"
   ]
  },
  {
   "cell_type": "markdown",
   "id": "88f405f4-25fe-47f7-91d1-e124447fc281",
   "metadata": {},
   "source": [
    "### How to select (k) n_neighbors=?"
   ]
  },
  {
   "cell_type": "code",
   "execution_count": 17,
   "id": "2cf52ecd-7e68-4269-9c93-2009253c329f",
   "metadata": {},
   "outputs": [],
   "source": [
    "scores = []\n",
    "\n",
    "for i in range(1,16):\n",
    "    knn = KNeighborsClassifier(n_neighbors=i)\n",
    "    knn.fit(X_train, y_train)\n",
    "    y_pred = knn.predict(X_test)\n",
    "    scores.append(accuracy_score(y_test, y_pred))\n"
   ]
  },
  {
   "cell_type": "code",
   "execution_count": 18,
   "id": "c5da756e-3684-4396-9687-54962d17dfeb",
   "metadata": {},
   "outputs": [
    {
     "data": {
      "text/plain": [
       "[0.956140350877193,\n",
       " 0.9736842105263158,\n",
       " 0.9912280701754386,\n",
       " 0.9736842105263158,\n",
       " 0.9736842105263158,\n",
       " 0.9736842105263158,\n",
       " 0.9736842105263158,\n",
       " 0.9736842105263158,\n",
       " 0.9736842105263158,\n",
       " 0.9736842105263158,\n",
       " 0.9736842105263158,\n",
       " 0.9736842105263158,\n",
       " 0.9736842105263158,\n",
       " 0.9649122807017544,\n",
       " 0.9649122807017544]"
      ]
     },
     "execution_count": 18,
     "metadata": {},
     "output_type": "execute_result"
    }
   ],
   "source": [
    "scores"
   ]
  },
  {
   "cell_type": "code",
   "execution_count": 19,
   "id": "d01418d3-7096-44b4-8b61-2fa03354e80c",
   "metadata": {},
   "outputs": [
    {
     "name": "stdout",
     "output_type": "stream",
     "text": [
      "Maximum value: 0.9912280701754386\n",
      "Index of maximum value: 2\n",
      "Number of 'K': 3\n"
     ]
    }
   ],
   "source": [
    "print(\"Maximum value:\",np.max(scores))\n",
    "print(\"Index of maximum value:\", np.argmax(scores))\n",
    "print(\"Number of 'K':\", np.argmax(scores) + 1)"
   ]
  },
  {
   "cell_type": "code",
   "execution_count": 20,
   "id": "78627888-1c4a-4833-bc59-510c106451b3",
   "metadata": {},
   "outputs": [
    {
     "data": {
      "image/png": "[encoded data removed]",
      "text/plain": [
       "<Figure size 640x480 with 1 Axes>"
      ]
     },
     "metadata": {},
     "output_type": "display_data"
    }
   ],
   "source": [
    "import matplotlib.pyplot as plt\n",
    "\n",
    "plt.plot(range(1,16), scores)\n",
    "plt.show()"
   ]
  },
  {
   "cell_type": "markdown",
   "id": "e45704f1-6325-41e1-b751-35113ef5c590",
   "metadata": {},
   "source": [
    "Optimal Value of K in this example is 3"
   ]
  },
  {
   "cell_type": "code",
   "execution_count": 21,
   "id": "14a09717-ba46-4729-8d53-65cb028b7839",
   "metadata": {},
   "outputs": [
    {
     "data": {
      "text/plain": [
       "0.9912280701754386"
      ]
     },
     "execution_count": 21,
     "metadata": {},
     "output_type": "execute_result"
    }
   ],
   "source": [
    "from sklearn.neighbors import KNeighborsClassifier\n",
    "\n",
    "knn = KNeighborsClassifier(n_neighbors=3)\n",
    "knn.fit(X_train, y_train)\n",
    "y_pred = knn.predict(X_test)\n",
    "accuracy_score(y_test, y_pred)"
   ]
  },
  {
   "cell_type": "markdown",
   "id": "e737a919-0ef8-4d42-94ad-370a76c219af",
   "metadata": {},
   "source": [
    "### Decision Surface\n",
    "\n",
    "![DS](https://miro.medium.com/max/520/1*WPUEBVr3-emXrQMKe-03jw.png)\n",
    "\n",
    "A decision surface, also known as a decision boundary, is a conceptual boundary or surface that separates different classes or categories in a classification problem. It represents the regions in the feature space where the classification model assigns different labels or categories to the input data points.\r\n",
    "\r\n",
    "In a binary classification problem, where there are two classes (e.g., class 0 and class 1), the decision surface is a line, curve, or higher-dimensional surface that divides the feature space into two regions, each corresponding to one of the classes. The decision surface indicates the points at which the classification model changes its prediction from one class to another.\r\n",
    "\r\n",
    "For example, in a 2-dimensional feature space, the decision surface could be a straight line that separates one class from another. In a more complex scenario with higher-dimensional feature spaces, the decision surface may take the form of a hyperplane or a more intricate boundary.\r\n",
    "\r\n",
    "The goal of a classification algorithm is to learn the decision surface from the training data so that it can accurately classify new, unseen data points. Different classification algorithms may result in different decision surfaces depending on their underlying assumptions and methodologies.\r\n",
    "\r\n",
    "Visualizing the decision surface can be helpful for understanding how a classification model makes predictions and how well it generalizes to new data. Techniques such as plotting the decision surface in 2D or 3D (for visualization purposes) can provide insights into the model's behavior and performance."
   ]
  },
  {
   "cell_type": "code",
   "execution_count": 22,
   "id": "10ccd78e-dd42-4e9c-b754-d2f0a99a58fb",
   "metadata": {},
   "outputs": [
    {
     "data": {
      "text/plain": [
       "(114, 30)"
      ]
     },
     "execution_count": 22,
     "metadata": {},
     "output_type": "execute_result"
    }
   ],
   "source": [
    "X_test.shape"
   ]
  },
  {
   "cell_type": "code",
   "execution_count": 23,
   "id": "8bbd3e30-649e-40bf-9e11-2e77bf313839",
   "metadata": {},
   "outputs": [
    {
     "data": {
      "text/plain": [
       "(455, 30)"
      ]
     },
     "execution_count": 23,
     "metadata": {},
     "output_type": "execute_result"
    }
   ],
   "source": [
    "X_train.shape"
   ]
  },
  {
   "cell_type": "markdown",
   "id": "2e4b9f1c-c304-41d9-a143-ddd4a8d3ff24",
   "metadata": {},
   "source": [
    "### Overfitting and Underfitting in KNN\n",
    "\n",
    "Overfitting and Underfitting are two common issues that can occur when training a model like K-Nearest Neighbors (KNN).\n",
    "\n",
    "1. **Overfitting**:\n",
    "   - Overfitting occurs when a model learns the training data too well, including noise or random fluctuations. As a result, the model performs well on the training data but fails to generalize to new, unseen data.\n",
    "   - In KNN, overfitting can occur if the value of **`k` (the number of nearest neighbors) is too small**. A small value of `k` can lead to a complex decision boundary that closely follows the training data, including its noise.\n",
    "   - Additionally, having too many features or irrelevant features in the dataset can also contribute to overfitting in KNN, as it may lead to high-dimensional feature spaces where the notion of proximity becomes less meaningful.\n",
    "\n",
    "2. **Underfitting**:\n",
    "   - Underfitting occurs when a model is too simple to capture the underlying structure of the data. As a result, the model performs poorly on both the training and test data.\n",
    "   - In KNN, **underfitting can occur if the value of `k` is too large**. A large value of `k` can lead to a simple decision boundary that ignores local variations in the data.\n",
    "   - Additionally, underfitting in KNN can occur if the number of neighbors is too small relative to the complexity of the dataset, leading to a lack of sensitivity to the underlying patterns.\n",
    "\n",
    "To address overfitting and underfitting in KNN, you can:\n",
    "\n",
    "- **Optimize the value of `k`**: Experiment with different values of `k` and use techniques like cross-validation to find the optimal value that balances bias and variance.\n",
    "- **Feature selection and dimensionality reduction**: Select relevant features and reduce the dimensionality of the feature space to mitigate the risk of overfitting, especially in high-dimensional datasets.\n",
    "- **Regularization**: Techniques like feature scaling or distance weighting can help mitigate the influence of irrelevant features or noisy data points.\n",
    "- **Ensemble methods**: Combine multiple KNN models with different `k` values or other classifiers to reduce the risk of overfitting or underfitting.\n",
    "- **Model evaluation**: Use techniques like learning curves, validation curves, and holdout validation to diagnose and address overfitting and underfitting issues.\n",
    "\n",
    "Overall, finding the right balance between model complexity and generalization is crucial in mitigating the risks of overfitting and underfitting in KNN and other machine learning models."
   ]
  },
  {
   "cell_type": "markdown",
   "id": "125543a3-310c-4979-baf6-e09cdcb1500c",
   "metadata": {},
   "source": [
    "### Limitations of KNN\n",
    "\n",
    "While K-Nearest Neighbors (KNN) is a simple and intuitive algorithm, it comes with several limitations:\r\n",
    "\r\n",
    "1. **Computationally expensive**: KNN requires computing the distances between the query point and all training samples, which can be computationally expensive, especially for large datasets. As the dataset grows, the computational cost of predicting new instances increases linearly with the number of samples.\r\n",
    "\r\n",
    "2. **Memory-intensive**: KNN stores all the training data, which can consume a significant amount of memory, especially for large datasets with many features or high-dimensional data.\r\n",
    "\r\n",
    "3. **Sensitive to irrelevant features**: KNN considers all features equally when computing distances between data points. If the dataset contains irrelevant or noisy features, it can negatively impact the performance of KNN.\r\n",
    "\r\n",
    "4. **Needs feature scaling**: KNN's performance can be influenced by the scale of features. Features with larger scales may dominate the distance calculations, leading to biased results. Therefore, it's essential to scale the features before applying KNN.\r\n",
    "\r\n",
    "5. **Requires appropriate distance metric**: The choice of distance metric in KNN (e.g., Euclidean distance, Manhattan distance, etc.) can significantly impact the algorithm's performance. Selecting an appropriate distance metric depends on the characteristics of the dataset and the problem domain.\r\n",
    "\r\n",
    "6. **Insensitive to local structure**: KNN treats all neighbors equally and does not consider the local structure or density of data points. As a result, it may perform poorly in datasets with complex or nonlinear decision boundaries.\r\n",
    "\r\n",
    "7. **Difficulty handling high-dimensional data**: In high-dimensional spaces, the notion of distance becomes less meaningful, a phenomenon known as the curse of dimensionality. This can lead to degraded performance and increased computational complexity for KNN.\r\n",
    "\r\n",
    "8. **Imbalanced datasets**: KNN may not perform well on imbalanced datasets where one class significantly outnumbers the others. It tends to favor the majority class, leading to biased predictions.\r\n",
    "\r\n",
    "9. **No model representation**: Unlike parametric models (e.g., linear regression, logistic regression), KNN does not learn a model representation from the training data. Instead, it memorizes the entire training dataset, making it challenging to interpret the learned relationships between features and target.\r\n",
    "\r\n",
    "10. **Sensitive to noisy data**: KNN is sensitive to noisy data points, outliers, and missing values, as they can significantly impact the computed distances and subsequently the predictions.\r\n",
    "\r\n",
    "Despite these limitations, KNN remains a popular choice for classification and regression tasks, especially for small to medium-sized datasets with relatively low computational requirements. However, it's essential to understand its limitations and consider them when applying the algorithm to real-world problems."
   ]
  }
 ],
 "metadata": {
  "kernelspec": {
   "display_name": "Python 3 (ipykernel)",
   "language": "python",
   "name": "python3"
  },
  "language_info": {
   "codemirror_mode": {
    "name": "ipython",
    "version": 3
   },
   "file_extension": ".py",
   "mimetype": "text/x-python",
   "name": "python",
   "nbconvert_exporter": "python",
   "pygments_lexer": "ipython3",
   "version": "3.11.5"
  }
 },
 "nbformat": 4,
 "nbformat_minor": 5
}
