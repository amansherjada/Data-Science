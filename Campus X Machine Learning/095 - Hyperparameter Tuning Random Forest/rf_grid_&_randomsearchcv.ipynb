{
 "cells": [
  {
   "cell_type": "code",
   "execution_count": 1,
   "id": "480e7870-3e6f-4ece-9ace-2dc02eae99d4",
   "metadata": {},
   "outputs": [],
   "source": [
    "import numpy as np\n",
    "import pandas as pd\n",
    "\n",
    "import matplotlib.pyplot as plt\n",
    "import seaborn as sns\n",
    "\n",
    "from sklearn.model_selection import train_test_split\n",
    "from sklearn.ensemble import RandomForestClassifier,GradientBoostingClassifier\n",
    "from sklearn.svm import SVC\n",
    "from sklearn.linear_model import LogisticRegression\n",
    "\n",
    "from sklearn.metrics import accuracy_score"
   ]
  },
  {
   "cell_type": "markdown",
   "id": "2355d0d8-2381-4d3c-999b-ad8af3c25522",
   "metadata": {},
   "source": [
    "#### Binary Classification problem\n",
    "\n",
    "Based on this information, the problem statement or outcome of interest could be to predict the presence or absence of heart disease (target variable) based on the other features (age, gender, chest pain type, blood pressure, cholesterol level, etc.). This is a binary classification problem where the goal is to build a model that can accurately classify individuals into two categories: those with heart disease and those without.d those without.\n",
    "\n",
    "Here are the full forms of each column in the provided dataset:\r\n",
    "\r\n",
    "1. **age**: Age of the individual.\r\n",
    "2. **sex**: Gender of the individual (1 for male, 0 for female).\r\n",
    "3. **cp**: Chest pain type.\r\n",
    "4. **trestbps**: Resting blood pressure (in mm Hg).\r\n",
    "5. **chol**: Serum cholesterol level (in mg/dl).\r\n",
    "6. **fbs**: Fasting blood sugar > 120 mg/dl (1 for true, 0 for false).\r\n",
    "7. **restecg**: Resting electrocardiographic results.\r\n",
    "8. **thalach**: Maximum heart rate achieved during exercise.\r\n",
    "9. **exang**: Exercise-induced angina (1 for yes, 0 for no).\r\n",
    "10. **oldpeak**: ST depression induced by exercise relative to rest.\r\n",
    "11. **slope**: Slope of the peak exercise ST segment.\r\n",
    "12. **ca**: Number of major vessels colored by fluoroscopy.\r\n",
    "13. **thal**: Thallium stresdiac conditions."
   ]
  },
  {
   "cell_type": "code",
   "execution_count": 2,
   "id": "7dea9ccb-af74-428a-8f3a-460273b466bf",
   "metadata": {},
   "outputs": [],
   "source": [
    "df = pd.read_csv('heart.csv')"
   ]
  },
  {
   "cell_type": "code",
   "execution_count": 3,
   "id": "efde9841-e052-4871-9def-f9925bf31abd",
   "metadata": {},
   "outputs": [
    {
     "data": {
      "text/html": [
       "<div>\n",
       "<style scoped>\n",
       "    .dataframe tbody tr th:only-of-type {\n",
       "        vertical-align: middle;\n",
       "    }\n",
       "\n",
       "    .dataframe tbody tr th {\n",
       "        vertical-align: top;\n",
       "    }\n",
       "\n",
       "    .dataframe thead th {\n",
       "        text-align: right;\n",
       "    }\n",
       "</style>\n",
       "<table border=\"1\" class=\"dataframe\">\n",
       "  <thead>\n",
       "    <tr style=\"text-align: right;\">\n",
       "      <th></th>\n",
       "      <th>age</th>\n",
       "      <th>sex</th>\n",
       "      <th>cp</th>\n",
       "      <th>trestbps</th>\n",
       "      <th>chol</th>\n",
       "      <th>fbs</th>\n",
       "      <th>restecg</th>\n",
       "      <th>thalach</th>\n",
       "      <th>exang</th>\n",
       "      <th>oldpeak</th>\n",
       "      <th>slope</th>\n",
       "      <th>ca</th>\n",
       "      <th>thal</th>\n",
       "      <th>target</th>\n",
       "    </tr>\n",
       "  </thead>\n",
       "  <tbody>\n",
       "    <tr>\n",
       "      <th>0</th>\n",
       "      <td>63</td>\n",
       "      <td>1</td>\n",
       "      <td>3</td>\n",
       "      <td>145</td>\n",
       "      <td>233</td>\n",
       "      <td>1</td>\n",
       "      <td>0</td>\n",
       "      <td>150</td>\n",
       "      <td>0</td>\n",
       "      <td>2.3</td>\n",
       "      <td>0</td>\n",
       "      <td>0</td>\n",
       "      <td>1</td>\n",
       "      <td>1</td>\n",
       "    </tr>\n",
       "    <tr>\n",
       "      <th>1</th>\n",
       "      <td>37</td>\n",
       "      <td>1</td>\n",
       "      <td>2</td>\n",
       "      <td>130</td>\n",
       "      <td>250</td>\n",
       "      <td>0</td>\n",
       "      <td>1</td>\n",
       "      <td>187</td>\n",
       "      <td>0</td>\n",
       "      <td>3.5</td>\n",
       "      <td>0</td>\n",
       "      <td>0</td>\n",
       "      <td>2</td>\n",
       "      <td>1</td>\n",
       "    </tr>\n",
       "    <tr>\n",
       "      <th>2</th>\n",
       "      <td>41</td>\n",
       "      <td>0</td>\n",
       "      <td>1</td>\n",
       "      <td>130</td>\n",
       "      <td>204</td>\n",
       "      <td>0</td>\n",
       "      <td>0</td>\n",
       "      <td>172</td>\n",
       "      <td>0</td>\n",
       "      <td>1.4</td>\n",
       "      <td>2</td>\n",
       "      <td>0</td>\n",
       "      <td>2</td>\n",
       "      <td>1</td>\n",
       "    </tr>\n",
       "    <tr>\n",
       "      <th>3</th>\n",
       "      <td>56</td>\n",
       "      <td>1</td>\n",
       "      <td>1</td>\n",
       "      <td>120</td>\n",
       "      <td>236</td>\n",
       "      <td>0</td>\n",
       "      <td>1</td>\n",
       "      <td>178</td>\n",
       "      <td>0</td>\n",
       "      <td>0.8</td>\n",
       "      <td>2</td>\n",
       "      <td>0</td>\n",
       "      <td>2</td>\n",
       "      <td>1</td>\n",
       "    </tr>\n",
       "    <tr>\n",
       "      <th>4</th>\n",
       "      <td>57</td>\n",
       "      <td>0</td>\n",
       "      <td>0</td>\n",
       "      <td>120</td>\n",
       "      <td>354</td>\n",
       "      <td>0</td>\n",
       "      <td>1</td>\n",
       "      <td>163</td>\n",
       "      <td>1</td>\n",
       "      <td>0.6</td>\n",
       "      <td>2</td>\n",
       "      <td>0</td>\n",
       "      <td>2</td>\n",
       "      <td>1</td>\n",
       "    </tr>\n",
       "  </tbody>\n",
       "</table>\n",
       "</div>"
      ],
      "text/plain": [
       "   age  sex  cp  trestbps  chol  fbs  restecg  thalach  exang  oldpeak  slope  \\\n",
       "0   63    1   3       145   233    1        0      150      0      2.3      0   \n",
       "1   37    1   2       130   250    0        1      187      0      3.5      0   \n",
       "2   41    0   1       130   204    0        0      172      0      1.4      2   \n",
       "3   56    1   1       120   236    0        1      178      0      0.8      2   \n",
       "4   57    0   0       120   354    0        1      163      1      0.6      2   \n",
       "\n",
       "   ca  thal  target  \n",
       "0   0     1       1  \n",
       "1   0     2       1  \n",
       "2   0     2       1  \n",
       "3   0     2       1  \n",
       "4   0     2       1  "
      ]
     },
     "execution_count": 3,
     "metadata": {},
     "output_type": "execute_result"
    }
   ],
   "source": [
    "df.head()"
   ]
  },
  {
   "cell_type": "code",
   "execution_count": 4,
   "id": "acf9cc30-35a8-463e-bf90-fd7762bf9355",
   "metadata": {},
   "outputs": [
    {
     "data": {
      "text/plain": [
       "(303, 14)"
      ]
     },
     "execution_count": 4,
     "metadata": {},
     "output_type": "execute_result"
    }
   ],
   "source": [
    "df.shape"
   ]
  },
  {
   "cell_type": "code",
   "execution_count": 5,
   "id": "5074d139-f467-4ccb-a1d8-79754e296760",
   "metadata": {},
   "outputs": [
    {
     "data": {
      "text/plain": [
       "array([1, 0], dtype=int64)"
      ]
     },
     "execution_count": 5,
     "metadata": {},
     "output_type": "execute_result"
    }
   ],
   "source": [
    "df['target'].unique()"
   ]
  },
  {
   "cell_type": "code",
   "execution_count": 6,
   "id": "8e0812ac-1a47-4d09-80bf-ce1e9d950324",
   "metadata": {},
   "outputs": [],
   "source": [
    "X = df.iloc[:, : -1]\n",
    "y = df.iloc[:, -1]"
   ]
  },
  {
   "cell_type": "code",
   "execution_count": 7,
   "id": "be8dcdfd-4b57-4bb7-940a-a6f40a4221fd",
   "metadata": {},
   "outputs": [],
   "source": [
    "X_train,X_test, y_train, y_test = train_test_split(X,y,test_size=0.2, random_state=42)"
   ]
  },
  {
   "cell_type": "code",
   "execution_count": 8,
   "id": "948782cc-11df-452c-816e-581e752e24d3",
   "metadata": {},
   "outputs": [
    {
     "data": {
      "text/plain": [
       "(242, 13)"
      ]
     },
     "execution_count": 8,
     "metadata": {},
     "output_type": "execute_result"
    }
   ],
   "source": [
    "X_train.shape"
   ]
  },
  {
   "cell_type": "code",
   "execution_count": 9,
   "id": "0b4d7f8c-9c63-4595-b84a-fcfd77b9a054",
   "metadata": {},
   "outputs": [
    {
     "data": {
      "text/plain": [
       "(61, 13)"
      ]
     },
     "execution_count": 9,
     "metadata": {},
     "output_type": "execute_result"
    }
   ],
   "source": [
    "X_test.shape"
   ]
  },
  {
   "cell_type": "code",
   "execution_count": 10,
   "id": "bffba434-96a3-4157-81cd-8c6b7379d5d0",
   "metadata": {},
   "outputs": [
    {
     "data": {
      "text/plain": [
       "0.8524590163934426"
      ]
     },
     "execution_count": 10,
     "metadata": {},
     "output_type": "execute_result"
    }
   ],
   "source": [
    "rf = RandomForestClassifier()\n",
    "\n",
    "rf.fit(X_train, y_train)\n",
    "y_pred = rf.predict(X_test)\n",
    "\n",
    "accuracy_score(y_test, y_pred)"
   ]
  },
  {
   "cell_type": "code",
   "execution_count": 11,
   "id": "f8076803-1643-4404-8b7e-6457ccc933eb",
   "metadata": {},
   "outputs": [
    {
     "data": {
      "text/plain": [
       "array([0.90322581, 0.83870968, 0.87096774, 0.93333333, 0.9       ,\n",
       "       0.8       , 0.7       , 0.83333333, 0.73333333, 0.76666667])"
      ]
     },
     "execution_count": 11,
     "metadata": {},
     "output_type": "execute_result"
    }
   ],
   "source": [
    "from sklearn.model_selection import cross_val_score\n",
    "\n",
    "cross_val_score(RandomForestClassifier(), X,y,scoring='accuracy', cv=10)"
   ]
  },
  {
   "cell_type": "code",
   "execution_count": 12,
   "id": "c498cf21-8a2a-4a1f-aa49-e0b91daa36d7",
   "metadata": {},
   "outputs": [
    {
     "data": {
      "text/plain": [
       "0.828172043"
      ]
     },
     "execution_count": 12,
     "metadata": {},
     "output_type": "execute_result"
    }
   ],
   "source": [
    "np.mean(np.array([0.87096774, 0.83870968, 0.83870968, 0.9, 0.86666667,0.8, 0.76666667, 0.83333333, 0.73333333, 0.83333333]))"
   ]
  },
  {
   "cell_type": "code",
   "execution_count": 13,
   "id": "40c1e6d4-35ff-411f-be1c-f52e4ad44ddb",
   "metadata": {},
   "outputs": [
    {
     "data": {
      "text/plain": [
       "0.9016393442622951"
      ]
     },
     "execution_count": 13,
     "metadata": {},
     "output_type": "execute_result"
    }
   ],
   "source": [
    "rf = RandomForestClassifier(max_samples=0.75,random_state=42)\n",
    "rf.fit(X_train,y_train)\n",
    "y_pred = rf.predict(X_test)\n",
    "accuracy_score(y_test,y_pred)"
   ]
  },
  {
   "cell_type": "code",
   "execution_count": 14,
   "id": "21afeb3c-eead-4ec3-9ba0-d029c5a3f53b",
   "metadata": {},
   "outputs": [
    {
     "data": {
      "text/plain": [
       "0.8349462365591398"
      ]
     },
     "execution_count": 14,
     "metadata": {},
     "output_type": "execute_result"
    }
   ],
   "source": [
    "np.mean(cross_val_score(RandomForestClassifier(max_samples=0.75, random_state=42), X,y,scoring='accuracy', cv=10))"
   ]
  },
  {
   "cell_type": "markdown",
   "id": "b375b923-3527-43d6-8606-29dd073c5383",
   "metadata": {},
   "source": [
    "### `GridSearchCV`"
   ]
  },
  {
   "cell_type": "code",
   "execution_count": 15,
   "id": "ee9c5216-4dce-40fc-886e-e1cbf33e1ecd",
   "metadata": {},
   "outputs": [],
   "source": [
    "from sklearn.model_selection import GridSearchCV"
   ]
  },
  {
   "cell_type": "code",
   "execution_count": 16,
   "id": "7ad93bce-b236-4cb3-b826-110ac8f95b29",
   "metadata": {},
   "outputs": [
    {
     "name": "stdout",
     "output_type": "stream",
     "text": [
      "{'n_estimators': [20, 60, 100, 120], 'max_features': [0.2, 0.6, 1.0], 'max_depth': [2, 8, None], 'max_samples': [0.5, 0.75, 1.0]}\n"
     ]
    }
   ],
   "source": [
    "param_grid = {\n",
    "    'n_estimators' : [20,60,100,120],\n",
    "    'max_features' : [0.2,0.6,1.0],\n",
    "    'max_depth' : [2,8,None],\n",
    "    'max_samples' : [0.5,0.75,1.0]\n",
    "}\n",
    "\n",
    "print(param_grid)"
   ]
  },
  {
   "cell_type": "code",
   "execution_count": 17,
   "id": "cc19e46f-8d3d-4e7d-86fa-733c8cba0b2e",
   "metadata": {},
   "outputs": [],
   "source": [
    "rf = RandomForestClassifier()"
   ]
  },
  {
   "cell_type": "code",
   "execution_count": 18,
   "id": "01d2b657-0176-4b70-9272-0b9b1703828b",
   "metadata": {},
   "outputs": [],
   "source": [
    "rf_grid = GridSearchCV(\n",
    "    estimator= rf,\n",
    "    param_grid=param_grid,\n",
    "    cv = 5,\n",
    "    verbose= 2,\n",
    "    n_jobs= -1\n",
    ")"
   ]
  },
  {
   "cell_type": "code",
   "execution_count": 19,
   "id": "c56cbc94-be54-436d-82ad-9e8a7e8eb1ce",
   "metadata": {},
   "outputs": [
    {
     "name": "stdout",
     "output_type": "stream",
     "text": [
      "Fitting 5 folds for each of 108 candidates, totalling 540 fits\n"
     ]
    },
    {
     "data": {
      "text/html": [
       "<style>#sk-container-id-1 {color: black;background-color: white;}#sk-container-id-1 pre{padding: 0;}#sk-container-id-1 div.sk-toggleable {background-color: white;}#sk-container-id-1 label.sk-toggleable__label {cursor: pointer;display: block;width: 100%;margin-bottom: 0;padding: 0.3em;box-sizing: border-box;text-align: center;}#sk-container-id-1 label.sk-toggleable__label-arrow:before {content: \"▸\";float: left;margin-right: 0.25em;color: #696969;}#sk-container-id-1 label.sk-toggleable__label-arrow:hover:before {color: black;}#sk-container-id-1 div.sk-estimator:hover label.sk-toggleable__label-arrow:before {color: black;}#sk-container-id-1 div.sk-toggleable__content {max-height: 0;max-width: 0;overflow: hidden;text-align: left;background-color: #f0f8ff;}#sk-container-id-1 div.sk-toggleable__content pre {margin: 0.2em;color: black;border-radius: 0.25em;background-color: #f0f8ff;}#sk-container-id-1 input.sk-toggleable__control:checked~div.sk-toggleable__content {max-height: 200px;max-width: 100%;overflow: auto;}#sk-container-id-1 input.sk-toggleable__control:checked~label.sk-toggleable__label-arrow:before {content: \"▾\";}#sk-container-id-1 div.sk-estimator input.sk-toggleable__control:checked~label.sk-toggleable__label {background-color: #d4ebff;}#sk-container-id-1 div.sk-label input.sk-toggleable__control:checked~label.sk-toggleable__label {background-color: #d4ebff;}#sk-container-id-1 input.sk-hidden--visually {border: 0;clip: rect(1px 1px 1px 1px);clip: rect(1px, 1px, 1px, 1px);height: 1px;margin: -1px;overflow: hidden;padding: 0;position: absolute;width: 1px;}#sk-container-id-1 div.sk-estimator {font-family: monospace;background-color: #f0f8ff;border: 1px dotted black;border-radius: 0.25em;box-sizing: border-box;margin-bottom: 0.5em;}#sk-container-id-1 div.sk-estimator:hover {background-color: #d4ebff;}#sk-container-id-1 div.sk-parallel-item::after {content: \"\";width: 100%;border-bottom: 1px solid gray;flex-grow: 1;}#sk-container-id-1 div.sk-label:hover label.sk-toggleable__label {background-color: #d4ebff;}#sk-container-id-1 div.sk-serial::before {content: \"\";position: absolute;border-left: 1px solid gray;box-sizing: border-box;top: 0;bottom: 0;left: 50%;z-index: 0;}#sk-container-id-1 div.sk-serial {display: flex;flex-direction: column;align-items: center;background-color: white;padding-right: 0.2em;padding-left: 0.2em;position: relative;}#sk-container-id-1 div.sk-item {position: relative;z-index: 1;}#sk-container-id-1 div.sk-parallel {display: flex;align-items: stretch;justify-content: center;background-color: white;position: relative;}#sk-container-id-1 div.sk-item::before, #sk-container-id-1 div.sk-parallel-item::before {content: \"\";position: absolute;border-left: 1px solid gray;box-sizing: border-box;top: 0;bottom: 0;left: 50%;z-index: -1;}#sk-container-id-1 div.sk-parallel-item {display: flex;flex-direction: column;z-index: 1;position: relative;background-color: white;}#sk-container-id-1 div.sk-parallel-item:first-child::after {align-self: flex-end;width: 50%;}#sk-container-id-1 div.sk-parallel-item:last-child::after {align-self: flex-start;width: 50%;}#sk-container-id-1 div.sk-parallel-item:only-child::after {width: 0;}#sk-container-id-1 div.sk-dashed-wrapped {border: 1px dashed gray;margin: 0 0.4em 0.5em 0.4em;box-sizing: border-box;padding-bottom: 0.4em;background-color: white;}#sk-container-id-1 div.sk-label label {font-family: monospace;font-weight: bold;display: inline-block;line-height: 1.2em;}#sk-container-id-1 div.sk-label-container {text-align: center;}#sk-container-id-1 div.sk-container {/* jupyter's `normalize.less` sets `[hidden] { display: none; }` but bootstrap.min.css set `[hidden] { display: none !important; }` so we also need the `!important` here to be able to override the default hidden behavior on the sphinx rendered scikit-learn.org. See: https://github.com/scikit-learn/scikit-learn/issues/21755 */display: inline-block !important;position: relative;}#sk-container-id-1 div.sk-text-repr-fallback {display: none;}</style><div id=\"sk-container-id-1\" class=\"sk-top-container\"><div class=\"sk-text-repr-fallback\"><pre>GridSearchCV(cv=5, estimator=RandomForestClassifier(), n_jobs=-1,\n",
       "             param_grid={&#x27;max_depth&#x27;: [2, 8, None],\n",
       "                         &#x27;max_features&#x27;: [0.2, 0.6, 1.0],\n",
       "                         &#x27;max_samples&#x27;: [0.5, 0.75, 1.0],\n",
       "                         &#x27;n_estimators&#x27;: [20, 60, 100, 120]},\n",
       "             verbose=2)</pre><b>In a Jupyter environment, please rerun this cell to show the HTML representation or trust the notebook. <br />On GitHub, the HTML representation is unable to render, please try loading this page with nbviewer.org.</b></div><div class=\"sk-container\" hidden><div class=\"sk-item sk-dashed-wrapped\"><div class=\"sk-label-container\"><div class=\"sk-label sk-toggleable\"><input class=\"sk-toggleable__control sk-hidden--visually\" id=\"sk-estimator-id-1\" type=\"checkbox\" ><label for=\"sk-estimator-id-1\" class=\"sk-toggleable__label sk-toggleable__label-arrow\">GridSearchCV</label><div class=\"sk-toggleable__content\"><pre>GridSearchCV(cv=5, estimator=RandomForestClassifier(), n_jobs=-1,\n",
       "             param_grid={&#x27;max_depth&#x27;: [2, 8, None],\n",
       "                         &#x27;max_features&#x27;: [0.2, 0.6, 1.0],\n",
       "                         &#x27;max_samples&#x27;: [0.5, 0.75, 1.0],\n",
       "                         &#x27;n_estimators&#x27;: [20, 60, 100, 120]},\n",
       "             verbose=2)</pre></div></div></div><div class=\"sk-parallel\"><div class=\"sk-parallel-item\"><div class=\"sk-item\"><div class=\"sk-label-container\"><div class=\"sk-label sk-toggleable\"><input class=\"sk-toggleable__control sk-hidden--visually\" id=\"sk-estimator-id-2\" type=\"checkbox\" ><label for=\"sk-estimator-id-2\" class=\"sk-toggleable__label sk-toggleable__label-arrow\">estimator: RandomForestClassifier</label><div class=\"sk-toggleable__content\"><pre>RandomForestClassifier()</pre></div></div></div><div class=\"sk-serial\"><div class=\"sk-item\"><div class=\"sk-estimator sk-toggleable\"><input class=\"sk-toggleable__control sk-hidden--visually\" id=\"sk-estimator-id-3\" type=\"checkbox\" ><label for=\"sk-estimator-id-3\" class=\"sk-toggleable__label sk-toggleable__label-arrow\">RandomForestClassifier</label><div class=\"sk-toggleable__content\"><pre>RandomForestClassifier()</pre></div></div></div></div></div></div></div></div></div></div>"
      ],
      "text/plain": [
       "GridSearchCV(cv=5, estimator=RandomForestClassifier(), n_jobs=-1,\n",
       "             param_grid={'max_depth': [2, 8, None],\n",
       "                         'max_features': [0.2, 0.6, 1.0],\n",
       "                         'max_samples': [0.5, 0.75, 1.0],\n",
       "                         'n_estimators': [20, 60, 100, 120]},\n",
       "             verbose=2)"
      ]
     },
     "execution_count": 19,
     "metadata": {},
     "output_type": "execute_result"
    }
   ],
   "source": [
    "rf_grid.fit(X_train, y_train)"
   ]
  },
  {
   "cell_type": "code",
   "execution_count": 20,
   "id": "6f523eea-8227-4349-b361-abd34eefee63",
   "metadata": {},
   "outputs": [
    {
     "data": {
      "text/plain": [
       "{'max_depth': 2, 'max_features': 0.2, 'max_samples': 1.0, 'n_estimators': 60}"
      ]
     },
     "execution_count": 20,
     "metadata": {},
     "output_type": "execute_result"
    }
   ],
   "source": [
    "rf_grid.best_params_"
   ]
  },
  {
   "cell_type": "code",
   "execution_count": 21,
   "id": "1e33a30f-3352-422f-8ca2-8a8b743a3277",
   "metadata": {},
   "outputs": [
    {
     "data": {
      "text/plain": [
       "0.8511054421768707"
      ]
     },
     "execution_count": 21,
     "metadata": {},
     "output_type": "execute_result"
    }
   ],
   "source": [
    "rf_grid.best_score_"
   ]
  },
  {
   "cell_type": "markdown",
   "id": "1e2501bb-4124-48c7-9c54-5035522e79bc",
   "metadata": {},
   "source": [
    "### `RandomizedSearchCV`\n",
    "\n",
    "`RandomizedSearchCV` is a method for hyperparameter tuning in machine learning models. It is a part of the `scikit-learn` library in Python and is used to systematically search through a predefined set of hyperparameters for a machine learning algorithm.\r\n",
    "\r\n",
    "Here's an explanation of `RandomizedSearchCV`:\r\n",
    "\r\n",
    "1. **Hyperparameter Tuning**:\r\n",
    "   - In machine learning models, hyperparameters are parameters that are not learned from the data but are set prior to model training. Examples of hyperparameters include the learning rate in gradient descent or the depth of a decision tree. Tuning these hyperparameters is essential for optimizing the performance of a model.\r\n",
    "\r\n",
    "2. **Grid Search vs. Randomized Search**:\r\n",
    "   - Traditionally, hyperparameter tuning is performed using grid search, where a grid of hyperparameter values is defined, and the model is trained and evaluated for each combination of hyperparameters. While grid search exhaustively searches through all possible combinations, it can be computationally expensive, especially for models with a large number of hyperparameters or a large search space.\r\n",
    "   - Randomized search, on the other hand, randomly samples a fixed number of hyperparameter settings from a specified distribution. It does not try all possible combinations but focuses on exploring a wider range of hyperparameter values more efficiently.\r\n",
    "\r\n",
    "3. **RandomizedSearchCV**:\r\n",
    "   - `RandomizedSearchCV` is a class in scikit-learn that combines random search with cross-validation. It performs randomized hyperparameter search while evaluating the model's performance using cross-validation. This helps in finding the best set of hyperparameters that yield the highest performance while also reducing the risk of overfitting.\r\n",
    "   - The user specifies a parameter grid or a distribution for each hyperparameter to be tuned, along with the number of iterations (`n_iter`) representing the number of random combinations to try.\r\n",
    "   - During the search process, `RandomizedSearchCV` randomly selects hyperparameter combinations from the specified distributions, trains and evaluates the model using cross-validation, and keeps track of the best-performing set of hyperparameters found so far.\r\n",
    "\r\n",
    "4. **Benefits**:\r\n",
    "   - **Efficiency**: Randomized search is more efficient than grid search, especially for models with a large number of hyperparameters or a large search space.\r\n",
    "   - **Exploration of Hyperparameter Space**: Randomized search allows for a more diverse exploration of the hyperparameter space, potentially leading to better-performing models.\r\n",
    "   - **Parallelization**: `RandomizedSearchCV` supports parallelization, allowing it to utilize multiple CPU cores for faster hyperparameter search.\r\n",
    "\r\n",
    "In summary, `RandomizedSearchCV` is a powerful tool for hyperparameter tuning in machine learning models. It efficiently explores the hyperparameter space, helping to find optimal hyperparameter settings and improve the performance of the models."
   ]
  },
  {
   "cell_type": "code",
   "execution_count": 22,
   "id": "6e348040-45cd-4ebd-90b6-443376e886db",
   "metadata": {},
   "outputs": [],
   "source": [
    "from sklearn.model_selection import RandomizedSearchCV"
   ]
  },
  {
   "cell_type": "code",
   "execution_count": 23,
   "id": "d310961d-6e20-43fe-ad8e-fb3bfcb6d1a9",
   "metadata": {},
   "outputs": [
    {
     "name": "stdout",
     "output_type": "stream",
     "text": [
      "{'n_estimators': [20, 60, 100, 120], 'max_features': [0.2, 0.6, 1.0], 'max_depth': [2, 8, None], 'max_samples': [0.5, 0.75, 1.0], 'bootstrap': [True, False], 'min_samples_split': [2, 5], 'min_samples_leaf': [1, 2]}\n"
     ]
    }
   ],
   "source": [
    "param_grid = {\n",
    "    'n_estimators' : [20,60,100,120],\n",
    "    'max_features' : [0.2,0.6,1.0],\n",
    "    'max_depth' : [2,8,None],\n",
    "    'max_samples' : [0.5,0.75,1.0],\n",
    "    'bootstrap' : [True, False],\n",
    "    'min_samples_split' : [2, 5],\n",
    "    'min_samples_leaf' : [1,2]\n",
    "}\n",
    "print(param_grid)"
   ]
  },
  {
   "cell_type": "code",
   "execution_count": 24,
   "id": "575336bc-37b9-4f3b-8184-95c6ff2a10b2",
   "metadata": {},
   "outputs": [],
   "source": [
    "rf = RandomForestClassifier()"
   ]
  },
  {
   "cell_type": "code",
   "execution_count": 25,
   "id": "08ca6ee3-c1dc-4f1a-96fe-99cd5dfb6cb7",
   "metadata": {},
   "outputs": [],
   "source": [
    "rf_rand = RandomizedSearchCV(\n",
    "    estimator= rf,\n",
    "    param_distributions= param_grid,\n",
    "    cv=5,\n",
    "    verbose=2,\n",
    "    n_jobs= -1\n",
    ")"
   ]
  },
  {
   "cell_type": "code",
   "execution_count": 26,
   "id": "24a63e88-ceb4-4c0e-9c37-d2e3f686b08b",
   "metadata": {},
   "outputs": [
    {
     "name": "stdout",
     "output_type": "stream",
     "text": [
      "Fitting 5 folds for each of 10 candidates, totalling 50 fits\n"
     ]
    },
    {
     "name": "stderr",
     "output_type": "stream",
     "text": [
      "C:\\ProgramData\\anaconda3\\Lib\\site-packages\\sklearn\\model_selection\\_validation.py:378: FitFailedWarning: \n",
      "25 fits failed out of a total of 50.\n",
      "The score on these train-test partitions for these parameters will be set to nan.\n",
      "If these failures are not expected, you can try to debug them by setting error_score='raise'.\n",
      "\n",
      "Below are more details about the failures:\n",
      "--------------------------------------------------------------------------------\n",
      "25 fits failed with the following error:\n",
      "Traceback (most recent call last):\n",
      "  File \"C:\\ProgramData\\anaconda3\\Lib\\site-packages\\sklearn\\model_selection\\_validation.py\", line 686, in _fit_and_score\n",
      "    estimator.fit(X_train, y_train, **fit_params)\n",
      "  File \"C:\\ProgramData\\anaconda3\\Lib\\site-packages\\sklearn\\ensemble\\_forest.py\", line 383, in fit\n",
      "    raise ValueError(\n",
      "ValueError: `max_sample` cannot be set if `bootstrap=False`. Either switch to `bootstrap=True` or set `max_sample=None`.\n",
      "\n",
      "  warnings.warn(some_fits_failed_message, FitFailedWarning)\n",
      "C:\\ProgramData\\anaconda3\\Lib\\site-packages\\sklearn\\model_selection\\_search.py:953: UserWarning: One or more of the test scores are non-finite: [0.82636054        nan        nan        nan        nan 0.78095238\n",
      " 0.80561224 0.77687075        nan 0.81394558]\n",
      "  warnings.warn(\n"
     ]
    },
    {
     "data": {
      "text/html": [
       "<style>#sk-container-id-2 {color: black;background-color: white;}#sk-container-id-2 pre{padding: 0;}#sk-container-id-2 div.sk-toggleable {background-color: white;}#sk-container-id-2 label.sk-toggleable__label {cursor: pointer;display: block;width: 100%;margin-bottom: 0;padding: 0.3em;box-sizing: border-box;text-align: center;}#sk-container-id-2 label.sk-toggleable__label-arrow:before {content: \"▸\";float: left;margin-right: 0.25em;color: #696969;}#sk-container-id-2 label.sk-toggleable__label-arrow:hover:before {color: black;}#sk-container-id-2 div.sk-estimator:hover label.sk-toggleable__label-arrow:before {color: black;}#sk-container-id-2 div.sk-toggleable__content {max-height: 0;max-width: 0;overflow: hidden;text-align: left;background-color: #f0f8ff;}#sk-container-id-2 div.sk-toggleable__content pre {margin: 0.2em;color: black;border-radius: 0.25em;background-color: #f0f8ff;}#sk-container-id-2 input.sk-toggleable__control:checked~div.sk-toggleable__content {max-height: 200px;max-width: 100%;overflow: auto;}#sk-container-id-2 input.sk-toggleable__control:checked~label.sk-toggleable__label-arrow:before {content: \"▾\";}#sk-container-id-2 div.sk-estimator input.sk-toggleable__control:checked~label.sk-toggleable__label {background-color: #d4ebff;}#sk-container-id-2 div.sk-label input.sk-toggleable__control:checked~label.sk-toggleable__label {background-color: #d4ebff;}#sk-container-id-2 input.sk-hidden--visually {border: 0;clip: rect(1px 1px 1px 1px);clip: rect(1px, 1px, 1px, 1px);height: 1px;margin: -1px;overflow: hidden;padding: 0;position: absolute;width: 1px;}#sk-container-id-2 div.sk-estimator {font-family: monospace;background-color: #f0f8ff;border: 1px dotted black;border-radius: 0.25em;box-sizing: border-box;margin-bottom: 0.5em;}#sk-container-id-2 div.sk-estimator:hover {background-color: #d4ebff;}#sk-container-id-2 div.sk-parallel-item::after {content: \"\";width: 100%;border-bottom: 1px solid gray;flex-grow: 1;}#sk-container-id-2 div.sk-label:hover label.sk-toggleable__label {background-color: #d4ebff;}#sk-container-id-2 div.sk-serial::before {content: \"\";position: absolute;border-left: 1px solid gray;box-sizing: border-box;top: 0;bottom: 0;left: 50%;z-index: 0;}#sk-container-id-2 div.sk-serial {display: flex;flex-direction: column;align-items: center;background-color: white;padding-right: 0.2em;padding-left: 0.2em;position: relative;}#sk-container-id-2 div.sk-item {position: relative;z-index: 1;}#sk-container-id-2 div.sk-parallel {display: flex;align-items: stretch;justify-content: center;background-color: white;position: relative;}#sk-container-id-2 div.sk-item::before, #sk-container-id-2 div.sk-parallel-item::before {content: \"\";position: absolute;border-left: 1px solid gray;box-sizing: border-box;top: 0;bottom: 0;left: 50%;z-index: -1;}#sk-container-id-2 div.sk-parallel-item {display: flex;flex-direction: column;z-index: 1;position: relative;background-color: white;}#sk-container-id-2 div.sk-parallel-item:first-child::after {align-self: flex-end;width: 50%;}#sk-container-id-2 div.sk-parallel-item:last-child::after {align-self: flex-start;width: 50%;}#sk-container-id-2 div.sk-parallel-item:only-child::after {width: 0;}#sk-container-id-2 div.sk-dashed-wrapped {border: 1px dashed gray;margin: 0 0.4em 0.5em 0.4em;box-sizing: border-box;padding-bottom: 0.4em;background-color: white;}#sk-container-id-2 div.sk-label label {font-family: monospace;font-weight: bold;display: inline-block;line-height: 1.2em;}#sk-container-id-2 div.sk-label-container {text-align: center;}#sk-container-id-2 div.sk-container {/* jupyter's `normalize.less` sets `[hidden] { display: none; }` but bootstrap.min.css set `[hidden] { display: none !important; }` so we also need the `!important` here to be able to override the default hidden behavior on the sphinx rendered scikit-learn.org. See: https://github.com/scikit-learn/scikit-learn/issues/21755 */display: inline-block !important;position: relative;}#sk-container-id-2 div.sk-text-repr-fallback {display: none;}</style><div id=\"sk-container-id-2\" class=\"sk-top-container\"><div class=\"sk-text-repr-fallback\"><pre>RandomizedSearchCV(cv=5, estimator=RandomForestClassifier(), n_jobs=-1,\n",
       "                   param_distributions={&#x27;bootstrap&#x27;: [True, False],\n",
       "                                        &#x27;max_depth&#x27;: [2, 8, None],\n",
       "                                        &#x27;max_features&#x27;: [0.2, 0.6, 1.0],\n",
       "                                        &#x27;max_samples&#x27;: [0.5, 0.75, 1.0],\n",
       "                                        &#x27;min_samples_leaf&#x27;: [1, 2],\n",
       "                                        &#x27;min_samples_split&#x27;: [2, 5],\n",
       "                                        &#x27;n_estimators&#x27;: [20, 60, 100, 120]},\n",
       "                   verbose=2)</pre><b>In a Jupyter environment, please rerun this cell to show the HTML representation or trust the notebook. <br />On GitHub, the HTML representation is unable to render, please try loading this page with nbviewer.org.</b></div><div class=\"sk-container\" hidden><div class=\"sk-item sk-dashed-wrapped\"><div class=\"sk-label-container\"><div class=\"sk-label sk-toggleable\"><input class=\"sk-toggleable__control sk-hidden--visually\" id=\"sk-estimator-id-4\" type=\"checkbox\" ><label for=\"sk-estimator-id-4\" class=\"sk-toggleable__label sk-toggleable__label-arrow\">RandomizedSearchCV</label><div class=\"sk-toggleable__content\"><pre>RandomizedSearchCV(cv=5, estimator=RandomForestClassifier(), n_jobs=-1,\n",
       "                   param_distributions={&#x27;bootstrap&#x27;: [True, False],\n",
       "                                        &#x27;max_depth&#x27;: [2, 8, None],\n",
       "                                        &#x27;max_features&#x27;: [0.2, 0.6, 1.0],\n",
       "                                        &#x27;max_samples&#x27;: [0.5, 0.75, 1.0],\n",
       "                                        &#x27;min_samples_leaf&#x27;: [1, 2],\n",
       "                                        &#x27;min_samples_split&#x27;: [2, 5],\n",
       "                                        &#x27;n_estimators&#x27;: [20, 60, 100, 120]},\n",
       "                   verbose=2)</pre></div></div></div><div class=\"sk-parallel\"><div class=\"sk-parallel-item\"><div class=\"sk-item\"><div class=\"sk-label-container\"><div class=\"sk-label sk-toggleable\"><input class=\"sk-toggleable__control sk-hidden--visually\" id=\"sk-estimator-id-5\" type=\"checkbox\" ><label for=\"sk-estimator-id-5\" class=\"sk-toggleable__label sk-toggleable__label-arrow\">estimator: RandomForestClassifier</label><div class=\"sk-toggleable__content\"><pre>RandomForestClassifier()</pre></div></div></div><div class=\"sk-serial\"><div class=\"sk-item\"><div class=\"sk-estimator sk-toggleable\"><input class=\"sk-toggleable__control sk-hidden--visually\" id=\"sk-estimator-id-6\" type=\"checkbox\" ><label for=\"sk-estimator-id-6\" class=\"sk-toggleable__label sk-toggleable__label-arrow\">RandomForestClassifier</label><div class=\"sk-toggleable__content\"><pre>RandomForestClassifier()</pre></div></div></div></div></div></div></div></div></div></div>"
      ],
      "text/plain": [
       "RandomizedSearchCV(cv=5, estimator=RandomForestClassifier(), n_jobs=-1,\n",
       "                   param_distributions={'bootstrap': [True, False],\n",
       "                                        'max_depth': [2, 8, None],\n",
       "                                        'max_features': [0.2, 0.6, 1.0],\n",
       "                                        'max_samples': [0.5, 0.75, 1.0],\n",
       "                                        'min_samples_leaf': [1, 2],\n",
       "                                        'min_samples_split': [2, 5],\n",
       "                                        'n_estimators': [20, 60, 100, 120]},\n",
       "                   verbose=2)"
      ]
     },
     "execution_count": 26,
     "metadata": {},
     "output_type": "execute_result"
    }
   ],
   "source": [
    "rf_rand.fit(X_train, y_train)"
   ]
  },
  {
   "cell_type": "code",
   "execution_count": 27,
   "id": "ce0f7a3a-7502-4d32-87d1-b304b972c7d6",
   "metadata": {},
   "outputs": [
    {
     "data": {
      "text/plain": [
       "{'n_estimators': 100,\n",
       " 'min_samples_split': 5,\n",
       " 'min_samples_leaf': 2,\n",
       " 'max_samples': 0.75,\n",
       " 'max_features': 0.2,\n",
       " 'max_depth': 2,\n",
       " 'bootstrap': True}"
      ]
     },
     "execution_count": 27,
     "metadata": {},
     "output_type": "execute_result"
    }
   ],
   "source": [
    "rf_rand.best_params_"
   ]
  },
  {
   "cell_type": "code",
   "execution_count": 28,
   "id": "67ca8d3e-b9fe-4780-ad49-61d07ce77c59",
   "metadata": {},
   "outputs": [
    {
     "data": {
      "text/plain": [
       "0.8263605442176871"
      ]
     },
     "execution_count": 28,
     "metadata": {},
     "output_type": "execute_result"
    }
   ],
   "source": [
    "rf_rand.best_score_"
   ]
  },
  {
   "cell_type": "markdown",
   "id": "a492b9d2-0b5b-423e-baae-d6971a22e913",
   "metadata": {},
   "source": [
    "`RandomizedSearchCV` is particularly useful in scenarios where exhaustive search with `GridSearchCV` becomes computationally expensive or impractical. Here's when and why to use `RandomizedSearchCV`:\r\n",
    "\r\n",
    "1. **Large Hyperparameter Space**:\r\n",
    "   - When dealing with a large number of hyperparameters or a wide range of possible values for hyperparameters, grid search becomes inefficient due to the combinatorial explosion of possible parameter combinations. In such cases, `RandomizedSearchCV` is a better choice as it randomly samples a subset of the parameter space, allowing for a more efficient search.\r\n",
    "\r\n",
    "2. **Limited Computational Resources**:\r\n",
    "   - Grid search can require a significant amount of computational resources, especially when dealing with large datasets or complex models. `RandomizedSearchCV` is computationally more efficient as it explores only a subset of hyperparameter combinations. This makes it suitable for situations where computational resources are limited.\r\n",
    "\r\n",
    "3. **Exploratory Data Analysis**:\r\n",
    "   - During the initial stages of model development, when you are exploring various hyperparameter configurations and their impact on model performance, `RandomizedSearchCV` can provide a quick way to sample different hyperparameter combinations and assess their effects on model performance.\r\n",
    "\r\n",
    "4. **Trade-off between Exploration and Exploitation**:\r\n",
    "   - `RandomizedSearchCV` strikes a balance between exploration and exploitation. While it randomly samples hyperparameter configurations, it still focuses on regions of the hyperparameter space that are likely to yield good performance based on the specified distribution. This allows for efficient exploration of the hyperparameter space while exploiting promising regions.\r\n",
    "\r\n",
    "5. **High-dimensional Data**:\r\n",
    "   - When working with high-dimensional data, the number of hyperparameters to tune can be large. `RandomizedSearchCV` helps in efficiently searching through the hyperparameter space without explicitly evaluating all possible combinations, making it suitable for high-dimensional data settings.\r\n",
    "\r\n",
    "6. **Model Selection and Comparison**:\r\n",
    "   - `RandomizedSearchCV` can be used to compare the performance of different models with different hyperparameter settings efficiently. By running randomized search with multiple models, you can quickly identify the most promising model configurations for further evaluation.\r\n",
    "\r\n",
    "In summary, `RandomizedSearchCV` is beneficial when dealing with large hyperparameter spaces, limited computational resources, exploratory data analysis, striking a balance between exploration and exploitation, high-dimensional data, and model selection and comparison. It offers an efficient alternative to grid search, allowing for effective hyperparameter tuning in various machine learning scenarios."
   ]
  }
 ],
 "metadata": {
  "kernelspec": {
   "display_name": "Python 3 (ipykernel)",
   "language": "python",
   "name": "python3"
  },
  "language_info": {
   "codemirror_mode": {
    "name": "ipython",
    "version": 3
   },
   "file_extension": ".py",
   "mimetype": "text/x-python",
   "name": "python",
   "nbconvert_exporter": "python",
   "pygments_lexer": "ipython3",
   "version": "3.11.5"
  }
 },
 "nbformat": 4,
 "nbformat_minor": 5
}
